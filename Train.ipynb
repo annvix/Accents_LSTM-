{
  "nbformat": 4,
  "nbformat_minor": 0,
  "metadata": {
    "colab": {
      "name": "Train.ipynb",
      "provenance": [],
      "authorship_tag": "ABX9TyMZ0cZvauWvY1pFW3Yrg1j5",
      "include_colab_link": true
    },
    "kernelspec": {
      "name": "python3",
      "display_name": "Python 3"
    }
  },
  "cells": [
    {
      "cell_type": "markdown",
      "metadata": {
        "id": "view-in-github",
        "colab_type": "text"
      },
      "source": [
        "<a href=\"https://colab.research.google.com/github/annvix/Accents_LSTM-/blob/master/Train.ipynb\" target=\"_parent\"><img src=\"https://colab.research.google.com/assets/colab-badge.svg\" alt=\"Open In Colab\"/></a>"
      ]
    },
    {
      "cell_type": "markdown",
      "metadata": {
        "id": "T_VLKOujC_rX",
        "colab_type": "text"
      },
      "source": [
        "# Клонирование проекта с GitHub\n",
        "Подключение библиотек"
      ]
    },
    {
      "cell_type": "code",
      "metadata": {
        "id": "VlS_cuswCwMh",
        "colab_type": "code",
        "outputId": "9d544d68-7c5c-472e-ba3f-e41245f399e8",
        "colab": {
          "base_uri": "https://localhost:8080/",
          "height": 34
        }
      },
      "source": [
        "!git clone https://github.com/annvix/Accents_LSTM-.git"
      ],
      "execution_count": 2,
      "outputs": [
        {
          "output_type": "stream",
          "text": [
            "fatal: destination path 'Accents_LSTM-' already exists and is not an empty directory.\n"
          ],
          "name": "stdout"
        }
      ]
    },
    {
      "cell_type": "code",
      "metadata": {
        "id": "YJD1wZrtCyKu",
        "colab_type": "code",
        "outputId": "0f27e601-36a5-401b-a655-756dab8deaf4",
        "colab": {
          "base_uri": "https://localhost:8080/",
          "height": 34
        }
      },
      "source": [
        "from google.colab import files\n",
        "import matplotlib.pyplot as plt\n",
        "import numpy as np\n",
        "import random\n",
        "\n",
        "from tensorflow.keras.models import Sequential\n",
        "\n",
        "#from keras.callbacks import ModelCheckpoint, LearningRateScheduler\n",
        "\n",
        "from keras.layers import *\n",
        "from keras.models import *\n",
        "from keras.optimizers import *\n",
        "\n",
        "from tensorflow.keras.models import load_model\n",
        "\n",
        "from tensorflow.keras.preprocessing import sequence"
      ],
      "execution_count": 3,
      "outputs": [
        {
          "output_type": "stream",
          "text": [
            "Using TensorFlow backend.\n"
          ],
          "name": "stderr"
        }
      ]
    },
    {
      "cell_type": "markdown",
      "metadata": {
        "id": "Hxy2Tf3HC8SG",
        "colab_type": "text"
      },
      "source": [
        "# Загрузка и предобработка данных"
      ]
    },
    {
      "cell_type": "markdown",
      "metadata": {
        "id": "qPO_cZhNDFkZ",
        "colab_type": "text"
      },
      "source": [
        "Добавляем алфавит для кодирования букв"
      ]
    },
    {
      "cell_type": "code",
      "metadata": {
        "id": "L_s1YhMsDJpn",
        "colab_type": "code",
        "colab": {}
      },
      "source": [
        "alphabet =   {'а' : 1, 'б' : 2, 'в' : 3, 'г' : 4, 'д' : 5, 'е' : 6, 'ё' : 7, 'ж' : 8, 'з' : 9,\n",
        "             'и' : 10, 'й' : 11, 'к' : 12, 'л' : 13, 'м' : 14, 'н' : 15, 'о' : 16, 'п' : 17, 'р' : 18,\n",
        "             'с' : 19, 'т' : 20, 'у' : 21, 'ф' : 22, 'х' : 23, 'ц' : 24, 'ч' : 25, 'ш' : 26, 'щ' : 27,\n",
        "             'ъ' : 28, 'ы' : 29, 'ь' : 30, 'э' : 31, 'ю' : 32, 'я' : 33}\n",
        "\n",
        "N = 10 #Количество слов для вывода"
      ],
      "execution_count": 0,
      "outputs": []
    },
    {
      "cell_type": "code",
      "metadata": {
        "id": "vF3ppBjJC0tA",
        "colab_type": "code",
        "outputId": "2cdbb2e5-b00e-40dc-c707-58920202e035",
        "colab": {
          "base_uri": "https://localhost:8080/",
          "height": 85
        }
      },
      "source": [
        "with open('Accents_LSTM-/Data.csv', 'r') as f:\n",
        "    all_accents = f.readlines()\n",
        "data_len = len(all_accents)\n",
        "\n",
        "print('Всего слов:', data_len)\n",
        "max_len = len(max(all_accents, key=len)) //2 - 1\n",
        "print('Максимальная длина слова:', max_len)\n",
        "print('Слово:', max(all_accents, key=len))\n",
        "number_of_classes = max_len + 1"
      ],
      "execution_count": 5,
      "outputs": [
        {
          "output_type": "stream",
          "text": [
            "Всего слов: 1678878\n",
            "Максимальная длина слова: 29\n",
            "Слово: административнодисциплинарный,административнодисципл'инарный\n",
            "\n"
          ],
          "name": "stdout"
        }
      ]
    },
    {
      "cell_type": "markdown",
      "metadata": {
        "id": "-4VFuCnRiU_1",
        "colab_type": "text"
      },
      "source": [
        "Группировка слов по первым буквам"
      ]
    },
    {
      "cell_type": "code",
      "metadata": {
        "id": "6B28DPW5iT1v",
        "colab_type": "code",
        "outputId": "777c5fae-15fd-48f2-fe85-c7cbdf75bc50",
        "colab": {
          "base_uri": "https://localhost:8080/",
          "height": 34
        }
      },
      "source": [
        "word_groups = []\n",
        "group  = []\n",
        "group.append(all_accents[0])\n",
        "\n",
        "for i in range(1, data_len):\n",
        "    if group[0][:4] == all_accents[i][:4]:\n",
        "        group.append(all_accents[i])\n",
        "    else:\n",
        "        word_groups.append(group)\n",
        "        group  = []\n",
        "        group.append(all_accents[i])\n",
        "print('Количество групп: ', len(word_groups))\n",
        "random.shuffle(word_groups)"
      ],
      "execution_count": 6,
      "outputs": [
        {
          "output_type": "stream",
          "text": [
            "Количество групп:  42078\n"
          ],
          "name": "stdout"
        }
      ]
    },
    {
      "cell_type": "code",
      "metadata": {
        "id": "IijHxgDqlPY2",
        "colab_type": "code",
        "outputId": "d88a2df0-ca40-4020-99c9-19264131348a",
        "colab": {
          "base_uri": "https://localhost:8080/",
          "height": 224
        }
      },
      "source": [
        "print('Группы слов:')\n",
        "for i in range (N):\n",
        "  print(word_groups[i])"
      ],
      "execution_count": 7,
      "outputs": [
        {
          "output_type": "stream",
          "text": [
            "Группы слов:\n",
            "[\"хауэлл,х'ауэлл\\n\", \"хауэр,х'ауэр\\n\", \"хауэрд,х'ауэрд\\n\"]\n",
            "[\"ютерт,ют'ерт\\n\"]\n",
            "[\"повяжем,пов'яжем\\n\", \"повяжемся,пов'яжемся\\n\", \"повяжет,пов'яжет\\n\", \"повяжете,пов'яжете\\n\", \"повяжетесь,пов'яжетесь\\n\", \"повяжется,пов'яжется\\n\", \"повяжешь,пов'яжешь\\n\", \"повяжешься,пов'яжешься\\n\", \"повяжи,повяж'и\\n\", \"повяжись,повяж'ись\\n\", \"повяжите,повяж'ите\\n\", \"повяжитесь,повяж'итесь\\n\", \"повяжу,повяж'у\\n\", \"повяжусь,повяж'усь\\n\", \"повяжут,пов'яжут\\n\", \"повяжутся,пов'яжутся\\n\", \"повязавшая,повяз'авшая\\n\", \"повязавшего,повяз'авшего\\n\", \"повязавшее,повяз'авшее\\n\", \"повязавшей,повяз'авшей\\n\", \"повязавшем,повяз'авшем\\n\", \"повязавшему,повяз'авшему\\n\", \"повязавшею,повяз'авшею\\n\", \"повязавшие,повяз'авшие\\n\", \"повязавший,повяз'авший\\n\", \"повязавшийся,повяз'авшийся\\n\", \"повязавшим,повяз'авшим\\n\", \"повязавшими,повяз'авшими\\n\", \"повязавших,повяз'авших\\n\", \"повязавшую,повяз'авшую\\n\", \"повязал,повяз'ал\\n\", \"повязала,повяз'ала\\n\", \"повязалась,повяз'алась\\n\", \"повязали,повяз'али\\n\", \"повязались,повяз'ались\\n\", \"повязало,повяз'ало\\n\", \"повязалось,повяз'алось\\n\", \"повязался,повяз'ался\\n\", \"повязан,пов'язан\\n\", \"повязана,пов'язана\\n\", \"повязанная,пов'язанная\\n\", \"повязанного,пов'язанного\\n\", \"повязанное,пов'язанное\\n\", \"повязанной,пов'язанной\\n\", \"повязанном,пов'язанном\\n\", \"повязанному,пов'язанному\\n\", \"повязанною,пов'язанною\\n\", \"повязанную,пов'язанную\\n\", \"повязанные,пов'язанные\\n\", \"повязанный,пов'язанный\\n\", \"повязанным,пов'язанным\\n\", \"повязанными,пов'язанными\\n\", \"повязанных,пов'язанных\\n\", \"повязано,пов'язано\\n\", \"повязаны,пов'язаны\\n\", \"повязать,повяз'ать\\n\", \"повязаться,повяз'аться\\n\", \"повязка,пов'язка\\n\", \"повязкам,пов'язкам\\n\", \"повязками,пов'язками\\n\", \"повязках,пов'язках\\n\", \"повязке,пов'язке\\n\", \"повязки,пов'язки\\n\", \"повязкой,пов'язкой\\n\", \"повязкою,пов'язкою\\n\", \"повязку,пов'язку\\n\", \"повязок,пов'язок\\n\", \"повязочная,пов'язочная\\n\", \"повязочного,пов'язочного\\n\", \"повязочное,пов'язочное\\n\", \"повязочной,пов'язочной\\n\", \"повязочном,пов'язочном\\n\", \"повязочному,пов'язочному\\n\", \"повязочною,пов'язочною\\n\", \"повязочную,пов'язочную\\n\", \"повязочные,пов'язочные\\n\", \"повязочный,пов'язочный\\n\", \"повязочным,пов'язочным\\n\", \"повязочными,пов'язочными\\n\", \"повязочных,пов'язочных\\n\", \"повязывавший,пов'язывавший\\n\", \"повязывавшийся,пов'язывавшийся\\n\", \"повязываем,пов'язываем\\n\", \"повязываемся,пов'язываемся\\n\", \"повязываемый,пов'язываемый\\n\", \"повязывает,пов'язывает\\n\", \"повязываете,пов'язываете\\n\", \"повязываетесь,пов'язываетесь\\n\", \"повязывается,пов'язывается\\n\", \"повязываешь,пов'язываешь\\n\", \"повязываешься,пов'язываешься\\n\", \"повязывай,пов'язывай\\n\", \"повязывайся,пов'язывайся\\n\", \"повязывайте,пов'язывайте\\n\", \"повязывайтесь,пов'язывайтесь\\n\", \"повязывал,пов'язывал\\n\", \"повязывала,пов'язывала\\n\", \"повязывалась,пов'язывалась\\n\", \"повязывали,пов'язывали\\n\", \"повязывались,пов'язывались\\n\", \"повязывало,пов'язывало\\n\", \"повязывалось,пов'язывалось\\n\", \"повязывался,пов'язывался\\n\", \"повязывание,пов'язывание\\n\", \"повязыванием,пов'языванием\\n\", \"повязывании,пов'язывании\\n\", \"повязыванию,пов'языванию\\n\", \"повязывания,пов'язывания\\n\", \"повязывать,пов'язывать\\n\", \"повязываться,пов'язываться\\n\", \"повязываю,пов'язываю\\n\", \"повязываюсь,пов'язываюсь\\n\", \"повязывают,пов'язывают\\n\", \"повязываются,пов'язываются\\n\", \"повязывающая,пов'язывающая\\n\", \"повязывающего,пов'язывающего\\n\", \"повязывающее,пов'язывающее\\n\", \"повязывающей,пов'язывающей\\n\", \"повязывающем,пов'язывающем\\n\", \"повязывающему,пов'язывающему\\n\", \"повязывающею,пов'язывающею\\n\", \"повязывающие,пов'язывающие\\n\", \"повязывающий,пов'язывающий\\n\", \"повязывающийся,пов'язывающийся\\n\", \"повязывающим,пов'язывающим\\n\", \"повязывающими,пов'язывающими\\n\", \"повязывающих,пов'язывающих\\n\", \"повязывающую,пов'язывающую\\n\", \"повязываясь,пов'язываясь\\n\", \"повязь,п'овязь\\n\", \"повял,пов'ял\\n\", \"повяла,пов'яла\\n\", \"повяленный,пов'яленный\\n\", \"повяли,пов'яли\\n\", \"повяливший,пов'яливший\\n\", \"повялившийся,пов'ялившийся\\n\", \"повялил,пов'ялил\\n\", \"повялила,пов'ялила\\n\", \"повялилась,пов'ялилась\\n\", \"повялили,пов'ялили\\n\", \"повялились,пов'ялились\\n\", \"повялило,пов'ялило\\n\", \"повялилось,пов'ялилось\\n\", \"повялился,пов'ялился\\n\", \"повялим,пов'ялим\\n\", \"повялимся,пов'ялимся\\n\", \"повялит,пов'ялит\\n\", \"повялите,пов'ялите\\n\", \"повялитесь,пов'ялитесь\\n\", \"повялится,пов'ялится\\n\", \"повялить,пов'ялить\\n\", \"повялиться,пов'ялиться\\n\", \"повялишь,пов'ялишь\\n\", \"повялишься,пов'ялишься\\n\", \"повяло,пов'яло\\n\", \"повялый,пов'ялый\\n\", \"повяль,пов'яль\\n\", \"повялься,пов'ялься\\n\", \"повяльте,пов'яльте\\n\", \"повяльтесь,пов'яльтесь\\n\", \"повялю,пов'ялю\\n\", \"повялюсь,пов'ялюсь\\n\", \"повялят,пов'ялят\\n\", \"повялятся,пов'ялятся\\n\", \"повянем,пов'янем\\n\", \"повянет,пов'янет\\n\", \"повянете,пов'янете\\n\", \"повянешь,пов'янешь\\n\", \"повяну,пов'яну\\n\", \"повянувшая,пов'янувшая\\n\", \"повянувшего,пов'янувшего\\n\", \"повянувшее,пов'янувшее\\n\", \"повянувшей,пов'янувшей\\n\", \"повянувшем,пов'янувшем\\n\", \"повянувшему,пов'янувшему\\n\", \"повянувшею,пов'янувшею\\n\", \"повянувшие,пов'янувшие\\n\", \"повянувший,пов'янувший\\n\", \"повянувшим,пов'янувшим\\n\", \"повянувшими,пов'янувшими\\n\", \"повянувших,пов'янувших\\n\", \"повянувшую,пов'янувшую\\n\", \"повянут,пов'янут\\n\", \"повянуть,пов'януть\\n\", \"повянь,пов'янь\\n\", \"повяньте,пов'яньте\\n\", \"повят,п'овят\\n\", \"повята,п'овята\\n\", \"повятам,п'овятам\\n\", \"повятами,п'овятами\\n\", \"повятах,п'овятах\\n\", \"повяте,п'овяте\\n\", \"повятов,п'овятов\\n\", \"повятом,п'овятом\\n\", \"повяту,п'овяту\\n\", \"повяты,п'овяты\\n\"]\n",
            "[\"абрютировавший,абрют'ировавший\\n\", \"абрютировавшийся,абрют'ировавшийся\\n\", \"абрютировать,абрют'ировать\\n\", \"абрютироваться,абрют'ироваться\\n\", \"абрютируемый,абрют'ируемый\\n\", \"абрютирующий,абрют'ирующий\\n\", \"абрютирующийся,абрют'ирующийся\\n\", \"абрюцкий,абр'юцкий\\n\"]\n",
            "[\"кадь,к'адь\\n\", \"кадьен,кадь'ен\\n\", \"кадьер,кадь'ер\\n\", \"кадью,к'адью\\n\", \"кадьяк,к'адьяк\\n\", \"кадьякский,к'адьякский\\n\", \"кадьякского,к'адьякского\\n\", \"кадьяр,к'адьяр\\n\"]\n",
            "[\"асоян,асо'ян\\n\"]\n",
            "[\"инцидент,инцид'ент\\n\", \"инцидента,инцид'ента\\n\", \"инцидентам,инцид'ентам\\n\", \"инцидентами,инцид'ентами\\n\", \"инцидентах,инцид'ентах\\n\", \"инциденте,инцид'енте\\n\", \"инцидентная,инцид'ентная\\n\", \"инцидентного,инцид'ентного\\n\", \"инцидентное,инцид'ентное\\n\", \"инцидентной,инцид'ентной\\n\", \"инцидентном,инцид'ентном\\n\", \"инцидентному,инцид'ентному\\n\", \"инцидентностей,инцид'ентностей\\n\", \"инцидентности,инцид'ентности\\n\", \"инцидентность,инцид'ентность\\n\", \"инцидентностью,инцид'ентностью\\n\", \"инцидентностям,инцид'ентностям\\n\", \"инцидентностями,инцид'ентностями\\n\", \"инцидентностях,инцид'ентностях\\n\", \"инцидентною,инцид'ентною\\n\", \"инцидентную,инцид'ентную\\n\", \"инцидентные,инцид'ентные\\n\", \"инцидентный,инцид'ентный\\n\", \"инцидентным,инцид'ентным\\n\", \"инцидентными,инцид'ентными\\n\", \"инцидентных,инцид'ентных\\n\", \"инцидентов,инцид'ентов\\n\", \"инцидентом,инцид'ентом\\n\", \"инциденту,инцид'енту\\n\", \"инциденты,инцид'енты\\n\", \"инцизионный,инцизи'онный\\n\", \"инцизия,инц'изия\\n\", \"инцистирование,инцист'ирование\\n\", \"инцистировать,инцист'ировать\\n\", \"инцистироваться,инцист'ироваться\\n\"]\n",
            "[\"ютою,'ютою\\n\"]\n",
            "[\"экосез,экос'ез\\n\", \"экосеза,экос'еза\\n\", \"экосезам,экос'езам\\n\", \"экосезами,экос'езами\\n\", \"экосезах,экос'езах\\n\", \"экосезе,экос'езе\\n\", \"экосезов,экос'езов\\n\", \"экосезом,экос'езом\\n\", \"экосезу,экос'езу\\n\", \"экосезы,экос'езы\\n\", \"экосистем,экосист'ем\\n\", \"экосистема,экосист'ема\\n\", \"экосистемам,экосист'емам\\n\", \"экосистемами,экосист'емами\\n\", \"экосистемах,экосист'емах\\n\", \"экосистеме,экосист'еме\\n\", \"экосистемой,экосист'емой\\n\", \"экосистемою,экосист'емою\\n\", \"экосистему,экосист'ему\\n\", \"экосистемы,экосист'емы\\n\", \"экосфера,экосф'ера\\n\", \"экосфере,экосф'ере\\n\", \"экосферой,экосф'ерой\\n\", \"экосферою,экосф'ерою\\n\", \"экосферу,экосф'еру\\n\", \"экосферы,экосф'еры\\n\", \"экосэз,экос'эз\\n\", \"экосэзовый,экос'эзовый\\n\"]\n",
            "[\"вьюдес,вь'юдес\\n\"]\n"
          ],
          "name": "stdout"
        }
      ]
    },
    {
      "cell_type": "markdown",
      "metadata": {
        "id": "6TaVCPOAEWzV",
        "colab_type": "text"
      },
      "source": [
        "Разделим данные на тренировочные, валидационные и тестовые"
      ]
    },
    {
      "cell_type": "code",
      "metadata": {
        "id": "iGG6QYiAEYcd",
        "colab_type": "code",
        "colab": {}
      },
      "source": [
        "train_frac = 0.8\n",
        "val_frac = 0.1\n",
        "test_frac = 0.1\n",
        "\n",
        "def train_test_val_words(words):\n",
        "    return (words[:int(len(words)*train_frac)], \n",
        "words[int(len(words)*train_frac) : (int(len(words)*train_frac) + int(len(words)*val_frac))], \n",
        "words[(int(len(words)*train_frac) + int(len(words)*val_frac)):])\n",
        "    \n",
        "\n",
        "for_train, for_val, for_test = train_test_val_words(word_groups)"
      ],
      "execution_count": 0,
      "outputs": []
    },
    {
      "cell_type": "code",
      "metadata": {
        "id": "mwYoVsRvtycD",
        "colab_type": "code",
        "colab": {}
      },
      "source": [
        "def words_to_num(my_words):\n",
        "  words, accents = [], []\n",
        "  for i in range (len(my_words)):\n",
        "      str = my_words[i].replace('\\n', '').split(',')\n",
        "      words.append(str[0])\n",
        "      accents.append(str[1])\n",
        "\n",
        "  words_int = np.zeros((len(my_words), number_of_classes), dtype=int)\n",
        "  accents_int = np.zeros((len(my_words),number_of_classes), dtype=int)\n",
        "  \n",
        "  for i in range(len(words)):\n",
        "    for j in range(len(words[i])):\n",
        "        words_int[i][j]= alphabet[words[i][j]]\n",
        "        \n",
        "    acc = accents[i].find(\"'\")\n",
        "    if (acc != -1):\n",
        "        accents_int[i][acc] = 1\n",
        "        if accents[i][acc + 1:].find(\"'\") != -1:\n",
        "          print('В слове два ударения:', accents[i])\n",
        "    else:\n",
        "        accents_int[i][number_of_classes - 1] = 1\n",
        "        print('Нет ударения: ', words[i])\n",
        "  return words_int, accents_int"
      ],
      "execution_count": 0,
      "outputs": []
    },
    {
      "cell_type": "code",
      "metadata": {
        "id": "hN5CsYmlzq7b",
        "colab_type": "code",
        "outputId": "31ad91b6-1b80-415e-e308-f6bd40b126f6",
        "colab": {
          "base_uri": "https://localhost:8080/",
          "height": 238
        }
      },
      "source": [
        "train_x, train_y= [], []\n",
        "for i in range(len(for_train)):\n",
        "  w, a = words_to_num(for_train[i])\n",
        "  for j in range(len(for_train[i])):\n",
        "    train_x.append(w[j])\n",
        "    train_y.append(a[j])\n",
        "  \n",
        "val_x, val_y= [], []\n",
        "for i in range(len(for_val)):\n",
        "  w, a = words_to_num(for_val[i])\n",
        "  for j in range(len(for_val[i])):\n",
        "    val_x.append(w[j])\n",
        "    val_y.append(a[j])\n",
        "\n",
        "test_x, test_y= [], []\n",
        "for i in range(len(for_test)):\n",
        "  w, a = words_to_num(for_test[i])\n",
        "  for j in range(len(for_test[i])):\n",
        "    test_x.append(w[j])\n",
        "    test_y.append(a[j])\n"
      ],
      "execution_count": 10,
      "outputs": [
        {
          "output_type": "stream",
          "text": [
            "Нет ударения:  ль\n",
            "Нет ударения:  ж\n",
            "Нет ударения:  тсс\n",
            "Нет ударения:  б\n",
            "Нет ударения:  в\n",
            "Нет ударения:  кш\n",
            "Нет ударения:  хм\n",
            "Нет ударения:  с\n",
            "Нет ударения:  гм\n",
            "Нет ударения:  мм\n",
            "Нет ударения:  к\n",
            "Нет ударения:  брр\n",
            "В слове два ударения обагр'я'ясь\n"
          ],
          "name": "stdout"
        }
      ]
    },
    {
      "cell_type": "code",
      "metadata": {
        "id": "ht7ESXP73sAL",
        "colab_type": "code",
        "colab": {}
      },
      "source": [
        "test_x = np.array(test_x) \n",
        "train_x = np.array(train_x) \n",
        "val_x = np.array(val_x) \n",
        "\n",
        "test_y = np.array(test_y) \n",
        "train_y = np.array(train_y) \n",
        "val_y = np.array(val_y) "
      ],
      "execution_count": 0,
      "outputs": []
    },
    {
      "cell_type": "code",
      "metadata": {
        "id": "BUmG7qeVDnnj",
        "colab_type": "code",
        "outputId": "279ee931-e525-4a65-9d26-f5f2b62ee66a",
        "colab": {
          "base_uri": "https://localhost:8080/",
          "height": 85
        }
      },
      "source": [
        "print(\"\\t\\t\\t Размеры:\")\n",
        "print(\"Train set: \\t\\t{}\".format(test_x.shape), \n",
        "      \"\\nValidation set: \\t{}\".format(train_x.shape),\n",
        "      \"\\nTest set: \\t\\t{}\".format(val_x.shape))"
      ],
      "execution_count": 12,
      "outputs": [
        {
          "output_type": "stream",
          "text": [
            "\t\t\t Размеры:\n",
            "Train set: \t\t(161675, 30) \n",
            "Validation set: \t(1347877, 30) \n",
            "Test set: \t\t(169325, 30)\n"
          ],
          "name": "stdout"
        }
      ]
    },
    {
      "cell_type": "markdown",
      "metadata": {
        "id": "QujGu0enEdmW",
        "colab_type": "text"
      },
      "source": [
        "# Моделирование нейронной сети\n",
        "Используется LSTM-сеть"
      ]
    },
    {
      "cell_type": "code",
      "metadata": {
        "id": "ia0lLhvOEbkS",
        "colab_type": "code",
        "outputId": "6737c431-66af-4a6c-e6fe-f779141d4fff",
        "colab": {
          "base_uri": "https://localhost:8080/",
          "height": 34
        }
      },
      "source": [
        "max_features = len(alphabet) + 1\n",
        "max_features"
      ],
      "execution_count": 13,
      "outputs": [
        {
          "output_type": "execute_result",
          "data": {
            "text/plain": [
              "34"
            ]
          },
          "metadata": {
            "tags": []
          },
          "execution_count": 13
        }
      ]
    },
    {
      "cell_type": "code",
      "metadata": {
        "id": "bw9qd8NlEhPy",
        "colab_type": "code",
        "colab": {}
      },
      "source": [
        "from keras.models import *\n",
        "from keras.optimizers import *"
      ],
      "execution_count": 0,
      "outputs": []
    },
    {
      "cell_type": "code",
      "metadata": {
        "id": "GZYbM9i87pAj",
        "colab_type": "code",
        "colab": {}
      },
      "source": [
        "def unet(pretrained_weights = None,input_size = (number_of_classes, 1)):\n",
        "\n",
        "    inputs = Input(input_size)\n",
        "\n",
        "    conv1 = Conv1D(64, 2, activation = 'relu')(inputs)\n",
        "    conv1 = Conv1D(64, 2, activation = 'relu')(conv1)\n",
        "    pool1 = MaxPooling1D(pool_size=2)(conv1)\n",
        "\n",
        "    conv2 = Conv1D(128, 2, activation = 'relu', kernel_initializer = 'he_normal')(pool1)\n",
        "    conv2 = Conv1D(128, 2, activation = 'relu', kernel_initializer = 'he_normal')(conv2)\n",
        "    drop2 = Dropout(0.5)(conv2)\n",
        "    pool2 = MaxPooling1D(pool_size=2)(conv2)\n",
        "\n",
        "    conv3 = Conv1D(256, 2, activation = 'relu', kernel_initializer = 'he_normal')(pool2)\n",
        "    conv3 = Conv1D(256, 2, activation = 'relu', kernel_initializer = 'he_normal')(conv3)\n",
        "    drop3 = Dropout(0.5)(conv2)\n",
        "\n",
        "    up4 = Conv1D(128, 2, activation = 'relu', kernel_initializer = 'he_normal')(UpSampling1D(size = 2)(drop3))\n",
        "    merge4 = concatenate([drop2,up4], axis = 1)\n",
        "    conv4 = Conv1D(128, 2, activation = 'relu', kernel_initializer = 'he_normal')(merge4)\n",
        "    conv4 = Conv1D(128, 2, activation = 'relu', kernel_initializer = 'he_normal')(conv4)\n",
        "\n",
        "    up5 = Conv1D(64, 2, activation = 'relu', kernel_initializer = 'he_normal')(UpSampling1D(size = 2)(conv4))\n",
        "    merge5 = concatenate([conv1,up5], axis = 1)\n",
        "    conv5 = Conv1D(64, 2, activation = 'relu', kernel_initializer = 'he_normal')(merge5)\n",
        "    conv5 = Conv1D(64, 2, activation = 'relu', kernel_initializer = 'he_normal')(conv5)\n",
        "    conv5 = Conv1D(2, 2, activation = 'relu', kernel_initializer = 'he_normal')(conv5)\n",
        "    conv6 = Conv1D(30, 90, activation = 'softmax')(conv5)\n",
        "    \n",
        "    model = Model(input = inputs, output = conv6)\n",
        "\n",
        "    model.compile(optimizer = Adam(lr = 1e-4), loss = 'categorical_crossentropy', metrics = ['accuracy'])\n",
        "    \n",
        "    print(model.summary())\n",
        "\n",
        "    if(pretrained_weights):\n",
        "    \tmodel.load_weights(pretrained_weights)\n",
        "\n",
        "    return model"
      ],
      "execution_count": 0,
      "outputs": []
    },
    {
      "cell_type": "code",
      "metadata": {
        "id": "IKCP7B6p_feW",
        "colab_type": "code",
        "outputId": "8b7ed9cc-9e4e-4468-ab04-122ea17c0ef4",
        "colab": {
          "base_uri": "https://localhost:8080/",
          "height": 901
        }
      },
      "source": [
        "model = unet()"
      ],
      "execution_count": 16,
      "outputs": [
        {
          "output_type": "stream",
          "text": [
            "Model: \"model_1\"\n",
            "__________________________________________________________________________________________________\n",
            "Layer (type)                    Output Shape         Param #     Connected to                     \n",
            "==================================================================================================\n",
            "input_1 (InputLayer)            (None, 30, 1)        0                                            \n",
            "__________________________________________________________________________________________________\n",
            "conv1d_1 (Conv1D)               (None, 29, 64)       192         input_1[0][0]                    \n",
            "__________________________________________________________________________________________________\n",
            "conv1d_2 (Conv1D)               (None, 28, 64)       8256        conv1d_1[0][0]                   \n",
            "__________________________________________________________________________________________________\n",
            "max_pooling1d_1 (MaxPooling1D)  (None, 14, 64)       0           conv1d_2[0][0]                   \n",
            "__________________________________________________________________________________________________\n",
            "conv1d_3 (Conv1D)               (None, 13, 128)      16512       max_pooling1d_1[0][0]            \n",
            "__________________________________________________________________________________________________\n",
            "conv1d_4 (Conv1D)               (None, 12, 128)      32896       conv1d_3[0][0]                   \n",
            "__________________________________________________________________________________________________\n",
            "dropout_2 (Dropout)             (None, 12, 128)      0           conv1d_4[0][0]                   \n",
            "__________________________________________________________________________________________________\n",
            "up_sampling1d_1 (UpSampling1D)  (None, 24, 128)      0           dropout_2[0][0]                  \n",
            "__________________________________________________________________________________________________\n",
            "dropout_1 (Dropout)             (None, 12, 128)      0           conv1d_4[0][0]                   \n",
            "__________________________________________________________________________________________________\n",
            "conv1d_7 (Conv1D)               (None, 23, 128)      32896       up_sampling1d_1[0][0]            \n",
            "__________________________________________________________________________________________________\n",
            "concatenate_1 (Concatenate)     (None, 35, 128)      0           dropout_1[0][0]                  \n",
            "                                                                 conv1d_7[0][0]                   \n",
            "__________________________________________________________________________________________________\n",
            "conv1d_8 (Conv1D)               (None, 34, 128)      32896       concatenate_1[0][0]              \n",
            "__________________________________________________________________________________________________\n",
            "conv1d_9 (Conv1D)               (None, 33, 128)      32896       conv1d_8[0][0]                   \n",
            "__________________________________________________________________________________________________\n",
            "up_sampling1d_2 (UpSampling1D)  (None, 66, 128)      0           conv1d_9[0][0]                   \n",
            "__________________________________________________________________________________________________\n",
            "conv1d_10 (Conv1D)              (None, 65, 64)       16448       up_sampling1d_2[0][0]            \n",
            "__________________________________________________________________________________________________\n",
            "concatenate_2 (Concatenate)     (None, 93, 64)       0           conv1d_2[0][0]                   \n",
            "                                                                 conv1d_10[0][0]                  \n",
            "__________________________________________________________________________________________________\n",
            "conv1d_11 (Conv1D)              (None, 92, 64)       8256        concatenate_2[0][0]              \n",
            "__________________________________________________________________________________________________\n",
            "conv1d_12 (Conv1D)              (None, 91, 64)       8256        conv1d_11[0][0]                  \n",
            "__________________________________________________________________________________________________\n",
            "conv1d_13 (Conv1D)              (None, 90, 2)        258         conv1d_12[0][0]                  \n",
            "__________________________________________________________________________________________________\n",
            "conv1d_14 (Conv1D)              (None, 1, 30)        5430        conv1d_13[0][0]                  \n",
            "==================================================================================================\n",
            "Total params: 195,192\n",
            "Trainable params: 195,192\n",
            "Non-trainable params: 0\n",
            "__________________________________________________________________________________________________\n",
            "None\n"
          ],
          "name": "stdout"
        },
        {
          "output_type": "stream",
          "text": [
            "/usr/local/lib/python3.6/dist-packages/ipykernel_launcher.py:30: UserWarning: Update your `Model` call to the Keras 2 API: `Model(inputs=Tensor(\"in..., outputs=Tensor(\"co...)`\n"
          ],
          "name": "stderr"
        }
      ]
    },
    {
      "cell_type": "code",
      "metadata": {
        "id": "fuVTLNKTEizo",
        "colab_type": "code",
        "outputId": "2df8effb-a45d-46f9-e14c-1d4de38c9b23",
        "colab": {
          "base_uri": "https://localhost:8080/",
          "height": 714
        }
      },
      "source": [
        "batch_size = 256 * 4\n",
        "epochs = 20\n",
        "\n",
        "X_train = np.reshape(train_x, (train_x.shape[0], train_x.shape[1], 1))\n",
        "Y_train = np.reshape(train_y, (train_y.shape[0], 1, train_y.shape[1]))\n",
        "\n",
        "X_val =  np.reshape(val_x, (val_x.shape[0], val_x.shape[1], 1))\n",
        "Y_val =  np.reshape(val_y, (val_y.shape[0], 1, val_y.shape[1]))\n",
        "\n",
        "#model_checkpoint = ModelCheckpoint('unet_membrane.hdf5', monitor='loss',verbose=1, save_best_only=True)\n",
        "\n",
        "history = model.fit(X_train, Y_train,\n",
        "          batch_size=batch_size,\n",
        "          epochs=epochs,\n",
        "          validation_data=(X_val, Y_val))"
      ],
      "execution_count": 18,
      "outputs": [
        {
          "output_type": "stream",
          "text": [
            "Train on 1347877 samples, validate on 169325 samples\n",
            "Epoch 1/20\n",
            "1347877/1347877 [==============================] - 1567s 1ms/step - loss: 1.7751 - accuracy: 0.3848 - val_loss: 1.4548 - val_accuracy: 0.5056\n",
            "Epoch 2/20\n",
            "1347877/1347877 [==============================] - 1560s 1ms/step - loss: 1.3635 - accuracy: 0.5291 - val_loss: 1.2838 - val_accuracy: 0.5632\n",
            "Epoch 3/20\n",
            "1347877/1347877 [==============================] - 1559s 1ms/step - loss: 1.2224 - accuracy: 0.5734 - val_loss: 1.1887 - val_accuracy: 0.5903\n",
            "Epoch 4/20\n",
            "1347877/1347877 [==============================] - 1565s 1ms/step - loss: 1.1414 - accuracy: 0.5973 - val_loss: 1.1344 - val_accuracy: 0.6060\n",
            "Epoch 5/20\n",
            "1347877/1347877 [==============================] - 1571s 1ms/step - loss: 1.0803 - accuracy: 0.6170 - val_loss: 1.0665 - val_accuracy: 0.6290\n",
            "Epoch 6/20\n",
            "1347877/1347877 [==============================] - 1564s 1ms/step - loss: 1.0299 - accuracy: 0.6342 - val_loss: 1.0265 - val_accuracy: 0.6418\n",
            "Epoch 7/20\n",
            "1347877/1347877 [==============================] - 1566s 1ms/step - loss: 0.9903 - accuracy: 0.6478 - val_loss: 1.0017 - val_accuracy: 0.6509\n",
            "Epoch 8/20\n",
            "1347877/1347877 [==============================] - 1572s 1ms/step - loss: 0.9602 - accuracy: 0.6585 - val_loss: 0.9928 - val_accuracy: 0.6534\n",
            "Epoch 9/20\n",
            "1347877/1347877 [==============================] - 1579s 1ms/step - loss: 0.9360 - accuracy: 0.6667 - val_loss: 0.9489 - val_accuracy: 0.6700\n",
            "Epoch 10/20\n",
            "1347877/1347877 [==============================] - 1568s 1ms/step - loss: 0.9160 - accuracy: 0.6736 - val_loss: 0.9268 - val_accuracy: 0.6745\n",
            "Epoch 11/20\n",
            "1347877/1347877 [==============================] - 1565s 1ms/step - loss: 0.8982 - accuracy: 0.6797 - val_loss: 0.9420 - val_accuracy: 0.6704\n",
            "Epoch 12/20\n",
            "1347877/1347877 [==============================] - 1574s 1ms/step - loss: 0.8834 - accuracy: 0.6844 - val_loss: 0.9122 - val_accuracy: 0.6824\n",
            "Epoch 13/20\n",
            "1347877/1347877 [==============================] - 1569s 1ms/step - loss: 0.8688 - accuracy: 0.6896 - val_loss: 0.9076 - val_accuracy: 0.6828\n",
            "Epoch 14/20\n",
            "1347877/1347877 [==============================] - 1574s 1ms/step - loss: 0.8563 - accuracy: 0.6938 - val_loss: 0.8881 - val_accuracy: 0.6913\n",
            "Epoch 15/20\n",
            "1347877/1347877 [==============================] - 1574s 1ms/step - loss: 0.8454 - accuracy: 0.6970 - val_loss: 0.8713 - val_accuracy: 0.6963\n",
            "Epoch 16/20\n",
            "1347877/1347877 [==============================] - 1570s 1ms/step - loss: 0.8342 - accuracy: 0.7005 - val_loss: 0.8743 - val_accuracy: 0.6965\n",
            "Epoch 17/20\n",
            "1347877/1347877 [==============================] - 1577s 1ms/step - loss: 0.8235 - accuracy: 0.7040 - val_loss: 0.8517 - val_accuracy: 0.7010\n",
            "Epoch 18/20\n",
            "1347877/1347877 [==============================] - 1584s 1ms/step - loss: 0.8140 - accuracy: 0.7075 - val_loss: 0.8603 - val_accuracy: 0.6992\n",
            "Epoch 19/20\n",
            "1347877/1347877 [==============================] - 1583s 1ms/step - loss: 0.8054 - accuracy: 0.7105 - val_loss: 0.8349 - val_accuracy: 0.7057\n",
            "Epoch 20/20\n",
            "1347877/1347877 [==============================] - 1576s 1ms/step - loss: 0.7966 - accuracy: 0.7129 - val_loss: 0.8361 - val_accuracy: 0.7072\n"
          ],
          "name": "stdout"
        }
      ]
    },
    {
      "cell_type": "markdown",
      "metadata": {
        "id": "ysy1HMxVPGc1",
        "colab_type": "text"
      },
      "source": [
        "Построим графики для точности и функции стоимости относительно эпох"
      ]
    },
    {
      "cell_type": "code",
      "metadata": {
        "id": "QQVq9iJOEl4H",
        "colab_type": "code",
        "outputId": "6582e569-a2c3-4d84-e73b-dcd0c8ca0825",
        "colab": {
          "base_uri": "https://localhost:8080/",
          "height": 499
        }
      },
      "source": [
        "acc = history.history['accuracy']\n",
        "val_acc = history.history['val_accuracy']\n",
        "\n",
        "loss=history.history['loss']\n",
        "val_loss=history.history['val_loss']\n",
        "\n",
        "epochs_range = range(epochs)\n",
        "\n",
        "plt.figure(figsize=(8, 8))\n",
        "plt.subplot(1, 2, 1)\n",
        "plt.plot(epochs_range, acc, label='Training Accuracy')\n",
        "plt.plot(epochs_range, val_acc, label='Validation Accuracy')\n",
        "plt.legend(loc='lower right')\n",
        "plt.title('Training and Validation Accuracy')\n",
        "\n",
        "plt.subplot(1, 2, 2)\n",
        "plt.plot(epochs_range, loss, label='Training Loss')\n",
        "plt.plot(epochs_range, val_loss, label='Validation Loss')\n",
        "plt.legend(loc='upper right')\n",
        "plt.title('Training and Validation Loss')\n",
        "plt.show()"
      ],
      "execution_count": 19,
      "outputs": [
        {
          "output_type": "display_data",
          "data": {
            "image/png": "[encoded data removed]",
            "text/plain": [
              "<Figure size 576x576 with 2 Axes>"
            ]
          },
          "metadata": {
            "tags": [],
            "needs_background": "light"
          }
        }
      ]
    },
    {
      "cell_type": "markdown",
      "metadata": {
        "id": "mluZoR4XPM4T",
        "colab_type": "text"
      },
      "source": [
        "Сохраним предобученную сеть"
      ]
    },
    {
      "cell_type": "markdown",
      "metadata": {
        "id": "B6M7ii5aUq3w",
        "colab_type": "text"
      },
      "source": [
        ""
      ]
    },
    {
      "cell_type": "code",
      "metadata": {
        "id": "mtOTGhdTPPbj",
        "colab_type": "code",
        "colab": {}
      },
      "source": [
        "model.save('Accents_LSTM-/CNN_model.h5')"
      ],
      "execution_count": 0,
      "outputs": []
    },
    {
      "cell_type": "markdown",
      "metadata": {
        "id": "xtxKf1tWPUD6",
        "colab_type": "text"
      },
      "source": [
        "Сохраним датасет и предобученную сеть на компьютер"
      ]
    },
    {
      "cell_type": "code",
      "metadata": {
        "id": "v880E_ziPTpr",
        "colab_type": "code",
        "colab": {}
      },
      "source": [
        "#files.download('Accents_LSTM-/Data.csv')\n",
        "files.download('Accents_LSTM-/CNN_model.h5')"
      ],
      "execution_count": 0,
      "outputs": []
    },
    {
      "cell_type": "markdown",
      "metadata": {
        "id": "uthB_jpMPY2r",
        "colab_type": "text"
      },
      "source": [
        "# Тесты на обученной модели"
      ]
    },
    {
      "cell_type": "code",
      "metadata": {
        "id": "AL3HlRggPa4K",
        "colab_type": "code",
        "colab": {}
      },
      "source": [
        "model = load_model('Accents_LSTM-/model.h5')"
      ],
      "execution_count": 0,
      "outputs": []
    },
    {
      "cell_type": "code",
      "metadata": {
        "id": "DPDt2ExiPcBT",
        "colab_type": "code",
        "colab": {}
      },
      "source": [
        "model.compile(optimizer='adam',\n",
        "                  loss=tensorflow.keras.losses.CategoricalCrossentropy(from_logits=False, name='categorical_crossentropy'),\n",
        "                  metrics=['accuracy'])"
      ],
      "execution_count": 0,
      "outputs": []
    },
    {
      "cell_type": "markdown",
      "metadata": {
        "id": "iMZQuGlYPd86",
        "colab_type": "text"
      },
      "source": [
        "Предскажем позицию ударения для тестовых данных"
      ]
    },
    {
      "cell_type": "code",
      "metadata": {
        "id": "p_ImGG4CPfQi",
        "colab_type": "code",
        "colab": {}
      },
      "source": [
        "X_test = np.reshape(test_x, (test_x.shape[0], test_x.shape[1], 1))\n",
        "Y_test = np.reshape(test_y, (test_y.shape[0], 1, test_y.shape[1]))\n",
        "\n",
        "acc_pred = model.predict(X_test)\n",
        "\n",
        "test_accur = 0\n",
        "for i in range(len(acc_pred)):\n",
        "    if acc_pred[i].argmax() == Y_test[i].argmax():\n",
        "        test_accur = test_accur + 1\n",
        "test_accur = test_accur/len(acc_pred)"
      ],
      "execution_count": 0,
      "outputs": []
    },
    {
      "cell_type": "code",
      "metadata": {
        "id": "58jKIJcRPgoC",
        "colab_type": "code",
        "outputId": "fec21adb-4c5f-46f3-880c-6c9910139e8c",
        "colab": {
          "base_uri": "https://localhost:8080/",
          "height": 33
        }
      },
      "source": [
        "print('Точность на тестовой выборке: ',test_accur)"
      ],
      "execution_count": 0,
      "outputs": [
        {
          "output_type": "stream",
          "text": [
            "Точность на тестовой выборке:  0.5280178338771949\n"
          ],
          "name": "stdout"
        }
      ]
    },
    {
      "cell_type": "markdown",
      "metadata": {
        "id": "_ACQyhAaPjia",
        "colab_type": "text"
      },
      "source": [
        "Метод для возвращения ключа по значению"
      ]
    },
    {
      "cell_type": "code",
      "metadata": {
        "id": "77QliQsaPkzi",
        "colab_type": "code",
        "colab": {}
      },
      "source": [
        "def get_key(d, value):\n",
        "    for k, v in d.items():\n",
        "        if v == value:\n",
        "            return k"
      ],
      "execution_count": 0,
      "outputs": []
    },
    {
      "cell_type": "markdown",
      "metadata": {
        "id": "WSFAAwCkPmMy",
        "colab_type": "text"
      },
      "source": [
        "Визуализация предсказанных ударений и их сравнение с ответами"
      ]
    },
    {
      "cell_type": "code",
      "metadata": {
        "id": "ZjdS4PFfPnXy",
        "colab_type": "code",
        "outputId": "965576f3-4e91-4fa1-dc69-3bafce144855",
        "colab": {
          "base_uri": "https://localhost:8080/",
          "height": 401
        }
      },
      "source": [
        "+for i in range(N):\n",
        "    slovo = ''\n",
        "    for j in range(len(X_test[i*100])):\n",
        "        if X_test[i*100][j] != 0:\n",
        "            slovo = slovo + get_key(alphabet, X_test[i*100][j])\n",
        "        else:\n",
        "            break\n",
        "    template = slovo[:Y_test[i*100].argmax() + 1] + '\\'' + slovo[Y_test[i*100].argmax() + 1:]\n",
        "    nn_sample = slovo[:acc_pred[i*100].argmax() + 1] + '\\'' + slovo[acc_pred[i*100].argmax() + 1:]\n",
        "    \n",
        "    if (acc_pred[i*100].argmax() != Y_test[i*100].argmax()):\n",
        "      print('Эталон   : ' , template)\n",
        "      print('Ошибка!  : ' , nn_sample)\n",
        "    else:\n",
        "      print('Результат: ' , nn_sample)\n",
        "    print()"
      ],
      "execution_count": 0,
      "outputs": [
        {
          "output_type": "stream",
          "text": [
            "Результат:  каобердиа'но\n",
            "\n",
            "Эталон   :  исхо'дной\n",
            "Ошибка!  :  исход'ной\n",
            "\n",
            "Эталон   :  зоопсихо'лог\n",
            "Ошибка!  :  зоопси'холог\n",
            "\n",
            "Результат:  пошевели'вшей\n",
            "\n",
            "Результат:  поше'л\n",
            "\n",
            "Результат:  пошепчи'сь\n",
            "\n",
            "Эталон   :  кирзу'\n",
            "Ошибка!  :  кирз'у\n",
            "\n",
            "Результат:  ла'дит\n",
            "\n",
            "Результат:  мозгля'вом\n",
            "\n",
            "Результат:  этиотро'пном\n",
            "\n"
          ],
          "name": "stdout"
        }
      ]
    }
  ]
}