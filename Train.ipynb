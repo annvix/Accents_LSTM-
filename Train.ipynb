{
  "nbformat": 4,
  "nbformat_minor": 0,
  "metadata": {
    "colab": {
      "name": "Train.ipynb",
      "provenance": [],
      "authorship_tag": "ABX9TyOjKcjKspyemBEJZPFLytkb",
      "include_colab_link": true
    },
    "kernelspec": {
      "name": "python3",
      "display_name": "Python 3"
    }
  },
  "cells": [
    {
      "cell_type": "markdown",
      "metadata": {
        "id": "view-in-github",
        "colab_type": "text"
      },
      "source": [
        "<a href=\"https://colab.research.google.com/github/annvix/Accents_LSTM-/blob/master/Train.ipynb\" target=\"_parent\"><img src=\"https://colab.research.google.com/assets/colab-badge.svg\" alt=\"Open In Colab\"/></a>"
      ]
    },
    {
      "cell_type": "markdown",
      "metadata": {
        "id": "T_VLKOujC_rX",
        "colab_type": "text"
      },
      "source": [
        "# Клонирование проекта с GitHub\n",
        "Подключение библиотек"
      ]
    },
    {
      "cell_type": "code",
      "metadata": {
        "id": "VlS_cuswCwMh",
        "colab_type": "code",
        "colab": {
          "base_uri": "https://localhost:8080/",
          "height": 34
        },
        "outputId": "3432c867-43bb-4d07-b033-fdc4aea7f31d"
      },
      "source": [
        "!git clone https://github.com/annvix/Accents_LSTM-.git"
      ],
      "execution_count": 1,
      "outputs": [
        {
          "output_type": "stream",
          "text": [
            "fatal: destination path 'Accents_LSTM-' already exists and is not an empty directory.\n"
          ],
          "name": "stdout"
        }
      ]
    },
    {
      "cell_type": "code",
      "metadata": {
        "id": "YJD1wZrtCyKu",
        "colab_type": "code",
        "colab": {}
      },
      "source": [
        "from google.colab import files\n",
        "import matplotlib.pyplot as plt\n",
        "import numpy as np\n",
        "import random\n",
        "import tensorflow as tf\n",
        "\n",
        "from keras.layers import *\n",
        "from keras.models import *\n",
        "from keras.optimizers import *\n",
        "from tensorflow.keras.preprocessing import sequence"
      ],
      "execution_count": 42,
      "outputs": []
    },
    {
      "cell_type": "markdown",
      "metadata": {
        "id": "Hxy2Tf3HC8SG",
        "colab_type": "text"
      },
      "source": [
        "# Загрузка и предобработка данных"
      ]
    },
    {
      "cell_type": "markdown",
      "metadata": {
        "id": "qPO_cZhNDFkZ",
        "colab_type": "text"
      },
      "source": [
        "Добавляем алфавит для кодирования букв"
      ]
    },
    {
      "cell_type": "code",
      "metadata": {
        "id": "L_s1YhMsDJpn",
        "colab_type": "code",
        "colab": {}
      },
      "source": [
        "alphabet =   {'а' : 1, 'б' : 2, 'в' : 3, 'г' : 4, 'д' : 5, 'е' : 6, 'ё' : 7, 'ж' : 8, 'з' : 9,\n",
        "             'и' : 10, 'й' : 11, 'к' : 12, 'л' : 13, 'м' : 14, 'н' : 15, 'о' : 16, 'п' : 17, 'р' : 18,\n",
        "             'с' : 19, 'т' : 20, 'у' : 21, 'ф' : 22, 'х' : 23, 'ц' : 24, 'ч' : 25, 'ш' : 26, 'щ' : 27,\n",
        "             'ъ' : 28, 'ы' : 29, 'ь' : 30, 'э' : 31, 'ю' : 32, 'я' : 33}\n",
        "\n",
        "N = 10 #Количество слов для вывода"
      ],
      "execution_count": 43,
      "outputs": []
    },
    {
      "cell_type": "code",
      "metadata": {
        "id": "vF3ppBjJC0tA",
        "colab_type": "code",
        "colab": {
          "base_uri": "https://localhost:8080/",
          "height": 85
        },
        "outputId": "114851a4-3f0e-476a-83e2-ff2538dc8ba2"
      },
      "source": [
        "with open('Accents_LSTM-/Data.csv', 'r') as f:\n",
        "    all_accents = f.readlines()\n",
        "data_len = len(all_accents)\n",
        "\n",
        "print('Всего слов:', data_len)\n",
        "max_len = len(max(all_accents, key=len)) //2 - 1\n",
        "print('Максимальная длина слова:', max_len)\n",
        "print('Слово:', max(all_accents, key=len))\n",
        "number_of_classes = max_len + 1"
      ],
      "execution_count": 44,
      "outputs": [
        {
          "output_type": "stream",
          "text": [
            "Всего слов: 1678878\n",
            "Максимальная длина слова: 29\n",
            "Слово: административнодисциплинарный,административнодисципл'инарный\n",
            "\n"
          ],
          "name": "stdout"
        }
      ]
    },
    {
      "cell_type": "markdown",
      "metadata": {
        "id": "-4VFuCnRiU_1",
        "colab_type": "text"
      },
      "source": [
        "Группировка слов по первым буквам"
      ]
    },
    {
      "cell_type": "code",
      "metadata": {
        "id": "6B28DPW5iT1v",
        "colab_type": "code",
        "colab": {
          "base_uri": "https://localhost:8080/",
          "height": 34
        },
        "outputId": "d7d6c86d-fd67-41fc-d2c3-761acf964429"
      },
      "source": [
        "word_groups = []\n",
        "group  = []\n",
        "group.append(all_accents[0])\n",
        "\n",
        "for i in range(1, data_len):\n",
        "    if group[0][:4] == all_accents[i][:4]:\n",
        "        group.append(all_accents[i])\n",
        "    else:\n",
        "        word_groups.append(group)\n",
        "        group  = []\n",
        "        group.append(all_accents[i])\n",
        "print('Количество групп: ', len(word_groups))\n",
        "random.shuffle(word_groups)"
      ],
      "execution_count": 45,
      "outputs": [
        {
          "output_type": "stream",
          "text": [
            "Количество групп:  42078\n"
          ],
          "name": "stdout"
        }
      ]
    },
    {
      "cell_type": "code",
      "metadata": {
        "id": "IijHxgDqlPY2",
        "colab_type": "code",
        "colab": {
          "base_uri": "https://localhost:8080/",
          "height": 224
        },
        "outputId": "d22034fa-d8ce-467d-e18f-37ed72032a2c"
      },
      "source": [
        "print('Группы слов:')\n",
        "for i in range (N):\n",
        "  print(word_groups[i])"
      ],
      "execution_count": 46,
      "outputs": [
        {
          "output_type": "stream",
          "text": [
            "Группы слов:\n",
            "[\"гмелин,гм'елин\\n\", \"гмелина,гм'елина\\n\", \"гмелинит,гмелин'ит\\n\"]\n",
            "[\"жирка,жирк'а\\n\", \"жиркевич,жирк'евич\\n\", \"жирки,жирк'и\\n\", \"жирков,жирк'ов\\n\", \"жирковский,жирк'овский\\n\", \"жирку,жирк'у\\n\"]\n",
            "[\"бжедуховская,бжед'уховская\\n\"]\n",
            "[\"фред,фр'ед\\n\", \"фреда,фр'еда\\n\", \"фредгольм,фредг'ольм\\n\", \"фредгольма,фредг'ольма\\n\", \"фредди,фр'едди\\n\", \"фреде,фр'еде\\n\", \"фреден,фр'еден\\n\", \"фредерик,фр'едерик\\n\", \"фредерика,фредер'ика\\n\", \"фредерикам,фр'едерикам\\n\", \"фредериками,фр'едериками\\n\", \"фредериках,фр'едериках\\n\", \"фредерике,фр'едерике\\n\", \"фредерики,фр'едерики\\n\", \"фредерико,фредер'ико\\n\", \"фредериков,фр'едериков\\n\", \"фредерикой,фредер'икой\\n\", \"фредериком,фр'едериком\\n\", \"фредерикою,фредер'икою\\n\", \"фредерикс,фредер'икс\\n\", \"фредериксберг,фредериксб'ерг\\n\", \"фредериксен,фр'едериксен\\n\", \"фредериксхавн,фр'едериксхавн\\n\", \"фредериксы,фредер'иксы\\n\", \"фредерику,фр'едерику\\n\", \"фредерисия,фредер'исия\\n\", \"фреди,фр'еди\\n\", \"фредиани,фреди'ани\\n\", \"фредом,фр'едом\\n\", \"фредрик,фр'едрик\\n\", \"фредриксон,фр'едриксон\\n\", \"фредрикссон,фр'едрикссон\\n\", \"фредрикстад,фр'едрикстад\\n\", \"фредро,фр'едро\\n\", \"фреду,фр'еду\\n\", \"фредуа,фр'едуа\\n\", \"фредхейм,фр'едхейм\\n\", \"фредьер,фредь'ер\\n\"]\n",
            "[\"нюгор,н'югор\\n\"]\n",
            "[\"унт,'унт\\n\"]\n",
            "[\"мужчин,мужч'ин\\n\", \"мужчина,мужч'ина\\n\", \"мужчинам,мужч'инам\\n\", \"мужчинами,мужч'инами\\n\", \"мужчинах,мужч'инах\\n\", \"мужчине,мужч'ине\\n\", \"мужчинище,мужч'инище\\n\", \"мужчинка,мужч'инка\\n\", \"мужчинкам,мужч'инкам\\n\", \"мужчинками,мужч'инками\\n\", \"мужчинках,мужч'инках\\n\", \"мужчинке,мужч'инке\\n\", \"мужчинки,мужч'инки\\n\", \"мужчинкой,мужч'инкой\\n\", \"мужчинкою,мужч'инкою\\n\", \"мужчинку,мужч'инку\\n\", \"мужчиной,мужч'иной\\n\", \"мужчинок,мужч'инок\\n\", \"мужчиною,мужч'иною\\n\", \"мужчину,мужч'ину\\n\", \"мужчины,мужч'ины\\n\"]\n",
            "[\"ихляс,ихл'яс\\n\"]\n",
            "[\"фэстиво,фэст'иво\\n\"]\n",
            "[\"булэ,бул'э\\n\"]\n"
          ],
          "name": "stdout"
        }
      ]
    },
    {
      "cell_type": "markdown",
      "metadata": {
        "id": "6TaVCPOAEWzV",
        "colab_type": "text"
      },
      "source": [
        "Разделим данные на тренировочные, валидационные и тестовые"
      ]
    },
    {
      "cell_type": "code",
      "metadata": {
        "id": "iGG6QYiAEYcd",
        "colab_type": "code",
        "colab": {}
      },
      "source": [
        "train_frac = 0.8\n",
        "val_frac = 0.1\n",
        "test_frac = 0.1\n",
        "\n",
        "def train_test_val_words(words):\n",
        "    return (words[:int(len(words)*train_frac)], \n",
        "words[int(len(words)*train_frac) : (int(len(words)*train_frac) + int(len(words)*val_frac))], \n",
        "words[(int(len(words)*train_frac) + int(len(words)*val_frac)):])\n",
        "    \n",
        "\n",
        "for_train, for_val, for_test = train_test_val_words(word_groups)"
      ],
      "execution_count": 47,
      "outputs": []
    },
    {
      "cell_type": "code",
      "metadata": {
        "id": "mwYoVsRvtycD",
        "colab_type": "code",
        "colab": {}
      },
      "source": [
        "def words_to_num(my_words):\n",
        "  words, accents = [], []\n",
        "  for i in range (len(my_words)):\n",
        "      str = my_words[i].replace('\\n', '').split(',')\n",
        "      words.append(str[0])\n",
        "      accents.append(str[1])\n",
        "\n",
        "  words_int = np.zeros((len(my_words), number_of_classes), dtype=int)\n",
        "  accents_int = np.zeros((len(my_words),number_of_classes), dtype=int)\n",
        "  \n",
        "  for i in range(len(words)):\n",
        "    for j in range(len(words[i])):\n",
        "        words_int[i][j]= alphabet[words[i][j]]\n",
        "        \n",
        "    acc = accents[i].find(\"'\")\n",
        "    if (acc != -1):\n",
        "        accents_int[i][acc] = 1\n",
        "        if accents[i][acc + 1:].find(\"'\") != -1:\n",
        "          print('В слове два ударения:', accents[i])\n",
        "    else:\n",
        "        accents_int[i][number_of_classes - 1] = 1\n",
        "        print('Нет ударения: ', words[i])\n",
        "  return words_int, accents_int"
      ],
      "execution_count": 48,
      "outputs": []
    },
    {
      "cell_type": "code",
      "metadata": {
        "id": "hN5CsYmlzq7b",
        "colab_type": "code",
        "colab": {
          "base_uri": "https://localhost:8080/",
          "height": 238
        },
        "outputId": "d85a6b10-cd29-4d83-cb49-b12fed1e83aa"
      },
      "source": [
        "train_x, train_y= [], []\n",
        "for i in range(len(for_train)):\n",
        "  w, a = words_to_num(for_train[i])\n",
        "  for j in range(len(for_train[i])):\n",
        "    train_x.append(w[j])\n",
        "    train_y.append(a[j])\n",
        "  \n",
        "val_x, val_y= [], []\n",
        "for i in range(len(for_val)):\n",
        "  w, a = words_to_num(for_val[i])\n",
        "  for j in range(len(for_val[i])):\n",
        "    val_x.append(w[j])\n",
        "    val_y.append(a[j])\n",
        "\n",
        "test_x, test_y= [], []\n",
        "for i in range(len(for_test)):\n",
        "  w, a = words_to_num(for_test[i])\n",
        "  for j in range(len(for_test[i])):\n",
        "    test_x.append(w[j])\n",
        "    test_y.append(a[j])\n"
      ],
      "execution_count": 49,
      "outputs": [
        {
          "output_type": "stream",
          "text": [
            "Нет ударения:  гм\n",
            "Нет ударения:  ль\n",
            "Нет ударения:  ж\n",
            "Нет ударения:  мм\n",
            "Нет ударения:  кш\n",
            "Нет ударения:  хм\n",
            "Нет ударения:  с\n",
            "Нет ударения:  тсс\n",
            "Нет ударения:  к\n",
            "Нет ударения:  в\n",
            "Нет ударения:  брр\n",
            "Нет ударения:  б\n",
            "В слове два ударения: обагр'я'ясь\n"
          ],
          "name": "stdout"
        }
      ]
    },
    {
      "cell_type": "code",
      "metadata": {
        "id": "ht7ESXP73sAL",
        "colab_type": "code",
        "colab": {}
      },
      "source": [
        "test_x = np.array(test_x) \n",
        "train_x = np.array(train_x) \n",
        "val_x = np.array(val_x) \n",
        "\n",
        "test_y = np.array(test_y) \n",
        "train_y = np.array(train_y) \n",
        "val_y = np.array(val_y) "
      ],
      "execution_count": 50,
      "outputs": []
    },
    {
      "cell_type": "code",
      "metadata": {
        "id": "BUmG7qeVDnnj",
        "colab_type": "code",
        "colab": {
          "base_uri": "https://localhost:8080/",
          "height": 85
        },
        "outputId": "32b366c6-a11c-4da5-d18d-9f96c67e84c0"
      },
      "source": [
        "print(\"\\t\\t\\t Размеры:\")\n",
        "print(\"Train set: \\t\\t{}\".format(test_x.shape), \n",
        "      \"\\nValidation set: \\t{}\".format(train_x.shape),\n",
        "      \"\\nTest set: \\t\\t{}\".format(val_x.shape))"
      ],
      "execution_count": 51,
      "outputs": [
        {
          "output_type": "stream",
          "text": [
            "\t\t\t Размеры:\n",
            "Train set: \t\t(169896, 30) \n",
            "Validation set: \t(1319104, 30) \n",
            "Test set: \t\t(189877, 30)\n"
          ],
          "name": "stdout"
        }
      ]
    },
    {
      "cell_type": "markdown",
      "metadata": {
        "id": "QujGu0enEdmW",
        "colab_type": "text"
      },
      "source": [
        "# Моделирование нейронной сети\n",
        "Используется LSTM-сеть"
      ]
    },
    {
      "cell_type": "code",
      "metadata": {
        "id": "Cs-iuzkp1yIm",
        "colab_type": "code",
        "colab": {}
      },
      "source": [
        "def res_unet(filter_root, depth, n_class=2, input_size=(1, number_of_classes), activation='relu', batch_norm=True, final_activation='softmax'):\n",
        "    \"\"\"\n",
        "    Build UNet model with ResBlock.\n",
        "    Args:\n",
        "        filter_root (int): Number of filters to start with in first convolution.\n",
        "        depth (int): How deep to go in UNet i.e. how many down and up sampling you want to do in the model. \n",
        "                    Filter root and image size should be multiple of 2^depth.\n",
        "        n_class (int, optional): How many classes in the output layer. Defaults to 2.\n",
        "        input_size (tuple, optional): Input image size. Defaults to (256, 256, 1).\n",
        "        activation (str, optional): activation to use in each convolution. Defaults to 'relu'.\n",
        "        batch_norm (bool, optional): To use Batch normaliztion or not. Defaults to True.\n",
        "        final_activation (str, optional): activation for output layer. Defaults to 'softmax'.\n",
        "    Returns:\n",
        "        obj: keras model object\n",
        "    \"\"\"\n",
        "    inputs = Input(input_size)\n",
        "    x = inputs\n",
        "\n",
        "    # Dictionary for long connections\n",
        "    long_connection_store = {}\n",
        "\n",
        "    if len(input_size) == 3:\n",
        "        Conv = Conv2D\n",
        "        MaxPooling = MaxPooling2D\n",
        "        UpSampling = UpSampling2D\n",
        "    elif len(input_size) == 4:\n",
        "        Conv = Conv3D\n",
        "        MaxPooling = MaxPooling3D\n",
        "        UpSampling = UpSampling3D\n",
        "    elif len(input_size) == 2:\n",
        "        Conv = Conv1D\n",
        "        MaxPooling = MaxPooling1D\n",
        "        UpSampling = UpSampling1D\n",
        "\n",
        "    # Down sampling\n",
        "    for i in range(depth):\n",
        "        out_channel = 2**i * filter_root\n",
        "\n",
        "        # Residual/Skip connection\n",
        "        res = Conv(out_channel, kernel_size=1, padding='same', use_bias=False)(x)\n",
        "\n",
        "        # First Conv Block with Conv, BN and activation\n",
        "        conv1 = Conv(out_channel, kernel_size=3, padding='same')(x)\n",
        "        if batch_norm:\n",
        "            conv1 = BatchNormalization()(conv1)\n",
        "        act1 = Activation(activation)(conv1)\n",
        "\n",
        "        # Second Conv block with Conv and BN only\n",
        "        conv2 = Conv(out_channel, kernel_size=3, padding='same')(act1)\n",
        "        if batch_norm:\n",
        "            conv2 = BatchNormalization()(conv2)\n",
        "\n",
        "        resconnection = Add()([res, conv2])\n",
        "\n",
        "        act2 = Activation(activation)(resconnection)\n",
        "\n",
        "        # Max pooling\n",
        "        if i < depth - 1:\n",
        "            long_connection_store[str(i)] = act2\n",
        "            x = MaxPooling(padding='same')(act2)\n",
        "        else:\n",
        "            x = act2\n",
        "\n",
        "    # Upsampling\n",
        "    for i in range(depth - 2, -1, -1):\n",
        "        out_channel = 2**(i) * filter_root\n",
        "\n",
        "        # long connection from down sampling path.\n",
        "        long_connection = long_connection_store[str(i)]\n",
        "        print(long_connection_store[str(i)])\n",
        "\n",
        "        up1 = UpSampling()(x)\n",
        "        up_conv1 = Conv(out_channel, 2 , activation='relu')(up1)\n",
        "        # up_conv1 = Conv(out_channel, 2 , activation='relu', padding='same', name=\"upConv{}_1\".format(i))(up1)\n",
        "        \n",
        "        print(up1)\n",
        "        print(up_conv1)\n",
        "        \n",
        "\n",
        "        #  Concatenate.\n",
        "        up_conc = Concatenate(axis=-1)([up_conv1, long_connection])\n",
        "\n",
        "        #  Convolutions\n",
        "        up_conv2 = Conv(out_channel, 3, padding='same')(up_conc)\n",
        "        if batch_norm:\n",
        "            up_conv2 = BatchNormalization()(up_conv2)\n",
        "        up_act1 = Activation(activation)(up_conv2)\n",
        "\n",
        "        up_conv2 = Conv(out_channel, 3, padding='same')(up_act1)\n",
        "        if batch_norm:\n",
        "            up_conv2 = BatchNormalization()(up_conv2)\n",
        "\n",
        "        # Residual/Skip connection\n",
        "        res = Conv(out_channel, kernel_size=1, padding='same', use_bias=False)(up_conc)\n",
        "\n",
        "        resconnection = Add()([res, up_conv2])\n",
        "\n",
        "        x = Activation(activation)(resconnection)\n",
        "\n",
        "    # Final convolution\n",
        "    output = Conv(n_class, 1, padding='same', activation=final_activation)(x)\n",
        "\n",
        "    model = Model(inputs, outputs=output)\n",
        "\n",
        "    model.compile(optimizer = Adam(lr = 1e-4), loss = 'categorical_crossentropy', metrics = ['accuracy'])\n",
        "\n",
        "    print(model.summary())\n",
        "\n",
        "    return model"
      ],
      "execution_count": 52,
      "outputs": []
    },
    {
      "cell_type": "code",
      "metadata": {
        "id": "4OZvp4L52asA",
        "colab_type": "code",
        "colab": {
          "base_uri": "https://localhost:8080/",
          "height": 527
        },
        "outputId": "b1a3a512-ab8e-4b2f-f66c-47c4bbc122fc"
      },
      "source": [
        "model = res_unet(254, 1, number_of_classes, input_size=(1, number_of_classes))\n",
        "#def res_unet(filter_root, depth, n_class=2, input_size=(256, 256, 1), activation='relu', batch_norm=True, final_activation='softmax'):\n",
        "    # \"\"\"\n",
        "    # Build UNet model with ResBlock.\n",
        "    # Args:\n",
        "    #     filter_root (int): Number of filters to start with in first convolution.\n",
        "    #     depth (int): How deep to go in UNet i.e. how many down and up sampling you want to do in the model. \n",
        "    #                 Filter root and image size should be multiple of 2^depth.\n",
        "    #     n_class (int, optional): How many classes in the output layer. Defaults to 2.\n",
        "    #     input_size (tuple, optional): Input image size. Defaults to (256, 256, 1).\n",
        "    #     activation (str, optional): activation to use in each convolution. Defaults to 'relu'.\n",
        "    #     batch_norm (bool, optional): To use Batch normaliztion or not. Defaults to True.\n",
        "    #     final_activation (str, optional): activation for output layer. Defaults to 'softmax'.\n",
        "    # Returns:\n",
        "    #     obj: keras model object\n",
        "    # \"\"\""
      ],
      "execution_count": 57,
      "outputs": [
        {
          "output_type": "stream",
          "text": [
            "Model: \"model_7\"\n",
            "__________________________________________________________________________________________________\n",
            "Layer (type)                    Output Shape         Param #     Connected to                     \n",
            "==================================================================================================\n",
            "input_10 (InputLayer)           (None, 1, 30)        0                                            \n",
            "__________________________________________________________________________________________________\n",
            "conv1d_96 (Conv1D)              (None, 1, 254)       23114       input_10[0][0]                   \n",
            "__________________________________________________________________________________________________\n",
            "batch_normalization_53 (BatchNo (None, 1, 254)       1016        conv1d_96[0][0]                  \n",
            "__________________________________________________________________________________________________\n",
            "activation_53 (Activation)      (None, 1, 254)       0           batch_normalization_53[0][0]     \n",
            "__________________________________________________________________________________________________\n",
            "conv1d_97 (Conv1D)              (None, 1, 254)       193802      activation_53[0][0]              \n",
            "__________________________________________________________________________________________________\n",
            "conv1d_95 (Conv1D)              (None, 1, 254)       7620        input_10[0][0]                   \n",
            "__________________________________________________________________________________________________\n",
            "batch_normalization_54 (BatchNo (None, 1, 254)       1016        conv1d_97[0][0]                  \n",
            "__________________________________________________________________________________________________\n",
            "add_27 (Add)                    (None, 1, 254)       0           conv1d_95[0][0]                  \n",
            "                                                                 batch_normalization_54[0][0]     \n",
            "__________________________________________________________________________________________________\n",
            "activation_54 (Activation)      (None, 1, 254)       0           add_27[0][0]                     \n",
            "__________________________________________________________________________________________________\n",
            "conv1d_98 (Conv1D)              (None, 1, 30)        7650        activation_54[0][0]              \n",
            "==================================================================================================\n",
            "Total params: 234,218\n",
            "Trainable params: 233,202\n",
            "Non-trainable params: 1,016\n",
            "__________________________________________________________________________________________________\n",
            "None\n"
          ],
          "name": "stdout"
        }
      ]
    },
    {
      "cell_type": "code",
      "metadata": {
        "id": "ia0lLhvOEbkS",
        "colab_type": "code",
        "colab": {}
      },
      "source": [
        "# max_features = len(alphabet) + 1\n",
        "# max_features"
      ],
      "execution_count": 58,
      "outputs": []
    },
    {
      "cell_type": "code",
      "metadata": {
        "id": "GZYbM9i87pAj",
        "colab_type": "code",
        "colab": {}
      },
      "source": [
        "# def unet(input_size = (number_of_classes, 1)):\n",
        "\n",
        "#     inputs = Input(input_size)\n",
        "\n",
        "#     conv1 = Conv1D(64, 2, activation = 'relu')(inputs)\n",
        "#     conv1 = Conv1D(64, 2, activation = 'relu')(conv1)\n",
        "#     pool1 = MaxPooling1D(pool_size=2)(conv1)\n",
        "\n",
        "#     conv2 = Conv1D(128, 2, activation = 'relu', kernel_initializer = 'he_normal')(pool1)\n",
        "#     conv2 = Conv1D(128, 2, activation = 'relu', kernel_initializer = 'he_normal')(conv2)\n",
        "#     drop2 = Dropout(0.5)(conv2)\n",
        "#     pool2 = MaxPooling1D(pool_size=2)(conv2)\n",
        "\n",
        "#     conv3 = Conv1D(256, 2, activation = 'relu', kernel_initializer = 'he_normal')(pool2)\n",
        "#     conv3 = Conv1D(256, 2, activation = 'relu', kernel_initializer = 'he_normal')(conv3)\n",
        "#     drop3 = Dropout(0.5)(conv2)\n",
        "\n",
        "#     up4 = Conv1D(128, 2, activation = 'relu', kernel_initializer = 'he_normal')(UpSampling1D(size = 2)(drop3))\n",
        "#     merge4 = concatenate([drop2,up4], axis = 1)\n",
        "#     conv4 = Conv1D(128, 2, activation = 'relu', kernel_initializer = 'he_normal')(merge4)\n",
        "#     conv4 = Conv1D(128, 2, activation = 'relu', kernel_initializer = 'he_normal')(conv4)\n",
        "\n",
        "#     up5 = Conv1D(64, 2, activation = 'relu', kernel_initializer = 'he_normal')(UpSampling1D(size = 2)(conv4))\n",
        "#     merge5 = concatenate([conv1,up5], axis = 1)\n",
        "#     conv5 = Conv1D(64, 2, activation = 'relu', kernel_initializer = 'he_normal')(merge5)\n",
        "#     conv5 = Conv1D(64, 2, activation = 'relu', kernel_initializer = 'he_normal')(conv5)\n",
        "#     conv5 = Conv1D(2, 2, activation = 'relu', kernel_initializer = 'he_normal')(conv5)\n",
        "#     conv6 = Conv1D(30, 90, activation = 'softmax')(conv5)\n",
        "    \n",
        "#     model = Model(input = inputs, output = conv6)\n",
        "\n",
        "#     model.compile(optimizer = Adam(lr = 1e-4), loss = 'categorical_crossentropy', metrics = ['accuracy'])\n",
        "    \n",
        "#     print(model.summary())\n",
        "\n",
        "#     return model"
      ],
      "execution_count": 59,
      "outputs": []
    },
    {
      "cell_type": "code",
      "metadata": {
        "id": "IKCP7B6p_feW",
        "colab_type": "code",
        "colab": {}
      },
      "source": [
        "# model = unet()"
      ],
      "execution_count": 60,
      "outputs": []
    },
    {
      "cell_type": "code",
      "metadata": {
        "id": "fuVTLNKTEizo",
        "colab_type": "code",
        "colab": {
          "base_uri": "https://localhost:8080/",
          "height": 68
        },
        "outputId": "ca0effd2-b980-4b44-eae9-d0059fe6733b"
      },
      "source": [
        "batch_size = 256 #*4\n",
        "epochs = 50\n",
        "\n",
        "X_train = np.reshape(train_x, (train_x.shape[0], 1, train_x.shape[1]))\n",
        "Y_train = np.reshape(train_y, (train_y.shape[0], 1, train_y.shape[1]))\n",
        "\n",
        "X_val =  np.reshape(val_x, (val_x.shape[0], 1, val_x.shape[1]))\n",
        "Y_val =  np.reshape(val_y, (val_y.shape[0], 1, val_y.shape[1]))\n",
        "\n",
        "history = model.fit(X_train, Y_train,\n",
        "          batch_size=batch_size,\n",
        "          epochs=epochs,\n",
        "          validation_data=(X_val, Y_val))\n",
        "\n",
        "# history = model.fit(train_x, train_y,\n",
        "#           batch_size=batch_size,\n",
        "#           epochs=epochs,\n",
        "#           validation_data=(val_x, val_y))"
      ],
      "execution_count": null,
      "outputs": [
        {
          "output_type": "stream",
          "text": [
            "Train on 1319104 samples, validate on 189877 samples\n",
            "Epoch 1/50\n",
            "  71936/1319104 [>.............................] - ETA: 8:40 - loss: 1.0142 - accuracy: 0.6444"
          ],
          "name": "stdout"
        }
      ]
    },
    {
      "cell_type": "markdown",
      "metadata": {
        "id": "ysy1HMxVPGc1",
        "colab_type": "text"
      },
      "source": [
        "Построим графики для точности и функции стоимости относительно эпох"
      ]
    },
    {
      "cell_type": "code",
      "metadata": {
        "id": "QQVq9iJOEl4H",
        "colab_type": "code",
        "colab": {
          "base_uri": "https://localhost:8080/",
          "height": 499
        },
        "outputId": "29aba4e6-e552-4ae3-f8cf-c9af0d875ea4"
      },
      "source": [
        "acc = history.history['accuracy']\n",
        "val_acc = history.history['val_accuracy']\n",
        "\n",
        "loss=history.history['loss']\n",
        "val_loss=history.history['val_loss']\n",
        "\n",
        "epochs_range = range(epochs)\n",
        "\n",
        "plt.figure(figsize=(8, 8))\n",
        "plt.subplot(1, 2, 1)\n",
        "plt.plot(epochs_range, acc, label='Training Accuracy')\n",
        "plt.plot(epochs_range, val_acc, label='Validation Accuracy')\n",
        "plt.legend(loc='lower right')\n",
        "plt.title('Training and Validation Accuracy')\n",
        "\n",
        "plt.subplot(1, 2, 2)\n",
        "plt.plot(epochs_range, loss, label='Training Loss')\n",
        "plt.plot(epochs_range, val_loss, label='Validation Loss')\n",
        "plt.legend(loc='upper right')\n",
        "plt.title('Training and Validation Loss')\n",
        "plt.show()"
      ],
      "execution_count": 62,
      "outputs": [
        {
          "output_type": "display_data",
          "data": {
            "image/png": "[encoded data removed]",
            "text/plain": [
              "<Figure size 576x576 with 2 Axes>"
            ]
          },
          "metadata": {
            "tags": [],
            "needs_background": "light"
          }
        }
      ]
    },
    {
      "cell_type": "markdown",
      "metadata": {
        "id": "mluZoR4XPM4T",
        "colab_type": "text"
      },
      "source": [
        "Сохраним предобученную сеть"
      ]
    },
    {
      "cell_type": "markdown",
      "metadata": {
        "id": "B6M7ii5aUq3w",
        "colab_type": "text"
      },
      "source": [
        ""
      ]
    },
    {
      "cell_type": "code",
      "metadata": {
        "id": "mtOTGhdTPPbj",
        "colab_type": "code",
        "colab": {
          "base_uri": "https://localhost:8080/",
          "height": 17
        },
        "outputId": "db1cd249-ba60-4338-a3c3-cbc426d44f20"
      },
      "source": [
        "model.save('Accents_LSTM-/resUnet_model.h5')\n",
        "files.download('Accents_LSTM-/resUnet_model.h5')"
      ],
      "execution_count": 63,
      "outputs": [
        {
          "output_type": "display_data",
          "data": {
            "application/javascript": [
              "\n",
              "    async function download(id, filename, size) {\n",
              "      if (!google.colab.kernel.accessAllowed) {\n",
              "        return;\n",
              "      }\n",
              "      const div = document.createElement('div');\n",
              "      const label = document.createElement('label');\n",
              "      label.textContent = `Downloading \"${filename}\": `;\n",
              "      div.appendChild(label);\n",
              "      const progress = document.createElement('progress');\n",
              "      progress.max = size;\n",
              "      div.appendChild(progress);\n",
              "      document.body.appendChild(div);\n",
              "\n",
              "      const buffers = [];\n",
              "      let downloaded = 0;\n",
              "\n",
              "      const channel = await google.colab.kernel.comms.open(id);\n",
              "      // Send a message to notify the kernel that we're ready.\n",
              "      channel.send({})\n",
              "\n",
              "      for await (const message of channel.messages) {\n",
              "        // Send a message to notify the kernel that we're ready.\n",
              "        channel.send({})\n",
              "        if (message.buffers) {\n",
              "          for (const buffer of message.buffers) {\n",
              "            buffers.push(buffer);\n",
              "            downloaded += buffer.byteLength;\n",
              "            progress.value = downloaded;\n",
              "          }\n",
              "        }\n",
              "      }\n",
              "      const blob = new Blob(buffers, {type: 'application/binary'});\n",
              "      const a = document.createElement('a');\n",
              "      a.href = window.URL.createObjectURL(blob);\n",
              "      a.download = filename;\n",
              "      div.appendChild(a);\n",
              "      a.click();\n",
              "      div.remove();\n",
              "    }\n",
              "  "
            ],
            "text/plain": [
              "<IPython.core.display.Javascript object>"
            ]
          },
          "metadata": {
            "tags": []
          }
        },
        {
          "output_type": "display_data",
          "data": {
            "application/javascript": [
              "download(\"download_ce99519d-99eb-48eb-a14e-c54f8287a94a\", \"resUnet_model.h5\", 2851488)"
            ],
            "text/plain": [
              "<IPython.core.display.Javascript object>"
            ]
          },
          "metadata": {
            "tags": []
          }
        }
      ]
    },
    {
      "cell_type": "markdown",
      "metadata": {
        "id": "xtxKf1tWPUD6",
        "colab_type": "text"
      },
      "source": [
        "Сохраним датасет на компьютер"
      ]
    },
    {
      "cell_type": "code",
      "metadata": {
        "id": "v880E_ziPTpr",
        "colab_type": "code",
        "colab": {}
      },
      "source": [
        "files.download('Accents_LSTM-/Data.csv')"
      ],
      "execution_count": null,
      "outputs": []
    },
    {
      "cell_type": "markdown",
      "metadata": {
        "id": "uthB_jpMPY2r",
        "colab_type": "text"
      },
      "source": [
        "# Тесты на обученной модели"
      ]
    },
    {
      "cell_type": "code",
      "metadata": {
        "id": "AL3HlRggPa4K",
        "colab_type": "code",
        "colab": {}
      },
      "source": [
        "model = load_model('Accents_LSTM-/Unet_model.h5')"
      ],
      "execution_count": null,
      "outputs": []
    },
    {
      "cell_type": "code",
      "metadata": {
        "id": "DPDt2ExiPcBT",
        "colab_type": "code",
        "colab": {}
      },
      "source": [
        "model.compile(optimizer='adam',\n",
        "                  loss=tf.keras.losses.CategoricalCrossentropy(from_logits=False, name='categorical_crossentropy'),\n",
        "                  metrics=['accuracy'])"
      ],
      "execution_count": null,
      "outputs": []
    },
    {
      "cell_type": "markdown",
      "metadata": {
        "id": "iMZQuGlYPd86",
        "colab_type": "text"
      },
      "source": [
        "Предскажем позицию ударения для тестовых данных"
      ]
    },
    {
      "cell_type": "code",
      "metadata": {
        "id": "p_ImGG4CPfQi",
        "colab_type": "code",
        "colab": {}
      },
      "source": [
        "X_test = np.reshape(test_x, (test_x.shape[0], test_x.shape[1], 1))\n",
        "Y_test = np.reshape(test_y, (test_y.shape[0], 1, test_y.shape[1]))\n",
        "\n",
        "acc_pred = model.predict(X_test)\n",
        "\n",
        "test_accur = 0\n",
        "for i in range(len(acc_pred)):\n",
        "    if acc_pred[i].argmax() == Y_test[i].argmax():\n",
        "        test_accur = test_accur + 1\n",
        "test_accur = test_accur/len(acc_pred)"
      ],
      "execution_count": null,
      "outputs": []
    },
    {
      "cell_type": "code",
      "metadata": {
        "id": "58jKIJcRPgoC",
        "colab_type": "code",
        "colab": {
          "base_uri": "https://localhost:8080/",
          "height": 34
        },
        "outputId": "1241d1d0-5513-452f-dd16-ee8dbdbef70a"
      },
      "source": [
        "print('Точность на тестовой выборке: ',test_accur)"
      ],
      "execution_count": null,
      "outputs": [
        {
          "output_type": "stream",
          "text": [
            "Точность на тестовой выборке:  0.7304533418134895\n"
          ],
          "name": "stdout"
        }
      ]
    },
    {
      "cell_type": "markdown",
      "metadata": {
        "id": "_ACQyhAaPjia",
        "colab_type": "text"
      },
      "source": [
        "Метод для возвращения ключа по значению"
      ]
    },
    {
      "cell_type": "code",
      "metadata": {
        "id": "77QliQsaPkzi",
        "colab_type": "code",
        "colab": {}
      },
      "source": [
        "def get_key(d, value):\n",
        "    for k, v in d.items():\n",
        "        if v == value:\n",
        "            return k"
      ],
      "execution_count": null,
      "outputs": []
    },
    {
      "cell_type": "markdown",
      "metadata": {
        "id": "WSFAAwCkPmMy",
        "colab_type": "text"
      },
      "source": [
        "Визуализация предсказанных ударений и их сравнение с ответами"
      ]
    },
    {
      "cell_type": "code",
      "metadata": {
        "id": "ZjdS4PFfPnXy",
        "colab_type": "code",
        "colab": {
          "base_uri": "https://localhost:8080/",
          "height": 391
        },
        "outputId": "82b2213c-79b1-44a5-ac38-f5217fb50b81"
      },
      "source": [
        "for i in range(N):\n",
        "    slovo = ''\n",
        "    for j in range(len(X_test[i*100])):\n",
        "        if X_test[i*100][j] != 0:\n",
        "            slovo = slovo + get_key(alphabet, X_test[i*100][j])\n",
        "        else:\n",
        "            break\n",
        "    template = slovo[:Y_test[i*100].argmax() + 1] + '\\'' + slovo[Y_test[i*100].argmax() + 1:]\n",
        "    nn_sample = slovo[:acc_pred[i*100].argmax() + 1] + '\\'' + slovo[acc_pred[i*100].argmax() + 1:]\n",
        "    \n",
        "    if (acc_pred[i*100].argmax() != Y_test[i*100].argmax()):\n",
        "      print('Эталон   : ' , template)\n",
        "      print('Ошибка!  : ' , nn_sample)\n",
        "    else:\n",
        "      print('Результат: ' , nn_sample)\n",
        "    print()"
      ],
      "execution_count": null,
      "outputs": [
        {
          "output_type": "stream",
          "text": [
            "Результат:  дощу'пываем\n",
            "\n",
            "Результат:  аслаха'нове\n",
            "\n",
            "Результат:  вы'ходами\n",
            "\n",
            "Результат:  выхола'живаем\n",
            "\n",
            "Эталон   :  вы'холена\n",
            "Ошибка!  :  выхоле'на\n",
            "\n",
            "Результат:  негла'дкая\n",
            "\n",
            "Результат:  взбега'вшим\n",
            "\n",
            "Результат:  взбеси'вшееся\n",
            "\n",
            "Результат:  сооружа'вшеюся\n",
            "\n",
            "Эталон   :  сооруже'нные\n",
            "Ошибка!  :  соору'женные\n",
            "\n"
          ],
          "name": "stdout"
        }
      ]
    }
  ]
}