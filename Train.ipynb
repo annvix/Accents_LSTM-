{
  "nbformat": 4,
  "nbformat_minor": 0,
  "metadata": {
    "colab": {
      "name": "Train.ipynb",
      "provenance": [],
      "authorship_tag": "ABX9TyNB94NpCipDYg5914F62OjT",
      "include_colab_link": true
    },
    "kernelspec": {
      "name": "python3",
      "display_name": "Python 3"
    }
  },
  "cells": [
    {
      "cell_type": "markdown",
      "metadata": {
        "id": "view-in-github",
        "colab_type": "text"
      },
      "source": [
        "<a href=\"https://colab.research.google.com/github/annvix/Accents_LSTM-/blob/master/Train.ipynb\" target=\"_parent\"><img src=\"https://colab.research.google.com/assets/colab-badge.svg\" alt=\"Open In Colab\"/></a>"
      ]
    },
    {
      "cell_type": "markdown",
      "metadata": {
        "id": "T_VLKOujC_rX",
        "colab_type": "text"
      },
      "source": [
        "# Клонирование проекта с GitHub\n",
        "Подключение библиотек"
      ]
    },
    {
      "cell_type": "code",
      "metadata": {
        "id": "VlS_cuswCwMh",
        "colab_type": "code",
        "colab": {
          "base_uri": "https://localhost:8080/",
          "height": 0
        },
        "outputId": "b2dfa528-9b27-41e9-e279-152223182e75"
      },
      "source": [
        "!git clone https://github.com/annvix/Accents_LSTM-.git"
      ],
      "execution_count": 1,
      "outputs": [
        {
          "output_type": "stream",
          "text": [
            "Cloning into 'Accents_LSTM-'...\n",
            "remote: Enumerating objects: 34, done.\u001b[K\n",
            "remote: Counting objects:   2% (1/34)\u001b[K\rremote: Counting objects:   5% (2/34)\u001b[K\rremote: Counting objects:   8% (3/34)\u001b[K\rremote: Counting objects:  11% (4/34)\u001b[K\rremote: Counting objects:  14% (5/34)\u001b[K\rremote: Counting objects:  17% (6/34)\u001b[K\rremote: Counting objects:  20% (7/34)\u001b[K\rremote: Counting objects:  23% (8/34)\u001b[K\rremote: Counting objects:  26% (9/34)\u001b[K\rremote: Counting objects:  29% (10/34)\u001b[K\rremote: Counting objects:  32% (11/34)\u001b[K\rremote: Counting objects:  35% (12/34)\u001b[K\rremote: Counting objects:  38% (13/34)\u001b[K\rremote: Counting objects:  41% (14/34)\u001b[K\rremote: Counting objects:  44% (15/34)\u001b[K\rremote: Counting objects:  47% (16/34)\u001b[K\rremote: Counting objects:  50% (17/34)\u001b[K\rremote: Counting objects:  52% (18/34)\u001b[K\rremote: Counting objects:  55% (19/34)\u001b[K\rremote: Counting objects:  58% (20/34)\u001b[K\rremote: Counting objects:  61% (21/34)\u001b[K\rremote: Counting objects:  64% (22/34)\u001b[K\rremote: Counting objects:  67% (23/34)\u001b[K\rremote: Counting objects:  70% (24/34)\u001b[K\rremote: Counting objects:  73% (25/34)\u001b[K\rremote: Counting objects:  76% (26/34)\u001b[K\rremote: Counting objects:  79% (27/34)\u001b[K\rremote: Counting objects:  82% (28/34)\u001b[K\rremote: Counting objects:  85% (29/34)\u001b[K\rremote: Counting objects:  88% (30/34)\u001b[K\rremote: Counting objects:  91% (31/34)\u001b[K\rremote: Counting objects:  94% (32/34)\u001b[K\rremote: Counting objects:  97% (33/34)\u001b[K\rremote: Counting objects: 100% (34/34)\u001b[K\rremote: Counting objects: 100% (34/34), done.\u001b[K\n",
            "remote: Compressing objects: 100% (34/34), done.\u001b[K\n",
            "remote: Total 129 (delta 12), reused 0 (delta 0), pack-reused 95\u001b[K\n",
            "Receiving objects: 100% (129/129), 21.50 MiB | 13.18 MiB/s, done.\n",
            "Resolving deltas: 100% (61/61), done.\n"
          ],
          "name": "stdout"
        }
      ]
    },
    {
      "cell_type": "code",
      "metadata": {
        "id": "YJD1wZrtCyKu",
        "colab_type": "code",
        "colab": {
          "base_uri": "https://localhost:8080/",
          "height": 0
        },
        "outputId": "111d7417-075a-46a3-f075-f7632eb032b2"
      },
      "source": [
        "from google.colab import files\n",
        "import matplotlib.pyplot as plt\n",
        "import numpy as np\n",
        "import random\n",
        "import tensorflow as tf\n",
        "\n",
        "from keras.layers import *\n",
        "from keras.models import *\n",
        "from keras.optimizers import *\n",
        "from tensorflow.keras.preprocessing import sequence"
      ],
      "execution_count": 2,
      "outputs": [
        {
          "output_type": "stream",
          "text": [
            "Using TensorFlow backend.\n"
          ],
          "name": "stderr"
        }
      ]
    },
    {
      "cell_type": "markdown",
      "metadata": {
        "id": "Hxy2Tf3HC8SG",
        "colab_type": "text"
      },
      "source": [
        "# Загрузка и предобработка данных"
      ]
    },
    {
      "cell_type": "markdown",
      "metadata": {
        "id": "qPO_cZhNDFkZ",
        "colab_type": "text"
      },
      "source": [
        "Добавляем алфавит для кодирования букв"
      ]
    },
    {
      "cell_type": "code",
      "metadata": {
        "id": "L_s1YhMsDJpn",
        "colab_type": "code",
        "colab": {}
      },
      "source": [
        "alphabet =   {'а' : 1, 'б' : 2, 'в' : 3, 'г' : 4, 'д' : 5, 'е' : 6, 'ё' : 7, 'ж' : 8, 'з' : 9,\n",
        "             'и' : 10, 'й' : 11, 'к' : 12, 'л' : 13, 'м' : 14, 'н' : 15, 'о' : 16, 'п' : 17, 'р' : 18,\n",
        "             'с' : 19, 'т' : 20, 'у' : 21, 'ф' : 22, 'х' : 23, 'ц' : 24, 'ч' : 25, 'ш' : 26, 'щ' : 27,\n",
        "             'ъ' : 28, 'ы' : 29, 'ь' : 30, 'э' : 31, 'ю' : 32, 'я' : 33}\n",
        "\n",
        "N = 10 #Количество слов для вывода"
      ],
      "execution_count": 3,
      "outputs": []
    },
    {
      "cell_type": "code",
      "metadata": {
        "id": "vF3ppBjJC0tA",
        "colab_type": "code",
        "colab": {
          "base_uri": "https://localhost:8080/",
          "height": 90
        },
        "outputId": "0b03c22b-0751-4a9c-df3d-75c6bf302744"
      },
      "source": [
        "with open('Accents_LSTM-/Data.csv', 'r') as f:\n",
        "    all_accents = f.readlines()\n",
        "data_len = len(all_accents)\n",
        "\n",
        "print('Всего слов:', data_len)\n",
        "max_len = len(max(all_accents, key=len)) //2 - 1\n",
        "print('Максимальная длина слова:', max_len)\n",
        "print('Слово:', max(all_accents, key=len))\n",
        "number_of_classes = max_len + 1"
      ],
      "execution_count": 4,
      "outputs": [
        {
          "output_type": "stream",
          "text": [
            "Всего слов: 1678878\n",
            "Максимальная длина слова: 29\n",
            "Слово: административнодисциплинарный,административнодисципл'инарный\n",
            "\n"
          ],
          "name": "stdout"
        }
      ]
    },
    {
      "cell_type": "markdown",
      "metadata": {
        "id": "-4VFuCnRiU_1",
        "colab_type": "text"
      },
      "source": [
        "Группировка слов по первым буквам"
      ]
    },
    {
      "cell_type": "code",
      "metadata": {
        "id": "6B28DPW5iT1v",
        "colab_type": "code",
        "colab": {
          "base_uri": "https://localhost:8080/",
          "height": 35
        },
        "outputId": "ee7465da-a8e9-4a94-9208-50528e9d975b"
      },
      "source": [
        "word_groups = []\n",
        "group  = []\n",
        "group.append(all_accents[0])\n",
        "\n",
        "for i in range(1, data_len):\n",
        "    if group[0][:4] == all_accents[i][:4]:\n",
        "        group.append(all_accents[i])\n",
        "    else:\n",
        "        word_groups.append(group)\n",
        "        group  = []\n",
        "        group.append(all_accents[i])\n",
        "print('Количество групп: ', len(word_groups))\n",
        "random.shuffle(word_groups)"
      ],
      "execution_count": 5,
      "outputs": [
        {
          "output_type": "stream",
          "text": [
            "Количество групп:  42078\n"
          ],
          "name": "stdout"
        }
      ]
    },
    {
      "cell_type": "code",
      "metadata": {
        "id": "IijHxgDqlPY2",
        "colab_type": "code",
        "colab": {
          "base_uri": "https://localhost:8080/",
          "height": 237
        },
        "outputId": "b3f0f05a-1c56-42d0-f2ca-d43b95724d3d"
      },
      "source": [
        "print('Группы слов:')\n",
        "for i in range (N):\n",
        "  print(word_groups[i])"
      ],
      "execution_count": 6,
      "outputs": [
        {
          "output_type": "stream",
          "text": [
            "Группы слов:\n",
            "[\"меций,м'еций\\n\", \"мецилий,мец'илий\\n\", \"мецио,м'ецио\\n\"]\n",
            "[\"аглабиды,аглаб'иды\\n\", \"аглая,агл'ая\\n\"]\n",
            "[\"гуди,гуд'и\\n\", \"гудиашвили,гудиашв'или\\n\", \"гудиев,гуд'иев\\n\", \"гудилин,гуд'илин\\n\", \"гудило,гуд'ило\\n\", \"гудим,гуд'им\\n\", \"гудименко,гуд'именко\\n\", \"гудимов,гуд'имов\\n\", \"гудинг,г'удинг\\n\", \"гудини,гуд'ини\\n\", \"гудит,гуд'ит\\n\", \"гудите,гуд'ите\\n\", \"гудишь,гуд'ишь\\n\"]\n",
            "[\"лика,л'ика\\n\", \"ликавитос,ликавит'ос\\n\", \"ликазит,ликаз'ит\\n\", \"ликам,л'икам\\n\", \"ликами,л'иками\\n\", \"ликани,лик'ани\\n\", \"ликари,ликар'и\\n\", \"ликасит,ликас'ит\\n\", \"ликах,л'иках\\n\"]\n",
            "[\"цвика,цв'ика\\n\", \"цвиккау,цв'иккау\\n\", \"цвикки,цв'икки\\n\"]\n",
            "[\"лель,л'ель\\n\", \"лельчицкий,л'ельчицкий\\n\", \"лельчицы,л'ельчицы\\n\"]\n",
            "[\"чмок,чм'ок\\n\", \"чмокавшая,чм'окавшая\\n\", \"чмокавшего,чм'окавшего\\n\", \"чмокавшее,чм'окавшее\\n\", \"чмокавшей,чм'окавшей\\n\", \"чмокавшем,чм'окавшем\\n\", \"чмокавшему,чм'окавшему\\n\", \"чмокавшею,чм'окавшею\\n\", \"чмокавшие,чм'окавшие\\n\", \"чмокавший,чм'окавший\\n\", \"чмокавшийся,чм'окавшийся\\n\", \"чмокавшим,чм'окавшим\\n\", \"чмокавшими,чм'окавшими\\n\", \"чмокавших,чм'окавших\\n\", \"чмокавшую,чм'окавшую\\n\", \"чмокаем,чм'окаем\\n\", \"чмокаемся,чм'окаемся\\n\", \"чмокаемый,чм'окаемый\\n\", \"чмокает,чм'окает\\n\", \"чмокаете,чм'окаете\\n\", \"чмокаетесь,чм'окаетесь\\n\", \"чмокается,чм'окается\\n\", \"чмокаешь,чм'окаешь\\n\", \"чмокаешься,чм'окаешься\\n\", \"чмокай,чм'окай\\n\", \"чмокайся,чм'окайся\\n\", \"чмокайте,чм'окайте\\n\", \"чмокайтесь,чм'окайтесь\\n\", \"чмокал,чм'окал\\n\", \"чмокала,чм'окала\\n\", \"чмокалась,чм'окалась\\n\", \"чмокали,чм'окали\\n\", \"чмокались,чм'окались\\n\", \"чмокало,чм'окало\\n\", \"чмокалось,чм'окалось\\n\", \"чмокался,чм'окался\\n\", \"чмоканий,чм'оканий\\n\", \"чмоканный,чм'оканный\\n\", \"чмоканье,чм'оканье\\n\", \"чмоканьем,чм'оканьем\\n\", \"чмоканью,чм'оканью\\n\", \"чмоканья,чм'оканья\\n\", \"чмоканьям,чм'оканьям\\n\", \"чмоканьями,чм'оканьями\\n\", \"чмоканьях,чм'оканьях\\n\", \"чмокать,чм'окать\\n\", \"чмокаться,чм'окаться\\n\", \"чмокаю,чм'окаю\\n\", \"чмокаюсь,чм'окаюсь\\n\", \"чмокают,чм'окают\\n\", \"чмокаются,чм'окаются\\n\", \"чмокающая,чм'окающая\\n\", \"чмокающего,чм'окающего\\n\", \"чмокающее,чм'окающее\\n\", \"чмокающей,чм'окающей\\n\", \"чмокающем,чм'окающем\\n\", \"чмокающему,чм'окающему\\n\", \"чмокающею,чм'окающею\\n\", \"чмокающие,чм'окающие\\n\", \"чмокающий,чм'окающий\\n\", \"чмокающийся,чм'окающийся\\n\", \"чмокающим,чм'окающим\\n\", \"чмокающими,чм'окающими\\n\", \"чмокающих,чм'окающих\\n\", \"чмокающую,чм'окающую\\n\", \"чмокаясь,чм'окаясь\\n\", \"чмокнем,чм'окнем\\n\", \"чмокнемся,чм'окнемся\\n\", \"чмокнет,чм'окнет\\n\", \"чмокнете,чм'окнете\\n\", \"чмокнетесь,чм'окнетесь\\n\", \"чмокнется,чм'окнется\\n\", \"чмокнешь,чм'окнешь\\n\", \"чмокнешься,чм'окнешься\\n\", \"чмокни,чм'окни\\n\", \"чмокнись,чм'окнись\\n\", \"чмокните,чм'окните\\n\", \"чмокнитесь,чм'окнитесь\\n\", \"чмокну,чм'окну\\n\", \"чмокнувшая,чм'окнувшая\\n\", \"чмокнувшего,чм'окнувшего\\n\", \"чмокнувшее,чм'окнувшее\\n\", \"чмокнувшей,чм'окнувшей\\n\", \"чмокнувшем,чм'окнувшем\\n\", \"чмокнувшему,чм'окнувшему\\n\", \"чмокнувшею,чм'окнувшею\\n\", \"чмокнувшие,чм'окнувшие\\n\", \"чмокнувший,чм'окнувший\\n\", \"чмокнувшийся,чм'окнувшийся\\n\", \"чмокнувшим,чм'окнувшим\\n\", \"чмокнувшими,чм'окнувшими\\n\", \"чмокнувших,чм'окнувших\\n\", \"чмокнувшую,чм'окнувшую\\n\", \"чмокнул,чм'окнул\\n\", \"чмокнула,чм'окнула\\n\", \"чмокнулась,чм'окнулась\\n\", \"чмокнули,чм'окнули\\n\", \"чмокнулись,чм'окнулись\\n\", \"чмокнуло,чм'окнуло\\n\", \"чмокнулось,чм'окнулось\\n\", \"чмокнулся,чм'окнулся\\n\", \"чмокнусь,чм'окнусь\\n\", \"чмокнут,чм'окнут\\n\", \"чмокнутся,чм'окнутся\\n\", \"чмокнутый,чм'окнутый\\n\", \"чмокнуть,чм'окнуть\\n\", \"чмокнуться,чм'окнуться\\n\"]\n",
            "[\"кате,к'ате\\n\", \"категориальная,категори'альная\\n\", \"категориально,категори'ально\\n\", \"категориального,категори'ального\\n\", \"категориальное,категори'альное\\n\", \"категориальной,категори'альной\\n\", \"категориальном,категори'альном\\n\", \"категориальному,категори'альному\\n\", \"категориальною,категори'альною\\n\", \"категориальную,категори'альную\\n\", \"категориальные,категори'альные\\n\", \"категориальный,категори'альный\\n\", \"категориальным,категори'альным\\n\", \"категориальными,категори'альными\\n\", \"категориальных,категори'альных\\n\", \"категорией,катег'орией\\n\", \"категоризацией,категориз'ацией\\n\", \"категоризации,категориз'ации\\n\", \"категоризаций,категориз'аций\\n\", \"категоризацию,категориз'ацию\\n\", \"категоризация,категориз'ация\\n\", \"категоризациям,категориз'ациям\\n\", \"категоризациями,категориз'ациями\\n\", \"категоризациях,категориз'ациях\\n\", \"категоризировал,категориз'ировал\\n\", \"категоризировала,категориз'ировала\\n\", \"категоризировалась,категориз'ировалась\\n\", \"категоризировали,категориз'ировали\\n\", \"категоризировались,категориз'ировались\\n\", \"категоризировало,категориз'ировало\\n\", \"категоризировалось,категориз'ировалось\\n\", \"категоризировался,категориз'ировался\\n\", \"категоризировать,категориз'ировать\\n\", \"категоризироваться,категориз'ироваться\\n\", \"категоризируем,категориз'ируем\\n\", \"категоризируемся,категориз'ируемся\\n\", \"категоризирует,категориз'ирует\\n\", \"категоризируете,категориз'ируете\\n\", \"категоризируетесь,категориз'ируетесь\\n\", \"категоризируется,категориз'ируется\\n\", \"категоризируешь,категориз'ируешь\\n\", \"категоризируешься,категориз'ируешься\\n\", \"категоризируй,категориз'ируй\\n\", \"категоризируйся,категориз'ируйся\\n\", \"категоризируйте,категориз'ируйте\\n\", \"категоризируйтесь,категориз'ируйтесь\\n\", \"категоризирую,категориз'ирую\\n\", \"категоризируюсь,категориз'ируюсь\\n\", \"категоризируют,категориз'ируют\\n\", \"категоризируются,категориз'ируются\\n\", \"категоризовал,категоризов'ал\\n\", \"категоризовала,категоризов'ала\\n\", \"категоризовалась,категоризов'алась\\n\", \"категоризовали,категоризов'али\\n\", \"категоризовались,категоризов'ались\\n\", \"категоризовало,категоризов'ало\\n\", \"категоризовалось,категоризов'алось\\n\", \"категоризовался,категоризов'ался\\n\", \"категоризовать,категоризов'ать\\n\", \"категоризоваться,категоризов'аться\\n\", \"категории,катег'ории\\n\", \"категорий,катег'орий\\n\", \"категорийности,категор'ийности\\n\", \"категорийность,категор'ийность\\n\", \"категорийностью,категор'ийностью\\n\", \"категоричен,категор'ичен\\n\", \"категорическая,категор'ическая\\n\", \"категорически,категор'ически\\n\", \"категорические,категор'ические\\n\", \"категорический,категор'ический\\n\", \"категорическим,категор'ическим\\n\", \"категорическими,категор'ическими\\n\", \"категорических,категор'ических\\n\", \"категорического,категор'ического\\n\", \"категорическое,категор'ическое\\n\", \"категорической,категор'ической\\n\", \"категорическом,категор'ическом\\n\", \"категорическому,категор'ическому\\n\", \"категорическою,категор'ическою\\n\", \"категорическую,категор'ическую\\n\", \"категорична,категор'ична\\n\", \"категоричная,категор'ичная\\n\", \"категоричнее,категор'ичнее\\n\", \"категоричней,категор'ичней\\n\", \"категоричнейшая,категор'ичнейшая\\n\", \"категоричнейшего,категор'ичнейшего\\n\", \"категоричнейшее,категор'ичнейшее\\n\", \"категоричнейшей,категор'ичнейшей\\n\", \"категоричнейшем,категор'ичнейшем\\n\", \"категоричнейшему,категор'ичнейшему\\n\", \"категоричнейшею,категор'ичнейшею\\n\", \"категоричнейшие,категор'ичнейшие\\n\", \"категоричнейший,категор'ичнейший\\n\", \"категоричнейшим,категор'ичнейшим\\n\", \"категоричнейшими,категор'ичнейшими\\n\", \"категоричнейших,категор'ичнейших\\n\", \"категоричнейшую,категор'ичнейшую\\n\", \"категорично,категор'ично\\n\", \"категоричного,категор'ичного\\n\", \"категоричное,категор'ичное\\n\", \"категоричной,категор'ичной\\n\", \"категоричном,категор'ичном\\n\", \"категоричному,категор'ичному\\n\", \"категоричности,категор'ичности\\n\", \"категоричность,категор'ичность\\n\", \"категоричностью,категор'ичностью\\n\", \"категоричною,категор'ичною\\n\", \"категоричную,категор'ичную\\n\", \"категоричны,категор'ичны\\n\", \"категоричные,категор'ичные\\n\", \"категоричный,категор'ичный\\n\", \"категоричным,категор'ичным\\n\", \"категоричными,категор'ичными\\n\", \"категоричных,категор'ичных\\n\", \"категорию,катег'орию\\n\", \"категория,катег'ория\\n\", \"категориям,катег'ориям\\n\", \"категориями,катег'ориями\\n\", \"категориях,катег'ориях\\n\", \"катенек,к'атенек\\n\", \"катенин,кат'енин\\n\", \"катеноид,катен'оид\\n\", \"катеноида,катен'оида\\n\", \"катеноидам,катен'оидам\\n\", \"катеноидами,катен'оидами\\n\", \"катеноидах,катен'оидах\\n\", \"катеноиде,катен'оиде\\n\", \"катеноидов,катен'оидов\\n\", \"катеноидом,катен'оидом\\n\", \"катеноиду,катен'оиду\\n\", \"катеноиды,катен'оиды\\n\", \"катенька,к'атенька\\n\", \"катенькам,к'атенькам\\n\", \"катеньками,к'атеньками\\n\", \"катеньках,к'атеньках\\n\", \"катеньке,к'атеньке\\n\", \"катеньки,к'атеньки\\n\", \"катенькой,к'атенькой\\n\", \"катенькою,к'атенькою\\n\", \"катеньку,к'атеньку\\n\", \"катепаникии,катепан'икии\\n\", \"катер,к'атер\\n\", \"катера,катер'а\\n\", \"катерам,катер'ам\\n\", \"катерами,катер'ами\\n\", \"катерах,катер'ах\\n\", \"катере,к'атере\\n\", \"катерен,к'атерен\\n\", \"катержина,к'атержина\\n\", \"катерин,катер'ин\\n\", \"катерина,катер'ина\\n\", \"катерине,катер'ине\\n\", \"катерини,катер'ини\\n\", \"катеринич,катер'инич\\n\", \"катеринка,катер'инка\\n\", \"катеринке,катер'инке\\n\", \"катеринки,катер'инки\\n\", \"катеринкой,катер'инкой\\n\", \"катеринкою,катер'инкою\\n\", \"катеринку,катер'инку\\n\", \"катеринович,катер'инович\\n\", \"катериновка,катер'иновка\\n\", \"катериной,катер'иной\\n\", \"катеринополь,катерин'ополь\\n\", \"катеринопольский,катерин'опольский\\n\", \"катериною,катер'иною\\n\", \"катерину,катер'ину\\n\", \"катеринчук,катеринч'ук\\n\", \"катерины,катер'ины\\n\", \"катерист,катер'ист\\n\", \"катерище,катер'ище\\n\", \"катерка,катерк'а\\n\", \"катеркам,катерк'ам\\n\", \"катерками,катерк'ами\\n\", \"катерках,катерк'ах\\n\", \"катерке,катерк'е\\n\", \"катерки,катерк'и\\n\", \"катерков,катерк'ов\\n\", \"катерком,катерк'ом\\n\", \"катерку,катерк'у\\n\", \"катерна,к'атерна\\n\", \"катерная,к'атерная\\n\", \"катернефтесборщик,к'атернефтесборщик\\n\", \"катерник,к'атерник\\n\", \"катерника,к'атерника\\n\", \"катерникам,к'атерникам\\n\", \"катерниками,к'атерниками\\n\", \"катерниках,к'атерниках\\n\", \"катернике,к'атернике\\n\", \"катерники,к'атерники\\n\", \"катерников,к'атерников\\n\", \"катерником,к'атерником\\n\", \"катернику,к'атернику\\n\", \"катерно,к'атерно\\n\", \"катерного,к'атерного\\n\", \"катерное,к'атерное\\n\", \"катерной,к'атерной\\n\", \"катерном,к'атерном\\n\", \"катерному,к'атерному\\n\", \"катерною,к'атерною\\n\", \"катерную,к'атерную\\n\", \"катерны,к'атерны\\n\", \"катерные,к'атерные\\n\", \"катерный,к'атерный\\n\", \"катерным,к'атерным\\n\", \"катерными,к'атерными\\n\", \"катерных,к'атерных\\n\", \"катеров,катер'ов\\n\", \"катерок,катер'ок\\n\", \"катером,к'атером\\n\", \"катеростроение,катеростро'ение\\n\", \"катеростроитель,катеростро'итель\\n\", \"катерочек,катер'очек\\n\", \"катерочка,катер'очка\\n\", \"катерочкам,катер'очкам\\n\", \"катерочками,катер'очками\\n\", \"катерочках,катер'очках\\n\", \"катерочке,катер'очке\\n\", \"катерочки,катер'очки\\n\", \"катерочков,катер'очков\\n\", \"катерочком,катер'очком\\n\", \"катерочку,катер'очку\\n\", \"катертральщик,к'атертральщик\\n\", \"катеру,к'атеру\\n\", \"катет,к'атет\\n\", \"катета,к'атета\\n\", \"катетам,к'атетам\\n\", \"катетами,к'атетами\\n\", \"катетах,к'атетах\\n\", \"катете,к'атете\\n\", \"катетер,кат'етер\\n\", \"катетера,кат'етера\\n\", \"катетерам,кат'етерам\\n\", \"катетерами,кат'етерами\\n\", \"катетерах,кат'етерах\\n\", \"катетере,кат'етере\\n\", \"катетеризацией,катетериз'ацией\\n\", \"катетеризациею,катетериз'ациею\\n\", \"катетеризации,катетериз'ации\\n\", \"катетеризаций,катетериз'аций\\n\", \"катетеризацию,катетериз'ацию\\n\", \"катетеризация,катетериз'ация\\n\", \"катетеризациям,катетериз'ациям\\n\", \"катетеризациями,катетериз'ациями\\n\", \"катетеризациях,катетериз'ациях\\n\", \"катетеризировавшийся,катетериз'ировавшийся\\n\", \"катетеризировал,катетериз'ировал\\n\", \"катетеризировала,катетериз'ировала\\n\", \"катетеризировали,катетериз'ировали\\n\", \"катетеризировало,катетериз'ировало\\n\", \"катетеризированный,катетериз'ированный\\n\", \"катетеризировать,катетериз'ировать\\n\", \"катетеризироваться,катетериз'ироваться\\n\", \"катетеризируем,катетериз'ируем\\n\", \"катетеризируемый,катетериз'ируемый\\n\", \"катетеризирует,катетериз'ирует\\n\", \"катетеризируете,катетериз'ируете\\n\", \"катетеризируешь,катетериз'ируешь\\n\", \"катетеризируй,катетериз'ируй\\n\", \"катетеризируйте,катетериз'ируйте\\n\", \"катетеризирую,катетериз'ирую\\n\", \"катетеризируют,катетериз'ируют\\n\", \"катетеризирующий,катетериз'ирующий\\n\", \"катетеризирующийся,катетериз'ирующийся\\n\", \"катетеризовавшийся,катетеризов'авшийся\\n\", \"катетеризовал,катетеризов'ал\\n\", \"катетеризовала,катетеризов'ала\\n\", \"катетеризовали,катетеризов'али\\n\", \"катетеризовало,катетеризов'ало\\n\", \"катетеризованный,катетериз'ованный\\n\", \"катетеризовать,катетеризов'ать\\n\", \"катетеризуемый,катетериз'уемый\\n\", \"катетеризующий,катетериз'ующий\\n\", \"катетеризующийся,катетериз'ующийся\\n\", \"катетеров,кат'етеров\\n\", \"катетером,кат'етером\\n\", \"катетеру,кат'етеру\\n\", \"катетеры,кат'етеры\\n\", \"катетов,к'атетов\\n\", \"катетом,к'атетом\\n\", \"катетометр,катет'ометр\\n\", \"катету,к'атету\\n\", \"катеты,к'атеты\\n\", \"катехаки,катех'аки\\n\", \"катехизатор,катехиз'атор\\n\", \"катехизаторская,катехиз'аторская\\n\", \"катехизаторские,катехиз'аторские\\n\", \"катехизаторский,катехиз'аторский\\n\", \"катехизаторским,катехиз'аторским\\n\", \"катехизаторскими,катехиз'аторскими\\n\", \"катехизаторских,катехиз'аторских\\n\", \"катехизаторского,катехиз'аторского\\n\", \"катехизаторское,катехиз'аторское\\n\", \"катехизаторской,катехиз'аторской\\n\", \"катехизаторском,катехиз'аторском\\n\", \"катехизаторскому,катехиз'аторскому\\n\", \"катехизаторскою,катехиз'аторскою\\n\", \"катехизаторскую,катехиз'аторскую\\n\", \"катехизацией,катехиз'ацией\\n\", \"катехизации,катехиз'ации\\n\", \"катехизаций,катехиз'аций\\n\", \"катехизацию,катехиз'ацию\\n\", \"катехизация,катехиз'ация\\n\", \"катехизациям,катехиз'ациям\\n\", \"катехизациями,катехиз'ациями\\n\", \"катехизациях,катехиз'ациях\\n\", \"катехизис,катех'изис\\n\", \"катехизиса,катех'изиса\\n\", \"катехизисам,катех'изисам\\n\", \"катехизисах,катех'изисах\\n\", \"катехизисе,катех'изисе\\n\", \"катехизисов,катех'изисов\\n\", \"катехизисом,катех'изисом\\n\", \"катехизису,катех'изису\\n\", \"катехизисы,катех'изисы\\n\", \"катехизическая,катехиз'ическая\\n\", \"катехизические,катехиз'ические\\n\", \"катехизический,катехиз'ический\\n\", \"катехизическим,катехиз'ическим\\n\", \"катехизическими,катехиз'ическими\\n\", \"катехизических,катехиз'ических\\n\", \"катехизического,катехиз'ического\\n\", \"катехизическое,катехиз'ическое\\n\", \"катехизической,катехиз'ической\\n\", \"катехизическом,катехиз'ическом\\n\", \"катехизическому,катехиз'ическому\\n\", \"катехизическою,катехиз'ическою\\n\", \"катехизическую,катехиз'ическую\\n\", \"катехин,катех'ин\\n\", \"катехина,катех'ина\\n\", \"катехинам,катех'инам\\n\", \"катехинами,катех'инами\\n\", \"катехинах,катех'инах\\n\", \"катехине,катех'ине\\n\", \"катехинов,катех'инов\\n\", \"катехином,катех'ином\\n\", \"катехину,катех'ину\\n\", \"катехины,катех'ины\\n\", \"катеху,кат'еху\\n\", \"катехуменат,катехумен'ат\\n\", \"катехуменов,катехум'енов\\n\"]\n",
            "[\"пезаро,п'езаро\\n\"]\n",
            "[\"шоплифтинг,шопл'ифтинг\\n\"]\n"
          ],
          "name": "stdout"
        }
      ]
    },
    {
      "cell_type": "markdown",
      "metadata": {
        "id": "6TaVCPOAEWzV",
        "colab_type": "text"
      },
      "source": [
        "Разделим данные на тренировочные, валидационные и тестовые"
      ]
    },
    {
      "cell_type": "code",
      "metadata": {
        "id": "iGG6QYiAEYcd",
        "colab_type": "code",
        "colab": {}
      },
      "source": [
        "train_frac = 0.8\n",
        "val_frac = 0.1\n",
        "test_frac = 0.1\n",
        "\n",
        "def train_test_val_words(words):\n",
        "    return (words[:int(len(words)*train_frac)], \n",
        "words[int(len(words)*train_frac) : (int(len(words)*train_frac) + int(len(words)*val_frac))], \n",
        "words[(int(len(words)*train_frac) + int(len(words)*val_frac)):])\n",
        "    \n",
        "\n",
        "for_train, for_val, for_test = train_test_val_words(word_groups)"
      ],
      "execution_count": 7,
      "outputs": []
    },
    {
      "cell_type": "code",
      "metadata": {
        "id": "mwYoVsRvtycD",
        "colab_type": "code",
        "colab": {}
      },
      "source": [
        "def words_to_num(my_words):\n",
        "  words, accents = [], []\n",
        "  for i in range (len(my_words)):\n",
        "      str = my_words[i].replace('\\n', '').split(',')\n",
        "      words.append(str[0])\n",
        "      accents.append(str[1])\n",
        "\n",
        "  words_int = np.zeros((len(my_words), number_of_classes), dtype=int)\n",
        "  accents_int = np.zeros((len(my_words),number_of_classes), dtype=int)\n",
        "  \n",
        "  for i in range(len(words)):\n",
        "    for j in range(len(words[i])):\n",
        "        words_int[i][j]= alphabet[words[i][j]]\n",
        "        \n",
        "    acc = accents[i].find(\"'\")\n",
        "    if (acc != -1):\n",
        "        accents_int[i][acc] = 1\n",
        "        if accents[i][acc + 1:].find(\"'\") != -1:\n",
        "          print('В слове два ударения:', accents[i])\n",
        "    else:\n",
        "        accents_int[i][number_of_classes - 1] = 1\n",
        "        print('Нет ударения: ', words[i])\n",
        "  return words_int, accents_int"
      ],
      "execution_count": 8,
      "outputs": []
    },
    {
      "cell_type": "code",
      "metadata": {
        "id": "hN5CsYmlzq7b",
        "colab_type": "code",
        "colab": {
          "base_uri": "https://localhost:8080/",
          "height": 254
        },
        "outputId": "eff4b112-a9ce-47fc-9acb-5ae9d17ae924"
      },
      "source": [
        "train_x, train_y= [], []\n",
        "for i in range(len(for_train)):\n",
        "  w, a = words_to_num(for_train[i])\n",
        "  for j in range(len(for_train[i])):\n",
        "    train_x.append(w[j])\n",
        "    train_y.append(a[j])\n",
        "  \n",
        "val_x, val_y= [], []\n",
        "for i in range(len(for_val)):\n",
        "  w, a = words_to_num(for_val[i])\n",
        "  for j in range(len(for_val[i])):\n",
        "    val_x.append(w[j])\n",
        "    val_y.append(a[j])\n",
        "\n",
        "test_x, test_y= [], []\n",
        "for i in range(len(for_test)):\n",
        "  w, a = words_to_num(for_test[i])\n",
        "  for j in range(len(for_test[i])):\n",
        "    test_x.append(w[j])\n",
        "    test_y.append(a[j])\n"
      ],
      "execution_count": 9,
      "outputs": [
        {
          "output_type": "stream",
          "text": [
            "Нет ударения:  брр\n",
            "Нет ударения:  с\n",
            "Нет ударения:  тсс\n",
            "Нет ударения:  мм\n",
            "Нет ударения:  ль\n",
            "Нет ударения:  ж\n",
            "Нет ударения:  кш\n",
            "Нет ударения:  в\n",
            "Нет ударения:  хм\n",
            "Нет ударения:  гм\n",
            "В слове два ударения: обагр'я'ясь\n",
            "Нет ударения:  к\n",
            "Нет ударения:  б\n"
          ],
          "name": "stdout"
        }
      ]
    },
    {
      "cell_type": "code",
      "metadata": {
        "id": "ht7ESXP73sAL",
        "colab_type": "code",
        "colab": {}
      },
      "source": [
        "test_x = np.array(test_x) \n",
        "train_x = np.array(train_x) \n",
        "val_x = np.array(val_x) \n",
        "\n",
        "test_y = np.array(test_y) \n",
        "train_y = np.array(train_y) \n",
        "val_y = np.array(val_y) "
      ],
      "execution_count": 10,
      "outputs": []
    },
    {
      "cell_type": "code",
      "metadata": {
        "id": "BUmG7qeVDnnj",
        "colab_type": "code",
        "colab": {
          "base_uri": "https://localhost:8080/",
          "height": 90
        },
        "outputId": "0284b69e-39eb-4edf-f1c3-e6a7e957d300"
      },
      "source": [
        "print(\"\\t\\t\\t Размеры:\")\n",
        "print(\"Train set: \\t\\t{}\".format(test_x.shape), \n",
        "      \"\\nValidation set: \\t{}\".format(train_x.shape),\n",
        "      \"\\nTest set: \\t\\t{}\".format(val_x.shape))"
      ],
      "execution_count": 11,
      "outputs": [
        {
          "output_type": "stream",
          "text": [
            "\t\t\t Размеры:\n",
            "Train set: \t\t(178253, 30) \n",
            "Validation set: \t(1333834, 30) \n",
            "Test set: \t\t(166790, 30)\n"
          ],
          "name": "stdout"
        }
      ]
    },
    {
      "cell_type": "markdown",
      "metadata": {
        "id": "QujGu0enEdmW",
        "colab_type": "text"
      },
      "source": [
        "# Моделирование нейронной сети"
      ]
    },
    {
      "cell_type": "markdown",
      "metadata": {
        "id": "5h41aFc53JWg",
        "colab_type": "text"
      },
      "source": [
        "# LSTM"
      ]
    },
    {
      "cell_type": "code",
      "metadata": {
        "id": "ia0lLhvOEbkS",
        "colab_type": "code",
        "colab": {}
      },
      "source": [
        "# max_features = len(alphabet) + 1\n",
        "# max_features"
      ],
      "execution_count": 15,
      "outputs": []
    },
    {
      "cell_type": "code",
      "metadata": {
        "id": "EfOKOkYhl7vb",
        "colab_type": "code",
        "colab": {}
      },
      "source": [
        "# # LSTM model\n",
        "# model = Sequential()\n",
        "# model.add(Embedding(input_dim = max_features, output_dim = number_of_classes, input_length=number_of_classes))\n",
        "# model.add(LSTM(128, dropout=0.2, recurrent_dropout=0.2))\n",
        "# model.add(Dense(256, activation='relu')) #256\n",
        "# model.add(Dense(256, activation='relu'))\n",
        "# model.add(Dense(number_of_classes, activation='softmax'))\n",
        "\n",
        "# model.compile(loss='categorical_crossentropy')"
      ],
      "execution_count": null,
      "outputs": []
    },
    {
      "cell_type": "code",
      "metadata": {
        "id": "dfmwLBY93Xrw",
        "colab_type": "code",
        "colab": {}
      },
      "source": [
        "# #LSTM\n",
        "# history = model.fit(train_x, train_y,\n",
        "#           batch_size=batch_size,\n",
        "#           epochs=epochs,\n",
        "#           validation_data=(val_x, val_y))"
      ],
      "execution_count": null,
      "outputs": []
    },
    {
      "cell_type": "markdown",
      "metadata": {
        "id": "4vFblr0u3aAy",
        "colab_type": "text"
      },
      "source": [
        "# U-net"
      ]
    },
    {
      "cell_type": "code",
      "metadata": {
        "id": "GZYbM9i87pAj",
        "colab_type": "code",
        "colab": {}
      },
      "source": [
        "# def unet(input_size = (number_of_classes, 1)):\n",
        "\n",
        "#     inputs = Input(input_size)\n",
        "\n",
        "#     conv1 = Conv1D(64, 2, activation = 'relu')(inputs)\n",
        "#     conv1 = Conv1D(64, 2, activation = 'relu')(conv1)\n",
        "#     pool1 = MaxPooling1D(pool_size=2)(conv1)\n",
        "\n",
        "#     conv2 = Conv1D(128, 2, activation = 'relu', kernel_initializer = 'he_normal')(pool1)\n",
        "#     conv2 = Conv1D(128, 2, activation = 'relu', kernel_initializer = 'he_normal')(conv2)\n",
        "#     drop2 = Dropout(0.5)(conv2)\n",
        "#     pool2 = MaxPooling1D(pool_size=2)(conv2)\n",
        "\n",
        "#     conv3 = Conv1D(256, 2, activation = 'relu', kernel_initializer = 'he_normal')(pool2)\n",
        "#     conv3 = Conv1D(256, 2, activation = 'relu', kernel_initializer = 'he_normal')(conv3)\n",
        "#     drop3 = Dropout(0.5)(conv2)\n",
        "\n",
        "#     up4 = Conv1D(128, 2, activation = 'relu', kernel_initializer = 'he_normal')(UpSampling1D(size = 2)(drop3))\n",
        "#     merge4 = concatenate([drop2,up4], axis = 1)\n",
        "#     conv4 = Conv1D(128, 2, activation = 'relu', kernel_initializer = 'he_normal')(merge4)\n",
        "#     conv4 = Conv1D(128, 2, activation = 'relu', kernel_initializer = 'he_normal')(conv4)\n",
        "\n",
        "#     up5 = Conv1D(64, 2, activation = 'relu', kernel_initializer = 'he_normal')(UpSampling1D(size = 2)(conv4))\n",
        "#     merge5 = concatenate([conv1,up5], axis = 1)\n",
        "#     conv5 = Conv1D(64, 2, activation = 'relu', kernel_initializer = 'he_normal')(merge5)\n",
        "#     conv5 = Conv1D(64, 2, activation = 'relu', kernel_initializer = 'he_normal')(conv5)\n",
        "#     conv5 = Conv1D(2, 2, activation = 'relu', kernel_initializer = 'he_normal')(conv5)\n",
        "#     conv6 = Conv1D(30, 90, activation = 'softmax')(conv5)\n",
        "    \n",
        "#     model = Model(input = inputs, output = conv6)\n",
        "\n",
        "#     model.compile(optimizer = Adam(lr = 1e-4), loss = 'categorical_crossentropy', metrics = ['accuracy'])\n",
        "    \n",
        "#     print(model.summary())\n",
        "\n",
        "#     return model"
      ],
      "execution_count": 16,
      "outputs": []
    },
    {
      "cell_type": "code",
      "metadata": {
        "id": "IKCP7B6p_feW",
        "colab_type": "code",
        "colab": {}
      },
      "source": [
        "# model = unet()"
      ],
      "execution_count": 17,
      "outputs": []
    },
    {
      "cell_type": "code",
      "metadata": {
        "id": "nCQSG_hx3f1O",
        "colab_type": "code",
        "colab": {}
      },
      "source": [
        "# batch_size = 256\n",
        "# epochs = 10\n",
        "\n",
        "# X_train = np.reshape(train_x, (train_x.shape[0], 1, train_x.shape[1]))\n",
        "# Y_train = np.reshape(train_y, (train_y.shape[0], 1, train_y.shape[1]))\n",
        "\n",
        "# X_val =  np.reshape(val_x, (val_x.shape[0], 1, val_x.shape[1]))\n",
        "# Y_val =  np.reshape(val_y, (val_y.shape[0], 1, val_y.shape[1]))\n",
        "\n",
        "# history = model.fit(X_train, Y_train,\n",
        "#           batch_size=batch_size,\n",
        "#           epochs=epochs,\n",
        "#           validation_data=(X_val, Y_val))"
      ],
      "execution_count": null,
      "outputs": []
    },
    {
      "cell_type": "markdown",
      "metadata": {
        "id": "ZKytmXmK3iN1",
        "colab_type": "text"
      },
      "source": [
        "# resU-net"
      ]
    },
    {
      "cell_type": "code",
      "metadata": {
        "id": "Cs-iuzkp1yIm",
        "colab_type": "code",
        "colab": {}
      },
      "source": [
        "def res_unet(filter_root, depth, n_class=number_of_classes, input_size=(1, number_of_classes), activation='relu', batch_norm=True, final_activation='softmax'):\n",
        "    \"\"\"\n",
        "    Build UNet model with ResBlock.\n",
        "    Args:\n",
        "        filter_root (int): Number of filters to start with in first convolution.\n",
        "        depth (int): How deep to go in UNet i.e. how many down and up sampling you want to do in the model. \n",
        "                    Filter root and image size should be multiple of 2^depth.\n",
        "        n_class (int, optional): How many classes in the output layer. Defaults to 2.\n",
        "        input_size (tuple, optional): Input image size. Defaults to (256, 256, 1).\n",
        "        activation (str, optional): activation to use in each convolution. Defaults to 'relu'.\n",
        "        batch_norm (bool, optional): To use Batch normaliztion or not. Defaults to True.\n",
        "        final_activation (str, optional): activation for output layer. Defaults to 'softmax'.\n",
        "    Returns:\n",
        "        obj: keras model object\n",
        "    \"\"\"\n",
        "    inputs = Input(input_size)\n",
        "    x = inputs\n",
        "\n",
        "    # Dictionary for long connections\n",
        "    long_connection_store = {}\n",
        "\n",
        "    if len(input_size) == 3:\n",
        "        Conv = Conv2D\n",
        "        MaxPooling = MaxPooling2D\n",
        "        UpSampling = UpSampling2D\n",
        "    elif len(input_size) == 4:\n",
        "        Conv = Conv3D\n",
        "        MaxPooling = MaxPooling3D\n",
        "        UpSampling = UpSampling3D\n",
        "    elif len(input_size) == 2:\n",
        "        Conv = Conv1D\n",
        "        MaxPooling = MaxPooling1D\n",
        "        UpSampling = UpSampling1D\n",
        "\n",
        "    # Down sampling\n",
        "    for i in range(depth):\n",
        "        out_channel = 2**i * filter_root\n",
        " \n",
        "        # Residual/Skip connection\n",
        "        res = Conv(out_channel, kernel_size=1, padding='same', use_bias=False)(x)\n",
        "\n",
        "        # First Conv Block with Conv, BN and activation\n",
        "        conv1 = Conv(out_channel, kernel_size=3, padding='same')(x)\n",
        "        if batch_norm:\n",
        "            conv1 = BatchNormalization()(conv1)\n",
        "        act1 = Activation(activation)(conv1)\n",
        "\n",
        "        # Second Conv block with Conv and BN only\n",
        "        conv2 = Conv(out_channel, kernel_size=3, padding='same')(act1)\n",
        "        conv2 = Dropout(0.3)(conv2)\n",
        "        if batch_norm:\n",
        "            conv2 = BatchNormalization()(conv2)\n",
        "\n",
        "        resconnection = Add()([res, conv2])\n",
        "\n",
        "        act2 = Activation(activation)(resconnection)\n",
        "\n",
        "        # Max pooling\n",
        "        if i < depth - 1:\n",
        "            long_connection_store[str(i)] = act2\n",
        "            x = MaxPooling(padding='same')(act2)\n",
        "        else:\n",
        "            x = act2\n",
        "\n",
        "    # Upsampling\n",
        "    for i in range(depth - 2, -1, -1):\n",
        "        out_channel = 2**(i) * filter_root\n",
        "\n",
        "        # long connection from down sampling path.\n",
        "        long_connection = long_connection_store[str(i)]\n",
        "\n",
        "        up1 = UpSampling()(x)\n",
        "        up_conv1 = Conv(out_channel, 2 , activation='relu')(up1)\n",
        "      \n",
        "        #  Concatenate.\n",
        "        up_conc = Concatenate(axis=-1)([up_conv1, long_connection])\n",
        "\n",
        "        #  Convolutions\n",
        "        up_conv2 = Conv(out_channel, 3, padding='same')(up_conc)\n",
        "        if batch_norm:\n",
        "            up_conv2 = BatchNormalization()(up_conv2)\n",
        "        up_act1 = Activation(activation)(up_conv2)\n",
        "\n",
        "        up_conv2 = Conv(out_channel, 3, padding='same')(up_act1)\n",
        "        if batch_norm:\n",
        "            up_conv2 = BatchNormalization()(up_conv2)\n",
        "\n",
        "        # Residual/Skip connection\n",
        "        res = Conv(out_channel, kernel_size=1, padding='same', use_bias=False)(up_conc)\n",
        "\n",
        "        resconnection = Add()([res, up_conv2])\n",
        "\n",
        "        x = Activation(activation)(resconnection)\n",
        "\n",
        "    # Final convolution\n",
        "    output = Conv(n_class, 1, padding='same', activation=final_activation)(x)\n",
        "\n",
        "    model = Model(inputs, outputs=output)\n",
        "\n",
        "    model.compile(optimizer = Adam(lr = 1e-4), loss = 'categorical_crossentropy', metrics = ['accuracy'])\n",
        "\n",
        "    print(model.summary())\n",
        "\n",
        "    return model"
      ],
      "execution_count": 12,
      "outputs": []
    },
    {
      "cell_type": "code",
      "metadata": {
        "id": "4OZvp4L52asA",
        "colab_type": "code",
        "colab": {
          "base_uri": "https://localhost:8080/",
          "height": 1000
        },
        "outputId": "77164ad8-b016-401d-f167-c8aef95c315d"
      },
      "source": [
        "model = res_unet(32, 3, number_of_classes, input_size=(1, number_of_classes))\n",
        "# def res_unet(filter_root, depth, n_class=number_of_classes, input_size=(1, number_of_classes), activation='relu', batch_norm=True, final_activation='softmax'):\n",
        "    # \"\"\"\n",
        "    # Build UNet model with ResBlock.\n",
        "    # Args:\n",
        "    #     filter_root (int): Number of filters to start with in first convolution.\n",
        "    #     depth (int): How deep to go in UNet i.e. how many down and up sampling you want to do in the model. \n",
        "    #                 Filter root and image size should be multiple of 2^depth.\n",
        "    #     n_class (int, optional): How many classes in the output layer. Defaults to 2.\n",
        "    #     input_size (tuple, optional): Input image size. Defaults to (256, 256, 1).\n",
        "    #     activation (str, optional): activation to use in each convolution. Defaults to 'relu'.\n",
        "    #     batch_norm (bool, optional): To use Batch normaliztion or not. Defaults to True.\n",
        "    #     final_activation (str, optional): activation for output layer. Defaults to 'softmax'.\n",
        "    # Returns:\n",
        "    #     obj: keras model object\n",
        "    # \"\"\""
      ],
      "execution_count": 13,
      "outputs": [
        {
          "output_type": "stream",
          "text": [
            "Model: \"model_1\"\n",
            "__________________________________________________________________________________________________\n",
            "Layer (type)                    Output Shape         Param #     Connected to                     \n",
            "==================================================================================================\n",
            "input_1 (InputLayer)            (None, 1, 30)        0                                            \n",
            "__________________________________________________________________________________________________\n",
            "conv1d_2 (Conv1D)               (None, 1, 32)        2912        input_1[0][0]                    \n",
            "__________________________________________________________________________________________________\n",
            "batch_normalization_1 (BatchNor (None, 1, 32)        128         conv1d_2[0][0]                   \n",
            "__________________________________________________________________________________________________\n",
            "activation_1 (Activation)       (None, 1, 32)        0           batch_normalization_1[0][0]      \n",
            "__________________________________________________________________________________________________\n",
            "conv1d_3 (Conv1D)               (None, 1, 32)        3104        activation_1[0][0]               \n",
            "__________________________________________________________________________________________________\n",
            "dropout_1 (Dropout)             (None, 1, 32)        0           conv1d_3[0][0]                   \n",
            "__________________________________________________________________________________________________\n",
            "conv1d_1 (Conv1D)               (None, 1, 32)        960         input_1[0][0]                    \n",
            "__________________________________________________________________________________________________\n",
            "batch_normalization_2 (BatchNor (None, 1, 32)        128         dropout_1[0][0]                  \n",
            "__________________________________________________________________________________________________\n",
            "add_1 (Add)                     (None, 1, 32)        0           conv1d_1[0][0]                   \n",
            "                                                                 batch_normalization_2[0][0]      \n",
            "__________________________________________________________________________________________________\n",
            "activation_2 (Activation)       (None, 1, 32)        0           add_1[0][0]                      \n",
            "__________________________________________________________________________________________________\n",
            "max_pooling1d_1 (MaxPooling1D)  (None, 1, 32)        0           activation_2[0][0]               \n",
            "__________________________________________________________________________________________________\n",
            "conv1d_5 (Conv1D)               (None, 1, 64)        6208        max_pooling1d_1[0][0]            \n",
            "__________________________________________________________________________________________________\n",
            "batch_normalization_3 (BatchNor (None, 1, 64)        256         conv1d_5[0][0]                   \n",
            "__________________________________________________________________________________________________\n",
            "activation_3 (Activation)       (None, 1, 64)        0           batch_normalization_3[0][0]      \n",
            "__________________________________________________________________________________________________\n",
            "conv1d_6 (Conv1D)               (None, 1, 64)        12352       activation_3[0][0]               \n",
            "__________________________________________________________________________________________________\n",
            "dropout_2 (Dropout)             (None, 1, 64)        0           conv1d_6[0][0]                   \n",
            "__________________________________________________________________________________________________\n",
            "conv1d_4 (Conv1D)               (None, 1, 64)        2048        max_pooling1d_1[0][0]            \n",
            "__________________________________________________________________________________________________\n",
            "batch_normalization_4 (BatchNor (None, 1, 64)        256         dropout_2[0][0]                  \n",
            "__________________________________________________________________________________________________\n",
            "add_2 (Add)                     (None, 1, 64)        0           conv1d_4[0][0]                   \n",
            "                                                                 batch_normalization_4[0][0]      \n",
            "__________________________________________________________________________________________________\n",
            "activation_4 (Activation)       (None, 1, 64)        0           add_2[0][0]                      \n",
            "__________________________________________________________________________________________________\n",
            "max_pooling1d_2 (MaxPooling1D)  (None, 1, 64)        0           activation_4[0][0]               \n",
            "__________________________________________________________________________________________________\n",
            "conv1d_8 (Conv1D)               (None, 1, 128)       24704       max_pooling1d_2[0][0]            \n",
            "__________________________________________________________________________________________________\n",
            "batch_normalization_5 (BatchNor (None, 1, 128)       512         conv1d_8[0][0]                   \n",
            "__________________________________________________________________________________________________\n",
            "activation_5 (Activation)       (None, 1, 128)       0           batch_normalization_5[0][0]      \n",
            "__________________________________________________________________________________________________\n",
            "conv1d_9 (Conv1D)               (None, 1, 128)       49280       activation_5[0][0]               \n",
            "__________________________________________________________________________________________________\n",
            "dropout_3 (Dropout)             (None, 1, 128)       0           conv1d_9[0][0]                   \n",
            "__________________________________________________________________________________________________\n",
            "conv1d_7 (Conv1D)               (None, 1, 128)       8192        max_pooling1d_2[0][0]            \n",
            "__________________________________________________________________________________________________\n",
            "batch_normalization_6 (BatchNor (None, 1, 128)       512         dropout_3[0][0]                  \n",
            "__________________________________________________________________________________________________\n",
            "add_3 (Add)                     (None, 1, 128)       0           conv1d_7[0][0]                   \n",
            "                                                                 batch_normalization_6[0][0]      \n",
            "__________________________________________________________________________________________________\n",
            "activation_6 (Activation)       (None, 1, 128)       0           add_3[0][0]                      \n",
            "__________________________________________________________________________________________________\n",
            "up_sampling1d_1 (UpSampling1D)  (None, 2, 128)       0           activation_6[0][0]               \n",
            "__________________________________________________________________________________________________\n",
            "conv1d_10 (Conv1D)              (None, 1, 64)        16448       up_sampling1d_1[0][0]            \n",
            "__________________________________________________________________________________________________\n",
            "concatenate_1 (Concatenate)     (None, 1, 128)       0           conv1d_10[0][0]                  \n",
            "                                                                 activation_4[0][0]               \n",
            "__________________________________________________________________________________________________\n",
            "conv1d_11 (Conv1D)              (None, 1, 64)        24640       concatenate_1[0][0]              \n",
            "__________________________________________________________________________________________________\n",
            "batch_normalization_7 (BatchNor (None, 1, 64)        256         conv1d_11[0][0]                  \n",
            "__________________________________________________________________________________________________\n",
            "activation_7 (Activation)       (None, 1, 64)        0           batch_normalization_7[0][0]      \n",
            "__________________________________________________________________________________________________\n",
            "conv1d_12 (Conv1D)              (None, 1, 64)        12352       activation_7[0][0]               \n",
            "__________________________________________________________________________________________________\n",
            "conv1d_13 (Conv1D)              (None, 1, 64)        8192        concatenate_1[0][0]              \n",
            "__________________________________________________________________________________________________\n",
            "batch_normalization_8 (BatchNor (None, 1, 64)        256         conv1d_12[0][0]                  \n",
            "__________________________________________________________________________________________________\n",
            "add_4 (Add)                     (None, 1, 64)        0           conv1d_13[0][0]                  \n",
            "                                                                 batch_normalization_8[0][0]      \n",
            "__________________________________________________________________________________________________\n",
            "activation_8 (Activation)       (None, 1, 64)        0           add_4[0][0]                      \n",
            "__________________________________________________________________________________________________\n",
            "up_sampling1d_2 (UpSampling1D)  (None, 2, 64)        0           activation_8[0][0]               \n",
            "__________________________________________________________________________________________________\n",
            "conv1d_14 (Conv1D)              (None, 1, 32)        4128        up_sampling1d_2[0][0]            \n",
            "__________________________________________________________________________________________________\n",
            "concatenate_2 (Concatenate)     (None, 1, 64)        0           conv1d_14[0][0]                  \n",
            "                                                                 activation_2[0][0]               \n",
            "__________________________________________________________________________________________________\n",
            "conv1d_15 (Conv1D)              (None, 1, 32)        6176        concatenate_2[0][0]              \n",
            "__________________________________________________________________________________________________\n",
            "batch_normalization_9 (BatchNor (None, 1, 32)        128         conv1d_15[0][0]                  \n",
            "__________________________________________________________________________________________________\n",
            "activation_9 (Activation)       (None, 1, 32)        0           batch_normalization_9[0][0]      \n",
            "__________________________________________________________________________________________________\n",
            "conv1d_16 (Conv1D)              (None, 1, 32)        3104        activation_9[0][0]               \n",
            "__________________________________________________________________________________________________\n",
            "conv1d_17 (Conv1D)              (None, 1, 32)        2048        concatenate_2[0][0]              \n",
            "__________________________________________________________________________________________________\n",
            "batch_normalization_10 (BatchNo (None, 1, 32)        128         conv1d_16[0][0]                  \n",
            "__________________________________________________________________________________________________\n",
            "add_5 (Add)                     (None, 1, 32)        0           conv1d_17[0][0]                  \n",
            "                                                                 batch_normalization_10[0][0]     \n",
            "__________________________________________________________________________________________________\n",
            "activation_10 (Activation)      (None, 1, 32)        0           add_5[0][0]                      \n",
            "__________________________________________________________________________________________________\n",
            "conv1d_18 (Conv1D)              (None, 1, 30)        990         activation_10[0][0]              \n",
            "==================================================================================================\n",
            "Total params: 190,398\n",
            "Trainable params: 189,118\n",
            "Non-trainable params: 1,280\n",
            "__________________________________________________________________________________________________\n",
            "None\n"
          ],
          "name": "stdout"
        }
      ]
    },
    {
      "cell_type": "code",
      "metadata": {
        "id": "fuVTLNKTEizo",
        "colab_type": "code",
        "colab": {
          "base_uri": "https://localhost:8080/",
          "height": 1000
        },
        "outputId": "58e3c18e-dd14-4558-af32-8ead54fc1d50"
      },
      "source": [
        "batch_size = 128#256#*4\n",
        "epochs = 40\n",
        "\n",
        "X_train = np.reshape(train_x, (train_x.shape[0], 1, train_x.shape[1]))\n",
        "Y_train = np.reshape(train_y, (train_y.shape[0], 1, train_y.shape[1]))\n",
        "\n",
        "X_val =  np.reshape(val_x, (val_x.shape[0], 1, val_x.shape[1]))\n",
        "Y_val =  np.reshape(val_y, (val_y.shape[0], 1, val_y.shape[1]))\n",
        "\n",
        "history = model.fit(X_train, Y_train,\n",
        "          batch_size=batch_size,\n",
        "          epochs=epochs,\n",
        "          validation_data=(X_val, Y_val))"
      ],
      "execution_count": 67,
      "outputs": [
        {
          "output_type": "stream",
          "text": [
            "Train on 1333834 samples, validate on 166790 samples\n",
            "Epoch 1/40\n",
            "1333834/1333834 [==============================] - 194s 145us/step - loss: 0.7922 - accuracy: 0.7134 - val_loss: 0.9355 - val_accuracy: 0.6775\n",
            "Epoch 2/40\n",
            "1333834/1333834 [==============================] - 194s 145us/step - loss: 0.7873 - accuracy: 0.7155 - val_loss: 0.9198 - val_accuracy: 0.6774\n",
            "Epoch 3/40\n",
            "1333834/1333834 [==============================] - 196s 147us/step - loss: 0.7827 - accuracy: 0.7172 - val_loss: 0.9170 - val_accuracy: 0.6814\n",
            "Epoch 4/40\n",
            "1333834/1333834 [==============================] - 193s 144us/step - loss: 0.7798 - accuracy: 0.7180 - val_loss: 0.9255 - val_accuracy: 0.6843\n",
            "Epoch 5/40\n",
            "1333834/1333834 [==============================] - 194s 145us/step - loss: 0.7754 - accuracy: 0.7193 - val_loss: 0.9239 - val_accuracy: 0.6811\n",
            "Epoch 6/40\n",
            "1333834/1333834 [==============================] - 195s 146us/step - loss: 0.7734 - accuracy: 0.7203 - val_loss: 0.9033 - val_accuracy: 0.6861\n",
            "Epoch 7/40\n",
            "1333834/1333834 [==============================] - 193s 145us/step - loss: 0.7707 - accuracy: 0.7211 - val_loss: 0.9092 - val_accuracy: 0.6830\n",
            "Epoch 8/40\n",
            "1333834/1333834 [==============================] - 192s 144us/step - loss: 0.7678 - accuracy: 0.7220 - val_loss: 0.9151 - val_accuracy: 0.6857\n",
            "Epoch 9/40\n",
            "1333834/1333834 [==============================] - 196s 147us/step - loss: 0.7643 - accuracy: 0.7236 - val_loss: 0.9054 - val_accuracy: 0.6881\n",
            "Epoch 10/40\n",
            "1333834/1333834 [==============================] - 193s 145us/step - loss: 0.7614 - accuracy: 0.7239 - val_loss: 0.8994 - val_accuracy: 0.6903\n",
            "Epoch 11/40\n",
            "1333834/1333834 [==============================] - 193s 145us/step - loss: 0.7591 - accuracy: 0.7250 - val_loss: 0.8979 - val_accuracy: 0.6861\n",
            "Epoch 12/40\n",
            "1333834/1333834 [==============================] - 195s 146us/step - loss: 0.7559 - accuracy: 0.7260 - val_loss: 0.9046 - val_accuracy: 0.6873\n",
            "Epoch 13/40\n",
            "1333834/1333834 [==============================] - 193s 145us/step - loss: 0.7526 - accuracy: 0.7273 - val_loss: 0.8986 - val_accuracy: 0.6906\n",
            "Epoch 14/40\n",
            "1333834/1333834 [==============================] - 194s 145us/step - loss: 0.7503 - accuracy: 0.7279 - val_loss: 0.8846 - val_accuracy: 0.6921\n",
            "Epoch 15/40\n",
            "1333834/1333834 [==============================] - 195s 146us/step - loss: 0.7476 - accuracy: 0.7292 - val_loss: 0.8828 - val_accuracy: 0.6902\n",
            "Epoch 16/40\n",
            "1333834/1333834 [==============================] - 196s 147us/step - loss: 0.7449 - accuracy: 0.7304 - val_loss: 0.9031 - val_accuracy: 0.6850\n",
            "Epoch 17/40\n",
            "1333834/1333834 [==============================] - 195s 146us/step - loss: 0.7428 - accuracy: 0.7310 - val_loss: 0.8920 - val_accuracy: 0.6865\n",
            "Epoch 18/40\n",
            "1333834/1333834 [==============================] - 194s 145us/step - loss: 0.7394 - accuracy: 0.7319 - val_loss: 0.8825 - val_accuracy: 0.6932\n",
            "Epoch 19/40\n",
            "1333834/1333834 [==============================] - 197s 147us/step - loss: 0.7365 - accuracy: 0.7326 - val_loss: 0.8980 - val_accuracy: 0.6900\n",
            "Epoch 20/40\n",
            "1333834/1333834 [==============================] - 194s 145us/step - loss: 0.7346 - accuracy: 0.7337 - val_loss: 0.8909 - val_accuracy: 0.6892\n",
            "Epoch 21/40\n",
            "1333834/1333834 [==============================] - 195s 146us/step - loss: 0.7306 - accuracy: 0.7347 - val_loss: 0.8755 - val_accuracy: 0.6946\n",
            "Epoch 22/40\n",
            "1333834/1333834 [==============================] - 197s 147us/step - loss: 0.7266 - accuracy: 0.7361 - val_loss: 0.8903 - val_accuracy: 0.6895\n",
            "Epoch 23/40\n",
            "1333834/1333834 [==============================] - 195s 146us/step - loss: 0.7246 - accuracy: 0.7365 - val_loss: 0.8846 - val_accuracy: 0.6921\n",
            "Epoch 24/40\n",
            "1333834/1333834 [==============================] - 194s 145us/step - loss: 0.7214 - accuracy: 0.7380 - val_loss: 0.8724 - val_accuracy: 0.6976\n",
            "Epoch 25/40\n",
            "1333834/1333834 [==============================] - 197s 147us/step - loss: 0.7200 - accuracy: 0.7385 - val_loss: 0.8912 - val_accuracy: 0.6919\n",
            "Epoch 26/40\n",
            "1333834/1333834 [==============================] - 194s 145us/step - loss: 0.7171 - accuracy: 0.7394 - val_loss: 0.8919 - val_accuracy: 0.6918\n",
            "Epoch 27/40\n",
            "1333834/1333834 [==============================] - 194s 145us/step - loss: 0.7155 - accuracy: 0.7404 - val_loss: 0.8741 - val_accuracy: 0.6972\n",
            "Epoch 28/40\n",
            "1333834/1333834 [==============================] - 197s 147us/step - loss: 0.7133 - accuracy: 0.7405 - val_loss: 0.8785 - val_accuracy: 0.6979\n",
            "Epoch 29/40\n",
            "1333834/1333834 [==============================] - 195s 146us/step - loss: 0.7132 - accuracy: 0.7409 - val_loss: 0.8786 - val_accuracy: 0.6977\n",
            "Epoch 30/40\n",
            "1333834/1333834 [==============================] - 195s 146us/step - loss: 0.7107 - accuracy: 0.7420 - val_loss: 0.8895 - val_accuracy: 0.6949\n",
            "Epoch 31/40\n",
            "1333834/1333834 [==============================] - 196s 147us/step - loss: 0.7093 - accuracy: 0.7421 - val_loss: 0.8664 - val_accuracy: 0.7025\n",
            "Epoch 32/40\n",
            "1333834/1333834 [==============================] - 195s 146us/step - loss: 0.7081 - accuracy: 0.7428 - val_loss: 0.8758 - val_accuracy: 0.6980\n",
            "Epoch 33/40\n",
            "1333834/1333834 [==============================] - 194s 145us/step - loss: 0.7062 - accuracy: 0.7432 - val_loss: 0.8835 - val_accuracy: 0.6982\n",
            "Epoch 34/40\n",
            "1333834/1333834 [==============================] - 196s 147us/step - loss: 0.7037 - accuracy: 0.7441 - val_loss: 0.8708 - val_accuracy: 0.6980\n",
            "Epoch 35/40\n",
            "1333834/1333834 [==============================] - 194s 146us/step - loss: 0.7023 - accuracy: 0.7449 - val_loss: 0.8643 - val_accuracy: 0.7040\n",
            "Epoch 36/40\n",
            "1333834/1333834 [==============================] - 195s 146us/step - loss: 0.7021 - accuracy: 0.7447 - val_loss: 0.8835 - val_accuracy: 0.6954\n",
            "Epoch 37/40\n",
            "1333834/1333834 [==============================] - 196s 147us/step - loss: 0.7004 - accuracy: 0.7451 - val_loss: 0.8871 - val_accuracy: 0.6957\n",
            "Epoch 38/40\n",
            "1333834/1333834 [==============================] - 196s 147us/step - loss: 0.6982 - accuracy: 0.7462 - val_loss: 0.8839 - val_accuracy: 0.7004\n",
            "Epoch 39/40\n",
            "1333834/1333834 [==============================] - 194s 145us/step - loss: 0.6970 - accuracy: 0.7465 - val_loss: 0.8878 - val_accuracy: 0.6955\n",
            "Epoch 40/40\n",
            "1333834/1333834 [==============================] - 195s 146us/step - loss: 0.6969 - accuracy: 0.7465 - val_loss: 0.8711 - val_accuracy: 0.6983\n"
          ],
          "name": "stdout"
        }
      ]
    },
    {
      "cell_type": "markdown",
      "metadata": {
        "id": "ysy1HMxVPGc1",
        "colab_type": "text"
      },
      "source": [
        "Построим графики для точности и функции стоимости относительно эпох"
      ]
    },
    {
      "cell_type": "code",
      "metadata": {
        "id": "QQVq9iJOEl4H",
        "colab_type": "code",
        "colab": {
          "base_uri": "https://localhost:8080/",
          "height": 499
        },
        "outputId": "489a3ef3-257e-4d32-eb32-c312daac3fe8"
      },
      "source": [
        "acc = history.history['accuracy']\n",
        "val_acc = history.history['val_accuracy']\n",
        "\n",
        "loss=history.history['loss']\n",
        "val_loss=history.history['val_loss']\n",
        "\n",
        "epochs_range = range(epochs)\n",
        "\n",
        "plt.figure(figsize=(8, 8))\n",
        "plt.subplot(1, 2, 1)\n",
        "plt.plot(epochs_range, acc, label='Training Accuracy')\n",
        "plt.plot(epochs_range, val_acc, label='Validation Accuracy')\n",
        "plt.legend(loc='lower right')\n",
        "plt.title('Training and Validation Accuracy')\n",
        "\n",
        "plt.subplot(1, 2, 2)\n",
        "plt.plot(epochs_range, loss, label='Training Loss')\n",
        "plt.plot(epochs_range, val_loss, label='Validation Loss')\n",
        "plt.legend(loc='upper right')\n",
        "plt.title('Training and Validation Loss')\n",
        "plt.show()"
      ],
      "execution_count": 68,
      "outputs": [
        {
          "output_type": "display_data",
          "data": {
            "image/png": "[encoded data removed]",
            "text/plain": [
              "<Figure size 576x576 with 2 Axes>"
            ]
          },
          "metadata": {
            "tags": [],
            "needs_background": "light"
          }
        }
      ]
    },
    {
      "cell_type": "markdown",
      "metadata": {
        "id": "mluZoR4XPM4T",
        "colab_type": "text"
      },
      "source": [
        "Сохраним предобученную сеть"
      ]
    },
    {
      "cell_type": "code",
      "metadata": {
        "id": "mtOTGhdTPPbj",
        "colab_type": "code",
        "colab": {
          "base_uri": "https://localhost:8080/",
          "height": 17
        },
        "outputId": "339ae15e-c0be-46ad-9271-4dc623d93636"
      },
      "source": [
        "model.save('Accents_LSTM-/resUnet_model.h5')\n",
        "files.download('Accents_LSTM-/resUnet_model.h5')"
      ],
      "execution_count": 69,
      "outputs": [
        {
          "output_type": "display_data",
          "data": {
            "application/javascript": [
              "\n",
              "    async function download(id, filename, size) {\n",
              "      if (!google.colab.kernel.accessAllowed) {\n",
              "        return;\n",
              "      }\n",
              "      const div = document.createElement('div');\n",
              "      const label = document.createElement('label');\n",
              "      label.textContent = `Downloading \"${filename}\": `;\n",
              "      div.appendChild(label);\n",
              "      const progress = document.createElement('progress');\n",
              "      progress.max = size;\n",
              "      div.appendChild(progress);\n",
              "      document.body.appendChild(div);\n",
              "\n",
              "      const buffers = [];\n",
              "      let downloaded = 0;\n",
              "\n",
              "      const channel = await google.colab.kernel.comms.open(id);\n",
              "      // Send a message to notify the kernel that we're ready.\n",
              "      channel.send({})\n",
              "\n",
              "      for await (const message of channel.messages) {\n",
              "        // Send a message to notify the kernel that we're ready.\n",
              "        channel.send({})\n",
              "        if (message.buffers) {\n",
              "          for (const buffer of message.buffers) {\n",
              "            buffers.push(buffer);\n",
              "            downloaded += buffer.byteLength;\n",
              "            progress.value = downloaded;\n",
              "          }\n",
              "        }\n",
              "      }\n",
              "      const blob = new Blob(buffers, {type: 'application/binary'});\n",
              "      const a = document.createElement('a');\n",
              "      a.href = window.URL.createObjectURL(blob);\n",
              "      a.download = filename;\n",
              "      div.appendChild(a);\n",
              "      a.click();\n",
              "      div.remove();\n",
              "    }\n",
              "  "
            ],
            "text/plain": [
              "<IPython.core.display.Javascript object>"
            ]
          },
          "metadata": {
            "tags": []
          }
        },
        {
          "output_type": "display_data",
          "data": {
            "application/javascript": [
              "download(\"download_6e06241d-d319-4bdb-b43d-4cef77e8b301\", \"resUnet_model.h5\", 2480588)"
            ],
            "text/plain": [
              "<IPython.core.display.Javascript object>"
            ]
          },
          "metadata": {
            "tags": []
          }
        }
      ]
    },
    {
      "cell_type": "markdown",
      "metadata": {
        "id": "xtxKf1tWPUD6",
        "colab_type": "text"
      },
      "source": [
        "Сохраним датасет на компьютер"
      ]
    },
    {
      "cell_type": "code",
      "metadata": {
        "id": "v880E_ziPTpr",
        "colab_type": "code",
        "colab": {}
      },
      "source": [
        "files.download('Accents_LSTM-/Data.csv')"
      ],
      "execution_count": null,
      "outputs": []
    },
    {
      "cell_type": "markdown",
      "metadata": {
        "id": "uthB_jpMPY2r",
        "colab_type": "text"
      },
      "source": [
        "# Тесты на обученной модели"
      ]
    },
    {
      "cell_type": "code",
      "metadata": {
        "id": "uzAk9ksImJ4s",
        "colab_type": "code",
        "colab": {}
      },
      "source": [
        "# model = load_model('Accents_LSTM-/resUnet_model.h5')"
      ],
      "execution_count": null,
      "outputs": []
    },
    {
      "cell_type": "code",
      "metadata": {
        "id": "DPDt2ExiPcBT",
        "colab_type": "code",
        "colab": {}
      },
      "source": [
        "# model.compile(optimizer='adam',\n",
        "#                   loss=tf.keras.losses.CategoricalCrossentropy(from_logits=False, name='categorical_crossentropy'),\n",
        "#                   metrics=['accuracy'])"
      ],
      "execution_count": 53,
      "outputs": []
    },
    {
      "cell_type": "markdown",
      "metadata": {
        "id": "iMZQuGlYPd86",
        "colab_type": "text"
      },
      "source": [
        "Предскажем позицию ударения для тестовых данных"
      ]
    },
    {
      "cell_type": "code",
      "metadata": {
        "id": "p_ImGG4CPfQi",
        "colab_type": "code",
        "colab": {}
      },
      "source": [
        "X_test = np.reshape(test_x, (test_x.shape[0], 1, test_x.shape[1]))\n",
        "Y_test = np.reshape(test_y, (test_y.shape[0], 1, test_y.shape[1]))\n",
        "\n",
        "acc_pred = model.predict(X_test)\n",
        "\n",
        "test_accur = 0\n",
        "for i in range(len(acc_pred)):\n",
        "    if acc_pred[i].argmax() == Y_test[i].argmax():\n",
        "        test_accur = test_accur + 1\n",
        "test_accur = test_accur/len(acc_pred)"
      ],
      "execution_count": 71,
      "outputs": []
    },
    {
      "cell_type": "code",
      "metadata": {
        "id": "58jKIJcRPgoC",
        "colab_type": "code",
        "colab": {
          "base_uri": "https://localhost:8080/",
          "height": 35
        },
        "outputId": "6ab7c5e5-20cf-44b5-cc6e-d04df81d303a"
      },
      "source": [
        "print('Точность на тестовой выборке: ',test_accur)"
      ],
      "execution_count": 72,
      "outputs": [
        {
          "output_type": "stream",
          "text": [
            "Точность на тестовой выборке:  0.6946755454326154\n"
          ],
          "name": "stdout"
        }
      ]
    },
    {
      "cell_type": "markdown",
      "metadata": {
        "id": "_ACQyhAaPjia",
        "colab_type": "text"
      },
      "source": [
        "Метод для возвращения ключа по значению"
      ]
    },
    {
      "cell_type": "code",
      "metadata": {
        "id": "77QliQsaPkzi",
        "colab_type": "code",
        "colab": {}
      },
      "source": [
        "def get_key(d, value):\n",
        "    for k, v in d.items():\n",
        "        if v == value:\n",
        "            return k"
      ],
      "execution_count": 73,
      "outputs": []
    },
    {
      "cell_type": "markdown",
      "metadata": {
        "id": "WSFAAwCkPmMy",
        "colab_type": "text"
      },
      "source": [
        "Визуализация предсказанных ударений и их сравнение с ответами"
      ]
    },
    {
      "cell_type": "code",
      "metadata": {
        "id": "ZjdS4PFfPnXy",
        "colab_type": "code",
        "colab": {
          "base_uri": "https://localhost:8080/",
          "height": 435
        },
        "outputId": "ba92f023-2583-4109-e110-d2375434e911"
      },
      "source": [
        "for i in range(N):\n",
        "    slovo = ''\n",
        "    k = i * 500\n",
        "    for j in range(len(X_test[k][0])):\n",
        "\n",
        "        if X_test[k][0][j] != 0:\n",
        "            slovo = slovo + get_key(alphabet, X_test[k][0][j])\n",
        "        else:\n",
        "            break\n",
        "\n",
        "    template = slovo[:Y_test[k][0].argmax() + 1] + '\\'' + slovo[Y_test[k][0].argmax() + 1:]\n",
        "    nn_sample = slovo[:acc_pred[k][0].argmax() + 1] + '\\'' + slovo[acc_pred[k].argmax() + 1:]\n",
        "    \n",
        "    if (acc_pred[k].argmax() != Y_test[k].argmax()):\n",
        "      print('Эталон   : ' , template)\n",
        "      print('Ошибка!  : ' , nn_sample)\n",
        "    else:\n",
        "      print('Результат: ' , nn_sample)\n",
        "    print()"
      ],
      "execution_count": 70,
      "outputs": [
        {
          "output_type": "stream",
          "text": [
            "Эталон   :  чанпи'н\n",
            "Ошибка!  :  ча'нпин\n",
            "\n",
            "Эталон   :  бескозы'ркою\n",
            "Ошибка!  :  беск'озыркою\n",
            "\n",
            "Результат:  дави'вших\n",
            "\n",
            "Результат:  упражня'емого\n",
            "\n",
            "Результат:  бо'ро\n",
            "\n",
            "Результат:  боронова'ния\n",
            "\n",
            "Результат:  франкофи'льскими\n",
            "\n",
            "Результат:  дю'жины\n",
            "\n",
            "Эталон   :  хрестомати'йнейшие\n",
            "Ошибка!  :  хрестоматийн'ейшие\n",
            "\n",
            "Результат:  федо'сьевка\n",
            "\n"
          ],
          "name": "stdout"
        }
      ]
    },
    {
      "cell_type": "code",
      "metadata": {
        "id": "wZg2Y5IgarVu",
        "colab_type": "code",
        "colab": {}
      },
      "source": [
        ""
      ],
      "execution_count": null,
      "outputs": []
    }
  ]
}