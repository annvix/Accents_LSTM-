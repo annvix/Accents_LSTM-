{
  "nbformat": 4,
  "nbformat_minor": 0,
  "metadata": {
    "colab": {
      "name": "Train.ipynb",
      "provenance": [],
      "authorship_tag": "ABX9TyNoW2DztZJmFccuioa8RUoj",
      "include_colab_link": true
    },
    "kernelspec": {
      "name": "python3",
      "display_name": "Python 3"
    }
  },
  "cells": [
    {
      "cell_type": "markdown",
      "metadata": {
        "id": "view-in-github",
        "colab_type": "text"
      },
      "source": [
        "<a href=\"https://colab.research.google.com/github/annvix/Accents_LSTM-/blob/master/Train.ipynb\" target=\"_parent\"><img src=\"https://colab.research.google.com/assets/colab-badge.svg\" alt=\"Open In Colab\"/></a>"
      ]
    },
    {
      "cell_type": "markdown",
      "metadata": {
        "id": "T_VLKOujC_rX",
        "colab_type": "text"
      },
      "source": [
        "# Клонирование проекта с GitHub\n",
        "Подключение библиотек"
      ]
    },
    {
      "cell_type": "code",
      "metadata": {
        "id": "VlS_cuswCwMh",
        "colab_type": "code",
        "colab": {
          "base_uri": "https://localhost:8080/",
          "height": 136
        },
        "outputId": "b3deb520-aa82-4ae8-f84c-70843d3d23bc"
      },
      "source": [
        "!git clone https://github.com/annvix/Accents_LSTM-.git"
      ],
      "execution_count": 2,
      "outputs": [
        {
          "output_type": "stream",
          "text": [
            "Cloning into 'Accents_LSTM-'...\n",
            "remote: Enumerating objects: 31, done.\u001b[K\n",
            "remote: Counting objects:   3% (1/31)\u001b[K\rremote: Counting objects:   6% (2/31)\u001b[K\rremote: Counting objects:   9% (3/31)\u001b[K\rremote: Counting objects:  12% (4/31)\u001b[K\rremote: Counting objects:  16% (5/31)\u001b[K\rremote: Counting objects:  19% (6/31)\u001b[K\rremote: Counting objects:  22% (7/31)\u001b[K\rremote: Counting objects:  25% (8/31)\u001b[K\rremote: Counting objects:  29% (9/31)\u001b[K\rremote: Counting objects:  32% (10/31)\u001b[K\rremote: Counting objects:  35% (11/31)\u001b[K\rremote: Counting objects:  38% (12/31)\u001b[K\rremote: Counting objects:  41% (13/31)\u001b[K\rremote: Counting objects:  45% (14/31)\u001b[K\rremote: Counting objects:  48% (15/31)\u001b[K\rremote: Counting objects:  51% (16/31)\u001b[K\rremote: Counting objects:  54% (17/31)\u001b[K\rremote: Counting objects:  58% (18/31)\u001b[K\rremote: Counting objects:  61% (19/31)\u001b[K\rremote: Counting objects:  64% (20/31)\u001b[K\rremote: Counting objects:  67% (21/31)\u001b[K\rremote: Counting objects:  70% (22/31)\u001b[K\rremote: Counting objects:  74% (23/31)\u001b[K\rremote: Counting objects:  77% (24/31)\u001b[K\rremote: Counting objects:  80% (25/31)\u001b[K\rremote: Counting objects:  83% (26/31)\u001b[K\rremote: Counting objects:  87% (27/31)\u001b[K\rremote: Counting objects:  90% (28/31)\u001b[K\rremote: Counting objects:  93% (29/31)\u001b[K\rremote: Counting objects:  96% (30/31)\u001b[K\rremote: Counting objects: 100% (31/31)\u001b[K\rremote: Counting objects: 100% (31/31), done.\u001b[K\n",
            "remote: Compressing objects: 100% (31/31), done.\u001b[K\n",
            "remote: Total 126 (delta 11), reused 0 (delta 0), pack-reused 95\u001b[K\n",
            "Receiving objects: 100% (126/126), 21.46 MiB | 8.12 MiB/s, done.\n",
            "Resolving deltas: 100% (60/60), done.\n"
          ],
          "name": "stdout"
        }
      ]
    },
    {
      "cell_type": "code",
      "metadata": {
        "id": "YJD1wZrtCyKu",
        "colab_type": "code",
        "colab": {
          "base_uri": "https://localhost:8080/",
          "height": 34
        },
        "outputId": "1a0d786a-e4be-41db-c005-d4ede646a982"
      },
      "source": [
        "from google.colab import files\n",
        "import matplotlib.pyplot as plt\n",
        "import numpy as np\n",
        "import random\n",
        "import tensorflow as tf\n",
        "\n",
        "from keras.layers import *\n",
        "from keras.models import *\n",
        "from keras.optimizers import *\n",
        "from tensorflow.keras.preprocessing import sequence"
      ],
      "execution_count": 3,
      "outputs": [
        {
          "output_type": "stream",
          "text": [
            "Using TensorFlow backend.\n"
          ],
          "name": "stderr"
        }
      ]
    },
    {
      "cell_type": "markdown",
      "metadata": {
        "id": "Hxy2Tf3HC8SG",
        "colab_type": "text"
      },
      "source": [
        "# Загрузка и предобработка данных"
      ]
    },
    {
      "cell_type": "markdown",
      "metadata": {
        "id": "qPO_cZhNDFkZ",
        "colab_type": "text"
      },
      "source": [
        "Добавляем алфавит для кодирования букв"
      ]
    },
    {
      "cell_type": "code",
      "metadata": {
        "id": "L_s1YhMsDJpn",
        "colab_type": "code",
        "colab": {}
      },
      "source": [
        "alphabet =   {'а' : 1, 'б' : 2, 'в' : 3, 'г' : 4, 'д' : 5, 'е' : 6, 'ё' : 7, 'ж' : 8, 'з' : 9,\n",
        "             'и' : 10, 'й' : 11, 'к' : 12, 'л' : 13, 'м' : 14, 'н' : 15, 'о' : 16, 'п' : 17, 'р' : 18,\n",
        "             'с' : 19, 'т' : 20, 'у' : 21, 'ф' : 22, 'х' : 23, 'ц' : 24, 'ч' : 25, 'ш' : 26, 'щ' : 27,\n",
        "             'ъ' : 28, 'ы' : 29, 'ь' : 30, 'э' : 31, 'ю' : 32, 'я' : 33}\n",
        "\n",
        "N = 10 #Количество слов для вывода"
      ],
      "execution_count": 4,
      "outputs": []
    },
    {
      "cell_type": "code",
      "metadata": {
        "id": "vF3ppBjJC0tA",
        "colab_type": "code",
        "colab": {
          "base_uri": "https://localhost:8080/",
          "height": 85
        },
        "outputId": "8e08feea-a619-470b-8616-51280e963099"
      },
      "source": [
        "with open('Accents_LSTM-/Data.csv', 'r') as f:\n",
        "    all_accents = f.readlines()\n",
        "data_len = len(all_accents)\n",
        "\n",
        "print('Всего слов:', data_len)\n",
        "max_len = len(max(all_accents, key=len)) //2 - 1\n",
        "print('Максимальная длина слова:', max_len)\n",
        "print('Слово:', max(all_accents, key=len))\n",
        "number_of_classes = max_len + 1"
      ],
      "execution_count": 5,
      "outputs": [
        {
          "output_type": "stream",
          "text": [
            "Всего слов: 1678878\n",
            "Максимальная длина слова: 29\n",
            "Слово: административнодисциплинарный,административнодисципл'инарный\n",
            "\n"
          ],
          "name": "stdout"
        }
      ]
    },
    {
      "cell_type": "markdown",
      "metadata": {
        "id": "-4VFuCnRiU_1",
        "colab_type": "text"
      },
      "source": [
        "Группировка слов по первым буквам"
      ]
    },
    {
      "cell_type": "code",
      "metadata": {
        "id": "6B28DPW5iT1v",
        "colab_type": "code",
        "colab": {
          "base_uri": "https://localhost:8080/",
          "height": 34
        },
        "outputId": "4288944f-e15c-4440-9b1e-5c340649a0de"
      },
      "source": [
        "word_groups = []\n",
        "group  = []\n",
        "group.append(all_accents[0])\n",
        "\n",
        "for i in range(1, data_len):\n",
        "    if group[0][:4] == all_accents[i][:4]:\n",
        "        group.append(all_accents[i])\n",
        "    else:\n",
        "        word_groups.append(group)\n",
        "        group  = []\n",
        "        group.append(all_accents[i])\n",
        "print('Количество групп: ', len(word_groups))\n",
        "random.shuffle(word_groups)"
      ],
      "execution_count": 6,
      "outputs": [
        {
          "output_type": "stream",
          "text": [
            "Количество групп:  42078\n"
          ],
          "name": "stdout"
        }
      ]
    },
    {
      "cell_type": "code",
      "metadata": {
        "id": "IijHxgDqlPY2",
        "colab_type": "code",
        "colab": {
          "base_uri": "https://localhost:8080/",
          "height": 224
        },
        "outputId": "e8e390a8-a598-40a2-a54b-4bc6f3024617"
      },
      "source": [
        "print('Группы слов:')\n",
        "for i in range (N):\n",
        "  print(word_groups[i])"
      ],
      "execution_count": 7,
      "outputs": [
        {
          "output_type": "stream",
          "text": [
            "Группы слов:\n",
            "[\"визу,в'изу\\n\", \"визуал,визу'ал\\n\", \"визуален,визу'ален\\n\", \"визуализатор,визуализ'атор\\n\", \"визуализатора,визуализ'атора\\n\", \"визуализаторам,визуализ'аторам\\n\", \"визуализаторами,визуализ'аторами\\n\", \"визуализаторах,визуализ'аторах\\n\", \"визуализаторе,визуализ'аторе\\n\", \"визуализаторов,визуализ'аторов\\n\", \"визуализатором,визуализ'атором\\n\", \"визуализатору,визуализ'атору\\n\", \"визуализаторы,визуализ'аторы\\n\", \"визуализацией,визуализ'ацией\\n\", \"визуализации,визуализ'ации\\n\", \"визуализаций,визуализ'аций\\n\", \"визуализацию,визуализ'ацию\\n\", \"визуализация,визуализ'ация\\n\", \"визуализациям,визуализ'ациям\\n\", \"визуализациями,визуализ'ациями\\n\", \"визуализациях,визуализ'ациях\\n\", \"визуализировал,визуализ'ировал\\n\", \"визуализировала,визуализ'ировала\\n\", \"визуализировалась,визуализ'ировалась\\n\", \"визуализировали,визуализ'ировали\\n\", \"визуализировались,визуализ'ировались\\n\", \"визуализировало,визуализ'ировало\\n\", \"визуализировалось,визуализ'ировалось\\n\", \"визуализировался,визуализ'ировался\\n\", \"визуализировать,визуализ'ировать\\n\", \"визуализироваться,визуализ'ироваться\\n\", \"визуализируем,визуализ'ируем\\n\", \"визуализируемся,визуализ'ируемся\\n\", \"визуализирует,визуализ'ирует\\n\", \"визуализируете,визуализ'ируете\\n\", \"визуализируетесь,визуализ'ируетесь\\n\", \"визуализируется,визуализ'ируется\\n\", \"визуализируешь,визуализ'ируешь\\n\", \"визуализируешься,визуализ'ируешься\\n\", \"визуализируй,визуализ'ируй\\n\", \"визуализируйся,визуализ'ируйся\\n\", \"визуализируйте,визуализ'ируйте\\n\", \"визуализируйтесь,визуализ'ируйтесь\\n\", \"визуализирую,визуализ'ирую\\n\", \"визуализируюсь,визуализ'ируюсь\\n\", \"визуализируют,визуализ'ируют\\n\", \"визуализируются,визуализ'ируются\\n\", \"визуализовать,визуализов'ать\\n\", \"визуализоваться,визуализов'аться\\n\", \"визуалка,визу'алка\\n\", \"визуальна,визу'альна\\n\", \"визуальная,визу'альная\\n\", \"визуально,визу'ально\\n\", \"визуального,визу'ального\\n\", \"визуальное,визу'альное\\n\", \"визуальной,визу'альной\\n\", \"визуальном,визу'альном\\n\", \"визуальному,визу'альному\\n\", \"визуальность,визу'альность\\n\", \"визуальною,визу'альною\\n\", \"визуальную,визу'альную\\n\", \"визуальны,визу'альны\\n\", \"визуальные,визу'альные\\n\", \"визуальный,визу'альный\\n\", \"визуальным,визу'альным\\n\", \"визуальными,визу'альными\\n\", \"визуальных,визу'альных\\n\"]\n",
            "[\"осатаневавший,осатанев'авший\\n\", \"осатаневаем,осатанев'аем\\n\", \"осатаневает,осатанев'ает\\n\", \"осатаневаете,осатанев'аете\\n\", \"осатаневаешь,осатанев'аешь\\n\", \"осатаневай,осатанев'ай\\n\", \"осатаневайте,осатанев'айте\\n\", \"осатаневал,осатанев'ал\\n\", \"осатаневала,осатанев'ала\\n\", \"осатаневали,осатанев'али\\n\", \"осатаневало,осатанев'ало\\n\", \"осатаневать,осатанев'ать\\n\", \"осатаневаю,осатанев'аю\\n\", \"осатаневают,осатанев'ают\\n\", \"осатаневающий,осатанев'ающий\\n\", \"осатаневшая,осатан'евшая\\n\", \"осатаневшего,осатан'евшего\\n\", \"осатаневшее,осатан'евшее\\n\", \"осатаневшей,осатан'евшей\\n\", \"осатаневшем,осатан'евшем\\n\", \"осатаневшему,осатан'евшему\\n\", \"осатаневшею,осатан'евшею\\n\", \"осатаневшие,осатан'евшие\\n\", \"осатаневший,осатан'евший\\n\", \"осатаневшим,осатан'евшим\\n\", \"осатаневшими,осатан'евшими\\n\", \"осатаневших,осатан'евших\\n\", \"осатаневшую,осатан'евшую\\n\", \"осатанеем,осатан'еем\\n\", \"осатанеет,осатан'еет\\n\", \"осатанеете,осатан'еете\\n\", \"осатанеешь,осатан'еешь\\n\", \"осатаней,осатан'ей\\n\", \"осатанейте,осатан'ейте\\n\", \"осатанел,осатан'ел\\n\", \"осатанела,осатан'ела\\n\", \"осатанели,осатан'ели\\n\", \"осатанело,осатан'ело\\n\", \"осатанелый,осатан'елый\\n\", \"осатанение,осатан'ение\\n\", \"осатанеть,осатан'еть\\n\", \"осатанею,осатан'ею\\n\", \"осатанеют,осатан'еют\\n\"]\n",
            "[\"амут,'амут\\n\", \"амута,амут'а\\n\", \"амутская,ам'утская\\n\"]\n",
            "[\"экюра,экюр'а\\n\"]\n",
            "[\"кроя,кр'оя\\n\", \"кроям,кр'оям\\n\", \"кроями,кр'оями\\n\", \"кроясь,кр'оясь\\n\", \"кроят,кро'ят\\n\", \"кроятся,кро'ятся\\n\", \"кроях,кр'оях\\n\", \"кроящая,кро'ящая\\n\", \"кроящего,кро'ящего\\n\", \"кроящее,кро'ящее\\n\", \"кроящей,кро'ящей\\n\", \"кроящем,кро'ящем\\n\", \"кроящему,кро'ящему\\n\", \"кроящею,кро'ящею\\n\", \"кроящие,кро'ящие\\n\", \"кроящий,кро'ящий\\n\", \"кроящийся,кро'ящийся\\n\", \"кроящим,кро'ящим\\n\", \"кроящими,кро'ящими\\n\", \"кроящих,кро'ящих\\n\", \"кроящую,кро'ящую\\n\"]\n",
            "[\"выд,в'ыд\\n\"]\n",
            "[\"ячью,'ячью\\n\"]\n",
            "[\"гулбене,г'улбене\\n\"]\n",
            "[\"кидис,к'идис\\n\", \"кидиш,к'идиш\\n\"]\n",
            "[\"йимой,й'имой\\n\", \"йимою,й'имою\\n\"]\n"
          ],
          "name": "stdout"
        }
      ]
    },
    {
      "cell_type": "markdown",
      "metadata": {
        "id": "6TaVCPOAEWzV",
        "colab_type": "text"
      },
      "source": [
        "Разделим данные на тренировочные, валидационные и тестовые"
      ]
    },
    {
      "cell_type": "code",
      "metadata": {
        "id": "iGG6QYiAEYcd",
        "colab_type": "code",
        "colab": {}
      },
      "source": [
        "train_frac = 0.8\n",
        "val_frac = 0.1\n",
        "test_frac = 0.1\n",
        "\n",
        "def train_test_val_words(words):\n",
        "    return (words[:int(len(words)*train_frac)], \n",
        "words[int(len(words)*train_frac) : (int(len(words)*train_frac) + int(len(words)*val_frac))], \n",
        "words[(int(len(words)*train_frac) + int(len(words)*val_frac)):])\n",
        "    \n",
        "\n",
        "for_train, for_val, for_test = train_test_val_words(word_groups)"
      ],
      "execution_count": 8,
      "outputs": []
    },
    {
      "cell_type": "code",
      "metadata": {
        "id": "mwYoVsRvtycD",
        "colab_type": "code",
        "colab": {}
      },
      "source": [
        "def words_to_num(my_words):\n",
        "  words, accents = [], []\n",
        "  for i in range (len(my_words)):\n",
        "      str = my_words[i].replace('\\n', '').split(',')\n",
        "      words.append(str[0])\n",
        "      accents.append(str[1])\n",
        "\n",
        "  words_int = np.zeros((len(my_words), number_of_classes), dtype=int)\n",
        "  accents_int = np.zeros((len(my_words),number_of_classes), dtype=int)\n",
        "  \n",
        "  for i in range(len(words)):\n",
        "    for j in range(len(words[i])):\n",
        "        words_int[i][j]= alphabet[words[i][j]]\n",
        "        \n",
        "    acc = accents[i].find(\"'\")\n",
        "    if (acc != -1):\n",
        "        accents_int[i][acc] = 1\n",
        "        if accents[i][acc + 1:].find(\"'\") != -1:\n",
        "          print('В слове два ударения:', accents[i])\n",
        "    else:\n",
        "        accents_int[i][number_of_classes - 1] = 1\n",
        "        print('Нет ударения: ', words[i])\n",
        "  return words_int, accents_int"
      ],
      "execution_count": 9,
      "outputs": []
    },
    {
      "cell_type": "code",
      "metadata": {
        "id": "hN5CsYmlzq7b",
        "colab_type": "code",
        "colab": {
          "base_uri": "https://localhost:8080/",
          "height": 238
        },
        "outputId": "8d0d638c-6ec0-40e3-b001-8e7add0e7492"
      },
      "source": [
        "train_x, train_y= [], []\n",
        "for i in range(len(for_train)):\n",
        "  w, a = words_to_num(for_train[i])\n",
        "  for j in range(len(for_train[i])):\n",
        "    train_x.append(w[j])\n",
        "    train_y.append(a[j])\n",
        "  \n",
        "val_x, val_y= [], []\n",
        "for i in range(len(for_val)):\n",
        "  w, a = words_to_num(for_val[i])\n",
        "  for j in range(len(for_val[i])):\n",
        "    val_x.append(w[j])\n",
        "    val_y.append(a[j])\n",
        "\n",
        "test_x, test_y= [], []\n",
        "for i in range(len(for_test)):\n",
        "  w, a = words_to_num(for_test[i])\n",
        "  for j in range(len(for_test[i])):\n",
        "    test_x.append(w[j])\n",
        "    test_y.append(a[j])\n"
      ],
      "execution_count": 10,
      "outputs": [
        {
          "output_type": "stream",
          "text": [
            "Нет ударения:  ль\n",
            "Нет ударения:  тсс\n",
            "Нет ударения:  с\n",
            "Нет ударения:  б\n",
            "Нет ударения:  в\n",
            "Нет ударения:  гм\n",
            "Нет ударения:  ж\n",
            "В слове два ударения: обагр'я'ясь\n",
            "Нет ударения:  кш\n",
            "Нет ударения:  к\n",
            "Нет ударения:  брр\n",
            "Нет ударения:  хм\n",
            "Нет ударения:  мм\n"
          ],
          "name": "stdout"
        }
      ]
    },
    {
      "cell_type": "code",
      "metadata": {
        "id": "ht7ESXP73sAL",
        "colab_type": "code",
        "colab": {}
      },
      "source": [
        "test_x = np.array(test_x) \n",
        "train_x = np.array(train_x) \n",
        "val_x = np.array(val_x) \n",
        "\n",
        "test_y = np.array(test_y) \n",
        "train_y = np.array(train_y) \n",
        "val_y = np.array(val_y) "
      ],
      "execution_count": 11,
      "outputs": []
    },
    {
      "cell_type": "code",
      "metadata": {
        "id": "BUmG7qeVDnnj",
        "colab_type": "code",
        "colab": {
          "base_uri": "https://localhost:8080/",
          "height": 85
        },
        "outputId": "25bee423-2d79-4431-bf6f-701cf1800f87"
      },
      "source": [
        "print(\"\\t\\t\\t Размеры:\")\n",
        "print(\"Train set: \\t\\t{}\".format(test_x.shape), \n",
        "      \"\\nValidation set: \\t{}\".format(train_x.shape),\n",
        "      \"\\nTest set: \\t\\t{}\".format(val_x.shape))"
      ],
      "execution_count": 12,
      "outputs": [
        {
          "output_type": "stream",
          "text": [
            "\t\t\t Размеры:\n",
            "Train set: \t\t(162340, 30) \n",
            "Validation set: \t(1365722, 30) \n",
            "Test set: \t\t(150815, 30)\n"
          ],
          "name": "stdout"
        }
      ]
    },
    {
      "cell_type": "markdown",
      "metadata": {
        "id": "QujGu0enEdmW",
        "colab_type": "text"
      },
      "source": [
        "# Моделирование нейронной сети\n",
        "Используется LSTM-сеть"
      ]
    },
    {
      "cell_type": "code",
      "metadata": {
        "id": "Cs-iuzkp1yIm",
        "colab_type": "code",
        "colab": {}
      },
      "source": [
        "def res_unet(filter_root, depth, n_class=2, input_size=(1, number_of_classes), activation='relu', batch_norm=True, final_activation='softmax'):\n",
        "    \"\"\"\n",
        "    Build UNet model with ResBlock.\n",
        "    Args:\n",
        "        filter_root (int): Number of filters to start with in first convolution.\n",
        "        depth (int): How deep to go in UNet i.e. how many down and up sampling you want to do in the model. \n",
        "                    Filter root and image size should be multiple of 2^depth.\n",
        "        n_class (int, optional): How many classes in the output layer. Defaults to 2.\n",
        "        input_size (tuple, optional): Input image size. Defaults to (256, 256, 1).\n",
        "        activation (str, optional): activation to use in each convolution. Defaults to 'relu'.\n",
        "        batch_norm (bool, optional): To use Batch normaliztion or not. Defaults to True.\n",
        "        final_activation (str, optional): activation for output layer. Defaults to 'softmax'.\n",
        "    Returns:\n",
        "        obj: keras model object\n",
        "    \"\"\"\n",
        "    inputs = Input(input_size)\n",
        "    x = inputs\n",
        "\n",
        "    # Dictionary for long connections\n",
        "    long_connection_store = {}\n",
        "\n",
        "    if len(input_size) == 3:\n",
        "        Conv = Conv2D\n",
        "        MaxPooling = MaxPooling2D\n",
        "        UpSampling = UpSampling2D\n",
        "    elif len(input_size) == 4:\n",
        "        Conv = Conv3D\n",
        "        MaxPooling = MaxPooling3D\n",
        "        UpSampling = UpSampling3D\n",
        "    elif len(input_size) == 2:\n",
        "        Conv = Conv1D\n",
        "        MaxPooling = MaxPooling1D\n",
        "        UpSampling = UpSampling1D\n",
        "\n",
        "    # Down sampling\n",
        "    for i in range(depth):\n",
        "        out_channel = 2**i * filter_root\n",
        "\n",
        "        # Residual/Skip connection\n",
        "        res = Conv(out_channel, kernel_size=1, padding='same', use_bias=False)(x)\n",
        "\n",
        "        # First Conv Block with Conv, BN and activation\n",
        "        conv1 = Conv(out_channel, kernel_size=3, padding='same')(x)\n",
        "        if batch_norm:\n",
        "            conv1 = BatchNormalization()(conv1)\n",
        "        act1 = Activation(activation)(conv1)\n",
        "\n",
        "        # Second Conv block with Conv and BN only\n",
        "        conv2 = Conv(out_channel, kernel_size=3, padding='same')(act1)\n",
        "        if batch_norm:\n",
        "            conv2 = BatchNormalization()(conv2)\n",
        "\n",
        "        resconnection = Add()([res, conv2])\n",
        "\n",
        "        act2 = Activation(activation)(resconnection)\n",
        "\n",
        "        # Max pooling\n",
        "        if i < depth - 1:\n",
        "            long_connection_store[str(i)] = act2\n",
        "            x = MaxPooling(padding='same')(act2)\n",
        "        else:\n",
        "            x = act2\n",
        "\n",
        "    # Upsampling\n",
        "    for i in range(depth - 2, -1, -1):\n",
        "        out_channel = 2**(i) * filter_root\n",
        "\n",
        "        # long connection from down sampling path.\n",
        "        long_connection = long_connection_store[str(i)]\n",
        "        print(long_connection_store[str(i)])\n",
        "\n",
        "        up1 = UpSampling()(x)\n",
        "        up_conv1 = Conv(out_channel, 2 , activation='relu')(up1)\n",
        "        # up_conv1 = Conv(out_channel, 2 , activation='relu', padding='same', name=\"upConv{}_1\".format(i))(up1)\n",
        "        \n",
        "        print(up1)\n",
        "        print(up_conv1)\n",
        "        \n",
        "\n",
        "        #  Concatenate.\n",
        "        up_conc = Concatenate(axis=-1)([up_conv1, long_connection])\n",
        "\n",
        "        #  Convolutions\n",
        "        up_conv2 = Conv(out_channel, 3, padding='same')(up_conc)\n",
        "        if batch_norm:\n",
        "            up_conv2 = BatchNormalization()(up_conv2)\n",
        "        up_act1 = Activation(activation)(up_conv2)\n",
        "\n",
        "        up_conv2 = Conv(out_channel, 3, padding='same')(up_act1)\n",
        "        if batch_norm:\n",
        "            up_conv2 = BatchNormalization()(up_conv2)\n",
        "\n",
        "        # Residual/Skip connection\n",
        "        res = Conv(out_channel, kernel_size=1, padding='same', use_bias=False)(up_conc)\n",
        "\n",
        "        resconnection = Add()([res, up_conv2])\n",
        "\n",
        "        x = Activation(activation)(resconnection)\n",
        "\n",
        "    # Final convolution\n",
        "    output = Conv(n_class, 1, padding='same', activation=final_activation)(x)\n",
        "\n",
        "    model = Model(inputs, outputs=output)\n",
        "\n",
        "    model.compile(optimizer = Adam(lr = 1e-4), loss = 'categorical_crossentropy', metrics = ['accuracy'])\n",
        "\n",
        "    print(model.summary())\n",
        "\n",
        "    return model"
      ],
      "execution_count": 13,
      "outputs": []
    },
    {
      "cell_type": "code",
      "metadata": {
        "id": "4OZvp4L52asA",
        "colab_type": "code",
        "colab": {
          "base_uri": "https://localhost:8080/",
          "height": 527
        },
        "outputId": "18a73020-741e-435c-ac05-5c740a19fef1"
      },
      "source": [
        "model = res_unet(254, 1, number_of_classes, input_size=(1, number_of_classes))\n",
        "#def res_unet(filter_root, depth, n_class=2, input_size=(256, 256, 1), activation='relu', batch_norm=True, final_activation='softmax'):\n",
        "    # \"\"\"\n",
        "    # Build UNet model with ResBlock.\n",
        "    # Args:\n",
        "    #     filter_root (int): Number of filters to start with in first convolution.\n",
        "    #     depth (int): How deep to go in UNet i.e. how many down and up sampling you want to do in the model. \n",
        "    #                 Filter root and image size should be multiple of 2^depth.\n",
        "    #     n_class (int, optional): How many classes in the output layer. Defaults to 2.\n",
        "    #     input_size (tuple, optional): Input image size. Defaults to (256, 256, 1).\n",
        "    #     activation (str, optional): activation to use in each convolution. Defaults to 'relu'.\n",
        "    #     batch_norm (bool, optional): To use Batch normaliztion or not. Defaults to True.\n",
        "    #     final_activation (str, optional): activation for output layer. Defaults to 'softmax'.\n",
        "    # Returns:\n",
        "    #     obj: keras model object\n",
        "    # \"\"\""
      ],
      "execution_count": 14,
      "outputs": [
        {
          "output_type": "stream",
          "text": [
            "Model: \"model_1\"\n",
            "__________________________________________________________________________________________________\n",
            "Layer (type)                    Output Shape         Param #     Connected to                     \n",
            "==================================================================================================\n",
            "input_1 (InputLayer)            (None, 1, 30)        0                                            \n",
            "__________________________________________________________________________________________________\n",
            "conv1d_2 (Conv1D)               (None, 1, 254)       23114       input_1[0][0]                    \n",
            "__________________________________________________________________________________________________\n",
            "batch_normalization_1 (BatchNor (None, 1, 254)       1016        conv1d_2[0][0]                   \n",
            "__________________________________________________________________________________________________\n",
            "activation_1 (Activation)       (None, 1, 254)       0           batch_normalization_1[0][0]      \n",
            "__________________________________________________________________________________________________\n",
            "conv1d_3 (Conv1D)               (None, 1, 254)       193802      activation_1[0][0]               \n",
            "__________________________________________________________________________________________________\n",
            "conv1d_1 (Conv1D)               (None, 1, 254)       7620        input_1[0][0]                    \n",
            "__________________________________________________________________________________________________\n",
            "batch_normalization_2 (BatchNor (None, 1, 254)       1016        conv1d_3[0][0]                   \n",
            "__________________________________________________________________________________________________\n",
            "add_1 (Add)                     (None, 1, 254)       0           conv1d_1[0][0]                   \n",
            "                                                                 batch_normalization_2[0][0]      \n",
            "__________________________________________________________________________________________________\n",
            "activation_2 (Activation)       (None, 1, 254)       0           add_1[0][0]                      \n",
            "__________________________________________________________________________________________________\n",
            "conv1d_4 (Conv1D)               (None, 1, 30)        7650        activation_2[0][0]               \n",
            "==================================================================================================\n",
            "Total params: 234,218\n",
            "Trainable params: 233,202\n",
            "Non-trainable params: 1,016\n",
            "__________________________________________________________________________________________________\n",
            "None\n"
          ],
          "name": "stdout"
        }
      ]
    },
    {
      "cell_type": "code",
      "metadata": {
        "id": "ia0lLhvOEbkS",
        "colab_type": "code",
        "colab": {}
      },
      "source": [
        "# max_features = len(alphabet) + 1\n",
        "# max_features"
      ],
      "execution_count": 15,
      "outputs": []
    },
    {
      "cell_type": "code",
      "metadata": {
        "id": "GZYbM9i87pAj",
        "colab_type": "code",
        "colab": {}
      },
      "source": [
        "# def unet(input_size = (number_of_classes, 1)):\n",
        "\n",
        "#     inputs = Input(input_size)\n",
        "\n",
        "#     conv1 = Conv1D(64, 2, activation = 'relu')(inputs)\n",
        "#     conv1 = Conv1D(64, 2, activation = 'relu')(conv1)\n",
        "#     pool1 = MaxPooling1D(pool_size=2)(conv1)\n",
        "\n",
        "#     conv2 = Conv1D(128, 2, activation = 'relu', kernel_initializer = 'he_normal')(pool1)\n",
        "#     conv2 = Conv1D(128, 2, activation = 'relu', kernel_initializer = 'he_normal')(conv2)\n",
        "#     drop2 = Dropout(0.5)(conv2)\n",
        "#     pool2 = MaxPooling1D(pool_size=2)(conv2)\n",
        "\n",
        "#     conv3 = Conv1D(256, 2, activation = 'relu', kernel_initializer = 'he_normal')(pool2)\n",
        "#     conv3 = Conv1D(256, 2, activation = 'relu', kernel_initializer = 'he_normal')(conv3)\n",
        "#     drop3 = Dropout(0.5)(conv2)\n",
        "\n",
        "#     up4 = Conv1D(128, 2, activation = 'relu', kernel_initializer = 'he_normal')(UpSampling1D(size = 2)(drop3))\n",
        "#     merge4 = concatenate([drop2,up4], axis = 1)\n",
        "#     conv4 = Conv1D(128, 2, activation = 'relu', kernel_initializer = 'he_normal')(merge4)\n",
        "#     conv4 = Conv1D(128, 2, activation = 'relu', kernel_initializer = 'he_normal')(conv4)\n",
        "\n",
        "#     up5 = Conv1D(64, 2, activation = 'relu', kernel_initializer = 'he_normal')(UpSampling1D(size = 2)(conv4))\n",
        "#     merge5 = concatenate([conv1,up5], axis = 1)\n",
        "#     conv5 = Conv1D(64, 2, activation = 'relu', kernel_initializer = 'he_normal')(merge5)\n",
        "#     conv5 = Conv1D(64, 2, activation = 'relu', kernel_initializer = 'he_normal')(conv5)\n",
        "#     conv5 = Conv1D(2, 2, activation = 'relu', kernel_initializer = 'he_normal')(conv5)\n",
        "#     conv6 = Conv1D(30, 90, activation = 'softmax')(conv5)\n",
        "    \n",
        "#     model = Model(input = inputs, output = conv6)\n",
        "\n",
        "#     model.compile(optimizer = Adam(lr = 1e-4), loss = 'categorical_crossentropy', metrics = ['accuracy'])\n",
        "    \n",
        "#     print(model.summary())\n",
        "\n",
        "#     return model"
      ],
      "execution_count": 16,
      "outputs": []
    },
    {
      "cell_type": "code",
      "metadata": {
        "id": "IKCP7B6p_feW",
        "colab_type": "code",
        "colab": {}
      },
      "source": [
        "# model = unet()"
      ],
      "execution_count": 17,
      "outputs": []
    },
    {
      "cell_type": "code",
      "metadata": {
        "id": "fuVTLNKTEizo",
        "colab_type": "code",
        "colab": {
          "base_uri": "https://localhost:8080/",
          "height": 1000
        },
        "outputId": "62b1ed50-d5f3-4888-8a12-43e41a560198"
      },
      "source": [
        "batch_size = 256 #*4\n",
        "epochs = 40\n",
        "\n",
        "X_train = np.reshape(train_x, (train_x.shape[0], 1, train_x.shape[1]))\n",
        "Y_train = np.reshape(train_y, (train_y.shape[0], 1, train_y.shape[1]))\n",
        "\n",
        "X_val =  np.reshape(val_x, (val_x.shape[0], 1, val_x.shape[1]))\n",
        "Y_val =  np.reshape(val_y, (val_y.shape[0], 1, val_y.shape[1]))\n",
        "\n",
        "history = model.fit(X_train, Y_train,\n",
        "          batch_size=batch_size,\n",
        "          epochs=epochs,\n",
        "          validation_data=(X_val, Y_val))\n",
        "\n",
        "# history = model.fit(train_x, train_y,\n",
        "#           batch_size=batch_size,\n",
        "#           epochs=epochs,\n",
        "#           validation_data=(val_x, val_y))"
      ],
      "execution_count": 18,
      "outputs": [
        {
          "output_type": "stream",
          "text": [
            "Train on 1365722 samples, validate on 150815 samples\n",
            "Epoch 1/40\n",
            "1365722/1365722 [==============================] - 536s 393us/step - loss: 1.6589 - accuracy: 0.4303 - val_loss: 1.5738 - val_accuracy: 0.4460\n",
            "Epoch 2/40\n",
            "1365722/1365722 [==============================] - 533s 390us/step - loss: 1.4865 - accuracy: 0.4824 - val_loss: 1.5113 - val_accuracy: 0.4690\n",
            "Epoch 3/40\n",
            "1365722/1365722 [==============================] - 537s 393us/step - loss: 1.4201 - accuracy: 0.5063 - val_loss: 1.4765 - val_accuracy: 0.4807\n",
            "Epoch 4/40\n",
            "1365722/1365722 [==============================] - 540s 396us/step - loss: 1.3641 - accuracy: 0.5263 - val_loss: 1.4193 - val_accuracy: 0.4997\n",
            "Epoch 5/40\n",
            "1365722/1365722 [==============================] - 541s 396us/step - loss: 1.3162 - accuracy: 0.5435 - val_loss: 1.3825 - val_accuracy: 0.5162\n",
            "Epoch 6/40\n",
            "1365722/1365722 [==============================] - 542s 397us/step - loss: 1.2756 - accuracy: 0.5578 - val_loss: 1.3538 - val_accuracy: 0.5242\n",
            "Epoch 7/40\n",
            "1365722/1365722 [==============================] - 541s 396us/step - loss: 1.2413 - accuracy: 0.5696 - val_loss: 1.3227 - val_accuracy: 0.5376\n",
            "Epoch 8/40\n",
            "1365722/1365722 [==============================] - 542s 397us/step - loss: 1.2104 - accuracy: 0.5801 - val_loss: 1.2960 - val_accuracy: 0.5474\n",
            "Epoch 9/40\n",
            "1365722/1365722 [==============================] - 540s 395us/step - loss: 1.1837 - accuracy: 0.5895 - val_loss: 1.2807 - val_accuracy: 0.5520\n",
            "Epoch 10/40\n",
            "1365722/1365722 [==============================] - 537s 393us/step - loss: 1.1598 - accuracy: 0.5972 - val_loss: 1.2555 - val_accuracy: 0.5620\n",
            "Epoch 11/40\n",
            "1365722/1365722 [==============================] - 535s 392us/step - loss: 1.1368 - accuracy: 0.6054 - val_loss: 1.2451 - val_accuracy: 0.5642\n",
            "Epoch 12/40\n",
            "1365722/1365722 [==============================] - 536s 392us/step - loss: 1.1156 - accuracy: 0.6125 - val_loss: 1.2226 - val_accuracy: 0.5726\n",
            "Epoch 13/40\n",
            "1365722/1365722 [==============================] - 541s 396us/step - loss: 1.0971 - accuracy: 0.6184 - val_loss: 1.2035 - val_accuracy: 0.5797\n",
            "Epoch 14/40\n",
            "1365722/1365722 [==============================] - 542s 397us/step - loss: 1.0805 - accuracy: 0.6240 - val_loss: 1.1945 - val_accuracy: 0.5830\n",
            "Epoch 15/40\n",
            "1365722/1365722 [==============================] - 548s 401us/step - loss: 1.0650 - accuracy: 0.6288 - val_loss: 1.1869 - val_accuracy: 0.5845\n",
            "Epoch 16/40\n",
            "1365722/1365722 [==============================] - 549s 402us/step - loss: 1.0504 - accuracy: 0.6339 - val_loss: 1.1678 - val_accuracy: 0.5914\n",
            "Epoch 17/40\n",
            "1365722/1365722 [==============================] - 542s 397us/step - loss: 1.0359 - accuracy: 0.6388 - val_loss: 1.1595 - val_accuracy: 0.5929\n",
            "Epoch 18/40\n",
            "1365722/1365722 [==============================] - 543s 397us/step - loss: 1.0233 - accuracy: 0.6420 - val_loss: 1.1362 - val_accuracy: 0.6025\n",
            "Epoch 19/40\n",
            "1365722/1365722 [==============================] - 545s 399us/step - loss: 1.0114 - accuracy: 0.6458 - val_loss: 1.1338 - val_accuracy: 0.6024\n",
            "Epoch 20/40\n",
            "1365722/1365722 [==============================] - 544s 398us/step - loss: 1.0012 - accuracy: 0.6487 - val_loss: 1.1294 - val_accuracy: 0.6049\n",
            "Epoch 21/40\n",
            "1365722/1365722 [==============================] - 543s 398us/step - loss: 0.9924 - accuracy: 0.6516 - val_loss: 1.1318 - val_accuracy: 0.6052\n",
            "Epoch 22/40\n",
            "1365722/1365722 [==============================] - 543s 398us/step - loss: 0.9837 - accuracy: 0.6539 - val_loss: 1.1143 - val_accuracy: 0.6072\n",
            "Epoch 23/40\n",
            "1365722/1365722 [==============================] - 544s 398us/step - loss: 0.9755 - accuracy: 0.6568 - val_loss: 1.1108 - val_accuracy: 0.6098\n",
            "Epoch 24/40\n",
            "1365722/1365722 [==============================] - 545s 399us/step - loss: 0.9679 - accuracy: 0.6590 - val_loss: 1.1068 - val_accuracy: 0.6103\n",
            "Epoch 25/40\n",
            "1365722/1365722 [==============================] - 545s 399us/step - loss: 0.9611 - accuracy: 0.6609 - val_loss: 1.0944 - val_accuracy: 0.6160\n",
            "Epoch 26/40\n",
            "1365722/1365722 [==============================] - 545s 399us/step - loss: 0.9551 - accuracy: 0.6628 - val_loss: 1.0960 - val_accuracy: 0.6152\n",
            "Epoch 27/40\n",
            "1365722/1365722 [==============================] - 543s 398us/step - loss: 0.9489 - accuracy: 0.6649 - val_loss: 1.0874 - val_accuracy: 0.6182\n",
            "Epoch 28/40\n",
            "1365722/1365722 [==============================] - 544s 399us/step - loss: 0.9429 - accuracy: 0.6664 - val_loss: 1.0883 - val_accuracy: 0.6175\n",
            "Epoch 29/40\n",
            "1365722/1365722 [==============================] - 546s 399us/step - loss: 0.9382 - accuracy: 0.6679 - val_loss: 1.0785 - val_accuracy: 0.6221\n",
            "Epoch 30/40\n",
            "1365722/1365722 [==============================] - 542s 397us/step - loss: 0.9330 - accuracy: 0.6693 - val_loss: 1.0788 - val_accuracy: 0.6188\n",
            "Epoch 31/40\n",
            "1365722/1365722 [==============================] - 540s 395us/step - loss: 0.9282 - accuracy: 0.6710 - val_loss: 1.0725 - val_accuracy: 0.6211\n",
            "Epoch 32/40\n",
            "1365722/1365722 [==============================] - 540s 396us/step - loss: 0.9231 - accuracy: 0.6724 - val_loss: 1.0676 - val_accuracy: 0.6227\n",
            "Epoch 33/40\n",
            "1365722/1365722 [==============================] - 545s 399us/step - loss: 0.9182 - accuracy: 0.6738 - val_loss: 1.0646 - val_accuracy: 0.6263\n",
            "Epoch 34/40\n",
            "1365722/1365722 [==============================] - 545s 399us/step - loss: 0.9140 - accuracy: 0.6753 - val_loss: 1.0665 - val_accuracy: 0.6211\n",
            "Epoch 35/40\n",
            "1365722/1365722 [==============================] - 544s 398us/step - loss: 0.9093 - accuracy: 0.6765 - val_loss: 1.0796 - val_accuracy: 0.6186\n",
            "Epoch 36/40\n",
            "1365722/1365722 [==============================] - 542s 397us/step - loss: 0.9051 - accuracy: 0.6773 - val_loss: 1.0497 - val_accuracy: 0.6304\n",
            "Epoch 37/40\n",
            "1365722/1365722 [==============================] - 544s 398us/step - loss: 0.9014 - accuracy: 0.6788 - val_loss: 1.0610 - val_accuracy: 0.6259\n",
            "Epoch 38/40\n",
            "1365722/1365722 [==============================] - 543s 397us/step - loss: 0.8972 - accuracy: 0.6798 - val_loss: 1.0528 - val_accuracy: 0.6277\n",
            "Epoch 39/40\n",
            "1365722/1365722 [==============================] - 544s 398us/step - loss: 0.8936 - accuracy: 0.6813 - val_loss: 1.0523 - val_accuracy: 0.6265\n",
            "Epoch 40/40\n",
            "1365722/1365722 [==============================] - 544s 398us/step - loss: 0.8895 - accuracy: 0.6827 - val_loss: 1.0540 - val_accuracy: 0.6269\n"
          ],
          "name": "stdout"
        }
      ]
    },
    {
      "cell_type": "markdown",
      "metadata": {
        "id": "ysy1HMxVPGc1",
        "colab_type": "text"
      },
      "source": [
        "Построим графики для точности и функции стоимости относительно эпох"
      ]
    },
    {
      "cell_type": "code",
      "metadata": {
        "id": "QQVq9iJOEl4H",
        "colab_type": "code",
        "colab": {
          "base_uri": "https://localhost:8080/",
          "height": 499
        },
        "outputId": "bd95016c-fcef-471b-a932-4c65d3d44936"
      },
      "source": [
        "acc = history.history['accuracy']\n",
        "val_acc = history.history['val_accuracy']\n",
        "\n",
        "loss=history.history['loss']\n",
        "val_loss=history.history['val_loss']\n",
        "\n",
        "epochs_range = range(epochs)\n",
        "\n",
        "plt.figure(figsize=(8, 8))\n",
        "plt.subplot(1, 2, 1)\n",
        "plt.plot(epochs_range, acc, label='Training Accuracy')\n",
        "plt.plot(epochs_range, val_acc, label='Validation Accuracy')\n",
        "plt.legend(loc='lower right')\n",
        "plt.title('Training and Validation Accuracy')\n",
        "\n",
        "plt.subplot(1, 2, 2)\n",
        "plt.plot(epochs_range, loss, label='Training Loss')\n",
        "plt.plot(epochs_range, val_loss, label='Validation Loss')\n",
        "plt.legend(loc='upper right')\n",
        "plt.title('Training and Validation Loss')\n",
        "plt.show()"
      ],
      "execution_count": 19,
      "outputs": [
        {
          "output_type": "display_data",
          "data": {
            "image/png": "[encoded data removed]",
            "text/plain": [
              "<Figure size 576x576 with 2 Axes>"
            ]
          },
          "metadata": {
            "tags": [],
            "needs_background": "light"
          }
        }
      ]
    },
    {
      "cell_type": "markdown",
      "metadata": {
        "id": "mluZoR4XPM4T",
        "colab_type": "text"
      },
      "source": [
        "Сохраним предобученную сеть"
      ]
    },
    {
      "cell_type": "markdown",
      "metadata": {
        "id": "B6M7ii5aUq3w",
        "colab_type": "text"
      },
      "source": [
        ""
      ]
    },
    {
      "cell_type": "code",
      "metadata": {
        "id": "mtOTGhdTPPbj",
        "colab_type": "code",
        "colab": {
          "base_uri": "https://localhost:8080/",
          "height": 17
        },
        "outputId": "91461d54-9abe-45ee-a4eb-5d5d95874d81"
      },
      "source": [
        "model.save('Accents_LSTM-/resUnet_model.h5')\n",
        "files.download('Accents_LSTM-/resUnet_model.h5')"
      ],
      "execution_count": 20,
      "outputs": [
        {
          "output_type": "display_data",
          "data": {
            "application/javascript": [
              "\n",
              "    async function download(id, filename, size) {\n",
              "      if (!google.colab.kernel.accessAllowed) {\n",
              "        return;\n",
              "      }\n",
              "      const div = document.createElement('div');\n",
              "      const label = document.createElement('label');\n",
              "      label.textContent = `Downloading \"${filename}\": `;\n",
              "      div.appendChild(label);\n",
              "      const progress = document.createElement('progress');\n",
              "      progress.max = size;\n",
              "      div.appendChild(progress);\n",
              "      document.body.appendChild(div);\n",
              "\n",
              "      const buffers = [];\n",
              "      let downloaded = 0;\n",
              "\n",
              "      const channel = await google.colab.kernel.comms.open(id);\n",
              "      // Send a message to notify the kernel that we're ready.\n",
              "      channel.send({})\n",
              "\n",
              "      for await (const message of channel.messages) {\n",
              "        // Send a message to notify the kernel that we're ready.\n",
              "        channel.send({})\n",
              "        if (message.buffers) {\n",
              "          for (const buffer of message.buffers) {\n",
              "            buffers.push(buffer);\n",
              "            downloaded += buffer.byteLength;\n",
              "            progress.value = downloaded;\n",
              "          }\n",
              "        }\n",
              "      }\n",
              "      const blob = new Blob(buffers, {type: 'application/binary'});\n",
              "      const a = document.createElement('a');\n",
              "      a.href = window.URL.createObjectURL(blob);\n",
              "      a.download = filename;\n",
              "      div.appendChild(a);\n",
              "      a.click();\n",
              "      div.remove();\n",
              "    }\n",
              "  "
            ],
            "text/plain": [
              "<IPython.core.display.Javascript object>"
            ]
          },
          "metadata": {
            "tags": []
          }
        },
        {
          "output_type": "display_data",
          "data": {
            "application/javascript": [
              "download(\"download_82a43f49-8f63-4a6b-b0d7-00b0a6cdc254\", \"resUnet_model.h5\", 2851672)"
            ],
            "text/plain": [
              "<IPython.core.display.Javascript object>"
            ]
          },
          "metadata": {
            "tags": []
          }
        }
      ]
    },
    {
      "cell_type": "markdown",
      "metadata": {
        "id": "xtxKf1tWPUD6",
        "colab_type": "text"
      },
      "source": [
        "Сохраним датасет на компьютер"
      ]
    },
    {
      "cell_type": "code",
      "metadata": {
        "id": "v880E_ziPTpr",
        "colab_type": "code",
        "colab": {}
      },
      "source": [
        "files.download('Accents_LSTM-/Data.csv')"
      ],
      "execution_count": null,
      "outputs": []
    },
    {
      "cell_type": "markdown",
      "metadata": {
        "id": "uthB_jpMPY2r",
        "colab_type": "text"
      },
      "source": [
        "# Тесты на обученной модели"
      ]
    },
    {
      "cell_type": "code",
      "metadata": {
        "id": "AL3HlRggPa4K",
        "colab_type": "code",
        "colab": {}
      },
      "source": [
        "model = load_model('Accents_LSTM-/Unet_model.h5')"
      ],
      "execution_count": null,
      "outputs": []
    },
    {
      "cell_type": "code",
      "metadata": {
        "id": "DPDt2ExiPcBT",
        "colab_type": "code",
        "colab": {}
      },
      "source": [
        "model.compile(optimizer='adam',\n",
        "                  loss=tf.keras.losses.CategoricalCrossentropy(from_logits=False, name='categorical_crossentropy'),\n",
        "                  metrics=['accuracy'])"
      ],
      "execution_count": null,
      "outputs": []
    },
    {
      "cell_type": "markdown",
      "metadata": {
        "id": "iMZQuGlYPd86",
        "colab_type": "text"
      },
      "source": [
        "Предскажем позицию ударения для тестовых данных"
      ]
    },
    {
      "cell_type": "code",
      "metadata": {
        "id": "p_ImGG4CPfQi",
        "colab_type": "code",
        "colab": {}
      },
      "source": [
        "X_test = np.reshape(test_x, (test_x.shape[0], test_x.shape[1], 1))\n",
        "Y_test = np.reshape(test_y, (test_y.shape[0], 1, test_y.shape[1]))\n",
        "\n",
        "acc_pred = model.predict(X_test)\n",
        "\n",
        "test_accur = 0\n",
        "for i in range(len(acc_pred)):\n",
        "    if acc_pred[i].argmax() == Y_test[i].argmax():\n",
        "        test_accur = test_accur + 1\n",
        "test_accur = test_accur/len(acc_pred)"
      ],
      "execution_count": null,
      "outputs": []
    },
    {
      "cell_type": "code",
      "metadata": {
        "id": "58jKIJcRPgoC",
        "colab_type": "code",
        "colab": {
          "base_uri": "https://localhost:8080/",
          "height": 34
        },
        "outputId": "1241d1d0-5513-452f-dd16-ee8dbdbef70a"
      },
      "source": [
        "print('Точность на тестовой выборке: ',test_accur)"
      ],
      "execution_count": null,
      "outputs": [
        {
          "output_type": "stream",
          "text": [
            "Точность на тестовой выборке:  0.7304533418134895\n"
          ],
          "name": "stdout"
        }
      ]
    },
    {
      "cell_type": "markdown",
      "metadata": {
        "id": "_ACQyhAaPjia",
        "colab_type": "text"
      },
      "source": [
        "Метод для возвращения ключа по значению"
      ]
    },
    {
      "cell_type": "code",
      "metadata": {
        "id": "77QliQsaPkzi",
        "colab_type": "code",
        "colab": {}
      },
      "source": [
        "def get_key(d, value):\n",
        "    for k, v in d.items():\n",
        "        if v == value:\n",
        "            return k"
      ],
      "execution_count": null,
      "outputs": []
    },
    {
      "cell_type": "markdown",
      "metadata": {
        "id": "WSFAAwCkPmMy",
        "colab_type": "text"
      },
      "source": [
        "Визуализация предсказанных ударений и их сравнение с ответами"
      ]
    },
    {
      "cell_type": "code",
      "metadata": {
        "id": "ZjdS4PFfPnXy",
        "colab_type": "code",
        "colab": {
          "base_uri": "https://localhost:8080/",
          "height": 391
        },
        "outputId": "82b2213c-79b1-44a5-ac38-f5217fb50b81"
      },
      "source": [
        "for i in range(N):\n",
        "    slovo = ''\n",
        "    for j in range(len(X_test[i*100])):\n",
        "        if X_test[i*100][j] != 0:\n",
        "            slovo = slovo + get_key(alphabet, X_test[i*100][j])\n",
        "        else:\n",
        "            break\n",
        "    template = slovo[:Y_test[i*100].argmax() + 1] + '\\'' + slovo[Y_test[i*100].argmax() + 1:]\n",
        "    nn_sample = slovo[:acc_pred[i*100].argmax() + 1] + '\\'' + slovo[acc_pred[i*100].argmax() + 1:]\n",
        "    \n",
        "    if (acc_pred[i*100].argmax() != Y_test[i*100].argmax()):\n",
        "      print('Эталон   : ' , template)\n",
        "      print('Ошибка!  : ' , nn_sample)\n",
        "    else:\n",
        "      print('Результат: ' , nn_sample)\n",
        "    print()"
      ],
      "execution_count": null,
      "outputs": [
        {
          "output_type": "stream",
          "text": [
            "Результат:  дощу'пываем\n",
            "\n",
            "Результат:  аслаха'нове\n",
            "\n",
            "Результат:  вы'ходами\n",
            "\n",
            "Результат:  выхола'живаем\n",
            "\n",
            "Эталон   :  вы'холена\n",
            "Ошибка!  :  выхоле'на\n",
            "\n",
            "Результат:  негла'дкая\n",
            "\n",
            "Результат:  взбега'вшим\n",
            "\n",
            "Результат:  взбеси'вшееся\n",
            "\n",
            "Результат:  сооружа'вшеюся\n",
            "\n",
            "Эталон   :  сооруже'нные\n",
            "Ошибка!  :  соору'женные\n",
            "\n"
          ],
          "name": "stdout"
        }
      ]
    }
  ]
}