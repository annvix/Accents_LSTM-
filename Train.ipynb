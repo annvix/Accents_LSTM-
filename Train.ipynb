{
  "nbformat": 4,
  "nbformat_minor": 0,
  "metadata": {
    "colab": {
      "name": "Train.ipynb",
      "provenance": [],
      "authorship_tag": "ABX9TyOQYSLOle7zX6eImZEzqUNv",
      "include_colab_link": true
    },
    "kernelspec": {
      "name": "python3",
      "display_name": "Python 3"
    },
    "accelerator": "GPU"
  },
  "cells": [
    {
      "cell_type": "markdown",
      "metadata": {
        "id": "view-in-github",
        "colab_type": "text"
      },
      "source": [
        "<a href=\"https://colab.research.google.com/github/annvix/Accents_LSTM-/blob/master/Train.ipynb\" target=\"_parent\"><img src=\"https://colab.research.google.com/assets/colab-badge.svg\" alt=\"Open In Colab\"/></a>"
      ]
    },
    {
      "cell_type": "markdown",
      "metadata": {
        "id": "T_VLKOujC_rX",
        "colab_type": "text"
      },
      "source": [
        "# Клонирование проекта с GitHub\n",
        "Подключение библиотек"
      ]
    },
    {
      "cell_type": "code",
      "metadata": {
        "id": "VlS_cuswCwMh",
        "colab_type": "code",
        "colab": {
          "base_uri": "https://localhost:8080/",
          "height": 134
        },
        "outputId": "ec4c32f5-cbc3-424c-8569-5eeffc7671d6"
      },
      "source": [
        "!git clone https://github.com/annvix/Accents_LSTM-.git"
      ],
      "execution_count": null,
      "outputs": [
        {
          "output_type": "stream",
          "text": [
            "Cloning into 'Accents_LSTM-'...\n",
            "remote: Enumerating objects: 64, done.\u001b[K\n",
            "remote: Counting objects: 100% (64/64), done.\u001b[K\n",
            "remote: Compressing objects: 100% (64/64), done.\u001b[K\n",
            "remote: Total 159 (delta 27), reused 0 (delta 0), pack-reused 95\u001b[K\n",
            "Receiving objects: 100% (159/159), 23.00 MiB | 8.05 MiB/s, done.\n",
            "Resolving deltas: 100% (76/76), done.\n"
          ],
          "name": "stdout"
        }
      ]
    },
    {
      "cell_type": "code",
      "metadata": {
        "id": "YJD1wZrtCyKu",
        "colab_type": "code",
        "colab": {
          "base_uri": "https://localhost:8080/",
          "height": 33
        },
        "outputId": "b140f5e5-a661-4f67-f10b-c7d9bf81181a"
      },
      "source": [
        "from google.colab import files\n",
        "import matplotlib.pyplot as plt\n",
        "import numpy as np\n",
        "import random\n",
        "import tensorflow as tf\n",
        "\n",
        "from keras.layers import *\n",
        "from keras.models import *\n",
        "from keras.optimizers import *\n",
        "from tensorflow.keras.preprocessing import sequence"
      ],
      "execution_count": null,
      "outputs": [
        {
          "output_type": "stream",
          "text": [
            "Using TensorFlow backend.\n"
          ],
          "name": "stderr"
        }
      ]
    },
    {
      "cell_type": "markdown",
      "metadata": {
        "id": "Hxy2Tf3HC8SG",
        "colab_type": "text"
      },
      "source": [
        "# Загрузка и предобработка данных"
      ]
    },
    {
      "cell_type": "markdown",
      "metadata": {
        "id": "qPO_cZhNDFkZ",
        "colab_type": "text"
      },
      "source": [
        "Добавляем алфавит для кодирования букв"
      ]
    },
    {
      "cell_type": "code",
      "metadata": {
        "id": "L_s1YhMsDJpn",
        "colab_type": "code",
        "colab": {}
      },
      "source": [
        "alphabet =   {'а' : 1, 'б' : 2, 'в' : 3, 'г' : 4, 'д' : 5, 'е' : 6, 'ё' : 7, 'ж' : 8, 'з' : 9,\n",
        "             'и' : 10, 'й' : 11, 'к' : 12, 'л' : 13, 'м' : 14, 'н' : 15, 'о' : 16, 'п' : 17, 'р' : 18,\n",
        "             'с' : 19, 'т' : 20, 'у' : 21, 'ф' : 22, 'х' : 23, 'ц' : 24, 'ч' : 25, 'ш' : 26, 'щ' : 27,\n",
        "             'ъ' : 28, 'ы' : 29, 'ь' : 30, 'э' : 31, 'ю' : 32, 'я' : 33}\n",
        "\n",
        "N = 10 #Количество слов для вывода"
      ],
      "execution_count": null,
      "outputs": []
    },
    {
      "cell_type": "code",
      "metadata": {
        "id": "vF3ppBjJC0tA",
        "colab_type": "code",
        "colab": {
          "base_uri": "https://localhost:8080/",
          "height": 84
        },
        "outputId": "6fdc2f2d-85c3-4967-a2f4-b4d7eb959028"
      },
      "source": [
        "with open('Accents_LSTM-/Data.csv', 'r') as f:\n",
        "    all_accents = f.readlines()\n",
        "data_len = len(all_accents)\n",
        "\n",
        "print('Всего слов:', data_len)\n",
        "max_len = len(max(all_accents, key=len)) //2 - 1\n",
        "print('Максимальная длина слова:', max_len)\n",
        "print('Слово:', max(all_accents, key=len))\n",
        "number_of_classes = 32#max_len + 1"
      ],
      "execution_count": null,
      "outputs": [
        {
          "output_type": "stream",
          "text": [
            "Всего слов: 1678878\n",
            "Максимальная длина слова: 29\n",
            "Слово: административнодисциплинарный,административнодисципл'инарный\n",
            "\n"
          ],
          "name": "stdout"
        }
      ]
    },
    {
      "cell_type": "markdown",
      "metadata": {
        "id": "-4VFuCnRiU_1",
        "colab_type": "text"
      },
      "source": [
        "Группировка слов по первым буквам"
      ]
    },
    {
      "cell_type": "code",
      "metadata": {
        "id": "6B28DPW5iT1v",
        "colab_type": "code",
        "colab": {
          "base_uri": "https://localhost:8080/",
          "height": 33
        },
        "outputId": "1fd06f71-22bd-4209-832a-5ecebae1af69"
      },
      "source": [
        "word_groups = []\n",
        "group  = []\n",
        "group.append(all_accents[0])\n",
        "\n",
        "for i in range(1, data_len):\n",
        "    if group[0][:4] == all_accents[i][:4]:\n",
        "        group.append(all_accents[i])\n",
        "    else:\n",
        "        word_groups.append(group)\n",
        "        group  = []\n",
        "        group.append(all_accents[i])\n",
        "print('Количество групп: ', len(word_groups))\n",
        "random.shuffle(word_groups)"
      ],
      "execution_count": null,
      "outputs": [
        {
          "output_type": "stream",
          "text": [
            "Количество групп:  42078\n"
          ],
          "name": "stdout"
        }
      ]
    },
    {
      "cell_type": "code",
      "metadata": {
        "id": "IijHxgDqlPY2",
        "colab_type": "code",
        "colab": {
          "base_uri": "https://localhost:8080/",
          "height": 222
        },
        "outputId": "16f9b363-28c1-4df1-dc7c-e355789b2568"
      },
      "source": [
        "print('Группы слов:')\n",
        "for i in range (N):\n",
        "  print(word_groups[i])"
      ],
      "execution_count": null,
      "outputs": [
        {
          "output_type": "stream",
          "text": [
            "Группы слов:\n",
            "[\"рузвельт,р'узвельт\\n\", \"рузвельта,р'узвельта\\n\", \"рузвельте,р'узвельте\\n\", \"рузвельтит,рузвельт'ит\\n\", \"рузвельтом,р'узвельтом\\n\", \"рузвельту,р'узвельту\\n\"]\n",
            "[\"шагу,ш'агу\\n\", \"шагун,шаг'ун\\n\"]\n",
            "[\"описавшая,опис'авшая\\n\", \"описавшаяся,опис'авшаяся\\n\", \"описавшего,опис'авшего\\n\", \"описавшегося,опис'авшегося\\n\", \"описавшее,опис'авшее\\n\", \"описавшееся,опис'авшееся\\n\", \"описавшей,опис'авшей\\n\", \"описавшейся,опис'авшейся\\n\", \"описавшем,опис'авшем\\n\", \"описавшемся,опис'авшемся\\n\", \"описавшему,опис'авшему\\n\", \"описавшемуся,опис'авшемуся\\n\", \"описавшею,опис'авшею\\n\", \"описавшеюся,опис'авшеюся\\n\", \"описавшие,опис'авшие\\n\", \"описавшиеся,опис'авшиеся\\n\", \"описавший,опис'авший\\n\", \"описавшийся,опис'авшийся\\n\", \"описавшим,опис'авшим\\n\", \"описавшими,опис'авшими\\n\", \"описавшимися,опис'авшимися\\n\", \"описавшимся,опис'авшимся\\n\", \"описавших,опис'авших\\n\", \"описавшихся,опис'авшихся\\n\", \"описавшую,опис'авшую\\n\", \"описавшуюся,опис'авшуюся\\n\", \"описаемся,опис'аемся\\n\", \"описаетесь,опис'аетесь\\n\", \"описается,опис'ается\\n\", \"описаешься,опис'аешься\\n\", \"описайся,опис'айся\\n\", \"описайтесь,опис'айтесь\\n\", \"описал,опис'ал\\n\", \"описала,опис'ала\\n\", \"описалась,опис'алась\\n\", \"описали,опис'али\\n\", \"описались,опис'ались\\n\", \"описало,опис'ало\\n\", \"описалось,опис'алось\\n\", \"описался,опис'ался\\n\", \"описан,оп'исан\\n\", \"описана,оп'исана\\n\", \"описание,опис'ание\\n\", \"описанием,опис'анием\\n\", \"описании,опис'ании\\n\", \"описаний,опис'аний\\n\", \"описанию,опис'анию\\n\", \"описания,опис'ания\\n\", \"описаниям,опис'аниям\\n\", \"описаниями,опис'аниями\\n\", \"описаниях,опис'аниях\\n\", \"описанная,оп'исанная\\n\", \"описанного,оп'исанного\\n\", \"описанное,оп'исанное\\n\", \"описанной,оп'исанной\\n\", \"описанном,оп'исанном\\n\", \"описанному,оп'исанному\\n\", \"описанною,оп'исанною\\n\", \"описанную,оп'исанную\\n\", \"описанные,оп'исанные\\n\", \"описанный,оп'исанный\\n\", \"описанным,оп'исанным\\n\", \"описанными,оп'исанными\\n\", \"описанных,оп'исанных\\n\", \"описано,оп'исано\\n\", \"описаны,оп'исаны\\n\", \"описася,опис'ася\\n\", \"описателе,опис'ателе\\n\", \"описателей,опис'ателей\\n\", \"описателем,опис'ателем\\n\", \"описателен,опис'ателен\\n\", \"описатели,опис'атели\\n\", \"описатель,опис'атель\\n\", \"описательная,опис'ательная\\n\", \"описательно,опис'ательно\\n\", \"описательного,опис'ательного\\n\", \"описательное,опис'ательное\\n\", \"описательной,опис'ательной\\n\", \"описательном,опис'ательном\\n\", \"описательному,опис'ательному\\n\", \"описательности,опис'ательности\\n\", \"описательность,опис'ательность\\n\", \"описательностью,опис'ательностью\\n\", \"описательною,опис'ательною\\n\", \"описательную,опис'ательную\\n\", \"описательны,опис'ательны\\n\", \"описательные,опис'ательные\\n\", \"описательный,опис'ательный\\n\", \"описательным,опис'ательным\\n\", \"описательными,опис'ательными\\n\", \"описательных,опис'ательных\\n\", \"описательства,опис'ательства\\n\", \"описательство,опис'ательство\\n\", \"описателю,опис'ателю\\n\", \"описателя,опис'ателя\\n\", \"описателям,опис'ателям\\n\", \"описателями,опис'ателями\\n\", \"описателях,опис'ателях\\n\", \"описать,опис'ать\\n\", \"описаться,опис'аться\\n\", \"описаюсь,опис'аюсь\\n\", \"описаются,опис'аются\\n\", \"описей,'описей\\n\", \"описи,'описи\\n\", \"описка,оп'иска\\n\", \"опискам,оп'искам\\n\", \"описками,оп'исками\\n\", \"описках,оп'исках\\n\", \"описке,оп'иске\\n\", \"описки,оп'иски\\n\", \"опиской,оп'иской\\n\", \"опискою,оп'искою\\n\", \"описку,оп'иску\\n\", \"описок,оп'исок\\n\", \"опистодом,опистод'ом\\n\", \"описторхоз,описторх'оз\\n\", \"описывавшая,оп'исывавшая\\n\", \"описывавшаяся,оп'исывавшаяся\\n\", \"описывавшего,оп'исывавшего\\n\", \"описывавшегося,оп'исывавшегося\\n\", \"описывавшее,оп'исывавшее\\n\", \"описывавшееся,оп'исывавшееся\\n\", \"описывавшей,оп'исывавшей\\n\", \"описывавшейся,оп'исывавшейся\\n\", \"описывавшем,оп'исывавшем\\n\", \"описывавшемся,оп'исывавшемся\\n\", \"описывавшему,оп'исывавшему\\n\", \"описывавшемуся,оп'исывавшемуся\\n\", \"описывавшею,оп'исывавшею\\n\", \"описывавшеюся,оп'исывавшеюся\\n\", \"описывавшие,оп'исывавшие\\n\", \"описывавшиеся,оп'исывавшиеся\\n\", \"описывавший,оп'исывавший\\n\", \"описывавшийся,оп'исывавшийся\\n\", \"описывавшим,оп'исывавшим\\n\", \"описывавшими,оп'исывавшими\\n\", \"описывавшимися,оп'исывавшимися\\n\", \"описывавшимся,оп'исывавшимся\\n\", \"описывавших,оп'исывавших\\n\", \"описывавшихся,оп'исывавшихся\\n\", \"описывавшую,оп'исывавшую\\n\", \"описывавшуюся,оп'исывавшуюся\\n\", \"описываем,оп'исываем\\n\", \"описываема,оп'исываема\\n\", \"описываемая,оп'исываемая\\n\", \"описываемо,оп'исываемо\\n\", \"описываемого,оп'исываемого\\n\", \"описываемое,оп'исываемое\\n\", \"описываемой,оп'исываемой\\n\", \"описываемом,оп'исываемом\\n\", \"описываемому,оп'исываемому\\n\", \"описываемою,оп'исываемою\\n\", \"описываемся,оп'исываемся\\n\", \"описываемую,оп'исываемую\\n\", \"описываемы,оп'исываемы\\n\", \"описываемые,оп'исываемые\\n\", \"описываемый,оп'исываемый\\n\", \"описываемым,оп'исываемым\\n\", \"описываемыми,оп'исываемыми\\n\", \"описываемых,оп'исываемых\\n\", \"описывает,оп'исывает\\n\", \"описываете,оп'исываете\\n\", \"описываетесь,оп'исываетесь\\n\", \"описывается,оп'исывается\\n\", \"описываешь,оп'исываешь\\n\", \"описываешься,оп'исываешься\\n\", \"описывай,оп'исывай\\n\", \"описывайся,оп'исывайся\\n\", \"описывайте,оп'исывайте\\n\", \"описывайтесь,оп'исывайтесь\\n\", \"описывал,оп'исывал\\n\", \"описывала,оп'исывала\\n\", \"описывалась,оп'исывалась\\n\", \"описывали,оп'исывали\\n\", \"описывались,оп'исывались\\n\", \"описывало,оп'исывало\\n\", \"описывалось,оп'исывалось\\n\", \"описывался,оп'исывался\\n\", \"описывать,оп'исывать\\n\", \"описываться,оп'исываться\\n\", \"описываю,оп'исываю\\n\", \"описываюсь,оп'исываюсь\\n\", \"описывают,оп'исывают\\n\", \"описываются,оп'исываются\\n\", \"описывающая,оп'исывающая\\n\", \"описывающаяся,оп'исывающаяся\\n\", \"описывающего,оп'исывающего\\n\", \"описывающегося,оп'исывающегося\\n\", \"описывающее,оп'исывающее\\n\", \"описывающееся,оп'исывающееся\\n\", \"описывающей,оп'исывающей\\n\", \"описывающейся,оп'исывающейся\\n\", \"описывающем,оп'исывающем\\n\", \"описывающемся,оп'исывающемся\\n\", \"описывающему,оп'исывающему\\n\", \"описывающемуся,оп'исывающемуся\\n\", \"описывающею,оп'исывающею\\n\", \"описывающеюся,оп'исывающеюся\\n\", \"описывающие,оп'исывающие\\n\", \"описывающиеся,оп'исывающиеся\\n\", \"описывающий,оп'исывающий\\n\", \"описывающийся,оп'исывающийся\\n\", \"описывающим,оп'исывающим\\n\", \"описывающими,оп'исывающими\\n\", \"описывающимися,оп'исывающимися\\n\", \"описывающимся,оп'исывающимся\\n\", \"описывающих,оп'исывающих\\n\", \"описывающихся,оп'исывающихся\\n\", \"описывающую,оп'исывающую\\n\", \"описывающуюся,оп'исывающуюся\\n\", \"описываясь,оп'исываясь\\n\", \"опись,'опись\\n\", \"описью,'описью\\n\", \"описям,'описям\\n\", \"описями,'описями\\n\", \"описях,'описях\\n\"]\n",
            "[\"урбен,урб'ен\\n\", \"урбеч,урб'еч\\n\"]\n",
            "[\"иною,ин'ою\\n\"]\n",
            "[\"туч,т'уч\\n\"]\n",
            "[\"игого,игог'о\\n\", \"игогокать,игог'окать\\n\"]\n",
            "[\"шоном,ш'оном\\n\"]\n",
            "[\"кегумс,к'егумс\\n\"]\n",
            "[\"иена,и'ена\\n\"]\n"
          ],
          "name": "stdout"
        }
      ]
    },
    {
      "cell_type": "markdown",
      "metadata": {
        "id": "6TaVCPOAEWzV",
        "colab_type": "text"
      },
      "source": [
        "Разделим данные на тренировочные, валидационные и тестовые"
      ]
    },
    {
      "cell_type": "code",
      "metadata": {
        "id": "iGG6QYiAEYcd",
        "colab_type": "code",
        "colab": {}
      },
      "source": [
        "train_frac = 0.8\n",
        "val_frac = 0.1\n",
        "test_frac = 0.1\n",
        "\n",
        "def train_test_val_words(words):\n",
        "    return (words[:int(len(words)*train_frac)], \n",
        "words[int(len(words)*train_frac) : (int(len(words)*train_frac) + int(len(words)*val_frac))], \n",
        "words[(int(len(words)*train_frac) + int(len(words)*val_frac)):])\n",
        "    \n",
        "\n",
        "for_train, for_val, for_test = train_test_val_words(word_groups)"
      ],
      "execution_count": null,
      "outputs": []
    },
    {
      "cell_type": "code",
      "metadata": {
        "id": "mwYoVsRvtycD",
        "colab_type": "code",
        "colab": {}
      },
      "source": [
        "def words_to_num(my_words):\n",
        "  words, accents = [], []\n",
        "  for i in range (len(my_words)):\n",
        "      str = my_words[i].replace('\\n', '').split(',')\n",
        "      words.append(str[0])\n",
        "      accents.append(str[1])\n",
        "\n",
        "  words_int = np.zeros((len(my_words), number_of_classes), dtype=int)\n",
        "  accents_int = np.zeros((len(my_words),number_of_classes), dtype=int)\n",
        "  \n",
        "  for i in range(len(words)):\n",
        "    for j in range(len(words[i])):\n",
        "        words_int[i][j]= alphabet[words[i][j]]\n",
        "        \n",
        "    acc = accents[i].find(\"'\")\n",
        "    if (acc != -1):\n",
        "        accents_int[i][acc] = 1\n",
        "        if accents[i][acc + 1:].find(\"'\") != -1:\n",
        "          print('В слове два ударения:', accents[i])\n",
        "    else:\n",
        "        accents_int[i][number_of_classes - 1] = 1\n",
        "        print('Нет ударения: ', words[i])\n",
        "  return words_int, accents_int"
      ],
      "execution_count": null,
      "outputs": []
    },
    {
      "cell_type": "code",
      "metadata": {
        "id": "hN5CsYmlzq7b",
        "colab_type": "code",
        "colab": {
          "base_uri": "https://localhost:8080/",
          "height": 235
        },
        "outputId": "deef06fd-04b1-4bfd-f51d-c4b439d3684b"
      },
      "source": [
        "train_x, train_y= [], []\n",
        "for i in range(len(for_train)):\n",
        "  w, a = words_to_num(for_train[i])\n",
        "  for j in range(len(for_train[i])):\n",
        "    train_x.append(w[j])\n",
        "    train_y.append(a[j])\n",
        "  \n",
        "val_x, val_y= [], []\n",
        "for i in range(len(for_val)):\n",
        "  w, a = words_to_num(for_val[i])\n",
        "  for j in range(len(for_val[i])):\n",
        "    val_x.append(w[j])\n",
        "    val_y.append(a[j])\n",
        "\n",
        "test_x, test_y= [], []\n",
        "for i in range(len(for_test)):\n",
        "  w, a = words_to_num(for_test[i])\n",
        "  for j in range(len(for_test[i])):\n",
        "    test_x.append(w[j])\n",
        "    test_y.append(a[j])\n"
      ],
      "execution_count": null,
      "outputs": [
        {
          "output_type": "stream",
          "text": [
            "Нет ударения:  гм\n",
            "Нет ударения:  хм\n",
            "Нет ударения:  к\n",
            "Нет ударения:  брр\n",
            "Нет ударения:  тсс\n",
            "Нет ударения:  ж\n",
            "Нет ударения:  с\n",
            "В слове два ударения: обагр'я'ясь\n",
            "Нет ударения:  в\n",
            "Нет ударения:  кш\n",
            "Нет ударения:  ль\n",
            "Нет ударения:  б\n",
            "Нет ударения:  мм\n"
          ],
          "name": "stdout"
        }
      ]
    },
    {
      "cell_type": "code",
      "metadata": {
        "id": "ht7ESXP73sAL",
        "colab_type": "code",
        "colab": {}
      },
      "source": [
        "test_x = np.array(test_x) \n",
        "train_x = np.array(train_x) \n",
        "val_x = np.array(val_x) \n",
        "\n",
        "test_y = np.array(test_y) \n",
        "train_y = np.array(train_y) \n",
        "val_y = np.array(val_y) "
      ],
      "execution_count": null,
      "outputs": []
    },
    {
      "cell_type": "code",
      "metadata": {
        "id": "BUmG7qeVDnnj",
        "colab_type": "code",
        "colab": {
          "base_uri": "https://localhost:8080/",
          "height": 84
        },
        "outputId": "658db513-05bb-4af6-945b-7b16eca9ed21"
      },
      "source": [
        "print(\"\\t\\t\\t Размеры:\")\n",
        "print(\"Train set: \\t\\t{}\".format(test_x.shape), \n",
        "      \"\\nValidation set: \\t{}\".format(train_x.shape),\n",
        "      \"\\nTest set: \\t\\t{}\".format(val_x.shape))"
      ],
      "execution_count": null,
      "outputs": [
        {
          "output_type": "stream",
          "text": [
            "\t\t\t Размеры:\n",
            "Train set: \t\t(168071, 32) \n",
            "Validation set: \t(1327635, 32) \n",
            "Test set: \t\t(183171, 32)\n"
          ],
          "name": "stdout"
        }
      ]
    },
    {
      "cell_type": "markdown",
      "metadata": {
        "id": "QujGu0enEdmW",
        "colab_type": "text"
      },
      "source": [
        "# Моделирование нейронной сети"
      ]
    },
    {
      "cell_type": "markdown",
      "metadata": {
        "id": "5h41aFc53JWg",
        "colab_type": "text"
      },
      "source": [
        "# LSTM"
      ]
    },
    {
      "cell_type": "code",
      "metadata": {
        "id": "ia0lLhvOEbkS",
        "colab_type": "code",
        "colab": {}
      },
      "source": [
        "# max_features = len(alphabet) + 1\n",
        "# max_features"
      ],
      "execution_count": null,
      "outputs": []
    },
    {
      "cell_type": "code",
      "metadata": {
        "id": "EfOKOkYhl7vb",
        "colab_type": "code",
        "colab": {}
      },
      "source": [
        "# # LSTM model\n",
        "# model = Sequential()\n",
        "# model.add(Embedding(input_dim = max_features, output_dim = number_of_classes, input_length=number_of_classes))\n",
        "# model.add(LSTM(128, dropout=0.2, recurrent_dropout=0.2))\n",
        "# model.add(Dense(256, activation='relu')) #256\n",
        "# model.add(Dense(256, activation='relu'))\n",
        "# model.add(Dense(number_of_classes, activation='softmax'))\n",
        "\n",
        "# model.compile(loss='categorical_crossentropy')"
      ],
      "execution_count": null,
      "outputs": []
    },
    {
      "cell_type": "code",
      "metadata": {
        "id": "dfmwLBY93Xrw",
        "colab_type": "code",
        "colab": {}
      },
      "source": [
        "# #LSTM\n",
        "# history = model.fit(train_x, train_y,\n",
        "#           batch_size=batch_size,\n",
        "#           epochs=epochs,\n",
        "#           validation_data=(val_x, val_y))"
      ],
      "execution_count": null,
      "outputs": []
    },
    {
      "cell_type": "markdown",
      "metadata": {
        "id": "4vFblr0u3aAy",
        "colab_type": "text"
      },
      "source": [
        "# U-net"
      ]
    },
    {
      "cell_type": "code",
      "metadata": {
        "id": "GZYbM9i87pAj",
        "colab_type": "code",
        "colab": {}
      },
      "source": [
        "# def unet(input_size = (number_of_classes, 1)):\n",
        "\n",
        "#     inputs = Input(input_size)\n",
        "\n",
        "#     conv1 = Conv1D(64, 2, activation = 'relu')(inputs)\n",
        "#     conv1 = Conv1D(64, 2, activation = 'relu')(conv1)\n",
        "#     pool1 = MaxPooling1D(pool_size=2)(conv1)\n",
        "\n",
        "#     conv2 = Conv1D(128, 2, activation = 'relu', kernel_initializer = 'he_normal')(pool1)\n",
        "#     conv2 = Conv1D(128, 2, activation = 'relu', kernel_initializer = 'he_normal')(conv2)\n",
        "#     drop2 = Dropout(0.5)(conv2)\n",
        "#     pool2 = MaxPooling1D(pool_size=2)(conv2)\n",
        "\n",
        "#     conv3 = Conv1D(256, 2, activation = 'relu', kernel_initializer = 'he_normal')(pool2)\n",
        "#     conv3 = Conv1D(256, 2, activation = 'relu', kernel_initializer = 'he_normal')(conv3)\n",
        "#     drop3 = Dropout(0.5)(conv2)\n",
        "\n",
        "#     up4 = Conv1D(128, 2, activation = 'relu', kernel_initializer = 'he_normal')(UpSampling1D(size = 2)(drop3))\n",
        "#     merge4 = concatenate([drop2,up4], axis = 1)\n",
        "#     conv4 = Conv1D(128, 2, activation = 'relu', kernel_initializer = 'he_normal')(merge4)\n",
        "#     conv4 = Conv1D(128, 2, activation = 'relu', kernel_initializer = 'he_normal')(conv4)\n",
        "\n",
        "#     up5 = Conv1D(64, 2, activation = 'relu', kernel_initializer = 'he_normal')(UpSampling1D(size = 2)(conv4))\n",
        "#     merge5 = concatenate([conv1,up5], axis = 1)\n",
        "#     conv5 = Conv1D(64, 2, activation = 'relu', kernel_initializer = 'he_normal')(merge5)\n",
        "#     conv5 = Conv1D(64, 2, activation = 'relu', kernel_initializer = 'he_normal')(conv5)\n",
        "#     conv5 = Conv1D(2, 2, activation = 'relu', kernel_initializer = 'he_normal')(conv5)\n",
        "#     conv6 = Conv1D(30, 90, activation = 'softmax')(conv5)\n",
        "    \n",
        "#     model = Model(input = inputs, output = conv6)\n",
        "\n",
        "#     model.compile(optimizer = Adam(lr = 1e-4), loss = 'categorical_crossentropy', metrics = ['accuracy'])\n",
        "    \n",
        "#     print(model.summary())\n",
        "\n",
        "#     return model"
      ],
      "execution_count": null,
      "outputs": []
    },
    {
      "cell_type": "code",
      "metadata": {
        "id": "IKCP7B6p_feW",
        "colab_type": "code",
        "colab": {}
      },
      "source": [
        "# model = unet()"
      ],
      "execution_count": null,
      "outputs": []
    },
    {
      "cell_type": "code",
      "metadata": {
        "id": "nCQSG_hx3f1O",
        "colab_type": "code",
        "colab": {}
      },
      "source": [
        "# batch_size = 256\n",
        "# epochs = 10\n",
        "\n",
        "# X_train = np.reshape(train_x, (train_x.shape[0], 1, train_x.shape[1]))\n",
        "# Y_train = np.reshape(train_y, (train_y.shape[0], 1, train_y.shape[1]))\n",
        "\n",
        "# X_val =  np.reshape(val_x, (val_x.shape[0], 1, val_x.shape[1]))\n",
        "# Y_val =  np.reshape(val_y, (val_y.shape[0], 1, val_y.shape[1]))\n",
        "\n",
        "# X_test = np.reshape(test_x, (test_x.shape[0], 1, test_x.shape[1]))\n",
        "# Y_test = np.reshape(test_y, (test_y.shape[0], 1, test_y.shape[1]))\n",
        "\n",
        "# history = model.fit(X_train, Y_train,\n",
        "#           batch_size=batch_size,\n",
        "#           epochs=epochs,\n",
        "#           validation_data=(X_val, Y_val))"
      ],
      "execution_count": null,
      "outputs": []
    },
    {
      "cell_type": "code",
      "metadata": {
        "id": "0Rwap0cfz6AM",
        "colab_type": "code",
        "colab": {}
      },
      "source": [
        "# acc_pred = model.predict(X_test)\n",
        "\n",
        "# test_accur = 0\n",
        "# for i in range(len(acc_pred)):\n",
        "#     if acc_pred[i].argmax() == Y_test[i].argmax():\n",
        "#         test_accur = test_accur + 1\n",
        "# test_accur = test_accur/len(acc_pred)"
      ],
      "execution_count": null,
      "outputs": []
    },
    {
      "cell_type": "code",
      "metadata": {
        "id": "jeWczbSZ0TWr",
        "colab_type": "code",
        "colab": {}
      },
      "source": [
        "# for i in range(N):\n",
        "#     slovo = ''\n",
        "#     k = i * 500\n",
        "#     for j in range(len(X_test[k][0])):\n",
        "\n",
        "#         if X_test[k][0][j] != 0:\n",
        "#             slovo = slovo + get_key(alphabet, X_test[k][0][j])\n",
        "#         else:\n",
        "#             break\n",
        "\n",
        "#     template = slovo[:Y_test[k][0].argmax() + 1] + '\\'' + slovo[Y_test[k][0].argmax() + 1:]\n",
        "#     nn_sample = slovo[:acc_pred[k][0].argmax() + 1] + '\\'' + slovo[acc_pred[k].argmax() + 1:]\n",
        "    \n",
        "#     if (acc_pred[k].argmax() != Y_test[k].argmax()):\n",
        "#       print('Эталон   : ' , template)\n",
        "#       print('Ошибка!  : ' , nn_sample)\n",
        "#     else:\n",
        "#       print('Результат: ' , nn_sample)\n",
        "#     print()"
      ],
      "execution_count": null,
      "outputs": []
    },
    {
      "cell_type": "markdown",
      "metadata": {
        "id": "ZKytmXmK3iN1",
        "colab_type": "text"
      },
      "source": [
        "# resU-net"
      ]
    },
    {
      "cell_type": "code",
      "metadata": {
        "id": "nwPi1kuXc91s",
        "colab_type": "code",
        "colab": {}
      },
      "source": [
        "max_features = len(alphabet) + 1"
      ],
      "execution_count": null,
      "outputs": []
    },
    {
      "cell_type": "code",
      "metadata": {
        "id": "Cs-iuzkp1yIm",
        "colab_type": "code",
        "colab": {}
      },
      "source": [
        "def res_unet(filter_root, depth, n_class=number_of_classes, input_size = (number_of_classes, ), activation='relu', \n",
        "             batch_norm=True, final_activation='softmax', embed = number_of_classes):\n",
        "    \"\"\"\n",
        "    Build UNet model with ResBlock.\n",
        "    Args:\n",
        "        filter_root (int): Number of filters to start with in first convolution.\n",
        "        depth (int): How deep to go in UNet i.e. how many down and up sampling you want to do in the model. \n",
        "                    Filter root and image size should be multiple of 2^depth.\n",
        "        n_class (int, optional): How many classes in the output layer. Defaults to 2.\n",
        "        input_size (tuple, optional): Input image size. Defaults to (256, 256, 1).\n",
        "        activation (str, optional): activation to use in each convolution. Defaults to 'relu'.\n",
        "        batch_norm (bool, optional): To use Batch normaliztion or not. Defaults to True.\n",
        "        final_activation (str, optional): activation for output layer. Defaults to 'softmax'.\n",
        "    Returns:\n",
        "        obj: keras model object\n",
        "    \"\"\"\n",
        "    inputs = Input(input_size)\n",
        "    x = inputs\n",
        "\n",
        "    em = Embedding(input_dim = max_features, output_dim = number_of_classes)(x)\n",
        "    x = em\n",
        "\n",
        "    # Dictionary for long connections\n",
        "    long_connection_store = {}\n",
        "\n",
        "    # Down sampling\n",
        "    for i in range(depth):\n",
        "        out_channel = 2**i * filter_root\n",
        " \n",
        "        # Residual/Skip connection\n",
        "        res = Conv1D(out_channel, kernel_size=1, padding='same', use_bias=False)(x)\n",
        "        # First Conv Block with Conv, BN and activation\n",
        "        conv1 = Conv1D(out_channel, kernel_size=3, padding='same')(x)\n",
        "        if batch_norm:\n",
        "            conv1 = BatchNormalization()(conv1)\n",
        "        act1 = Activation(activation)(conv1)\n",
        "        \n",
        "        # Second Conv block with Conv and BN only\n",
        "        conv2 = Conv1D(out_channel, kernel_size=3, padding='same')(act1)\n",
        "        conv2 = Dropout(0.3)(conv2)\n",
        "\n",
        "        if batch_norm:\n",
        "            conv2 = BatchNormalization()(conv2)\n",
        "\n",
        "        resconnection = Add()([res, conv2])\n",
        "\n",
        "        act2 = Activation(activation)(resconnection)\n",
        "\n",
        "        # Max pooling\n",
        "        if i < depth - 1:\n",
        "            long_connection_store[str(i)] = act2\n",
        "            x = MaxPooling1D(padding='same')(act2)\n",
        "        else:\n",
        "            x = act2\n",
        "\n",
        "    # Upsampling\n",
        "    for i in range(depth - 2, -1, -1):\n",
        "        out_channel = 2**(i) * filter_root\n",
        "\n",
        "        # long connection from down sampling path.\n",
        "        long_connection = long_connection_store[str(i)]\n",
        " \n",
        "        up1 = UpSampling1D()(x)\n",
        "\n",
        "        up_conv1 = Conv1D(out_channel, 2, padding='same', activation='relu')(up1)\n",
        "\n",
        "        #  Concatenate.\n",
        "        up_conc = Concatenate(axis=-1)([up_conv1, long_connection])\n",
        "\n",
        "        #  Convolutions\n",
        "        up_conv2 = Conv1D(out_channel, 3, padding='same')(up_conc)\n",
        "        if batch_norm:\n",
        "            up_conv2 = BatchNormalization()(up_conv2)\n",
        "        up_act1 = Activation(activation)(up_conv2)\n",
        "\n",
        "        up_conv2 = Conv1D(out_channel, 3, padding='same')(up_act1)\n",
        "        if batch_norm:\n",
        "            up_conv2 = BatchNormalization()(up_conv2)\n",
        "\n",
        "        # Residual/Skip connection\n",
        "        res = Conv1D(out_channel, kernel_size=1, padding='same', use_bias=False)(up_conc)\n",
        "\n",
        "        resconnection = Add()([res, up_conv2])\n",
        "\n",
        "        x = Activation(activation)(resconnection)\n",
        "\n",
        "    # Final convolution\n",
        "    output = Conv1D(1, 3, padding='same')(x)\n",
        "    output1 = Flatten()(output)   \n",
        "    output2 = Dense(number_of_classes, activation='softmax')(output1)\n",
        "\n",
        "    model = Model(inputs, outputs=output2)\n",
        "\n",
        "    model.compile(optimizer = Adam(lr = 1e-4), loss = 'categorical_crossentropy', metrics = ['accuracy'])\n",
        "\n",
        "    print(model.summary())\n",
        "\n",
        "    return model"
      ],
      "execution_count": null,
      "outputs": []
    },
    {
      "cell_type": "code",
      "metadata": {
        "id": "4OZvp4L52asA",
        "colab_type": "code",
        "colab": {
          "base_uri": "https://localhost:8080/",
          "height": 1000
        },
        "outputId": "6e9af206-1986-412b-e0c9-db2d76b79f96"
      },
      "source": [
        "model = res_unet(64, 3, number_of_classes, input_size=(number_of_classes,))"
      ],
      "execution_count": null,
      "outputs": [
        {
          "output_type": "stream",
          "text": [
            "Model: \"model_1\"\n",
            "__________________________________________________________________________________________________\n",
            "Layer (type)                    Output Shape         Param #     Connected to                     \n",
            "==================================================================================================\n",
            "input_1 (InputLayer)            (None, 32)           0                                            \n",
            "__________________________________________________________________________________________________\n",
            "embedding_1 (Embedding)         (None, 32, 32)       1088        input_1[0][0]                    \n",
            "__________________________________________________________________________________________________\n",
            "conv1d_2 (Conv1D)               (None, 32, 64)       6208        embedding_1[0][0]                \n",
            "__________________________________________________________________________________________________\n",
            "batch_normalization_1 (BatchNor (None, 32, 64)       256         conv1d_2[0][0]                   \n",
            "__________________________________________________________________________________________________\n",
            "activation_1 (Activation)       (None, 32, 64)       0           batch_normalization_1[0][0]      \n",
            "__________________________________________________________________________________________________\n",
            "conv1d_3 (Conv1D)               (None, 32, 64)       12352       activation_1[0][0]               \n",
            "__________________________________________________________________________________________________\n",
            "dropout_1 (Dropout)             (None, 32, 64)       0           conv1d_3[0][0]                   \n",
            "__________________________________________________________________________________________________\n",
            "conv1d_1 (Conv1D)               (None, 32, 64)       2048        embedding_1[0][0]                \n",
            "__________________________________________________________________________________________________\n",
            "batch_normalization_2 (BatchNor (None, 32, 64)       256         dropout_1[0][0]                  \n",
            "__________________________________________________________________________________________________\n",
            "add_1 (Add)                     (None, 32, 64)       0           conv1d_1[0][0]                   \n",
            "                                                                 batch_normalization_2[0][0]      \n",
            "__________________________________________________________________________________________________\n",
            "activation_2 (Activation)       (None, 32, 64)       0           add_1[0][0]                      \n",
            "__________________________________________________________________________________________________\n",
            "max_pooling1d_1 (MaxPooling1D)  (None, 16, 64)       0           activation_2[0][0]               \n",
            "__________________________________________________________________________________________________\n",
            "conv1d_5 (Conv1D)               (None, 16, 128)      24704       max_pooling1d_1[0][0]            \n",
            "__________________________________________________________________________________________________\n",
            "batch_normalization_3 (BatchNor (None, 16, 128)      512         conv1d_5[0][0]                   \n",
            "__________________________________________________________________________________________________\n",
            "activation_3 (Activation)       (None, 16, 128)      0           batch_normalization_3[0][0]      \n",
            "__________________________________________________________________________________________________\n",
            "conv1d_6 (Conv1D)               (None, 16, 128)      49280       activation_3[0][0]               \n",
            "__________________________________________________________________________________________________\n",
            "dropout_2 (Dropout)             (None, 16, 128)      0           conv1d_6[0][0]                   \n",
            "__________________________________________________________________________________________________\n",
            "conv1d_4 (Conv1D)               (None, 16, 128)      8192        max_pooling1d_1[0][0]            \n",
            "__________________________________________________________________________________________________\n",
            "batch_normalization_4 (BatchNor (None, 16, 128)      512         dropout_2[0][0]                  \n",
            "__________________________________________________________________________________________________\n",
            "add_2 (Add)                     (None, 16, 128)      0           conv1d_4[0][0]                   \n",
            "                                                                 batch_normalization_4[0][0]      \n",
            "__________________________________________________________________________________________________\n",
            "activation_4 (Activation)       (None, 16, 128)      0           add_2[0][0]                      \n",
            "__________________________________________________________________________________________________\n",
            "max_pooling1d_2 (MaxPooling1D)  (None, 8, 128)       0           activation_4[0][0]               \n",
            "__________________________________________________________________________________________________\n",
            "conv1d_8 (Conv1D)               (None, 8, 256)       98560       max_pooling1d_2[0][0]            \n",
            "__________________________________________________________________________________________________\n",
            "batch_normalization_5 (BatchNor (None, 8, 256)       1024        conv1d_8[0][0]                   \n",
            "__________________________________________________________________________________________________\n",
            "activation_5 (Activation)       (None, 8, 256)       0           batch_normalization_5[0][0]      \n",
            "__________________________________________________________________________________________________\n",
            "conv1d_9 (Conv1D)               (None, 8, 256)       196864      activation_5[0][0]               \n",
            "__________________________________________________________________________________________________\n",
            "dropout_3 (Dropout)             (None, 8, 256)       0           conv1d_9[0][0]                   \n",
            "__________________________________________________________________________________________________\n",
            "conv1d_7 (Conv1D)               (None, 8, 256)       32768       max_pooling1d_2[0][0]            \n",
            "__________________________________________________________________________________________________\n",
            "batch_normalization_6 (BatchNor (None, 8, 256)       1024        dropout_3[0][0]                  \n",
            "__________________________________________________________________________________________________\n",
            "add_3 (Add)                     (None, 8, 256)       0           conv1d_7[0][0]                   \n",
            "                                                                 batch_normalization_6[0][0]      \n",
            "__________________________________________________________________________________________________\n",
            "activation_6 (Activation)       (None, 8, 256)       0           add_3[0][0]                      \n",
            "__________________________________________________________________________________________________\n",
            "up_sampling1d_1 (UpSampling1D)  (None, 16, 256)      0           activation_6[0][0]               \n",
            "__________________________________________________________________________________________________\n",
            "conv1d_10 (Conv1D)              (None, 16, 128)      65664       up_sampling1d_1[0][0]            \n",
            "__________________________________________________________________________________________________\n",
            "concatenate_1 (Concatenate)     (None, 16, 256)      0           conv1d_10[0][0]                  \n",
            "                                                                 activation_4[0][0]               \n",
            "__________________________________________________________________________________________________\n",
            "conv1d_11 (Conv1D)              (None, 16, 128)      98432       concatenate_1[0][0]              \n",
            "__________________________________________________________________________________________________\n",
            "batch_normalization_7 (BatchNor (None, 16, 128)      512         conv1d_11[0][0]                  \n",
            "__________________________________________________________________________________________________\n",
            "activation_7 (Activation)       (None, 16, 128)      0           batch_normalization_7[0][0]      \n",
            "__________________________________________________________________________________________________\n",
            "conv1d_12 (Conv1D)              (None, 16, 128)      49280       activation_7[0][0]               \n",
            "__________________________________________________________________________________________________\n",
            "conv1d_13 (Conv1D)              (None, 16, 128)      32768       concatenate_1[0][0]              \n",
            "__________________________________________________________________________________________________\n",
            "batch_normalization_8 (BatchNor (None, 16, 128)      512         conv1d_12[0][0]                  \n",
            "__________________________________________________________________________________________________\n",
            "add_4 (Add)                     (None, 16, 128)      0           conv1d_13[0][0]                  \n",
            "                                                                 batch_normalization_8[0][0]      \n",
            "__________________________________________________________________________________________________\n",
            "activation_8 (Activation)       (None, 16, 128)      0           add_4[0][0]                      \n",
            "__________________________________________________________________________________________________\n",
            "up_sampling1d_2 (UpSampling1D)  (None, 32, 128)      0           activation_8[0][0]               \n",
            "__________________________________________________________________________________________________\n",
            "conv1d_14 (Conv1D)              (None, 32, 64)       16448       up_sampling1d_2[0][0]            \n",
            "__________________________________________________________________________________________________\n",
            "concatenate_2 (Concatenate)     (None, 32, 128)      0           conv1d_14[0][0]                  \n",
            "                                                                 activation_2[0][0]               \n",
            "__________________________________________________________________________________________________\n",
            "conv1d_15 (Conv1D)              (None, 32, 64)       24640       concatenate_2[0][0]              \n",
            "__________________________________________________________________________________________________\n",
            "batch_normalization_9 (BatchNor (None, 32, 64)       256         conv1d_15[0][0]                  \n",
            "__________________________________________________________________________________________________\n",
            "activation_9 (Activation)       (None, 32, 64)       0           batch_normalization_9[0][0]      \n",
            "__________________________________________________________________________________________________\n",
            "conv1d_16 (Conv1D)              (None, 32, 64)       12352       activation_9[0][0]               \n",
            "__________________________________________________________________________________________________\n",
            "conv1d_17 (Conv1D)              (None, 32, 64)       8192        concatenate_2[0][0]              \n",
            "__________________________________________________________________________________________________\n",
            "batch_normalization_10 (BatchNo (None, 32, 64)       256         conv1d_16[0][0]                  \n",
            "__________________________________________________________________________________________________\n",
            "add_5 (Add)                     (None, 32, 64)       0           conv1d_17[0][0]                  \n",
            "                                                                 batch_normalization_10[0][0]     \n",
            "__________________________________________________________________________________________________\n",
            "activation_10 (Activation)      (None, 32, 64)       0           add_5[0][0]                      \n",
            "__________________________________________________________________________________________________\n",
            "conv1d_18 (Conv1D)              (None, 32, 1)        193         activation_10[0][0]              \n",
            "__________________________________________________________________________________________________\n",
            "flatten_1 (Flatten)             (None, 32)           0           conv1d_18[0][0]                  \n",
            "__________________________________________________________________________________________________\n",
            "dense_1 (Dense)                 (None, 32)           1056        flatten_1[0][0]                  \n",
            "==================================================================================================\n",
            "Total params: 746,209\n",
            "Trainable params: 743,649\n",
            "Non-trainable params: 2,560\n",
            "__________________________________________________________________________________________________\n",
            "None\n"
          ],
          "name": "stdout"
        }
      ]
    },
    {
      "cell_type": "code",
      "metadata": {
        "id": "1xX2ZAnKLbV1",
        "colab_type": "code",
        "colab": {}
      },
      "source": [
        "batch_size = 256\n",
        "epochs = 20"
      ],
      "execution_count": null,
      "outputs": []
    },
    {
      "cell_type": "code",
      "metadata": {
        "id": "sOqYNfjrAtuG",
        "colab_type": "code",
        "colab": {
          "base_uri": "https://localhost:8080/",
          "height": 759
        },
        "outputId": "454f45e8-79b8-426f-ba45-7257bfcd57ae"
      },
      "source": [
        "history = model.fit(train_x, train_y,\n",
        "          batch_size=batch_size,\n",
        "          epochs=epochs,\n",
        "          validation_data=(val_x, val_y))"
      ],
      "execution_count": null,
      "outputs": [
        {
          "output_type": "stream",
          "text": [
            "/usr/local/lib/python3.6/dist-packages/tensorflow/python/framework/indexed_slices.py:434: UserWarning: Converting sparse IndexedSlices to a dense Tensor of unknown shape. This may consume a large amount of memory.\n",
            "  \"Converting sparse IndexedSlices to a dense Tensor of unknown shape. \"\n"
          ],
          "name": "stderr"
        },
        {
          "output_type": "stream",
          "text": [
            "Train on 1327635 samples, validate on 183171 samples\n",
            "Epoch 1/20\n",
            "1327635/1327635 [==============================] - 137s 103us/step - loss: 0.9021 - accuracy: 0.6755 - val_loss: 0.5759 - val_accuracy: 0.7777\n",
            "Epoch 2/20\n",
            "1327635/1327635 [==============================] - 129s 97us/step - loss: 0.5217 - accuracy: 0.7948 - val_loss: 0.4985 - val_accuracy: 0.8056\n",
            "Epoch 3/20\n",
            "1327635/1327635 [==============================] - 128s 96us/step - loss: 0.4581 - accuracy: 0.8186 - val_loss: 0.4885 - val_accuracy: 0.8082\n",
            "Epoch 4/20\n",
            "1327635/1327635 [==============================] - 129s 97us/step - loss: 0.4196 - accuracy: 0.8344 - val_loss: 0.4566 - val_accuracy: 0.8234\n",
            "Epoch 5/20\n",
            "1327635/1327635 [==============================] - 129s 97us/step - loss: 0.3898 - accuracy: 0.8468 - val_loss: 0.4625 - val_accuracy: 0.8225\n",
            "Epoch 6/20\n",
            "1327635/1327635 [==============================] - 129s 97us/step - loss: 0.3659 - accuracy: 0.8563 - val_loss: 0.4437 - val_accuracy: 0.8306\n",
            "Epoch 7/20\n",
            "1327635/1327635 [==============================] - 128s 96us/step - loss: 0.3451 - accuracy: 0.8650 - val_loss: 0.4442 - val_accuracy: 0.8378\n",
            "Epoch 8/20\n",
            "1327635/1327635 [==============================] - 128s 97us/step - loss: 0.3272 - accuracy: 0.8727 - val_loss: 0.4409 - val_accuracy: 0.8382\n",
            "Epoch 9/20\n",
            "1327635/1327635 [==============================] - 128s 97us/step - loss: 0.3117 - accuracy: 0.8786 - val_loss: 0.4543 - val_accuracy: 0.8372\n",
            "Epoch 10/20\n",
            "1327635/1327635 [==============================] - 127s 96us/step - loss: 0.2980 - accuracy: 0.8843 - val_loss: 0.4590 - val_accuracy: 0.8329\n",
            "Epoch 11/20\n",
            "1327635/1327635 [==============================] - 130s 98us/step - loss: 0.2863 - accuracy: 0.8891 - val_loss: 0.4455 - val_accuracy: 0.8412\n",
            "Epoch 12/20\n",
            "1327635/1327635 [==============================] - 129s 97us/step - loss: 0.2747 - accuracy: 0.8941 - val_loss: 0.4462 - val_accuracy: 0.8450\n",
            "Epoch 13/20\n",
            "1327635/1327635 [==============================] - 130s 98us/step - loss: 0.2652 - accuracy: 0.8979 - val_loss: 0.4585 - val_accuracy: 0.8431\n",
            "Epoch 14/20\n",
            "1327635/1327635 [==============================] - 131s 99us/step - loss: 0.2559 - accuracy: 0.9015 - val_loss: 0.4572 - val_accuracy: 0.8446\n",
            "Epoch 15/20\n",
            "1327635/1327635 [==============================] - 130s 98us/step - loss: 0.2474 - accuracy: 0.9050 - val_loss: 0.4577 - val_accuracy: 0.8449\n",
            "Epoch 16/20\n",
            "1327635/1327635 [==============================] - 130s 98us/step - loss: 0.2404 - accuracy: 0.9078 - val_loss: 0.4789 - val_accuracy: 0.8416\n",
            "Epoch 17/20\n",
            "1327635/1327635 [==============================] - 129s 97us/step - loss: 0.2326 - accuracy: 0.9112 - val_loss: 0.4737 - val_accuracy: 0.8437\n",
            "Epoch 18/20\n",
            "1327635/1327635 [==============================] - 132s 100us/step - loss: 0.2265 - accuracy: 0.9136 - val_loss: 0.4661 - val_accuracy: 0.8437\n",
            "Epoch 19/20\n",
            "1327635/1327635 [==============================] - 129s 98us/step - loss: 0.2195 - accuracy: 0.9161 - val_loss: 0.4815 - val_accuracy: 0.8462\n",
            "Epoch 20/20\n",
            "1327635/1327635 [==============================] - 131s 99us/step - loss: 0.2147 - accuracy: 0.9184 - val_loss: 0.4894 - val_accuracy: 0.8421\n"
          ],
          "name": "stdout"
        }
      ]
    },
    {
      "cell_type": "markdown",
      "metadata": {
        "id": "ysy1HMxVPGc1",
        "colab_type": "text"
      },
      "source": [
        "Построим графики для точности и функции стоимости относительно эпох"
      ]
    },
    {
      "cell_type": "code",
      "metadata": {
        "id": "QQVq9iJOEl4H",
        "colab_type": "code",
        "colab": {
          "base_uri": "https://localhost:8080/",
          "height": 499
        },
        "outputId": "4a968549-b410-4c7c-9242-b2e89a370d35"
      },
      "source": [
        "acc = history.history['accuracy']\n",
        "val_acc = history.history['val_accuracy']\n",
        "\n",
        "loss=history.history['loss']\n",
        "val_loss=history.history['val_loss']\n",
        "\n",
        "epochs_range = range(epochs)\n",
        "\n",
        "plt.figure(figsize=(8, 8))\n",
        "plt.subplot(1, 2, 1)\n",
        "plt.plot(epochs_range, acc, label='Training Accuracy')\n",
        "plt.plot(epochs_range, val_acc, label='Validation Accuracy')\n",
        "plt.legend(loc='lower right')\n",
        "plt.title('Training and Validation Accuracy')\n",
        "\n",
        "plt.subplot(1, 2, 2)\n",
        "plt.plot(epochs_range, loss, label='Training Loss')\n",
        "plt.plot(epochs_range, val_loss, label='Validation Loss')\n",
        "plt.legend(loc='upper right')\n",
        "plt.title('Training and Validation Loss')\n",
        "plt.show()"
      ],
      "execution_count": null,
      "outputs": [
        {
          "output_type": "display_data",
          "data": {
            "image/png": "[encoded data removed]",
            "text/plain": [
              "<Figure size 576x576 with 2 Axes>"
            ]
          },
          "metadata": {
            "tags": [],
            "needs_background": "light"
          }
        }
      ]
    },
    {
      "cell_type": "markdown",
      "metadata": {
        "id": "mluZoR4XPM4T",
        "colab_type": "text"
      },
      "source": [
        "Сохраним предобученную сеть"
      ]
    },
    {
      "cell_type": "code",
      "metadata": {
        "id": "mtOTGhdTPPbj",
        "colab_type": "code",
        "colab": {
          "base_uri": "https://localhost:8080/",
          "height": 17
        },
        "outputId": "6d77eba1-6cac-4a5f-849e-645cd2780b9b"
      },
      "source": [
        "model.save('Accents_LSTM-/resUnet_model.h5')\n",
        "files.download('Accents_LSTM-/resUnet_model.h5')"
      ],
      "execution_count": null,
      "outputs": [
        {
          "output_type": "display_data",
          "data": {
            "application/javascript": [
              "\n",
              "    async function download(id, filename, size) {\n",
              "      if (!google.colab.kernel.accessAllowed) {\n",
              "        return;\n",
              "      }\n",
              "      const div = document.createElement('div');\n",
              "      const label = document.createElement('label');\n",
              "      label.textContent = `Downloading \"${filename}\": `;\n",
              "      div.appendChild(label);\n",
              "      const progress = document.createElement('progress');\n",
              "      progress.max = size;\n",
              "      div.appendChild(progress);\n",
              "      document.body.appendChild(div);\n",
              "\n",
              "      const buffers = [];\n",
              "      let downloaded = 0;\n",
              "\n",
              "      const channel = await google.colab.kernel.comms.open(id);\n",
              "      // Send a message to notify the kernel that we're ready.\n",
              "      channel.send({})\n",
              "\n",
              "      for await (const message of channel.messages) {\n",
              "        // Send a message to notify the kernel that we're ready.\n",
              "        channel.send({})\n",
              "        if (message.buffers) {\n",
              "          for (const buffer of message.buffers) {\n",
              "            buffers.push(buffer);\n",
              "            downloaded += buffer.byteLength;\n",
              "            progress.value = downloaded;\n",
              "          }\n",
              "        }\n",
              "      }\n",
              "      const blob = new Blob(buffers, {type: 'application/binary'});\n",
              "      const a = document.createElement('a');\n",
              "      a.href = window.URL.createObjectURL(blob);\n",
              "      a.download = filename;\n",
              "      div.appendChild(a);\n",
              "      a.click();\n",
              "      div.remove();\n",
              "    }\n",
              "  "
            ],
            "text/plain": [
              "<IPython.core.display.Javascript object>"
            ]
          },
          "metadata": {
            "tags": []
          }
        },
        {
          "output_type": "display_data",
          "data": {
            "application/javascript": [
              "download(\"download_8f4f14e5-939e-4c5c-adf0-354b6c10969e\", \"resUnet_model.h5\", 9150664)"
            ],
            "text/plain": [
              "<IPython.core.display.Javascript object>"
            ]
          },
          "metadata": {
            "tags": []
          }
        }
      ]
    },
    {
      "cell_type": "markdown",
      "metadata": {
        "id": "xtxKf1tWPUD6",
        "colab_type": "text"
      },
      "source": [
        "Сохраним датасет на компьютер"
      ]
    },
    {
      "cell_type": "code",
      "metadata": {
        "id": "v880E_ziPTpr",
        "colab_type": "code",
        "colab": {}
      },
      "source": [
        "files.download('Accents_LSTM-/Data.csv')"
      ],
      "execution_count": null,
      "outputs": []
    },
    {
      "cell_type": "markdown",
      "metadata": {
        "id": "uthB_jpMPY2r",
        "colab_type": "text"
      },
      "source": [
        "# Тесты на обученной модели"
      ]
    },
    {
      "cell_type": "code",
      "metadata": {
        "id": "uzAk9ksImJ4s",
        "colab_type": "code",
        "colab": {}
      },
      "source": [
        "# model = load_model('Accents_LSTM-/resUnet_model.h5')"
      ],
      "execution_count": null,
      "outputs": []
    },
    {
      "cell_type": "code",
      "metadata": {
        "id": "DPDt2ExiPcBT",
        "colab_type": "code",
        "colab": {}
      },
      "source": [
        "# model.compile(optimizer='adam',\n",
        "#                   loss=tf.keras.losses.CategoricalCrossentropy(from_logits=False, name='categorical_crossentropy'),\n",
        "#                   metrics=['accuracy'])"
      ],
      "execution_count": null,
      "outputs": []
    },
    {
      "cell_type": "markdown",
      "metadata": {
        "id": "iMZQuGlYPd86",
        "colab_type": "text"
      },
      "source": [
        "Предскажем позицию ударения для тестовых данных"
      ]
    },
    {
      "cell_type": "code",
      "metadata": {
        "id": "DZHaAkynz_p4",
        "colab_type": "code",
        "colab": {}
      },
      "source": [
        "acc_pred = model.predict(test_x)\n",
        "\n",
        "test_accur = 0\n",
        "for i in range(len(acc_pred)):\n",
        "    if acc_pred[i].argmax() == test_y[i].argmax():\n",
        "        test_accur = test_accur + 1\n",
        "test_accur = test_accur/len(acc_pred)"
      ],
      "execution_count": null,
      "outputs": []
    },
    {
      "cell_type": "code",
      "metadata": {
        "id": "58jKIJcRPgoC",
        "colab_type": "code",
        "colab": {
          "base_uri": "https://localhost:8080/",
          "height": 34
        },
        "outputId": "1c275915-c60f-4196-ed23-a630281631ba"
      },
      "source": [
        "print('Точность на тестовой выборке: ', test_accur)"
      ],
      "execution_count": null,
      "outputs": [
        {
          "output_type": "stream",
          "text": [
            "Точность на тестовой выборке:  0.8378601900387336\n"
          ],
          "name": "stdout"
        }
      ]
    },
    {
      "cell_type": "markdown",
      "metadata": {
        "id": "_ACQyhAaPjia",
        "colab_type": "text"
      },
      "source": [
        "Метод для возвращения ключа по значению"
      ]
    },
    {
      "cell_type": "code",
      "metadata": {
        "id": "77QliQsaPkzi",
        "colab_type": "code",
        "colab": {}
      },
      "source": [
        "def get_key(d, value):\n",
        "    for k, v in d.items():\n",
        "        if v == value:\n",
        "            return k"
      ],
      "execution_count": null,
      "outputs": []
    },
    {
      "cell_type": "markdown",
      "metadata": {
        "id": "WSFAAwCkPmMy",
        "colab_type": "text"
      },
      "source": [
        "Визуализация предсказанных ударений и их сравнение с ответами"
      ]
    },
    {
      "cell_type": "code",
      "metadata": {
        "id": "ZjdS4PFfPnXy",
        "colab_type": "code",
        "colab": {
          "base_uri": "https://localhost:8080/",
          "height": 353
        },
        "outputId": "5ffc05fc-8c5e-4a7c-8c95-91282c4aa05b"
      },
      "source": [
        "for i in range(N):\n",
        "    slovo = ''\n",
        "    k = i * 700\n",
        "    for j in range(len(test_x[k])):\n",
        "        if test_x[k][j] != 0:\n",
        "            slovo = slovo + get_key(alphabet, test_x[k][j])\n",
        "        else:\n",
        "            break\n",
        "    if (acc_pred[k].argmax() == (number_of_classes - 1)):\n",
        "      nn_sample = slovo\n",
        "      if (test_y[k].argmax() == (number_of_classes - 1)):\n",
        "        template = slovo\n",
        "      else:\n",
        "        template = slovo[:test_y[k].argmax() + 1] + \"'\" + slovo[test_y[k].argmax() + 1:]\n",
        "    else:\n",
        "      template = slovo[:test_y[k].argmax() + 1] + \"'\" + slovo[test_y[k].argmax() + 1:]\n",
        "      nn_sample = slovo[:acc_pred[k].argmax() + 1] + \"'\" + slovo[acc_pred[k].argmax() + 1:]\n",
        "    \n",
        "    if (acc_pred[k].argmax() != test_y[k].argmax()):\n",
        "      print('Эталон   : ' , template)\n",
        "      print('Ошибка!  : ' , nn_sample)\n",
        "    else:\n",
        "      print('Результат: ' , nn_sample)\n",
        "    print()"
      ],
      "execution_count": null,
      "outputs": [
        {
          "output_type": "stream",
          "text": [
            "Результат:  кипке'ев\n",
            "\n",
            "Результат:  побря'киваем\n",
            "\n",
            "Результат:  изоби'девшийся\n",
            "\n",
            "Результат:  изобрета'емому\n",
            "\n",
            "Результат:  неколори'тного\n",
            "\n",
            "Результат:  гаплогру'ппа\n",
            "\n",
            "Результат:  киберво'йну\n",
            "\n",
            "Результат:  умертви'ть\n",
            "\n",
            "Результат:  то'пич\n",
            "\n",
            "Результат:  шахинша'хов\n",
            "\n"
          ],
          "name": "stdout"
        }
      ]
    },
    {
      "cell_type": "code",
      "metadata": {
        "id": "wZg2Y5IgarVu",
        "colab_type": "code",
        "colab": {}
      },
      "source": [
        ""
      ],
      "execution_count": null,
      "outputs": []
    }
  ]
}