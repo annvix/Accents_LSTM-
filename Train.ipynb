{
  "nbformat": 4,
  "nbformat_minor": 0,
  "metadata": {
    "colab": {
      "name": "Train.ipynb",
      "provenance": [],
      "authorship_tag": "ABX9TyNBYIl9Hq36racIkOZZpr62",
      "include_colab_link": true
    },
    "kernelspec": {
      "name": "python3",
      "display_name": "Python 3"
    },
    "accelerator": "GPU"
  },
  "cells": [
    {
      "cell_type": "markdown",
      "metadata": {
        "id": "view-in-github",
        "colab_type": "text"
      },
      "source": [
        "<a href=\"https://colab.research.google.com/github/annvix/Accents_LSTM-/blob/master/Train.ipynb\" target=\"_parent\"><img src=\"https://colab.research.google.com/assets/colab-badge.svg\" alt=\"Open In Colab\"/></a>"
      ]
    },
    {
      "cell_type": "markdown",
      "metadata": {
        "id": "T_VLKOujC_rX",
        "colab_type": "text"
      },
      "source": [
        "# Клонирование проекта с GitHub\n",
        "Подключение библиотек"
      ]
    },
    {
      "cell_type": "code",
      "metadata": {
        "id": "VlS_cuswCwMh",
        "colab_type": "code",
        "colab": {
          "base_uri": "https://localhost:8080/",
          "height": 140
        },
        "outputId": "f7370590-e88b-47c9-8445-e8bc9ef3972e"
      },
      "source": [
        "!git clone https://github.com/annvix/Accents_LSTM-.git"
      ],
      "execution_count": 4,
      "outputs": [
        {
          "output_type": "stream",
          "text": [
            "Cloning into 'Accents_LSTM-'...\n",
            "remote: Enumerating objects: 76, done.\u001b[K\n",
            "remote: Counting objects:   1% (1/76)\u001b[K\rremote: Counting objects:   2% (2/76)\u001b[K\rremote: Counting objects:   3% (3/76)\u001b[K\rremote: Counting objects:   5% (4/76)\u001b[K\rremote: Counting objects:   6% (5/76)\u001b[K\rremote: Counting objects:   7% (6/76)\u001b[K\rremote: Counting objects:   9% (7/76)\u001b[K\rremote: Counting objects:  10% (8/76)\u001b[K\rremote: Counting objects:  11% (9/76)\u001b[K\rremote: Counting objects:  13% (10/76)\u001b[K\rremote: Counting objects:  14% (11/76)\u001b[K\rremote: Counting objects:  15% (12/76)\u001b[K\rremote: Counting objects:  17% (13/76)\u001b[K\rremote: Counting objects:  18% (14/76)\u001b[K\rremote: Counting objects:  19% (15/76)\u001b[K\rremote: Counting objects:  21% (16/76)\u001b[K\rremote: Counting objects:  22% (17/76)\u001b[K\rremote: Counting objects:  23% (18/76)\u001b[K\rremote: Counting objects:  25% (19/76)\u001b[K\rremote: Counting objects:  26% (20/76)\u001b[K\rremote: Counting objects:  27% (21/76)\u001b[K\rremote: Counting objects:  28% (22/76)\u001b[K\rremote: Counting objects:  30% (23/76)\u001b[K\rremote: Counting objects:  31% (24/76)\u001b[K\rremote: Counting objects:  32% (25/76)\u001b[K\rremote: Counting objects:  34% (26/76)\u001b[K\rremote: Counting objects:  35% (27/76)\u001b[K\rremote: Counting objects:  36% (28/76)\u001b[K\rremote: Counting objects:  38% (29/76)\u001b[K\rremote: Counting objects:  39% (30/76)\u001b[K\rremote: Counting objects:  40% (31/76)\u001b[K\rremote: Counting objects:  42% (32/76)\u001b[K\rremote: Counting objects:  43% (33/76)\u001b[K\rremote: Counting objects:  44% (34/76)\u001b[K\rremote: Counting objects:  46% (35/76)\u001b[K\rremote: Counting objects:  47% (36/76)\u001b[K\rremote: Counting objects:  48% (37/76)\u001b[K\rremote: Counting objects:  50% (38/76)\u001b[K\rremote: Counting objects:  51% (39/76)\u001b[K\rremote: Counting objects:  52% (40/76)\u001b[K\rremote: Counting objects:  53% (41/76)\u001b[K\rremote: Counting objects:  55% (42/76)\u001b[K\rremote: Counting objects:  56% (43/76)\u001b[K\rremote: Counting objects:  57% (44/76)\u001b[K\rremote: Counting objects:  59% (45/76)\u001b[K\rremote: Counting objects:  60% (46/76)\u001b[K\rremote: Counting objects:  61% (47/76)\u001b[K\rremote: Counting objects:  63% (48/76)\u001b[K\rremote: Counting objects:  64% (49/76)\u001b[K\rremote: Counting objects:  65% (50/76)\u001b[K\rremote: Counting objects:  67% (51/76)\u001b[K\rremote: Counting objects:  68% (52/76)\u001b[K\rremote: Counting objects:  69% (53/76)\u001b[K\rremote: Counting objects:  71% (54/76)\u001b[K\rremote: Counting objects:  72% (55/76)\u001b[K\rremote: Counting objects:  73% (56/76)\u001b[K\rremote: Counting objects:  75% (57/76)\u001b[K\rremote: Counting objects:  76% (58/76)\u001b[K\rremote: Counting objects:  77% (59/76)\u001b[K\rremote: Counting objects:  78% (60/76)\u001b[K\rremote: Counting objects:  80% (61/76)\u001b[K\rremote: Counting objects:  81% (62/76)\u001b[K\rremote: Counting objects:  82% (63/76)\u001b[K\rremote: Counting objects:  84% (64/76)\u001b[K\rremote: Counting objects:  85% (65/76)\u001b[K\rremote: Counting objects:  86% (66/76)\u001b[K\rremote: Counting objects:  88% (67/76)\u001b[K\rremote: Counting objects:  89% (68/76)\u001b[K\rremote: Counting objects:  90% (69/76)\u001b[K\rremote: Counting objects:  92% (70/76)\u001b[K\rremote: Counting objects:  93% (71/76)\u001b[K\rremote: Counting objects:  94% (72/76)\u001b[K\rremote: Counting objects:  96% (73/76)\u001b[K\rremote: Counting objects:  97% (74/76)\u001b[K\rremote: Counting objects:  98% (75/76)\u001b[K\rremote: Counting objects: 100% (76/76)\u001b[K\rremote: Counting objects: 100% (76/76), done.\u001b[K\n",
            "remote: Compressing objects: 100% (76/76), done.\u001b[K\n",
            "remote: Total 171 (delta 33), reused 0 (delta 0), pack-reused 95\u001b[K\n",
            "Receiving objects: 100% (171/171), 30.89 MiB | 19.55 MiB/s, done.\n",
            "Resolving deltas: 100% (82/82), done.\n"
          ],
          "name": "stdout"
        }
      ]
    },
    {
      "cell_type": "code",
      "metadata": {
        "id": "YJD1wZrtCyKu",
        "colab_type": "code",
        "colab": {
          "base_uri": "https://localhost:8080/",
          "height": 34
        },
        "outputId": "8882b1ef-36bd-44e0-f93a-9fbc94052497"
      },
      "source": [
        "from google.colab import files\n",
        "import matplotlib.pyplot as plt\n",
        "import numpy as np\n",
        "import random\n",
        "import tensorflow as tf\n",
        "\n",
        "from keras.layers import *\n",
        "from keras.models import *\n",
        "from keras.optimizers import *\n",
        "from tensorflow.keras.preprocessing import sequence"
      ],
      "execution_count": 5,
      "outputs": [
        {
          "output_type": "stream",
          "text": [
            "Using TensorFlow backend.\n"
          ],
          "name": "stderr"
        }
      ]
    },
    {
      "cell_type": "markdown",
      "metadata": {
        "id": "Hxy2Tf3HC8SG",
        "colab_type": "text"
      },
      "source": [
        "# Загрузка и предобработка данных"
      ]
    },
    {
      "cell_type": "markdown",
      "metadata": {
        "id": "qPO_cZhNDFkZ",
        "colab_type": "text"
      },
      "source": [
        "Добавляем алфавит для кодирования букв"
      ]
    },
    {
      "cell_type": "code",
      "metadata": {
        "id": "L_s1YhMsDJpn",
        "colab_type": "code",
        "colab": {}
      },
      "source": [
        "alphabet =   {'а' : 1, 'б' : 2, 'в' : 3, 'г' : 4, 'д' : 5, 'е' : 6, 'ё' : 7, 'ж' : 8, 'з' : 9,\n",
        "             'и' : 10, 'й' : 11, 'к' : 12, 'л' : 13, 'м' : 14, 'н' : 15, 'о' : 16, 'п' : 17, 'р' : 18,\n",
        "             'с' : 19, 'т' : 20, 'у' : 21, 'ф' : 22, 'х' : 23, 'ц' : 24, 'ч' : 25, 'ш' : 26, 'щ' : 27,\n",
        "             'ъ' : 28, 'ы' : 29, 'ь' : 30, 'э' : 31, 'ю' : 32, 'я' : 33}\n",
        "\n",
        "N = 10 #Количество слов для вывода"
      ],
      "execution_count": 6,
      "outputs": []
    },
    {
      "cell_type": "code",
      "metadata": {
        "id": "vF3ppBjJC0tA",
        "colab_type": "code",
        "colab": {
          "base_uri": "https://localhost:8080/",
          "height": 87
        },
        "outputId": "7fd20a5d-4474-42cf-ad23-5da97c9a4aff"
      },
      "source": [
        "with open('Accents_LSTM-/Data.csv', 'r') as f:\n",
        "    all_accents = f.readlines()\n",
        "data_len = len(all_accents)\n",
        "\n",
        "print('Всего слов:', data_len)\n",
        "max_len = len(max(all_accents, key=len)) //2 - 1\n",
        "print('Максимальная длина слова:', max_len)\n",
        "print('Слово:', max(all_accents, key=len))\n",
        "number_of_classes = 32#max_len + 1"
      ],
      "execution_count": 7,
      "outputs": [
        {
          "output_type": "stream",
          "text": [
            "Всего слов: 1678878\n",
            "Максимальная длина слова: 29\n",
            "Слово: административнодисциплинарный,административнодисципл'инарный\n",
            "\n"
          ],
          "name": "stdout"
        }
      ]
    },
    {
      "cell_type": "markdown",
      "metadata": {
        "id": "-4VFuCnRiU_1",
        "colab_type": "text"
      },
      "source": [
        "Группировка слов по первым буквам"
      ]
    },
    {
      "cell_type": "code",
      "metadata": {
        "id": "6B28DPW5iT1v",
        "colab_type": "code",
        "colab": {
          "base_uri": "https://localhost:8080/",
          "height": 34
        },
        "outputId": "bac97df5-dd44-44c3-8ca9-3812d2e69f46"
      },
      "source": [
        "word_groups = []\n",
        "group  = []\n",
        "group.append(all_accents[0])\n",
        "\n",
        "for i in range(1, data_len):\n",
        "    if group[0][:4] == all_accents[i][:4]:\n",
        "        group.append(all_accents[i])\n",
        "    else:\n",
        "        word_groups.append(group)\n",
        "        group  = []\n",
        "        group.append(all_accents[i])\n",
        "print('Количество групп: ', len(word_groups))\n",
        "random.shuffle(word_groups)"
      ],
      "execution_count": 8,
      "outputs": [
        {
          "output_type": "stream",
          "text": [
            "Количество групп:  42078\n"
          ],
          "name": "stdout"
        }
      ]
    },
    {
      "cell_type": "code",
      "metadata": {
        "id": "IijHxgDqlPY2",
        "colab_type": "code",
        "colab": {
          "base_uri": "https://localhost:8080/",
          "height": 230
        },
        "outputId": "867eb77c-57e8-409c-bbab-4e4b4fbbf00d"
      },
      "source": [
        "print('Группы слов:')\n",
        "for i in range (N):\n",
        "  print(word_groups[i])"
      ],
      "execution_count": 9,
      "outputs": [
        {
          "output_type": "stream",
          "text": [
            "Группы слов:\n",
            "[\"вяхямаа,в'яхямаа\\n\"]\n",
            "[\"ясах,'ясах\\n\"]\n",
            "[\"кутка,кутк'а\\n\", \"куткашенский,куткаш'енский\\n\", \"кутки,кутк'и\\n\", \"кутком,кутк'ом\\n\"]\n",
            "[\"фраснельи,фрасн'ельи\\n\"]\n",
            "[\"буро,б'уро\\n\", \"буробин,бур'обин\\n\", \"буробить,бур'обить\\n\", \"буров,б'уров\\n\", \"бурова,буров'а\\n\", \"буроватая,буров'атая\\n\", \"буровато,буров'ато\\n\", \"буроватого,буров'атого\\n\", \"буроватое,буров'атое\\n\", \"буроватой,буров'атой\\n\", \"буроватом,буров'атом\\n\", \"буроватому,буров'атому\\n\", \"буроватою,буров'атою\\n\", \"буроватую,буров'атую\\n\", \"буроватые,буров'атые\\n\", \"буроватый,буров'атый\\n\", \"буроватым,буров'атым\\n\", \"буроватыми,буров'атыми\\n\", \"буроватых,буров'атых\\n\", \"буровая,буров'ая\\n\", \"буровзрывник,буровзрывн'ик\\n\", \"буровзрывного,буровзрывн'ого\\n\", \"буровзрывное,буровзрывн'ое\\n\", \"буровзрывной,буровзрывн'ой\\n\", \"буровзрывном,буровзрывн'ом\\n\", \"буровзрывному,буровзрывн'ому\\n\", \"буровзрывною,буровзрывн'ою\\n\", \"буровивший,бур'овивший\\n\", \"буровившийся,бур'овившийся\\n\", \"буровик,буров'ик\\n\", \"буровика,буровик'а\\n\", \"буровикам,буровик'ам\\n\", \"буровиками,буров'иками\\n\", \"буровиках,буров'иках\\n\", \"буровике,буров'ике\\n\", \"буровики,буровик'и\\n\", \"буровиков,буровик'ов\\n\", \"буровиком,буров'иком\\n\", \"буровику,буров'ику\\n\", \"буровимый,бур'овимый\\n\", \"буровить,бур'овить\\n\", \"буровиться,бур'овиться\\n\", \"буровка,б'уровка\\n\", \"буровлагалищная,буровлаг'алищная\\n\", \"буровленный,бур'овленный\\n\", \"бурово,буров'о\\n\", \"бурового,буров'ого\\n\", \"буровое,буров'ое\\n\", \"буровой,буров'ой\\n\", \"буровом,буров'ом\\n\", \"буровому,буров'ому\\n\", \"буровою,буров'ою\\n\", \"буровую,буров'ую\\n\", \"буровы,буров'ы\\n\", \"буровые,буров'ые\\n\", \"буровым,буров'ым\\n\", \"буровыми,буров'ыми\\n\", \"буровых,буров'ых\\n\", \"буровящий,бур'овящий\\n\", \"буровящийся,бур'овящийся\\n\", \"бурого,б'урого\\n\", \"буроголовая,бурогол'овая\\n\", \"буроголовый,бурогол'овый\\n\", \"бурое,б'урое\\n\", \"бурозаправочный,бурозапр'авочный\\n\", \"бурозем,бур'озем\\n\", \"буроземах,буроз'емах\\n\", \"буроземы,буроз'емы\\n\", \"бурозубка,буроз'убка\\n\", \"бурозубки,буроз'убки\\n\", \"бурозубкой,буроз'убкой\\n\", \"бурозубок,буроз'убок\\n\", \"бурой,б'урой\\n\", \"бурок,б'урок\\n\", \"бурокявичюс,бурок'явичюс\\n\", \"буром,б'уром\\n\", \"буромля,бур'омля\\n\", \"бурому,б'урому\\n\", \"бурон,бур'он\\n\", \"буронабивной,буронабивн'ой\\n\", \"бурос,б'урос\\n\", \"буроса,б'уроса\\n\", \"буросам,б'уросам\\n\", \"буросами,б'уросами\\n\", \"буросах,б'уросах\\n\", \"буросе,б'уросе\\n\", \"буросов,б'уросов\\n\", \"буросом,б'уросом\\n\", \"буроспинный,буросп'инный\\n\", \"буросрединная,буросред'инная\\n\", \"буросский,б'уросский\\n\", \"буростебельчатый,буростеб'ельчатый\\n\", \"буросу,б'уросу\\n\", \"буросы,б'уросы\\n\", \"бурою,б'урою\\n\"]\n",
            "[\"жатка,ж'атка\\n\", \"жаткам,ж'аткам\\n\", \"жатками,ж'атками\\n\", \"жатках,ж'атках\\n\", \"жатке,ж'атке\\n\", \"жатки,ж'атки\\n\", \"жаткой,ж'аткой\\n\", \"жаткою,ж'аткою\\n\", \"жатку,ж'атку\\n\"]\n",
            "[\"сырт,с'ырт\\n\", \"сырта,с'ырта\\n\", \"сыртам,с'ыртам\\n\", \"сыртами,сырт'ами\\n\", \"сыртах,сырт'ах\\n\", \"сырте,с'ырте\\n\", \"сыртов,сырт'ов\\n\", \"сыртом,с'ыртом\\n\", \"сырту,с'ырту\\n\", \"сырты,сырт'ы\\n\", \"сырть,с'ырть\\n\"]\n",
            "[\"лайхунит,лайхун'ит\\n\"]\n",
            "[\"кале,к'але\\n\", \"калеб,к'алеб\\n\", \"калеба,к'алеба\\n\", \"калебас,калеб'ас\\n\", \"калебасовое,калеб'асовое\\n\", \"калебе,к'алебе\\n\", \"калебом,к'алебом\\n\", \"калебу,к'алебу\\n\", \"калев,к'алев\\n\", \"калева,к'алева\\n\", \"калевавший,калев'авший\\n\", \"калевавшийся,калев'авшийся\\n\", \"калевала,к'алевала\\n\", \"калевале,к'алевале\\n\", \"калевалой,к'алевалой\\n\", \"калевалою,к'алевалою\\n\", \"калевалу,к'алевалу\\n\", \"калевалы,к'алевалы\\n\", \"калевальская,к'алевальская\\n\", \"калевальские,к'алевальские\\n\", \"калевальский,к'алевальский\\n\", \"калевальским,к'алевальским\\n\", \"калевальскими,к'алевальскими\\n\", \"калевальских,к'алевальских\\n\", \"калевальского,к'алевальского\\n\", \"калевальское,калев'альское\\n\", \"калевальской,к'алевальской\\n\", \"калевальском,к'алевальском\\n\", \"калевальскому,к'алевальскому\\n\", \"калевальскою,к'алевальскою\\n\", \"калевальскую,к'алевальскую\\n\", \"калевальцы,калев'альцы\\n\", \"калеванный,к'алеванный\\n\", \"калевать,калев'ать\\n\", \"калеваться,калев'аться\\n\", \"калеве,к'алеве\\n\", \"калеви,к'алеви\\n\", \"калевипоэг,к'алевипоэг\\n\", \"калевка,кал'евка\\n\", \"калевкам,кал'евкам\\n\", \"калевками,кал'евками\\n\", \"калевках,кал'евках\\n\", \"калевке,кал'евке\\n\", \"калевки,кал'евки\\n\", \"калевкой,кал'евкой\\n\", \"калевкою,кал'евкою\\n\", \"калевку,кал'евку\\n\", \"калевок,кал'евок\\n\", \"калевочен,к'алевочен\\n\", \"калевочна,к'алевочна\\n\", \"калевочная,к'алевочная\\n\", \"калевочно,к'алевочно\\n\", \"калевочного,к'алевочного\\n\", \"калевочное,к'алевочное\\n\", \"калевочной,к'алевочной\\n\", \"калевочном,к'алевочном\\n\", \"калевочному,к'алевочному\\n\", \"калевочною,к'алевочною\\n\", \"калевочную,к'алевочную\\n\", \"калевочны,к'алевочны\\n\", \"калевочные,к'алевочные\\n\", \"калевочный,к'алевочный\\n\", \"калевочным,к'алевочным\\n\", \"калевочными,к'алевочными\\n\", \"калевочных,к'алевочных\\n\", \"калевщик,к'алевщик\\n\", \"каледа,калед'а\\n\", \"каледж,кал'едж\\n\", \"каледин,кал'един\\n\", \"каледонией,калед'онией\\n\", \"каледонии,калед'онии\\n\", \"каледонит,каледон'ит\\n\", \"каледонию,калед'онию\\n\", \"каледония,калед'ония\\n\", \"каледонская,калед'онская\\n\", \"каледонские,калед'онские\\n\", \"каледонский,калед'онский\\n\", \"каледонским,калед'онским\\n\", \"каледонскими,калед'онскими\\n\", \"каледонских,калед'онских\\n\", \"каледонского,калед'онского\\n\", \"каледонское,калед'онское\\n\", \"каледонской,калед'онской\\n\", \"каледонском,калед'онском\\n\", \"каледонскому,калед'онскому\\n\", \"каледонскою,калед'онскою\\n\", \"каледонскую,калед'онскую\\n\", \"калеж,кал'еж\\n\", \"калежевец,кал'ежевец\\n\", \"калежевка,калеж'евка\\n\", \"калежевцы,кал'ежевцы\\n\", \"калейдоскоп,калейдоск'оп\\n\", \"калейдоскопа,калейдоск'опа\\n\", \"калейдоскопам,калейдоск'опам\\n\", \"калейдоскопами,калейдоск'опами\\n\", \"калейдоскопах,калейдоск'опах\\n\", \"калейдоскопе,калейдоск'опе\\n\", \"калейдоскопическая,калейдоскоп'ическая\\n\", \"калейдоскопически,калейдоскоп'ически\\n\", \"калейдоскопические,калейдоскоп'ические\\n\", \"калейдоскопический,калейдоскоп'ический\\n\", \"калейдоскопическим,калейдоскоп'ическим\\n\", \"калейдоскопическими,калейдоскоп'ическими\\n\", \"калейдоскопических,калейдоскоп'ических\\n\", \"калейдоскопического,калейдоскоп'ического\\n\", \"калейдоскопическое,калейдоскоп'ическое\\n\", \"калейдоскопической,калейдоскоп'ической\\n\", \"калейдоскопическом,калейдоскоп'ическом\\n\", \"калейдоскопическому,калейдоскоп'ическому\\n\", \"калейдоскопическою,калейдоскоп'ическою\\n\", \"калейдоскопическую,калейдоскоп'ическую\\n\", \"калейдоскопичная,калейдоскоп'ичная\\n\", \"калейдоскопичного,калейдоскоп'ичного\\n\", \"калейдоскопичное,калейдоскоп'ичное\\n\", \"калейдоскопичной,калейдоскоп'ичной\\n\", \"калейдоскопичном,калейдоскоп'ичном\\n\", \"калейдоскопичному,калейдоскоп'ичному\\n\", \"калейдоскопичности,калейдоскоп'ичности\\n\", \"калейдоскопичность,калейдоскоп'ичность\\n\", \"калейдоскопичностью,калейдоскоп'ичностью\\n\", \"калейдоскопичною,калейдоскоп'ичною\\n\", \"калейдоскопичную,калейдоскоп'ичную\\n\", \"калейдоскопичные,калейдоскоп'ичные\\n\", \"калейдоскопичный,калейдоскоп'ичный\\n\", \"калейдоскопичным,калейдоскоп'ичным\\n\", \"калейдоскопичными,калейдоскоп'ичными\\n\", \"калейдоскопичных,калейдоскоп'ичных\\n\", \"калейдоскопов,калейдоск'опов\\n\", \"калейдоскопом,калейдоск'опом\\n\", \"калейдоскопу,калейдоск'опу\\n\", \"калейдоскопы,калейдоск'опы\\n\", \"калейдофон,калейдоф'он\\n\", \"калейников,кал'ейников\\n\", \"калейчи,кал'ейчи\\n\", \"калек,к'алек\\n\", \"калека,кал'ека\\n\", \"калекам,кал'екам\\n\", \"калеками,кал'еками\\n\", \"калеках,кал'еках\\n\", \"калеке,кал'еке\\n\", \"калеки,кал'еки\\n\", \"калекой,кал'екой\\n\", \"калекою,кал'екою\\n\", \"калеку,кал'еку\\n\", \"кален,кал'ен\\n\", \"калена,кален'а\\n\", \"каленая,кал'еная\\n\", \"каленберг,к'аленберг\\n\", \"календ,кал'енд\\n\", \"календам,кал'ендам\\n\", \"календами,кал'ендами\\n\", \"календаре,календар'е\\n\", \"календарей,календар'ей\\n\", \"календарем,календар'ем\\n\", \"календари,календар'и\\n\", \"календарик,календ'арик\\n\", \"календарика,календ'арика\\n\", \"календарикам,календ'арикам\\n\", \"календариками,календ'ариками\\n\", \"календариках,календ'ариках\\n\", \"календарике,календ'арике\\n\", \"календарики,календ'арики\\n\", \"календариков,календ'ариков\\n\", \"календариком,календ'ариком\\n\", \"календарику,календ'арику\\n\", \"календарист,календар'ист\\n\", \"календариу,календ'ариу\\n\", \"календарная,календ'арная\\n\", \"календарно,календ'арно\\n\", \"календарного,календ'арного\\n\", \"календарное,календ'арное\\n\", \"календарной,календ'арной\\n\", \"календарном,календ'арном\\n\", \"календарному,календ'арному\\n\", \"календарною,календ'арною\\n\", \"календарную,календ'арную\\n\", \"календарные,календ'арные\\n\", \"календарный,календ'арный\\n\", \"календарным,календ'арным\\n\", \"календарными,календ'арными\\n\", \"календарных,календ'арных\\n\", \"календарь,календ'арь\\n\", \"календарю,календар'ю\\n\", \"календаря,календар'я\\n\", \"календарям,календар'ям\\n\", \"календарями,календар'ями\\n\", \"календарях,календар'ях\\n\", \"календах,кал'ендах\\n\", \"календула,кал'ендула\\n\", \"календуле,кал'ендуле\\n\", \"календулой,кал'ендулой\\n\", \"календулою,кал'ендулою\\n\", \"календулу,кал'ендулу\\n\", \"календулы,кал'ендулы\\n\", \"календы,кал'енды\\n\", \"каление,кал'ение\\n\", \"калением,кал'ением\\n\", \"калении,кал'ении\\n\", \"каленик,кал'еник\\n\", \"каленикович,кал'еникович\\n\", \"калениченко,каленич'енко\\n\", \"калению,кал'ению\\n\", \"каления,кал'ения\\n\", \"каленный,к'аленный\\n\", \"каленным,кал'енным\\n\", \"каленого,кал'еного\\n\", \"каленое,кал'еное\\n\", \"каленой,кал'еной\\n\", \"каленом,кал'еном\\n\", \"каленому,кал'еному\\n\", \"каленское,кал'енское\\n\", \"калентьева,кал'ентьева\\n\", \"каленую,кал'еную\\n\", \"калены,кален'ы\\n\", \"каленые,кал'еные\\n\", \"каленый,кал'еный\\n\", \"каленым,кал'еным\\n\", \"калеными,кал'еными\\n\", \"каленых,кал'еных\\n\", \"каленьевич,кал'еньевич\\n\", \"калерво,к'алерво\\n\", \"калергис,кал'ергис\\n\", \"калери,кал'ери\\n\", \"калерит,калер'ит\\n\", \"калеро,калер'о\\n\", \"калета,кал'ета\\n\", \"калецкий,кал'ецкий\\n\", \"калечась,кал'ечась\\n\", \"калечат,кал'ечат\\n\", \"калечатся,кал'ечатся\\n\", \"калечащая,кал'ечащая\\n\", \"калечащего,кал'ечащего\\n\", \"калечащее,кал'ечащее\\n\", \"калечащей,кал'ечащей\\n\", \"калечащем,кал'ечащем\\n\", \"калечащему,кал'ечащему\\n\", \"калечащею,кал'ечащею\\n\", \"калечащие,кал'ечащие\\n\", \"калечащий,кал'ечащий\\n\", \"калечащийся,кал'ечащийся\\n\", \"калечащим,кал'ечащим\\n\", \"калечащими,кал'ечащими\\n\", \"калечащих,кал'ечащих\\n\", \"калечащую,кал'ечащую\\n\", \"калечение,кал'ечение\\n\", \"калеченный,кал'еченный\\n\", \"калеченый,кал'еченый\\n\", \"калечившая,кал'ечившая\\n\", \"калечившего,кал'ечившего\\n\", \"калечившее,кал'ечившее\\n\", \"калечившей,кал'ечившей\\n\", \"калечившем,кал'ечившем\\n\", \"калечившему,кал'ечившему\\n\", \"калечившею,кал'ечившею\\n\", \"калечившие,кал'ечившие\\n\", \"калечивший,кал'ечивший\\n\", \"калечившийся,кал'ечившийся\\n\", \"калечившим,кал'ечившим\\n\", \"калечившими,кал'ечившими\\n\", \"калечивших,кал'ечивших\\n\", \"калечившую,кал'ечившую\\n\", \"калечил,кал'ечил\\n\", \"калечила,кал'ечила\\n\", \"калечилась,кал'ечилась\\n\", \"калечили,кал'ечили\\n\", \"калечились,кал'ечились\\n\", \"калечило,кал'ечило\\n\", \"калечилось,кал'ечилось\\n\", \"калечился,кал'ечился\\n\", \"калечим,кал'ечим\\n\", \"калечимся,кал'ечимся\\n\", \"калечимый,кал'ечимый\\n\", \"калечит,кал'ечит\\n\", \"калечите,кал'ечите\\n\", \"калечитесь,кал'ечитесь\\n\", \"калечится,кал'ечится\\n\", \"калечить,кал'ечить\\n\", \"калечиться,кал'ечиться\\n\", \"калечишь,кал'ечишь\\n\", \"калечишься,кал'ечишься\\n\", \"калечный,кал'ечный\\n\", \"калечу,кал'ечу\\n\", \"калечусь,кал'ечусь\\n\", \"калечь,кал'ечь\\n\", \"калечься,кал'ечься\\n\", \"калечьте,кал'ечьте\\n\", \"калечьтесь,кал'ечьтесь\\n\", \"калешин,кал'ешин\\n\", \"калешня,калешн'я\\n\", \"калея,кал'ея\\n\"]\n",
            "[\"чжуанский,чжу'анский\\n\"]\n"
          ],
          "name": "stdout"
        }
      ]
    },
    {
      "cell_type": "markdown",
      "metadata": {
        "id": "6TaVCPOAEWzV",
        "colab_type": "text"
      },
      "source": [
        "Разделим данные на тренировочные, валидационные и тестовые"
      ]
    },
    {
      "cell_type": "code",
      "metadata": {
        "id": "iGG6QYiAEYcd",
        "colab_type": "code",
        "colab": {}
      },
      "source": [
        "train_frac = 0.65\n",
        "val_frac = 0.3\n",
        "test_frac = 0.05\n",
        "\n",
        "def train_test_val_words(words):\n",
        "    return (words[:int(len(words)*train_frac)], \n",
        "words[int(len(words)*train_frac) : (int(len(words)*train_frac) + int(len(words)*val_frac))], \n",
        "words[(int(len(words)*train_frac) + int(len(words)*val_frac)):])\n",
        "    \n",
        "\n",
        "for_train, for_val, for_test = train_test_val_words(word_groups)"
      ],
      "execution_count": 10,
      "outputs": []
    },
    {
      "cell_type": "code",
      "metadata": {
        "id": "mwYoVsRvtycD",
        "colab_type": "code",
        "colab": {}
      },
      "source": [
        "def words_to_num(my_words):\n",
        "  words, accents = [], []\n",
        "  for i in range (len(my_words)):\n",
        "      str = my_words[i].replace('\\n', '').split(',')\n",
        "      words.append(str[0])\n",
        "      accents.append(str[1])\n",
        "\n",
        "  words_int = np.zeros((len(my_words), number_of_classes), dtype=int)\n",
        "  accents_int = np.zeros((len(my_words),number_of_classes), dtype=int)\n",
        "  \n",
        "  for i in range(len(words)):\n",
        "    for j in range(len(words[i])):\n",
        "        words_int[i][j]= alphabet[words[i][j]]\n",
        "        \n",
        "    acc = accents[i].find(\"'\")\n",
        "    if (acc != -1):\n",
        "        accents_int[i][acc] = 1\n",
        "        if accents[i][acc + 1:].find(\"'\") != -1:\n",
        "          print('В слове два ударения:', accents[i])\n",
        "    else:\n",
        "        accents_int[i][number_of_classes - 1] = 1\n",
        "        print('Нет ударения: ', words[i])\n",
        "  return words_int, accents_int"
      ],
      "execution_count": 11,
      "outputs": []
    },
    {
      "cell_type": "code",
      "metadata": {
        "id": "hN5CsYmlzq7b",
        "colab_type": "code",
        "colab": {
          "base_uri": "https://localhost:8080/",
          "height": 246
        },
        "outputId": "576b5b69-9add-4514-b86b-dda215ff883f"
      },
      "source": [
        "train_x, train_y= [], []\n",
        "for i in range(len(for_train)):\n",
        "  w, a = words_to_num(for_train[i])\n",
        "  for j in range(len(for_train[i])):\n",
        "    train_x.append(w[j])\n",
        "    train_y.append(a[j])\n",
        "  \n",
        "val_x, val_y= [], []\n",
        "for i in range(len(for_val)):\n",
        "  w, a = words_to_num(for_val[i])\n",
        "  for j in range(len(for_val[i])):\n",
        "    val_x.append(w[j])\n",
        "    val_y.append(a[j])\n",
        "\n",
        "test_x, test_y= [], []\n",
        "for i in range(len(for_test)):\n",
        "  w, a = words_to_num(for_test[i])\n",
        "  for j in range(len(for_test[i])):\n",
        "    test_x.append(w[j])\n",
        "    test_y.append(a[j])\n"
      ],
      "execution_count": 12,
      "outputs": [
        {
          "output_type": "stream",
          "text": [
            "Нет ударения:  с\n",
            "В слове два ударения: обагр'я'ясь\n",
            "Нет ударения:  ж\n",
            "Нет ударения:  ль\n",
            "Нет ударения:  б\n",
            "Нет ударения:  мм\n",
            "Нет ударения:  в\n",
            "Нет ударения:  к\n",
            "Нет ударения:  брр\n",
            "Нет ударения:  кш\n",
            "Нет ударения:  хм\n",
            "Нет ударения:  гм\n",
            "Нет ударения:  тсс\n"
          ],
          "name": "stdout"
        }
      ]
    },
    {
      "cell_type": "code",
      "metadata": {
        "id": "ht7ESXP73sAL",
        "colab_type": "code",
        "colab": {}
      },
      "source": [
        "test_x = np.array(test_x) \n",
        "train_x = np.array(train_x) \n",
        "val_x = np.array(val_x) \n",
        "\n",
        "test_y = np.array(test_y) \n",
        "train_y = np.array(train_y) \n",
        "val_y = np.array(val_y) "
      ],
      "execution_count": 13,
      "outputs": []
    },
    {
      "cell_type": "code",
      "metadata": {
        "id": "BUmG7qeVDnnj",
        "colab_type": "code",
        "colab": {
          "base_uri": "https://localhost:8080/",
          "height": 87
        },
        "outputId": "947149e7-689b-483a-f9b2-d177c2f92e37"
      },
      "source": [
        "print(\"\\t\\t\\t Размеры:\")\n",
        "print(\"Train set: \\t\\t{}\".format(test_x.shape), \n",
        "      \"\\nValidation set: \\t{}\".format(train_x.shape),\n",
        "      \"\\nTest set: \\t\\t{}\".format(val_x.shape))"
      ],
      "execution_count": 14,
      "outputs": [
        {
          "output_type": "stream",
          "text": [
            "\t\t\t Размеры:\n",
            "Train set: \t\t(73705, 32) \n",
            "Validation set: \t(1042886, 32) \n",
            "Test set: \t\t(562286, 32)\n"
          ],
          "name": "stdout"
        }
      ]
    },
    {
      "cell_type": "markdown",
      "metadata": {
        "id": "QujGu0enEdmW",
        "colab_type": "text"
      },
      "source": [
        "# Моделирование нейронной сети"
      ]
    },
    {
      "cell_type": "markdown",
      "metadata": {
        "id": "5h41aFc53JWg",
        "colab_type": "text"
      },
      "source": [
        "# LSTM"
      ]
    },
    {
      "cell_type": "code",
      "metadata": {
        "id": "ia0lLhvOEbkS",
        "colab_type": "code",
        "colab": {}
      },
      "source": [
        "# max_features = len(alphabet) + 1\n",
        "# max_features"
      ],
      "execution_count": null,
      "outputs": []
    },
    {
      "cell_type": "code",
      "metadata": {
        "id": "EfOKOkYhl7vb",
        "colab_type": "code",
        "colab": {}
      },
      "source": [
        "# # LSTM model\n",
        "# model = Sequential()\n",
        "# model.add(Embedding(input_dim = max_features, output_dim = number_of_classes, input_length=number_of_classes))\n",
        "# model.add(LSTM(128, dropout=0.2, recurrent_dropout=0.2))\n",
        "# model.add(Dense(256, activation='relu')) #256\n",
        "# model.add(Dense(256, activation='relu'))\n",
        "# model.add(Dense(number_of_classes, activation='softmax'))\n",
        "\n",
        "# model.compile(loss='categorical_crossentropy')"
      ],
      "execution_count": null,
      "outputs": []
    },
    {
      "cell_type": "code",
      "metadata": {
        "id": "dfmwLBY93Xrw",
        "colab_type": "code",
        "colab": {}
      },
      "source": [
        "# #LSTM\n",
        "# history = model.fit(train_x, train_y,\n",
        "#           batch_size=batch_size,\n",
        "#           epochs=epochs,\n",
        "#           validation_data=(val_x, val_y))"
      ],
      "execution_count": null,
      "outputs": []
    },
    {
      "cell_type": "markdown",
      "metadata": {
        "id": "4vFblr0u3aAy",
        "colab_type": "text"
      },
      "source": [
        "# U-net"
      ]
    },
    {
      "cell_type": "code",
      "metadata": {
        "id": "GZYbM9i87pAj",
        "colab_type": "code",
        "colab": {}
      },
      "source": [
        "# def unet(input_size = (number_of_classes, 1)):\n",
        "\n",
        "#     inputs = Input(input_size)\n",
        "\n",
        "#     conv1 = Conv1D(64, 2, activation = 'relu')(inputs)\n",
        "#     conv1 = Conv1D(64, 2, activation = 'relu')(conv1)\n",
        "#     pool1 = MaxPooling1D(pool_size=2)(conv1)\n",
        "\n",
        "#     conv2 = Conv1D(128, 2, activation = 'relu', kernel_initializer = 'he_normal')(pool1)\n",
        "#     conv2 = Conv1D(128, 2, activation = 'relu', kernel_initializer = 'he_normal')(conv2)\n",
        "#     drop2 = Dropout(0.5)(conv2)\n",
        "#     pool2 = MaxPooling1D(pool_size=2)(conv2)\n",
        "\n",
        "#     conv3 = Conv1D(256, 2, activation = 'relu', kernel_initializer = 'he_normal')(pool2)\n",
        "#     conv3 = Conv1D(256, 2, activation = 'relu', kernel_initializer = 'he_normal')(conv3)\n",
        "#     drop3 = Dropout(0.5)(conv2)\n",
        "\n",
        "#     up4 = Conv1D(128, 2, activation = 'relu', kernel_initializer = 'he_normal')(UpSampling1D(size = 2)(drop3))\n",
        "#     merge4 = concatenate([drop2,up4], axis = 1)\n",
        "#     conv4 = Conv1D(128, 2, activation = 'relu', kernel_initializer = 'he_normal')(merge4)\n",
        "#     conv4 = Conv1D(128, 2, activation = 'relu', kernel_initializer = 'he_normal')(conv4)\n",
        "\n",
        "#     up5 = Conv1D(64, 2, activation = 'relu', kernel_initializer = 'he_normal')(UpSampling1D(size = 2)(conv4))\n",
        "#     merge5 = concatenate([conv1,up5], axis = 1)\n",
        "#     conv5 = Conv1D(64, 2, activation = 'relu', kernel_initializer = 'he_normal')(merge5)\n",
        "#     conv5 = Conv1D(64, 2, activation = 'relu', kernel_initializer = 'he_normal')(conv5)\n",
        "#     conv5 = Conv1D(2, 2, activation = 'relu', kernel_initializer = 'he_normal')(conv5)\n",
        "#     conv6 = Conv1D(30, 90, activation = 'softmax')(conv5)\n",
        "    \n",
        "#     model = Model(input = inputs, output = conv6)\n",
        "\n",
        "#     model.compile(optimizer = Adam(lr = 1e-4), loss = 'categorical_crossentropy', metrics = ['accuracy'])\n",
        "    \n",
        "#     print(model.summary())\n",
        "\n",
        "#     return model"
      ],
      "execution_count": null,
      "outputs": []
    },
    {
      "cell_type": "code",
      "metadata": {
        "id": "IKCP7B6p_feW",
        "colab_type": "code",
        "colab": {}
      },
      "source": [
        "# model = unet()"
      ],
      "execution_count": null,
      "outputs": []
    },
    {
      "cell_type": "code",
      "metadata": {
        "id": "nCQSG_hx3f1O",
        "colab_type": "code",
        "colab": {}
      },
      "source": [
        "# batch_size = 256\n",
        "# epochs = 10\n",
        "\n",
        "# X_train = np.reshape(train_x, (train_x.shape[0], 1, train_x.shape[1]))\n",
        "# Y_train = np.reshape(train_y, (train_y.shape[0], 1, train_y.shape[1]))\n",
        "\n",
        "# X_val =  np.reshape(val_x, (val_x.shape[0], 1, val_x.shape[1]))\n",
        "# Y_val =  np.reshape(val_y, (val_y.shape[0], 1, val_y.shape[1]))\n",
        "\n",
        "# X_test = np.reshape(test_x, (test_x.shape[0], 1, test_x.shape[1]))\n",
        "# Y_test = np.reshape(test_y, (test_y.shape[0], 1, test_y.shape[1]))\n",
        "\n",
        "# history = model.fit(X_train, Y_train,\n",
        "#           batch_size=batch_size,\n",
        "#           epochs=epochs,\n",
        "#           validation_data=(X_val, Y_val))"
      ],
      "execution_count": null,
      "outputs": []
    },
    {
      "cell_type": "code",
      "metadata": {
        "id": "0Rwap0cfz6AM",
        "colab_type": "code",
        "colab": {}
      },
      "source": [
        "# acc_pred = model.predict(X_test)\n",
        "\n",
        "# test_accur = 0\n",
        "# for i in range(len(acc_pred)):\n",
        "#     if acc_pred[i].argmax() == Y_test[i].argmax():\n",
        "#         test_accur = test_accur + 1\n",
        "# test_accur = test_accur/len(acc_pred)"
      ],
      "execution_count": null,
      "outputs": []
    },
    {
      "cell_type": "code",
      "metadata": {
        "id": "jeWczbSZ0TWr",
        "colab_type": "code",
        "colab": {}
      },
      "source": [
        "# for i in range(N):\n",
        "#     slovo = ''\n",
        "#     k = i * 500\n",
        "#     for j in range(len(X_test[k][0])):\n",
        "\n",
        "#         if X_test[k][0][j] != 0:\n",
        "#             slovo = slovo + get_key(alphabet, X_test[k][0][j])\n",
        "#         else:\n",
        "#             break\n",
        "\n",
        "#     template = slovo[:Y_test[k][0].argmax() + 1] + '\\'' + slovo[Y_test[k][0].argmax() + 1:]\n",
        "#     nn_sample = slovo[:acc_pred[k][0].argmax() + 1] + '\\'' + slovo[acc_pred[k].argmax() + 1:]\n",
        "    \n",
        "#     if (acc_pred[k].argmax() != Y_test[k].argmax()):\n",
        "#       print('Эталон   : ' , template)\n",
        "#       print('Ошибка!  : ' , nn_sample)\n",
        "#     else:\n",
        "#       print('Результат: ' , nn_sample)\n",
        "#     print()"
      ],
      "execution_count": null,
      "outputs": []
    },
    {
      "cell_type": "markdown",
      "metadata": {
        "id": "ZKytmXmK3iN1",
        "colab_type": "text"
      },
      "source": [
        "# resU-net"
      ]
    },
    {
      "cell_type": "code",
      "metadata": {
        "id": "nwPi1kuXc91s",
        "colab_type": "code",
        "colab": {}
      },
      "source": [
        "max_features = len(alphabet) + 1"
      ],
      "execution_count": 15,
      "outputs": []
    },
    {
      "cell_type": "code",
      "metadata": {
        "id": "Cs-iuzkp1yIm",
        "colab_type": "code",
        "colab": {}
      },
      "source": [
        "def res_unet(filter_root, depth, n_class=number_of_classes, input_size = (number_of_classes, ), activation='relu', \n",
        "             batch_norm=True, final_activation='softmax', embed = number_of_classes):\n",
        "    \"\"\"\n",
        "    Build UNet model with ResBlock.\n",
        "    Args:\n",
        "        filter_root (int): Number of filters to start with in first convolution.\n",
        "        depth (int): How deep to go in UNet i.e. how many down and up sampling you want to do in the model. \n",
        "                    Filter root and image size should be multiple of 2^depth.\n",
        "        n_class (int, optional): How many classes in the output layer. Defaults to 2.\n",
        "        input_size (tuple, optional): Input image size. Defaults to (256, 256, 1).\n",
        "        activation (str, optional): activation to use in each convolution. Defaults to 'relu'.\n",
        "        batch_norm (bool, optional): To use Batch normaliztion or not. Defaults to True.\n",
        "        final_activation (str, optional): activation for output layer. Defaults to 'softmax'.\n",
        "    Returns:\n",
        "        obj: keras model object\n",
        "    \"\"\"\n",
        "    inputs = Input(input_size)\n",
        "    x = inputs\n",
        "\n",
        "    em = Embedding(input_dim = max_features, output_dim = number_of_classes)(x)\n",
        "    x = em\n",
        "\n",
        "    # Dictionary for long connections\n",
        "    long_connection_store = {}\n",
        "\n",
        "    # Down sampling\n",
        "    for i in range(depth):\n",
        "        out_channel = 2**i * filter_root\n",
        " \n",
        "        # Residual/Skip connection\n",
        "        res = Conv1D(out_channel, kernel_size=1, padding='same', use_bias=False)(x)\n",
        "        # First Conv Block with Conv, BN and activation\n",
        "        conv1 = Conv1D(out_channel, kernel_size=3, padding='same')(x)\n",
        "        if batch_norm:\n",
        "            conv1 = BatchNormalization()(conv1)\n",
        "        act1 = Activation(activation)(conv1)\n",
        "        \n",
        "        # Second Conv block with Conv and BN only\n",
        "        conv2 = Conv1D(out_channel, kernel_size=3, padding='same')(act1)\n",
        "        conv2 = Dropout(0.3)(conv2)\n",
        "\n",
        "        if batch_norm:\n",
        "            conv2 = BatchNormalization()(conv2)\n",
        "\n",
        "        resconnection = Add()([res, conv2])\n",
        "\n",
        "        act2 = Activation(activation)(resconnection)\n",
        "\n",
        "        # Max pooling\n",
        "        if i < depth - 1:\n",
        "            long_connection_store[str(i)] = act2\n",
        "            x = MaxPooling1D(padding='same')(act2)\n",
        "        else:\n",
        "            x = act2\n",
        "\n",
        "    # Upsampling\n",
        "    for i in range(depth - 2, -1, -1):\n",
        "        out_channel = 2**(i) * filter_root\n",
        "\n",
        "        # long connection from down sampling path.\n",
        "        long_connection = long_connection_store[str(i)]\n",
        " \n",
        "        up1 = UpSampling1D()(x)\n",
        "\n",
        "        up_conv1 = Conv1D(out_channel, 2, padding='same', activation='relu')(up1)\n",
        "\n",
        "        #  Concatenate.\n",
        "        up_conc = Concatenate(axis=-1)([up_conv1, long_connection])\n",
        "\n",
        "        #  Convolutions\n",
        "        up_conv2 = Conv1D(out_channel, 3, padding='same')(up_conc)\n",
        "        if batch_norm:\n",
        "            up_conv2 = BatchNormalization()(up_conv2)\n",
        "        up_act1 = Activation(activation)(up_conv2)\n",
        "\n",
        "        up_conv2 = Conv1D(out_channel, 3, padding='same')(up_act1)\n",
        "        if batch_norm:\n",
        "            up_conv2 = BatchNormalization()(up_conv2)\n",
        "\n",
        "        # Residual/Skip connection\n",
        "        res = Conv1D(out_channel, kernel_size=1, padding='same', use_bias=False)(up_conc)\n",
        "\n",
        "        resconnection = Add()([res, up_conv2])\n",
        "\n",
        "        x = Activation(activation)(resconnection)\n",
        "\n",
        "    # Final convolution\n",
        "    fin_conv = Conv1D(1, 3, padding='same')(x)\n",
        "    fl = Flatten()(fin_conv)   \n",
        "    d1 = Dense(256, activation='relu')(fl)\n",
        "    d2 = Dense(256, activation='relu')(d1)\n",
        "    output = Dense(number_of_classes, activation='softmax')(d2)\n",
        "\n",
        "    model = Model(inputs, outputs=output)\n",
        "\n",
        "    model.compile(optimizer = Adam(lr = 1e-4), loss = 'categorical_crossentropy', metrics = ['accuracy'])\n",
        "\n",
        "    print(model.summary())\n",
        "\n",
        "    return model"
      ],
      "execution_count": 16,
      "outputs": []
    },
    {
      "cell_type": "code",
      "metadata": {
        "id": "4OZvp4L52asA",
        "colab_type": "code",
        "colab": {
          "base_uri": "https://localhost:8080/",
          "height": 1000
        },
        "outputId": "7911f8da-3218-440a-8a83-84d20bd7d38a"
      },
      "source": [
        "model = res_unet(128, 5, number_of_classes, input_size=(number_of_classes,))"
      ],
      "execution_count": 17,
      "outputs": [
        {
          "output_type": "stream",
          "text": [
            "Model: \"model_1\"\n",
            "__________________________________________________________________________________________________\n",
            "Layer (type)                    Output Shape         Param #     Connected to                     \n",
            "==================================================================================================\n",
            "input_1 (InputLayer)            (None, 32)           0                                            \n",
            "__________________________________________________________________________________________________\n",
            "embedding_1 (Embedding)         (None, 32, 32)       1088        input_1[0][0]                    \n",
            "__________________________________________________________________________________________________\n",
            "conv1d_2 (Conv1D)               (None, 32, 128)      12416       embedding_1[0][0]                \n",
            "__________________________________________________________________________________________________\n",
            "batch_normalization_1 (BatchNor (None, 32, 128)      512         conv1d_2[0][0]                   \n",
            "__________________________________________________________________________________________________\n",
            "activation_1 (Activation)       (None, 32, 128)      0           batch_normalization_1[0][0]      \n",
            "__________________________________________________________________________________________________\n",
            "conv1d_3 (Conv1D)               (None, 32, 128)      49280       activation_1[0][0]               \n",
            "__________________________________________________________________________________________________\n",
            "dropout_1 (Dropout)             (None, 32, 128)      0           conv1d_3[0][0]                   \n",
            "__________________________________________________________________________________________________\n",
            "conv1d_1 (Conv1D)               (None, 32, 128)      4096        embedding_1[0][0]                \n",
            "__________________________________________________________________________________________________\n",
            "batch_normalization_2 (BatchNor (None, 32, 128)      512         dropout_1[0][0]                  \n",
            "__________________________________________________________________________________________________\n",
            "add_1 (Add)                     (None, 32, 128)      0           conv1d_1[0][0]                   \n",
            "                                                                 batch_normalization_2[0][0]      \n",
            "__________________________________________________________________________________________________\n",
            "activation_2 (Activation)       (None, 32, 128)      0           add_1[0][0]                      \n",
            "__________________________________________________________________________________________________\n",
            "max_pooling1d_1 (MaxPooling1D)  (None, 16, 128)      0           activation_2[0][0]               \n",
            "__________________________________________________________________________________________________\n",
            "conv1d_5 (Conv1D)               (None, 16, 256)      98560       max_pooling1d_1[0][0]            \n",
            "__________________________________________________________________________________________________\n",
            "batch_normalization_3 (BatchNor (None, 16, 256)      1024        conv1d_5[0][0]                   \n",
            "__________________________________________________________________________________________________\n",
            "activation_3 (Activation)       (None, 16, 256)      0           batch_normalization_3[0][0]      \n",
            "__________________________________________________________________________________________________\n",
            "conv1d_6 (Conv1D)               (None, 16, 256)      196864      activation_3[0][0]               \n",
            "__________________________________________________________________________________________________\n",
            "dropout_2 (Dropout)             (None, 16, 256)      0           conv1d_6[0][0]                   \n",
            "__________________________________________________________________________________________________\n",
            "conv1d_4 (Conv1D)               (None, 16, 256)      32768       max_pooling1d_1[0][0]            \n",
            "__________________________________________________________________________________________________\n",
            "batch_normalization_4 (BatchNor (None, 16, 256)      1024        dropout_2[0][0]                  \n",
            "__________________________________________________________________________________________________\n",
            "add_2 (Add)                     (None, 16, 256)      0           conv1d_4[0][0]                   \n",
            "                                                                 batch_normalization_4[0][0]      \n",
            "__________________________________________________________________________________________________\n",
            "activation_4 (Activation)       (None, 16, 256)      0           add_2[0][0]                      \n",
            "__________________________________________________________________________________________________\n",
            "max_pooling1d_2 (MaxPooling1D)  (None, 8, 256)       0           activation_4[0][0]               \n",
            "__________________________________________________________________________________________________\n",
            "conv1d_8 (Conv1D)               (None, 8, 512)       393728      max_pooling1d_2[0][0]            \n",
            "__________________________________________________________________________________________________\n",
            "batch_normalization_5 (BatchNor (None, 8, 512)       2048        conv1d_8[0][0]                   \n",
            "__________________________________________________________________________________________________\n",
            "activation_5 (Activation)       (None, 8, 512)       0           batch_normalization_5[0][0]      \n",
            "__________________________________________________________________________________________________\n",
            "conv1d_9 (Conv1D)               (None, 8, 512)       786944      activation_5[0][0]               \n",
            "__________________________________________________________________________________________________\n",
            "dropout_3 (Dropout)             (None, 8, 512)       0           conv1d_9[0][0]                   \n",
            "__________________________________________________________________________________________________\n",
            "conv1d_7 (Conv1D)               (None, 8, 512)       131072      max_pooling1d_2[0][0]            \n",
            "__________________________________________________________________________________________________\n",
            "batch_normalization_6 (BatchNor (None, 8, 512)       2048        dropout_3[0][0]                  \n",
            "__________________________________________________________________________________________________\n",
            "add_3 (Add)                     (None, 8, 512)       0           conv1d_7[0][0]                   \n",
            "                                                                 batch_normalization_6[0][0]      \n",
            "__________________________________________________________________________________________________\n",
            "activation_6 (Activation)       (None, 8, 512)       0           add_3[0][0]                      \n",
            "__________________________________________________________________________________________________\n",
            "max_pooling1d_3 (MaxPooling1D)  (None, 4, 512)       0           activation_6[0][0]               \n",
            "__________________________________________________________________________________________________\n",
            "conv1d_11 (Conv1D)              (None, 4, 1024)      1573888     max_pooling1d_3[0][0]            \n",
            "__________________________________________________________________________________________________\n",
            "batch_normalization_7 (BatchNor (None, 4, 1024)      4096        conv1d_11[0][0]                  \n",
            "__________________________________________________________________________________________________\n",
            "activation_7 (Activation)       (None, 4, 1024)      0           batch_normalization_7[0][0]      \n",
            "__________________________________________________________________________________________________\n",
            "conv1d_12 (Conv1D)              (None, 4, 1024)      3146752     activation_7[0][0]               \n",
            "__________________________________________________________________________________________________\n",
            "dropout_4 (Dropout)             (None, 4, 1024)      0           conv1d_12[0][0]                  \n",
            "__________________________________________________________________________________________________\n",
            "conv1d_10 (Conv1D)              (None, 4, 1024)      524288      max_pooling1d_3[0][0]            \n",
            "__________________________________________________________________________________________________\n",
            "batch_normalization_8 (BatchNor (None, 4, 1024)      4096        dropout_4[0][0]                  \n",
            "__________________________________________________________________________________________________\n",
            "add_4 (Add)                     (None, 4, 1024)      0           conv1d_10[0][0]                  \n",
            "                                                                 batch_normalization_8[0][0]      \n",
            "__________________________________________________________________________________________________\n",
            "activation_8 (Activation)       (None, 4, 1024)      0           add_4[0][0]                      \n",
            "__________________________________________________________________________________________________\n",
            "max_pooling1d_4 (MaxPooling1D)  (None, 2, 1024)      0           activation_8[0][0]               \n",
            "__________________________________________________________________________________________________\n",
            "conv1d_14 (Conv1D)              (None, 2, 2048)      6293504     max_pooling1d_4[0][0]            \n",
            "__________________________________________________________________________________________________\n",
            "batch_normalization_9 (BatchNor (None, 2, 2048)      8192        conv1d_14[0][0]                  \n",
            "__________________________________________________________________________________________________\n",
            "activation_9 (Activation)       (None, 2, 2048)      0           batch_normalization_9[0][0]      \n",
            "__________________________________________________________________________________________________\n",
            "conv1d_15 (Conv1D)              (None, 2, 2048)      12584960    activation_9[0][0]               \n",
            "__________________________________________________________________________________________________\n",
            "dropout_5 (Dropout)             (None, 2, 2048)      0           conv1d_15[0][0]                  \n",
            "__________________________________________________________________________________________________\n",
            "conv1d_13 (Conv1D)              (None, 2, 2048)      2097152     max_pooling1d_4[0][0]            \n",
            "__________________________________________________________________________________________________\n",
            "batch_normalization_10 (BatchNo (None, 2, 2048)      8192        dropout_5[0][0]                  \n",
            "__________________________________________________________________________________________________\n",
            "add_5 (Add)                     (None, 2, 2048)      0           conv1d_13[0][0]                  \n",
            "                                                                 batch_normalization_10[0][0]     \n",
            "__________________________________________________________________________________________________\n",
            "activation_10 (Activation)      (None, 2, 2048)      0           add_5[0][0]                      \n",
            "__________________________________________________________________________________________________\n",
            "up_sampling1d_1 (UpSampling1D)  (None, 4, 2048)      0           activation_10[0][0]              \n",
            "__________________________________________________________________________________________________\n",
            "conv1d_16 (Conv1D)              (None, 4, 1024)      4195328     up_sampling1d_1[0][0]            \n",
            "__________________________________________________________________________________________________\n",
            "concatenate_1 (Concatenate)     (None, 4, 2048)      0           conv1d_16[0][0]                  \n",
            "                                                                 activation_8[0][0]               \n",
            "__________________________________________________________________________________________________\n",
            "conv1d_17 (Conv1D)              (None, 4, 1024)      6292480     concatenate_1[0][0]              \n",
            "__________________________________________________________________________________________________\n",
            "batch_normalization_11 (BatchNo (None, 4, 1024)      4096        conv1d_17[0][0]                  \n",
            "__________________________________________________________________________________________________\n",
            "activation_11 (Activation)      (None, 4, 1024)      0           batch_normalization_11[0][0]     \n",
            "__________________________________________________________________________________________________\n",
            "conv1d_18 (Conv1D)              (None, 4, 1024)      3146752     activation_11[0][0]              \n",
            "__________________________________________________________________________________________________\n",
            "conv1d_19 (Conv1D)              (None, 4, 1024)      2097152     concatenate_1[0][0]              \n",
            "__________________________________________________________________________________________________\n",
            "batch_normalization_12 (BatchNo (None, 4, 1024)      4096        conv1d_18[0][0]                  \n",
            "__________________________________________________________________________________________________\n",
            "add_6 (Add)                     (None, 4, 1024)      0           conv1d_19[0][0]                  \n",
            "                                                                 batch_normalization_12[0][0]     \n",
            "__________________________________________________________________________________________________\n",
            "activation_12 (Activation)      (None, 4, 1024)      0           add_6[0][0]                      \n",
            "__________________________________________________________________________________________________\n",
            "up_sampling1d_2 (UpSampling1D)  (None, 8, 1024)      0           activation_12[0][0]              \n",
            "__________________________________________________________________________________________________\n",
            "conv1d_20 (Conv1D)              (None, 8, 512)       1049088     up_sampling1d_2[0][0]            \n",
            "__________________________________________________________________________________________________\n",
            "concatenate_2 (Concatenate)     (None, 8, 1024)      0           conv1d_20[0][0]                  \n",
            "                                                                 activation_6[0][0]               \n",
            "__________________________________________________________________________________________________\n",
            "conv1d_21 (Conv1D)              (None, 8, 512)       1573376     concatenate_2[0][0]              \n",
            "__________________________________________________________________________________________________\n",
            "batch_normalization_13 (BatchNo (None, 8, 512)       2048        conv1d_21[0][0]                  \n",
            "__________________________________________________________________________________________________\n",
            "activation_13 (Activation)      (None, 8, 512)       0           batch_normalization_13[0][0]     \n",
            "__________________________________________________________________________________________________\n",
            "conv1d_22 (Conv1D)              (None, 8, 512)       786944      activation_13[0][0]              \n",
            "__________________________________________________________________________________________________\n",
            "conv1d_23 (Conv1D)              (None, 8, 512)       524288      concatenate_2[0][0]              \n",
            "__________________________________________________________________________________________________\n",
            "batch_normalization_14 (BatchNo (None, 8, 512)       2048        conv1d_22[0][0]                  \n",
            "__________________________________________________________________________________________________\n",
            "add_7 (Add)                     (None, 8, 512)       0           conv1d_23[0][0]                  \n",
            "                                                                 batch_normalization_14[0][0]     \n",
            "__________________________________________________________________________________________________\n",
            "activation_14 (Activation)      (None, 8, 512)       0           add_7[0][0]                      \n",
            "__________________________________________________________________________________________________\n",
            "up_sampling1d_3 (UpSampling1D)  (None, 16, 512)      0           activation_14[0][0]              \n",
            "__________________________________________________________________________________________________\n",
            "conv1d_24 (Conv1D)              (None, 16, 256)      262400      up_sampling1d_3[0][0]            \n",
            "__________________________________________________________________________________________________\n",
            "concatenate_3 (Concatenate)     (None, 16, 512)      0           conv1d_24[0][0]                  \n",
            "                                                                 activation_4[0][0]               \n",
            "__________________________________________________________________________________________________\n",
            "conv1d_25 (Conv1D)              (None, 16, 256)      393472      concatenate_3[0][0]              \n",
            "__________________________________________________________________________________________________\n",
            "batch_normalization_15 (BatchNo (None, 16, 256)      1024        conv1d_25[0][0]                  \n",
            "__________________________________________________________________________________________________\n",
            "activation_15 (Activation)      (None, 16, 256)      0           batch_normalization_15[0][0]     \n",
            "__________________________________________________________________________________________________\n",
            "conv1d_26 (Conv1D)              (None, 16, 256)      196864      activation_15[0][0]              \n",
            "__________________________________________________________________________________________________\n",
            "conv1d_27 (Conv1D)              (None, 16, 256)      131072      concatenate_3[0][0]              \n",
            "__________________________________________________________________________________________________\n",
            "batch_normalization_16 (BatchNo (None, 16, 256)      1024        conv1d_26[0][0]                  \n",
            "__________________________________________________________________________________________________\n",
            "add_8 (Add)                     (None, 16, 256)      0           conv1d_27[0][0]                  \n",
            "                                                                 batch_normalization_16[0][0]     \n",
            "__________________________________________________________________________________________________\n",
            "activation_16 (Activation)      (None, 16, 256)      0           add_8[0][0]                      \n",
            "__________________________________________________________________________________________________\n",
            "up_sampling1d_4 (UpSampling1D)  (None, 32, 256)      0           activation_16[0][0]              \n",
            "__________________________________________________________________________________________________\n",
            "conv1d_28 (Conv1D)              (None, 32, 128)      65664       up_sampling1d_4[0][0]            \n",
            "__________________________________________________________________________________________________\n",
            "concatenate_4 (Concatenate)     (None, 32, 256)      0           conv1d_28[0][0]                  \n",
            "                                                                 activation_2[0][0]               \n",
            "__________________________________________________________________________________________________\n",
            "conv1d_29 (Conv1D)              (None, 32, 128)      98432       concatenate_4[0][0]              \n",
            "__________________________________________________________________________________________________\n",
            "batch_normalization_17 (BatchNo (None, 32, 128)      512         conv1d_29[0][0]                  \n",
            "__________________________________________________________________________________________________\n",
            "activation_17 (Activation)      (None, 32, 128)      0           batch_normalization_17[0][0]     \n",
            "__________________________________________________________________________________________________\n",
            "conv1d_30 (Conv1D)              (None, 32, 128)      49280       activation_17[0][0]              \n",
            "__________________________________________________________________________________________________\n",
            "conv1d_31 (Conv1D)              (None, 32, 128)      32768       concatenate_4[0][0]              \n",
            "__________________________________________________________________________________________________\n",
            "batch_normalization_18 (BatchNo (None, 32, 128)      512         conv1d_30[0][0]                  \n",
            "__________________________________________________________________________________________________\n",
            "add_9 (Add)                     (None, 32, 128)      0           conv1d_31[0][0]                  \n",
            "                                                                 batch_normalization_18[0][0]     \n",
            "__________________________________________________________________________________________________\n",
            "activation_18 (Activation)      (None, 32, 128)      0           add_9[0][0]                      \n",
            "__________________________________________________________________________________________________\n",
            "conv1d_32 (Conv1D)              (None, 32, 1)        385         activation_18[0][0]              \n",
            "__________________________________________________________________________________________________\n",
            "flatten_1 (Flatten)             (None, 32)           0           conv1d_32[0][0]                  \n",
            "__________________________________________________________________________________________________\n",
            "dense_1 (Dense)                 (None, 256)          8448        flatten_1[0][0]                  \n",
            "__________________________________________________________________________________________________\n",
            "dense_2 (Dense)                 (None, 256)          65792       dense_1[0][0]                    \n",
            "__________________________________________________________________________________________________\n",
            "dense_3 (Dense)                 (None, 32)           8224        dense_2[0][0]                    \n",
            "==================================================================================================\n",
            "Total params: 48,952,673\n",
            "Trainable params: 48,929,121\n",
            "Non-trainable params: 23,552\n",
            "__________________________________________________________________________________________________\n",
            "None\n"
          ],
          "name": "stdout"
        }
      ]
    },
    {
      "cell_type": "code",
      "metadata": {
        "id": "sOqYNfjrAtuG",
        "colab_type": "code",
        "colab": {
          "base_uri": "https://localhost:8080/",
          "height": 442
        },
        "outputId": "1ffac160-6846-40d8-a441-da4364ea0f0b"
      },
      "source": [
        "batch_size = 256\n",
        "epochs = 10\n",
        "\n",
        "history = model.fit(train_x, train_y,\n",
        "          batch_size=batch_size,\n",
        "          epochs=epochs,\n",
        "          validation_data=(val_x, val_y))"
      ],
      "execution_count": 18,
      "outputs": [
        {
          "output_type": "stream",
          "text": [
            "/usr/local/lib/python3.6/dist-packages/tensorflow/python/framework/indexed_slices.py:434: UserWarning: Converting sparse IndexedSlices to a dense Tensor of unknown shape. This may consume a large amount of memory.\n",
            "  \"Converting sparse IndexedSlices to a dense Tensor of unknown shape. \"\n"
          ],
          "name": "stderr"
        },
        {
          "output_type": "stream",
          "text": [
            "Train on 1042886 samples, validate on 562286 samples\n",
            "Epoch 1/10\n",
            "1042886/1042886 [==============================] - 596s 572us/step - loss: 0.5898 - accuracy: 0.7711 - val_loss: 0.5271 - val_accuracy: 0.8013\n",
            "Epoch 2/10\n",
            "1042886/1042886 [==============================] - 579s 555us/step - loss: 0.3791 - accuracy: 0.8505 - val_loss: 0.4621 - val_accuracy: 0.8338\n",
            "Epoch 3/10\n",
            "1042886/1042886 [==============================] - 578s 554us/step - loss: 0.3093 - accuracy: 0.8793 - val_loss: 0.4385 - val_accuracy: 0.8440\n",
            "Epoch 4/10\n",
            "1042886/1042886 [==============================] - 577s 553us/step - loss: 0.2658 - accuracy: 0.8972 - val_loss: 0.4581 - val_accuracy: 0.8464\n",
            "Epoch 5/10\n",
            "1042886/1042886 [==============================] - 577s 553us/step - loss: 0.2345 - accuracy: 0.9100 - val_loss: 0.4621 - val_accuracy: 0.8469\n",
            "Epoch 6/10\n",
            "1042886/1042886 [==============================] - 578s 554us/step - loss: 0.2101 - accuracy: 0.9198 - val_loss: 0.4849 - val_accuracy: 0.8536\n",
            "Epoch 7/10\n",
            "1042886/1042886 [==============================] - 577s 554us/step - loss: 0.1915 - accuracy: 0.9274 - val_loss: 0.5109 - val_accuracy: 0.8481\n",
            "Epoch 8/10\n",
            "1042886/1042886 [==============================] - 577s 553us/step - loss: 0.1758 - accuracy: 0.9335 - val_loss: 0.5094 - val_accuracy: 0.8522\n",
            "Epoch 9/10\n",
            "1042886/1042886 [==============================] - 577s 553us/step - loss: 0.1624 - accuracy: 0.9389 - val_loss: 0.5217 - val_accuracy: 0.8530\n",
            "Epoch 10/10\n",
            "1042886/1042886 [==============================] - 577s 554us/step - loss: 0.1512 - accuracy: 0.9434 - val_loss: 0.5521 - val_accuracy: 0.8549\n"
          ],
          "name": "stdout"
        }
      ]
    },
    {
      "cell_type": "markdown",
      "metadata": {
        "id": "ysy1HMxVPGc1",
        "colab_type": "text"
      },
      "source": [
        "Построим графики для точности и функции стоимости относительно эпох"
      ]
    },
    {
      "cell_type": "code",
      "metadata": {
        "id": "QQVq9iJOEl4H",
        "colab_type": "code",
        "colab": {
          "base_uri": "https://localhost:8080/",
          "height": 499
        },
        "outputId": "1f97b575-518d-4267-e962-360e2e743e33"
      },
      "source": [
        "acc = history.history['accuracy']\n",
        "val_acc = history.history['val_accuracy']\n",
        "\n",
        "loss=history.history['loss']\n",
        "val_loss=history.history['val_loss']\n",
        "\n",
        "epochs_range = range(epochs)\n",
        "\n",
        "plt.figure(figsize=(8, 8))\n",
        "plt.subplot(1, 2, 1)\n",
        "plt.plot(epochs_range, acc, label='Training Accuracy')\n",
        "plt.plot(epochs_range, val_acc, label='Validation Accuracy')\n",
        "plt.legend(loc='lower right')\n",
        "plt.title('Training and Validation Accuracy')\n",
        "\n",
        "plt.subplot(1, 2, 2)\n",
        "plt.plot(epochs_range, loss, label='Training Loss')\n",
        "plt.plot(epochs_range, val_loss, label='Validation Loss')\n",
        "plt.legend(loc='upper right')\n",
        "plt.title('Training and Validation Loss')\n",
        "plt.show()"
      ],
      "execution_count": 19,
      "outputs": [
        {
          "output_type": "display_data",
          "data": {
            "image/png": "[encoded data removed]",
            "text/plain": [
              "<Figure size 576x576 with 2 Axes>"
            ]
          },
          "metadata": {
            "tags": [],
            "needs_background": "light"
          }
        }
      ]
    },
    {
      "cell_type": "markdown",
      "metadata": {
        "id": "mluZoR4XPM4T",
        "colab_type": "text"
      },
      "source": [
        "Сохраним предобученную сеть"
      ]
    },
    {
      "cell_type": "code",
      "metadata": {
        "id": "mtOTGhdTPPbj",
        "colab_type": "code",
        "colab": {
          "base_uri": "https://localhost:8080/",
          "height": 17
        },
        "outputId": "ce923520-c858-49d8-e378-b59df5272de3"
      },
      "source": [
        "model.save('Accents_LSTM-/resUnet_model.h5')\n",
        "files.download('Accents_LSTM-/resUnet_model.h5')"
      ],
      "execution_count": 20,
      "outputs": [
        {
          "output_type": "display_data",
          "data": {
            "application/javascript": [
              "\n",
              "    async function download(id, filename, size) {\n",
              "      if (!google.colab.kernel.accessAllowed) {\n",
              "        return;\n",
              "      }\n",
              "      const div = document.createElement('div');\n",
              "      const label = document.createElement('label');\n",
              "      label.textContent = `Downloading \"${filename}\": `;\n",
              "      div.appendChild(label);\n",
              "      const progress = document.createElement('progress');\n",
              "      progress.max = size;\n",
              "      div.appendChild(progress);\n",
              "      document.body.appendChild(div);\n",
              "\n",
              "      const buffers = [];\n",
              "      let downloaded = 0;\n",
              "\n",
              "      const channel = await google.colab.kernel.comms.open(id);\n",
              "      // Send a message to notify the kernel that we're ready.\n",
              "      channel.send({})\n",
              "\n",
              "      for await (const message of channel.messages) {\n",
              "        // Send a message to notify the kernel that we're ready.\n",
              "        channel.send({})\n",
              "        if (message.buffers) {\n",
              "          for (const buffer of message.buffers) {\n",
              "            buffers.push(buffer);\n",
              "            downloaded += buffer.byteLength;\n",
              "            progress.value = downloaded;\n",
              "          }\n",
              "        }\n",
              "      }\n",
              "      const blob = new Blob(buffers, {type: 'application/binary'});\n",
              "      const a = document.createElement('a');\n",
              "      a.href = window.URL.createObjectURL(blob);\n",
              "      a.download = filename;\n",
              "      div.appendChild(a);\n",
              "      a.click();\n",
              "      div.remove();\n",
              "    }\n",
              "  "
            ],
            "text/plain": [
              "<IPython.core.display.Javascript object>"
            ]
          },
          "metadata": {
            "tags": []
          }
        },
        {
          "output_type": "display_data",
          "data": {
            "application/javascript": [
              "download(\"download_59c6160a-6ced-46c7-810b-1ed3d639320b\", \"resUnet_model.h5\", 587625912)"
            ],
            "text/plain": [
              "<IPython.core.display.Javascript object>"
            ]
          },
          "metadata": {
            "tags": []
          }
        }
      ]
    },
    {
      "cell_type": "markdown",
      "metadata": {
        "id": "xtxKf1tWPUD6",
        "colab_type": "text"
      },
      "source": [
        "Сохраним датасет на компьютер"
      ]
    },
    {
      "cell_type": "code",
      "metadata": {
        "id": "v880E_ziPTpr",
        "colab_type": "code",
        "colab": {}
      },
      "source": [
        "#files.download('Accents_LSTM-/Data.csv')"
      ],
      "execution_count": null,
      "outputs": []
    },
    {
      "cell_type": "markdown",
      "metadata": {
        "id": "uthB_jpMPY2r",
        "colab_type": "text"
      },
      "source": [
        "# Тесты на обученной модели"
      ]
    },
    {
      "cell_type": "code",
      "metadata": {
        "id": "uzAk9ksImJ4s",
        "colab_type": "code",
        "colab": {}
      },
      "source": [
        "# model = load_model('Accents_LSTM-/resUnet_model.h5')"
      ],
      "execution_count": null,
      "outputs": []
    },
    {
      "cell_type": "code",
      "metadata": {
        "id": "DPDt2ExiPcBT",
        "colab_type": "code",
        "colab": {}
      },
      "source": [
        "# model.compile(optimizer='adam',\n",
        "#                   loss=tf.keras.losses.CategoricalCrossentropy(from_logits=False, name='categorical_crossentropy'),\n",
        "#                   metrics=['accuracy'])"
      ],
      "execution_count": null,
      "outputs": []
    },
    {
      "cell_type": "markdown",
      "metadata": {
        "id": "iMZQuGlYPd86",
        "colab_type": "text"
      },
      "source": [
        "Предскажем позицию ударения для тестовых данных"
      ]
    },
    {
      "cell_type": "code",
      "metadata": {
        "id": "DZHaAkynz_p4",
        "colab_type": "code",
        "colab": {}
      },
      "source": [
        "acc_pred = model.predict(test_x)\n",
        "\n",
        "test_accur = 0\n",
        "for i in range(len(acc_pred)):\n",
        "    if acc_pred[i].argmax() == test_y[i].argmax():\n",
        "        test_accur = test_accur + 1\n",
        "test_accur = test_accur/len(acc_pred)"
      ],
      "execution_count": null,
      "outputs": []
    },
    {
      "cell_type": "code",
      "metadata": {
        "id": "58jKIJcRPgoC",
        "colab_type": "code",
        "colab": {
          "base_uri": "https://localhost:8080/",
          "height": 34
        },
        "outputId": "1c275915-c60f-4196-ed23-a630281631ba"
      },
      "source": [
        "print('Точность на тестовой выборке: ', test_accur)"
      ],
      "execution_count": null,
      "outputs": [
        {
          "output_type": "stream",
          "text": [
            "Точность на тестовой выборке:  0.8378601900387336\n"
          ],
          "name": "stdout"
        }
      ]
    },
    {
      "cell_type": "markdown",
      "metadata": {
        "id": "_ACQyhAaPjia",
        "colab_type": "text"
      },
      "source": [
        "Метод для возвращения ключа по значению"
      ]
    },
    {
      "cell_type": "code",
      "metadata": {
        "id": "77QliQsaPkzi",
        "colab_type": "code",
        "colab": {}
      },
      "source": [
        "def get_key(d, value):\n",
        "    for k, v in d.items():\n",
        "        if v == value:\n",
        "            return k"
      ],
      "execution_count": null,
      "outputs": []
    },
    {
      "cell_type": "markdown",
      "metadata": {
        "id": "WSFAAwCkPmMy",
        "colab_type": "text"
      },
      "source": [
        "Визуализация предсказанных ударений и их сравнение с ответами"
      ]
    },
    {
      "cell_type": "code",
      "metadata": {
        "id": "ZjdS4PFfPnXy",
        "colab_type": "code",
        "colab": {
          "base_uri": "https://localhost:8080/",
          "height": 353
        },
        "outputId": "5ffc05fc-8c5e-4a7c-8c95-91282c4aa05b"
      },
      "source": [
        "for i in range(N):\n",
        "    slovo = ''\n",
        "    k = i * 700\n",
        "    for j in range(len(test_x[k])):\n",
        "        if test_x[k][j] != 0:\n",
        "            slovo = slovo + get_key(alphabet, test_x[k][j])\n",
        "        else:\n",
        "            break\n",
        "    if (acc_pred[k].argmax() == (number_of_classes - 1)):\n",
        "      nn_sample = slovo\n",
        "      if (test_y[k].argmax() == (number_of_classes - 1)):\n",
        "        template = slovo\n",
        "      else:\n",
        "        template = slovo[:test_y[k].argmax() + 1] + \"'\" + slovo[test_y[k].argmax() + 1:]\n",
        "    else:\n",
        "      template = slovo[:test_y[k].argmax() + 1] + \"'\" + slovo[test_y[k].argmax() + 1:]\n",
        "      nn_sample = slovo[:acc_pred[k].argmax() + 1] + \"'\" + slovo[acc_pred[k].argmax() + 1:]\n",
        "    \n",
        "    if (acc_pred[k].argmax() != test_y[k].argmax()):\n",
        "      print('Эталон   : ' , template)\n",
        "      print('Ошибка!  : ' , nn_sample)\n",
        "    else:\n",
        "      print('Результат: ' , nn_sample)\n",
        "    print()"
      ],
      "execution_count": null,
      "outputs": [
        {
          "output_type": "stream",
          "text": [
            "Результат:  кипке'ев\n",
            "\n",
            "Результат:  побря'киваем\n",
            "\n",
            "Результат:  изоби'девшийся\n",
            "\n",
            "Результат:  изобрета'емому\n",
            "\n",
            "Результат:  неколори'тного\n",
            "\n",
            "Результат:  гаплогру'ппа\n",
            "\n",
            "Результат:  киберво'йну\n",
            "\n",
            "Результат:  умертви'ть\n",
            "\n",
            "Результат:  то'пич\n",
            "\n",
            "Результат:  шахинша'хов\n",
            "\n"
          ],
          "name": "stdout"
        }
      ]
    },
    {
      "cell_type": "code",
      "metadata": {
        "id": "wZg2Y5IgarVu",
        "colab_type": "code",
        "colab": {}
      },
      "source": [
        ""
      ],
      "execution_count": null,
      "outputs": []
    }
  ]
}