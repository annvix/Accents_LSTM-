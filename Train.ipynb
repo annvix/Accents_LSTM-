{
  "nbformat": 4,
  "nbformat_minor": 0,
  "metadata": {
    "colab": {
      "name": "Train.ipynb",
      "provenance": [],
      "authorship_tag": "ABX9TyNtxk683ek/peNSgChtYqUV",
      "include_colab_link": true
    },
    "kernelspec": {
      "name": "python3",
      "display_name": "Python 3"
    }
  },
  "cells": [
    {
      "cell_type": "markdown",
      "metadata": {
        "id": "view-in-github",
        "colab_type": "text"
      },
      "source": [
        "<a href=\"https://colab.research.google.com/github/annvix/Accents_LSTM-/blob/master/Train.ipynb\" target=\"_parent\"><img src=\"https://colab.research.google.com/assets/colab-badge.svg\" alt=\"Open In Colab\"/></a>"
      ]
    },
    {
      "cell_type": "markdown",
      "metadata": {
        "id": "T_VLKOujC_rX",
        "colab_type": "text"
      },
      "source": [
        "# Клонирование проекта с GitHub\n",
        "Подключение библиотек"
      ]
    },
    {
      "cell_type": "code",
      "metadata": {
        "id": "VlS_cuswCwMh",
        "colab_type": "code",
        "outputId": "1ccd6469-efe4-453b-c8dd-6a1945c36c69",
        "colab": {
          "base_uri": "https://localhost:8080/",
          "height": 117
        }
      },
      "source": [
        "!git clone https://github.com/annvix/Accents_LSTM-.git"
      ],
      "execution_count": 1,
      "outputs": [
        {
          "output_type": "stream",
          "text": [
            "Cloning into 'Accents_LSTM-'...\n",
            "remote: Enumerating objects: 3, done.\u001b[K\n",
            "remote: Counting objects:  33% (1/3)\u001b[K\rremote: Counting objects:  66% (2/3)\u001b[K\rremote: Counting objects: 100% (3/3)\u001b[K\rremote: Counting objects: 100% (3/3), done.\u001b[K\n",
            "remote: Compressing objects: 100% (3/3), done.\u001b[K\n",
            "remote: Total 98 (delta 0), reused 0 (delta 0), pack-reused 95\u001b[K\n",
            "Unpacking objects: 100% (98/98), done.\n"
          ],
          "name": "stdout"
        }
      ]
    },
    {
      "cell_type": "code",
      "metadata": {
        "id": "YJD1wZrtCyKu",
        "colab_type": "code",
        "colab": {
          "base_uri": "https://localhost:8080/",
          "height": 33
        },
        "outputId": "539dc2d5-d02c-4088-f6e8-8b8df58dcd1a"
      },
      "source": [
        "import tensorflow as tf\n",
        "\n",
        "from tensorflow.keras.models import Sequential\n",
        "\n",
        "from tensorflow.keras.layers import Dense\n",
        "from keras.callbacks import ModelCheckpoint, LearningRateScheduler\n",
        "\n",
        "from keras.layers import *\n",
        "\n",
        "from tensorflow.keras.models import load_model\n",
        "\n",
        "from tensorflow.keras.preprocessing import sequence\n",
        "\n",
        "from google.colab import files\n",
        "import matplotlib.pyplot as plt\n",
        "import numpy as np\n",
        "import random\n"
      ],
      "execution_count": 2,
      "outputs": [
        {
          "output_type": "stream",
          "text": [
            "Using TensorFlow backend.\n"
          ],
          "name": "stderr"
        }
      ]
    },
    {
      "cell_type": "markdown",
      "metadata": {
        "id": "Hxy2Tf3HC8SG",
        "colab_type": "text"
      },
      "source": [
        "# Загрузка и предобработка данных"
      ]
    },
    {
      "cell_type": "markdown",
      "metadata": {
        "id": "qPO_cZhNDFkZ",
        "colab_type": "text"
      },
      "source": [
        "Добавляем алфавит для кодирования букв"
      ]
    },
    {
      "cell_type": "code",
      "metadata": {
        "id": "L_s1YhMsDJpn",
        "colab_type": "code",
        "colab": {}
      },
      "source": [
        "alphabet =   {'а' : 1, 'б' : 2, 'в' : 3, 'г' : 4, 'д' : 5, 'е' : 6, 'ё' : 7, 'ж' : 8, 'з' : 9,\n",
        "             'и' : 10, 'й' : 11, 'к' : 12, 'л' : 13, 'м' : 14, 'н' : 15, 'о' : 16, 'п' : 17, 'р' : 18,\n",
        "             'с' : 19, 'т' : 20, 'у' : 21, 'ф' : 22, 'х' : 23, 'ц' : 24, 'ч' : 25, 'ш' : 26, 'щ' : 27,\n",
        "             'ъ' : 28, 'ы' : 29, 'ь' : 30, 'э' : 31, 'ю' : 32, 'я' : 33}\n",
        "\n",
        "N = 10 #Количество слов для вывода"
      ],
      "execution_count": 0,
      "outputs": []
    },
    {
      "cell_type": "code",
      "metadata": {
        "id": "vF3ppBjJC0tA",
        "colab_type": "code",
        "outputId": "6216d366-9759-45be-e27e-7764720eb842",
        "colab": {
          "base_uri": "https://localhost:8080/",
          "height": 84
        }
      },
      "source": [
        "with open('Accents_LSTM-/Data.csv', 'r') as f:\n",
        "    all_accents = f.readlines()\n",
        "data_len = len(all_accents)\n",
        "\n",
        "print('Всего слов:', data_len)\n",
        "max_len = len(max(all_accents, key=len)) //2 - 1\n",
        "print('Максимальная длина слова:', max_len)\n",
        "print('Слово:', max(all_accents, key=len))\n",
        "number_of_classes = max_len + 1"
      ],
      "execution_count": 4,
      "outputs": [
        {
          "output_type": "stream",
          "text": [
            "Всего слов: 1678878\n",
            "Максимальная длина слова: 29\n",
            "Слово: административнодисциплинарный,административнодисципл'инарный\n",
            "\n"
          ],
          "name": "stdout"
        }
      ]
    },
    {
      "cell_type": "markdown",
      "metadata": {
        "id": "-4VFuCnRiU_1",
        "colab_type": "text"
      },
      "source": [
        "Группировка слов по первым буквам"
      ]
    },
    {
      "cell_type": "code",
      "metadata": {
        "id": "6B28DPW5iT1v",
        "colab_type": "code",
        "outputId": "14c6a775-35fe-44f3-a6e3-83c0a7f85052",
        "colab": {
          "base_uri": "https://localhost:8080/",
          "height": 33
        }
      },
      "source": [
        "word_groups = []\n",
        "group  = []\n",
        "group.append(all_accents[0])\n",
        "\n",
        "for i in range(1, data_len):\n",
        "    if group[0][:4] == all_accents[i][:4]:\n",
        "        group.append(all_accents[i])\n",
        "    else:\n",
        "        word_groups.append(group)\n",
        "        group  = []\n",
        "        group.append(all_accents[i])\n",
        "print('Количество групп: ', len(word_groups))\n",
        "random.shuffle(word_groups)"
      ],
      "execution_count": 5,
      "outputs": [
        {
          "output_type": "stream",
          "text": [
            "Количество групп:  42078\n"
          ],
          "name": "stdout"
        }
      ]
    },
    {
      "cell_type": "code",
      "metadata": {
        "id": "IijHxgDqlPY2",
        "colab_type": "code",
        "outputId": "4a3bc599-b871-4f46-ac0f-2be3e9e48dce",
        "colab": {
          "base_uri": "https://localhost:8080/",
          "height": 221
        }
      },
      "source": [
        "print('Группы слов:')\n",
        "for i in range (N):\n",
        "  print(word_groups[i])"
      ],
      "execution_count": 6,
      "outputs": [
        {
          "output_type": "stream",
          "text": [
            "Группы слов:\n",
            "[\"суахили,суах'или\\n\"]\n",
            "[\"нонкомбатант,нонкомбат'ант\\n\", \"нонконформизм,нонконформ'изм\\n\", \"нонконформизма,нонконформ'изма\\n\", \"нонконформизмам,нонконформ'измам\\n\", \"нонконформизмами,нонконформ'измами\\n\", \"нонконформизмах,нонконформ'измах\\n\", \"нонконформизме,нонконформ'изме\\n\", \"нонконформизмов,нонконформ'измов\\n\", \"нонконформизмом,нонконформ'измом\\n\", \"нонконформизму,нонконформ'изму\\n\", \"нонконформизмы,нонконформ'измы\\n\", \"нонконформисский,нонконформ'исский\\n\", \"нонконформист,нонконформ'ист\\n\", \"нонконформиста,нонконформ'иста\\n\", \"нонконформистам,нонконформ'истам\\n\", \"нонконформистами,нонконформ'истами\\n\", \"нонконформистах,нонконформ'истах\\n\", \"нонконформисте,нонконформ'исте\\n\", \"нонконформистов,нонконформ'истов\\n\", \"нонконформистом,нонконформ'истом\\n\", \"нонконформистская,нонконформ'истская\\n\", \"нонконформистские,нонконформ'истские\\n\", \"нонконформистский,нонконформ'истский\\n\", \"нонконформистским,нонконформ'истским\\n\", \"нонконформистскими,нонконформ'истскими\\n\", \"нонконформистских,нонконформ'истских\\n\", \"нонконформистского,нонконформ'истского\\n\", \"нонконформистское,нонконформ'истское\\n\", \"нонконформистской,нонконформ'истской\\n\", \"нонконформистском,нонконформ'истском\\n\", \"нонконформистскому,нонконформ'истскому\\n\", \"нонконформистскою,нонконформ'истскою\\n\", \"нонконформистскую,нонконформ'истскую\\n\", \"нонконформисту,нонконформ'исту\\n\", \"нонконформисты,нонконформ'исты\\n\"]\n",
            "[\"медзана,медз'ана\\n\", \"медзанего,медз'анего\\n\", \"медзано,медз'ано\\n\", \"медзев,м'едзев\\n\", \"медзегра,медз'егра\\n\", \"медзениле,медзен'иле\\n\", \"медзо,м'едзо\\n\", \"медзокорона,медзокор'она\\n\", \"медзола,медз'ола\\n\", \"медзоломбардо,медзоломб'ардо\\n\", \"медзольдо,медз'ольдо\\n\", \"медзомерико,медзомер'ико\\n\", \"медзоюзо,медзо'юзо\\n\", \"медзьна,м'едзьна\\n\"]\n",
            "[\"зэрэу,зэрэ'у\\n\"]\n",
            "[\"яде,'яде\\n\"]\n",
            "[\"сотские,с'отские\\n\", \"сотский,с'отский\\n\", \"сотским,с'отским\\n\", \"сотскими,с'отскими\\n\", \"сотских,с'отских\\n\", \"сотского,с'отского\\n\", \"сотском,с'отском\\n\", \"сотскому,с'отскому\\n\"]\n",
            "[\"идиллией,ид'иллией\\n\", \"идиллии,ид'иллии\\n\", \"идиллий,ид'иллий\\n\", \"идиллик,ид'иллик\\n\", \"идиллическая,идилл'ическая\\n\", \"идиллически,идилл'ически\\n\", \"идиллические,идилл'ические\\n\", \"идиллический,идилл'ический\\n\", \"идиллическим,идилл'ическим\\n\", \"идиллическими,идилл'ическими\\n\", \"идиллических,идилл'ических\\n\", \"идиллического,идилл'ического\\n\", \"идиллическое,идилл'ическое\\n\", \"идиллической,идилл'ической\\n\", \"идиллическом,идилл'ическом\\n\", \"идиллическому,идилл'ическому\\n\", \"идиллическою,идилл'ическою\\n\", \"идиллическую,идилл'ическую\\n\", \"идиллично,идилл'ично\\n\", \"идилличность,идилл'ичность\\n\", \"идилличный,идилл'ичный\\n\", \"идиллию,ид'иллию\\n\", \"идиллия,ид'иллия\\n\", \"идиллиям,ид'иллиям\\n\", \"идиллиями,ид'иллиями\\n\", \"идиллиях,ид'иллиях\\n\"]\n",
            "[\"эксведущая,эксвед'ущая\\n\", \"эксведущий,эксвед'ущий\\n\", \"эксвицемэр,эксвиц'емэр\\n\", \"эксвицепрезидент,эксвицепрез'идент\\n\", \"эксвицепремьер,эксвицепр'емьер\\n\"]\n",
            "[\"фаджоли,фадж'оли\\n\"]\n",
            "[\"фалы,ф'алы\\n\"]\n"
          ],
          "name": "stdout"
        }
      ]
    },
    {
      "cell_type": "markdown",
      "metadata": {
        "id": "6TaVCPOAEWzV",
        "colab_type": "text"
      },
      "source": [
        "Разделим данные на тренировочные, валидационные и тестовые"
      ]
    },
    {
      "cell_type": "code",
      "metadata": {
        "id": "iGG6QYiAEYcd",
        "colab_type": "code",
        "colab": {}
      },
      "source": [
        "train_frac = 0.8\n",
        "val_frac = 0.1\n",
        "test_frac = 0.1\n",
        "\n",
        "def train_test_val_words(words):\n",
        "    return (words[:int(len(words)*train_frac)], \n",
        "words[int(len(words)*train_frac) : (int(len(words)*train_frac) + int(len(words)*val_frac))], \n",
        "words[(int(len(words)*train_frac) + int(len(words)*val_frac)):])\n",
        "    \n",
        "\n",
        "for_train, for_val, for_test = train_test_val_words(word_groups)"
      ],
      "execution_count": 0,
      "outputs": []
    },
    {
      "cell_type": "code",
      "metadata": {
        "id": "mwYoVsRvtycD",
        "colab_type": "code",
        "colab": {}
      },
      "source": [
        "def words_to_num(my_words):\n",
        "  words, accents = [], []\n",
        "  for i in range (len(my_words)):\n",
        "      str = my_words[i].replace('\\n', '').split(',')\n",
        "      words.append(str[0])\n",
        "      accents.append(str[1])\n",
        "\n",
        "  words_int = np.zeros((len(my_words), number_of_classes), dtype=int)\n",
        "  accents_int = np.zeros((len(my_words),number_of_classes), dtype=int)\n",
        "  \n",
        "  for i in range(len(words)):\n",
        "    for j in range(len(words[i])):\n",
        "        words_int[i][j]= alphabet[words[i][j]]\n",
        "        \n",
        "    acc = accents[i].find(\"'\")\n",
        "    if (acc != -1):\n",
        "        accents_int[i][acc] = 1\n",
        "        if accents[i][acc + 1:].find(\"'\") != -1:\n",
        "          print('В слове два ударения', accents[i])\n",
        "    else:\n",
        "        accents_int[i][number_of_classes - 1] = 1\n",
        "        print('Нет ударения: ', words[i])\n",
        "  return words_int, accents_int"
      ],
      "execution_count": 0,
      "outputs": []
    },
    {
      "cell_type": "code",
      "metadata": {
        "id": "hN5CsYmlzq7b",
        "colab_type": "code",
        "outputId": "7d5a0561-9ba3-42ee-bef1-bcaee22ef5b5",
        "colab": {
          "base_uri": "https://localhost:8080/",
          "height": 234
        }
      },
      "source": [
        "train_x, train_y= [], []\n",
        "for i in range(len(for_train)):\n",
        "  w, a = words_to_num(for_train[i])\n",
        "  for j in range(len(for_train[i])):\n",
        "    train_x.append(w[j])\n",
        "    train_y.append(a[j])\n",
        "  \n",
        "val_x, val_y= [], []\n",
        "for i in range(len(for_val)):\n",
        "  w, a = words_to_num(for_val[i])\n",
        "  for j in range(len(for_val[i])):\n",
        "    val_x.append(w[j])\n",
        "    val_y.append(a[j])\n",
        "\n",
        "test_x, test_y= [], []\n",
        "for i in range(len(for_test)):\n",
        "  w, a = words_to_num(for_test[i])\n",
        "  for j in range(len(for_test[i])):\n",
        "    test_x.append(w[j])\n",
        "    test_y.append(a[j])\n"
      ],
      "execution_count": 13,
      "outputs": [
        {
          "output_type": "stream",
          "text": [
            "Нет ударения:  гм\n",
            "В слове два ударения обагр'я'ясь\n",
            "Нет ударения:  брр\n",
            "Нет ударения:  тсс\n",
            "Нет ударения:  в\n",
            "Нет ударения:  ж\n",
            "Нет ударения:  хм\n",
            "Нет ударения:  к\n",
            "Нет ударения:  мм\n",
            "Нет ударения:  кш\n",
            "Нет ударения:  ль\n",
            "Нет ударения:  с\n",
            "Нет ударения:  б\n"
          ],
          "name": "stdout"
        }
      ]
    },
    {
      "cell_type": "code",
      "metadata": {
        "id": "ht7ESXP73sAL",
        "colab_type": "code",
        "colab": {}
      },
      "source": [
        "test_x = np.array(test_x) \n",
        "train_x = np.array(train_x) \n",
        "val_x = np.array(val_x) \n",
        "\n",
        "test_y = np.array(test_y) \n",
        "train_y = np.array(train_y) \n",
        "val_y = np.array(val_y) "
      ],
      "execution_count": 0,
      "outputs": []
    },
    {
      "cell_type": "code",
      "metadata": {
        "id": "BUmG7qeVDnnj",
        "colab_type": "code",
        "outputId": "d7a43682-c224-4daf-a271-9978230008ee",
        "colab": {
          "base_uri": "https://localhost:8080/",
          "height": 84
        }
      },
      "source": [
        "print(\"\\t\\t\\t Размеры:\")\n",
        "print(\"Train set: \\t\\t{}\".format(test_x.shape), \n",
        "      \"\\nValidation set: \\t{}\".format(train_x.shape),\n",
        "      \"\\nTest set: \\t\\t{}\".format(val_x.shape))"
      ],
      "execution_count": 15,
      "outputs": [
        {
          "output_type": "stream",
          "text": [
            "\t\t\t Размеры:\n",
            "Train set: \t\t(167322, 30) \n",
            "Validation set: \t(1346430, 30) \n",
            "Test set: \t\t(165125, 30)\n"
          ],
          "name": "stdout"
        }
      ]
    },
    {
      "cell_type": "markdown",
      "metadata": {
        "id": "QujGu0enEdmW",
        "colab_type": "text"
      },
      "source": [
        "# Моделирование нейронной сети\n",
        "Используется LSTM-сеть"
      ]
    },
    {
      "cell_type": "code",
      "metadata": {
        "id": "ia0lLhvOEbkS",
        "colab_type": "code",
        "outputId": "1abc4ed1-ba23-4a5c-fd07-d7493aa1cabf",
        "colab": {
          "base_uri": "https://localhost:8080/",
          "height": 33
        }
      },
      "source": [
        "max_features = len(alphabet) + 1\n",
        "max_features"
      ],
      "execution_count": 16,
      "outputs": [
        {
          "output_type": "execute_result",
          "data": {
            "text/plain": [
              "34"
            ]
          },
          "metadata": {
            "tags": []
          },
          "execution_count": 16
        }
      ]
    },
    {
      "cell_type": "code",
      "metadata": {
        "id": "bw9qd8NlEhPy",
        "colab_type": "code",
        "colab": {}
      },
      "source": [
        "from keras.models import *\n",
        "from keras.optimizers import *"
      ],
      "execution_count": 0,
      "outputs": []
    },
    {
      "cell_type": "code",
      "metadata": {
        "id": "GZYbM9i87pAj",
        "colab_type": "code",
        "colab": {}
      },
      "source": [
        "def unet(pretrained_weights = None,input_size = (number_of_classes, 1)):\n",
        "\n",
        "    inputs = Input(input_size)\n",
        "\n",
        "    conv1 = Conv1D(64, 2, activation = 'relu')(inputs)\n",
        "    conv1 = Conv1D(64, 2, activation = 'relu')(conv1)\n",
        "    pool1 = MaxPooling1D(pool_size=2)(conv1)\n",
        "\n",
        "    conv2 = Conv1D(128, 2, activation = 'relu', kernel_initializer = 'he_normal')(pool1)\n",
        "    conv2 = Conv1D(128, 2, activation = 'relu', kernel_initializer = 'he_normal')(conv2)\n",
        "    drop2 = Dropout(0.5)(conv2)\n",
        "    pool2 = MaxPooling1D(pool_size=2)(conv2)\n",
        "\n",
        "    conv3 = Conv1D(256, 2, activation = 'relu', kernel_initializer = 'he_normal')(pool2)\n",
        "    conv3 = Conv1D(256, 2, activation = 'relu', kernel_initializer = 'he_normal')(conv3)\n",
        "    drop3 = Dropout(0.5)(conv2)\n",
        "\n",
        "    up4 = Conv1D(128, 2, activation = 'relu', kernel_initializer = 'he_normal')(UpSampling1D(size = 2)(drop3))\n",
        "    merge4 = concatenate([drop2,up4], axis = 1)\n",
        "    conv4 = Conv1D(128, 2, activation = 'relu', kernel_initializer = 'he_normal')(merge4)\n",
        "    conv4 = Conv1D(128, 2, activation = 'relu', kernel_initializer = 'he_normal')(conv4)\n",
        "\n",
        "    up5 = Conv1D(64, 2, activation = 'relu', kernel_initializer = 'he_normal')(UpSampling1D(size = 2)(conv4))\n",
        "    merge5 = concatenate([conv1,up5], axis = 1)\n",
        "    conv5 = Conv1D(64, 2, activation = 'relu', kernel_initializer = 'he_normal')(merge5)\n",
        "    conv5 = Conv1D(64, 2, activation = 'relu', kernel_initializer = 'he_normal')(conv5)\n",
        "    conv5 = Conv1D(2, 2, activation = 'relu', kernel_initializer = 'he_normal')(conv5)\n",
        "    conv6 = Conv1D(30, 90, activation = 'softmax')(conv5)\n",
        "    \n",
        "    model = Model(input = inputs, output = conv6)\n",
        "\n",
        "    model.compile(optimizer = Adam(lr = 1e-4), loss = 'categorical_crossentropy', metrics = ['accuracy'])\n",
        "    \n",
        "    print(model.summary())\n",
        "\n",
        "    if(pretrained_weights):\n",
        "    \tmodel.load_weights(pretrained_weights)\n",
        "\n",
        "    return model"
      ],
      "execution_count": 0,
      "outputs": []
    },
    {
      "cell_type": "code",
      "metadata": {
        "id": "IKCP7B6p_feW",
        "colab_type": "code",
        "colab": {
          "base_uri": "https://localhost:8080/",
          "height": 906
        },
        "outputId": "b48bfe84-cb74-41bd-f3eb-0bd7b770c480"
      },
      "source": [
        "model = unet()"
      ],
      "execution_count": 19,
      "outputs": [
        {
          "output_type": "stream",
          "text": [
            "Model: \"model_1\"\n",
            "__________________________________________________________________________________________________\n",
            "Layer (type)                    Output Shape         Param #     Connected to                     \n",
            "==================================================================================================\n",
            "input_1 (InputLayer)            (None, 30, 1)        0                                            \n",
            "__________________________________________________________________________________________________\n",
            "conv1d_1 (Conv1D)               (None, 29, 64)       192         input_1[0][0]                    \n",
            "__________________________________________________________________________________________________\n",
            "conv1d_2 (Conv1D)               (None, 28, 64)       8256        conv1d_1[0][0]                   \n",
            "__________________________________________________________________________________________________\n",
            "max_pooling1d_1 (MaxPooling1D)  (None, 14, 64)       0           conv1d_2[0][0]                   \n",
            "__________________________________________________________________________________________________\n",
            "conv1d_3 (Conv1D)               (None, 13, 128)      16512       max_pooling1d_1[0][0]            \n",
            "__________________________________________________________________________________________________\n",
            "conv1d_4 (Conv1D)               (None, 12, 128)      32896       conv1d_3[0][0]                   \n",
            "__________________________________________________________________________________________________\n",
            "dropout_2 (Dropout)             (None, 12, 128)      0           conv1d_4[0][0]                   \n",
            "__________________________________________________________________________________________________\n",
            "up_sampling1d_1 (UpSampling1D)  (None, 24, 128)      0           dropout_2[0][0]                  \n",
            "__________________________________________________________________________________________________\n",
            "dropout_1 (Dropout)             (None, 12, 128)      0           conv1d_4[0][0]                   \n",
            "__________________________________________________________________________________________________\n",
            "conv1d_7 (Conv1D)               (None, 23, 128)      32896       up_sampling1d_1[0][0]            \n",
            "__________________________________________________________________________________________________\n",
            "concatenate_1 (Concatenate)     (None, 35, 128)      0           dropout_1[0][0]                  \n",
            "                                                                 conv1d_7[0][0]                   \n",
            "__________________________________________________________________________________________________\n",
            "conv1d_8 (Conv1D)               (None, 34, 128)      32896       concatenate_1[0][0]              \n",
            "__________________________________________________________________________________________________\n",
            "conv1d_9 (Conv1D)               (None, 33, 128)      32896       conv1d_8[0][0]                   \n",
            "__________________________________________________________________________________________________\n",
            "up_sampling1d_2 (UpSampling1D)  (None, 66, 128)      0           conv1d_9[0][0]                   \n",
            "__________________________________________________________________________________________________\n",
            "conv1d_10 (Conv1D)              (None, 65, 64)       16448       up_sampling1d_2[0][0]            \n",
            "__________________________________________________________________________________________________\n",
            "concatenate_2 (Concatenate)     (None, 93, 64)       0           conv1d_2[0][0]                   \n",
            "                                                                 conv1d_10[0][0]                  \n",
            "__________________________________________________________________________________________________\n",
            "conv1d_11 (Conv1D)              (None, 92, 64)       8256        concatenate_2[0][0]              \n",
            "__________________________________________________________________________________________________\n",
            "conv1d_12 (Conv1D)              (None, 91, 64)       8256        conv1d_11[0][0]                  \n",
            "__________________________________________________________________________________________________\n",
            "conv1d_13 (Conv1D)              (None, 90, 2)        258         conv1d_12[0][0]                  \n",
            "__________________________________________________________________________________________________\n",
            "conv1d_14 (Conv1D)              (None, 1, 30)        5430        conv1d_13[0][0]                  \n",
            "==================================================================================================\n",
            "Total params: 195,192\n",
            "Trainable params: 195,192\n",
            "Non-trainable params: 0\n",
            "__________________________________________________________________________________________________\n",
            "None\n"
          ],
          "name": "stdout"
        },
        {
          "output_type": "stream",
          "text": [
            "/usr/local/lib/python3.6/dist-packages/ipykernel_launcher.py:30: UserWarning: Update your `Model` call to the Keras 2 API: `Model(inputs=Tensor(\"in..., outputs=Tensor(\"co...)`\n"
          ],
          "name": "stderr"
        }
      ]
    },
    {
      "cell_type": "code",
      "metadata": {
        "id": "fuVTLNKTEizo",
        "colab_type": "code",
        "outputId": "edcbdc72-6f95-4084-9f78-5953c655e1ac",
        "colab": {
          "base_uri": "https://localhost:8080/",
          "height": 134
        }
      },
      "source": [
        "batch_size = 256 * 10\n",
        "epochs = 3\n",
        "\n",
        "X_train = np.reshape(train_x, (train_x.shape[0], train_x.shape[1], 1))\n",
        "Y_train = np.reshape(train_y, (train_y.shape[0], 1, train_y.shape[1]))\n",
        "\n",
        "X_val =  np.reshape(val_x, (val_x.shape[0], val_x.shape[1], 1))\n",
        "Y_val =  np.reshape(val_y, (val_y.shape[0], 1, val_y.shape[1]))\n",
        "\n",
        "model_checkpoint = ModelCheckpoint('unet_membrane.hdf5', monitor='loss',verbose=1, save_best_only=True)\n",
        "\n",
        "history = model.fit(X_train, Y_train,\n",
        "          batch_size=batch_size,\n",
        "          epochs=epochs,\n",
        "          validation_data=(X_val, Y_val))"
      ],
      "execution_count": 20,
      "outputs": [
        {
          "output_type": "stream",
          "text": [
            "Train on 1346430 samples, validate on 165125 samples\n",
            "Epoch 1/3\n",
            "1346430/1346430 [==============================] - 1533s 1ms/step - loss: 1.9902 - accuracy: 0.3098 - val_loss: 1.6560 - val_accuracy: 0.4263\n",
            "Epoch 2/3\n",
            "1346430/1346430 [==============================] - 1535s 1ms/step - loss: 1.6209 - accuracy: 0.4348 - val_loss: 1.4826 - val_accuracy: 0.4848\n",
            "Epoch 3/3\n",
            "1346430/1346430 [==============================] - 1524s 1ms/step - loss: 1.4593 - accuracy: 0.4948 - val_loss: 1.3503 - val_accuracy: 0.5365\n"
          ],
          "name": "stdout"
        }
      ]
    },
    {
      "cell_type": "markdown",
      "metadata": {
        "id": "ysy1HMxVPGc1",
        "colab_type": "text"
      },
      "source": [
        "Построим графики для точности и функции стоимости относительно эпох"
      ]
    },
    {
      "cell_type": "code",
      "metadata": {
        "id": "QQVq9iJOEl4H",
        "colab_type": "code",
        "outputId": "eb5737ee-d3a0-4544-82f2-3585f2230da5",
        "colab": {
          "base_uri": "https://localhost:8080/",
          "height": 499
        }
      },
      "source": [
        "acc = history.history['accuracy']\n",
        "val_acc = history.history['val_accuracy']\n",
        "\n",
        "loss=history.history['loss']\n",
        "val_loss=history.history['val_loss']\n",
        "\n",
        "epochs_range = range(epochs)\n",
        "\n",
        "plt.figure(figsize=(8, 8))\n",
        "plt.subplot(1, 2, 1)\n",
        "plt.plot(epochs_range, acc, label='Training Accuracy')\n",
        "plt.plot(epochs_range, val_acc, label='Validation Accuracy')\n",
        "plt.legend(loc='lower right')\n",
        "plt.title('Training and Validation Accuracy')\n",
        "\n",
        "plt.subplot(1, 2, 2)\n",
        "plt.plot(epochs_range, loss, label='Training Loss')\n",
        "plt.plot(epochs_range, val_loss, label='Validation Loss')\n",
        "plt.legend(loc='upper right')\n",
        "plt.title('Training and Validation Loss')\n",
        "plt.show()"
      ],
      "execution_count": 21,
      "outputs": [
        {
          "output_type": "display_data",
          "data": {
            "image/png": "[encoded data removed]",
            "text/plain": [
              "<Figure size 576x576 with 2 Axes>"
            ]
          },
          "metadata": {
            "tags": [],
            "needs_background": "light"
          }
        }
      ]
    },
    {
      "cell_type": "markdown",
      "metadata": {
        "id": "mluZoR4XPM4T",
        "colab_type": "text"
      },
      "source": [
        "Сохраним предобученную сеть"
      ]
    },
    {
      "cell_type": "markdown",
      "metadata": {
        "id": "B6M7ii5aUq3w",
        "colab_type": "text"
      },
      "source": [
        ""
      ]
    },
    {
      "cell_type": "code",
      "metadata": {
        "id": "mtOTGhdTPPbj",
        "colab_type": "code",
        "colab": {}
      },
      "source": [
        "model.save('Accents_LSTM-/CNN_model.h5')"
      ],
      "execution_count": 0,
      "outputs": []
    },
    {
      "cell_type": "markdown",
      "metadata": {
        "id": "xtxKf1tWPUD6",
        "colab_type": "text"
      },
      "source": [
        "Сохраним датасет и предобученную сеть на компьютер"
      ]
    },
    {
      "cell_type": "code",
      "metadata": {
        "id": "v880E_ziPTpr",
        "colab_type": "code",
        "colab": {}
      },
      "source": [
        "#files.download('Accents_LSTM-/Data.csv')\n",
        "files.download('Accents_LSTM-/CNN_model.h5')"
      ],
      "execution_count": 0,
      "outputs": []
    },
    {
      "cell_type": "markdown",
      "metadata": {
        "id": "uthB_jpMPY2r",
        "colab_type": "text"
      },
      "source": [
        "# Тесты на обученной модели"
      ]
    },
    {
      "cell_type": "code",
      "metadata": {
        "id": "AL3HlRggPa4K",
        "colab_type": "code",
        "colab": {}
      },
      "source": [
        "model = load_model('Accents_LSTM-/model.h5')"
      ],
      "execution_count": 0,
      "outputs": []
    },
    {
      "cell_type": "code",
      "metadata": {
        "id": "DPDt2ExiPcBT",
        "colab_type": "code",
        "colab": {}
      },
      "source": [
        "model.compile(optimizer='adam',\n",
        "                  loss=tf.keras.losses.CategoricalCrossentropy(from_logits=False, name='categorical_crossentropy'),\n",
        "                  metrics=['accuracy'])"
      ],
      "execution_count": 0,
      "outputs": []
    },
    {
      "cell_type": "markdown",
      "metadata": {
        "id": "iMZQuGlYPd86",
        "colab_type": "text"
      },
      "source": [
        "Предскажем позицию ударения для тестовых данных"
      ]
    },
    {
      "cell_type": "code",
      "metadata": {
        "id": "p_ImGG4CPfQi",
        "colab_type": "code",
        "colab": {}
      },
      "source": [
        "X_test = np.reshape(test_x, (test_x.shape[0], test_x.shape[1], 1))\n",
        "Y_test = np.reshape(test_y, (test_y.shape[0], 1, test_y.shape[1]))\n",
        "\n",
        "acc_pred = model.predict(X_test)\n",
        "\n",
        "test_accur = 0\n",
        "for i in range(len(acc_pred)):\n",
        "    if acc_pred[i].argmax() == Y_test[i].argmax():\n",
        "        test_accur = test_accur + 1\n",
        "test_accur = test_accur/len(acc_pred)"
      ],
      "execution_count": 0,
      "outputs": []
    },
    {
      "cell_type": "code",
      "metadata": {
        "id": "58jKIJcRPgoC",
        "colab_type": "code",
        "outputId": "fec21adb-4c5f-46f3-880c-6c9910139e8c",
        "colab": {
          "base_uri": "https://localhost:8080/",
          "height": 33
        }
      },
      "source": [
        "print('Точность на тестовой выборке: ',test_accur)"
      ],
      "execution_count": 27,
      "outputs": [
        {
          "output_type": "stream",
          "text": [
            "Точность на тестовой выборке:  0.5280178338771949\n"
          ],
          "name": "stdout"
        }
      ]
    },
    {
      "cell_type": "markdown",
      "metadata": {
        "id": "_ACQyhAaPjia",
        "colab_type": "text"
      },
      "source": [
        "Метод для возвращения ключа по значению"
      ]
    },
    {
      "cell_type": "code",
      "metadata": {
        "id": "77QliQsaPkzi",
        "colab_type": "code",
        "colab": {}
      },
      "source": [
        "def get_key(d, value):\n",
        "    for k, v in d.items():\n",
        "        if v == value:\n",
        "            return k"
      ],
      "execution_count": 0,
      "outputs": []
    },
    {
      "cell_type": "markdown",
      "metadata": {
        "id": "WSFAAwCkPmMy",
        "colab_type": "text"
      },
      "source": [
        "Визуализация предсказанных ударений и их сравнение с ответами"
      ]
    },
    {
      "cell_type": "code",
      "metadata": {
        "id": "ZjdS4PFfPnXy",
        "colab_type": "code",
        "outputId": "965576f3-4e91-4fa1-dc69-3bafce144855",
        "colab": {
          "base_uri": "https://localhost:8080/",
          "height": 401
        }
      },
      "source": [
        "+for i in range(N):\n",
        "    slovo = ''\n",
        "    for j in range(len(X_test[i*100])):\n",
        "        if X_test[i*100][j] != 0:\n",
        "            slovo = slovo + get_key(alphabet, X_test[i*100][j])\n",
        "        else:\n",
        "            break\n",
        "    template = slovo[:Y_test[i*100].argmax() + 1] + '\\'' + slovo[Y_test[i*100].argmax() + 1:]\n",
        "    nn_sample = slovo[:acc_pred[i*100].argmax() + 1] + '\\'' + slovo[acc_pred[i*100].argmax() + 1:]\n",
        "    \n",
        "    if (acc_pred[i*100].argmax() != Y_test[i*100].argmax()):\n",
        "      print('Эталон   : ' , template)\n",
        "      print('Ошибка!  : ' , nn_sample)\n",
        "    else:\n",
        "      print('Результат: ' , nn_sample)\n",
        "    print()"
      ],
      "execution_count": 29,
      "outputs": [
        {
          "output_type": "stream",
          "text": [
            "Результат:  каобердиа'но\n",
            "\n",
            "Эталон   :  исхо'дной\n",
            "Ошибка!  :  исход'ной\n",
            "\n",
            "Эталон   :  зоопсихо'лог\n",
            "Ошибка!  :  зоопси'холог\n",
            "\n",
            "Результат:  пошевели'вшей\n",
            "\n",
            "Результат:  поше'л\n",
            "\n",
            "Результат:  пошепчи'сь\n",
            "\n",
            "Эталон   :  кирзу'\n",
            "Ошибка!  :  кирз'у\n",
            "\n",
            "Результат:  ла'дит\n",
            "\n",
            "Результат:  мозгля'вом\n",
            "\n",
            "Результат:  этиотро'пном\n",
            "\n"
          ],
          "name": "stdout"
        }
      ]
    }
  ]
}