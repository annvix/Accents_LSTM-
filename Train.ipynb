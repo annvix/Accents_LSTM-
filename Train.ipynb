{
  "nbformat": 4,
  "nbformat_minor": 0,
  "metadata": {
    "colab": {
      "name": "Copy of Keras class.ipynb",
      "provenance": [],
      "collapsed_sections": [],
      "include_colab_link": true
    },
    "kernelspec": {
      "display_name": "Python 3",
      "language": "python",
      "name": "python3"
    },
    "language_info": {
      "codemirror_mode": {
        "name": "ipython",
        "version": 3
      },
      "file_extension": ".py",
      "mimetype": "text/x-python",
      "name": "python",
      "nbconvert_exporter": "python",
      "pygments_lexer": "ipython3",
      "version": "3.6.8"
    }
  },
  "cells": [
    {
      "cell_type": "markdown",
      "metadata": {
        "id": "view-in-github",
        "colab_type": "text"
      },
      "source": [
        "<a href=\"https://colab.research.google.com/github/annvix/Accents_LSTM-/blob/master/Train.ipynb\" target=\"_parent\"><img src=\"https://colab.research.google.com/assets/colab-badge.svg\" alt=\"Open In Colab\"/></a>"
      ]
    },
    {
      "cell_type": "markdown",
      "metadata": {
        "id": "s-hHRdWzgDXf",
        "colab_type": "text"
      },
      "source": [
        "# Клонирование проекта с GitHub\n",
        "Подключение библиотек"
      ]
    },
    {
      "cell_type": "code",
      "metadata": {
        "colab_type": "code",
        "id": "LQNQaHhVHo6l",
        "outputId": "06b8402b-2402-41bc-941f-3bd050867e02",
        "colab": {
          "base_uri": "https://localhost:8080/",
          "height": 117
        }
      },
      "source": [
        "!git clone https://github.com/annvix/Accents_LSTM-.git"
      ],
      "execution_count": 1,
      "outputs": [
        {
          "output_type": "stream",
          "text": [
            "Cloning into 'Accents_LSTM-'...\n",
            "remote: Enumerating objects: 59, done.\u001b[K\n",
            "remote: Counting objects: 100% (59/59), done.\u001b[K\n",
            "remote: Compressing objects: 100% (50/50), done.\u001b[K\n",
            "remote: Total 59 (delta 24), reused 34 (delta 8), pack-reused 0\u001b[K\n",
            "Unpacking objects: 100% (59/59), done.\n"
          ],
          "name": "stdout"
        }
      ]
    },
    {
      "cell_type": "code",
      "metadata": {
        "colab_type": "code",
        "id": "orF8UDniHe3-",
        "colab": {}
      },
      "source": [
        "import tensorflow as tf\n",
        "\n",
        "from tensorflow.keras.models import Sequential\n",
        "\n",
        "from tensorflow.keras.layers import Dense\n",
        "from tensorflow.keras.layers import LSTM\n",
        "from tensorflow.keras.layers import Dropout\n",
        "from tensorflow.keras.layers import Embedding\n",
        "\n",
        "from tensorflow.keras.preprocessing import sequence\n",
        "\n",
        "from google.colab import files\n",
        "import matplotlib.pyplot as plt\n",
        "import numpy as np\n",
        "import random\n"
      ],
      "execution_count": 0,
      "outputs": []
    },
    {
      "cell_type": "markdown",
      "metadata": {
        "id": "XjZh8Kj7gPgm",
        "colab_type": "text"
      },
      "source": [
        "# Загрузка и предобработка данных"
      ]
    },
    {
      "cell_type": "code",
      "metadata": {
        "colab_type": "code",
        "id": "yV7Yax7VHe3l",
        "outputId": "144e5bde-6d4d-43d8-876e-88b71d527afe",
        "colab": {
          "base_uri": "https://localhost:8080/",
          "height": 33
        }
      },
      "source": [
        "with open('Accents_LSTM-/Data.csv', 'r') as f:\n",
        "#with open('Data.csv', 'r') as f:\n",
        "    all_accents = f.readlines()\n",
        "data_len = len(all_accents)\n",
        "\n",
        "random.shuffle(all_accents)\n",
        "\n",
        "print('Всего слов:', data_len)"
      ],
      "execution_count": 2,
      "outputs": [
        {
          "output_type": "stream",
          "text": [
            "Всего слов: 1679079\n"
          ],
          "name": "stdout"
        }
      ]
    },
    {
      "cell_type": "markdown",
      "metadata": {
        "id": "R6xCogPLgfiV",
        "colab_type": "text"
      },
      "source": [
        "Добавляем алфавит для кодирования букв"
      ]
    },
    {
      "cell_type": "code",
      "metadata": {
        "colab_type": "code",
        "id": "xFxmTEJ0He3h",
        "colab": {}
      },
      "source": [
        "alphabet =   {'а' : 1, 'б' : 2, 'в' : 3, 'г' : 4, 'д' : 5, 'е' : 6, 'ё' : 7, 'ж' : 8, 'з' : 9,\n",
        "             'и' : 10, 'й' : 11, 'к' : 12, 'л' : 13, 'м' : 14, 'н' : 15, 'о' : 16, 'п' : 17, 'р' : 18,\n",
        "             'с' : 19, 'т' : 20, 'у' : 21, 'ф' : 22, 'х' : 23, 'ц' : 24, 'ч' : 25, 'ш' : 26, 'щ' : 27,\n",
        "             'ъ' : 28, 'ы' : 29, 'ь' : 30, 'э' : 31, 'ю' : 32, 'я' : 33}"
      ],
      "execution_count": 0,
      "outputs": []
    },
    {
      "cell_type": "code",
      "metadata": {
        "colab_type": "code",
        "id": "0cEYasEPHe3p",
        "colab": {}
      },
      "source": [
        "words, accents = [], []"
      ],
      "execution_count": 0,
      "outputs": []
    },
    {
      "cell_type": "markdown",
      "metadata": {
        "id": "nlzH7lhyjghe",
        "colab_type": "text"
      },
      "source": [
        "Считываем строки из файла и делим на два массива: слова и слова с ударениями"
      ]
    },
    {
      "cell_type": "code",
      "metadata": {
        "colab_type": "code",
        "id": "VqDQSGsxHe3s",
        "colab": {}
      },
      "source": [
        "for i in range(data_len):\n",
        "    str = all_accents[i].replace('\\n', '').split(',')\n",
        "    words.append(str[0])\n",
        "    accents.append(str[1])\n",
        "max_len = len(max(words, key=len))"
      ],
      "execution_count": 0,
      "outputs": []
    },
    {
      "cell_type": "code",
      "metadata": {
        "colab_type": "code",
        "id": "oIakmNvjHe3u",
        "outputId": "d4cfd9dd-c207-456f-fa5b-951d3c1d1cfd",
        "colab": {
          "base_uri": "https://localhost:8080/",
          "height": 50
        }
      },
      "source": [
        "print('Максимальная длина слова:')\n",
        "print(max_len)"
      ],
      "execution_count": 8,
      "outputs": [
        {
          "output_type": "stream",
          "text": [
            "Максимальная длина слова:\n",
            "29\n"
          ],
          "name": "stdout"
        }
      ]
    },
    {
      "cell_type": "markdown",
      "metadata": {
        "id": "PRxzOUJFh3hv",
        "colab_type": "text"
      },
      "source": [
        "Создаем двумерные массивы, для хранения закодированных слов и их ударений.\n",
        "\n",
        "Размерность для каждого слова - максимальное количество букв.\n",
        "\n",
        "Если есть буква - то на ее месте будет ее код, если нет - то 0"
      ]
    },
    {
      "cell_type": "code",
      "metadata": {
        "colab_type": "code",
        "id": "sesjpJ33He3y",
        "colab": {}
      },
      "source": [
        "words_int = np.zeros((data_len, max_len), dtype=int)\n",
        "accents_int = np.zeros((data_len,max_len), dtype=int)"
      ],
      "execution_count": 0,
      "outputs": []
    },
    {
      "cell_type": "code",
      "metadata": {
        "colab_type": "code",
        "id": "398UeJQVHe30",
        "colab": {}
      },
      "source": [
        "for i in range(data_len):\n",
        "    for j in range(len(words[i])):\n",
        "        words_int[i][j]= alphabet[words[i][j]]#ord(words[i][j])\n",
        "        \n",
        "    acc = accents[i].find(chr(39))\n",
        "    if (acc != -1):\n",
        "        accents_int[i][acc] = 1        \n",
        "    else:\n",
        "        ind_wa = i"
      ],
      "execution_count": 0,
      "outputs": []
    },
    {
      "cell_type": "markdown",
      "metadata": {
        "id": "4_HwDTWrjvxd",
        "colab_type": "text"
      },
      "source": [
        "Распечатаем несколько слов с их преобразованием"
      ]
    },
    {
      "cell_type": "code",
      "metadata": {
        "colab_type": "code",
        "id": "S8zoLNYhHe33",
        "outputId": "68f67707-199f-49ee-ce60-028879c52f0e",
        "colab": {
          "base_uri": "https://localhost:8080/",
          "height": 1000
        }
      },
      "source": [
        "for i in range(10):\n",
        "    print('Слово:    ', words[i * 100000])\n",
        "    print('Ударение: ', accents[i * 100000])\n",
        "    print('Вектор:   ', words_int[i * 100000])\n",
        "    print('Ударение: ', accents_int[i * 100000])\n",
        "    print()\n",
        "print()\n",
        "print(\"\\t\\t\\t Слово без ударения:\")\n",
        "print('Слово:   ', words[ind_wa])\n",
        "print('Вектор:  ', words_int[ind_wa])\n",
        "print('Ударение:', accents_int[ind_wa])\n"
      ],
      "execution_count": 11,
      "outputs": [
        {
          "output_type": "stream",
          "text": [
            "Слово:     реваншах\n",
            "Ударение:  рев'аншах\n",
            "Вектор:    [18  6  3  1 15 26  1 23  0  0  0  0  0  0  0  0  0  0  0  0  0  0  0  0\n",
            "  0  0  0  0  0]\n",
            "Ударение:  [0 0 0 1 0 0 0 0 0 0 0 0 0 0 0 0 0 0 0 0 0 0 0 0 0 0 0 0 0]\n",
            "\n",
            "Слово:     благоустраиваемся\n",
            "Ударение:  благоустр'аиваемся\n",
            "Вектор:    [ 2 13  1  4 16 21 19 20 18  1 10  3  1  6 14 19 33  0  0  0  0  0  0  0\n",
            "  0  0  0  0  0]\n",
            "Ударение:  [0 0 0 0 0 0 0 0 0 1 0 0 0 0 0 0 0 0 0 0 0 0 0 0 0 0 0 0 0]\n",
            "\n",
            "Слово:     прирастающая\n",
            "Ударение:  прираст'ающая\n",
            "Вектор:    [17 18 10 18  1 19 20  1 32 27  1 33  0  0  0  0  0  0  0  0  0  0  0  0\n",
            "  0  0  0  0  0]\n",
            "Ударение:  [0 0 0 0 0 0 0 1 0 0 0 0 0 0 0 0 0 0 0 0 0 0 0 0 0 0 0 0 0]\n",
            "\n",
            "Слово:     стилизовалась\n",
            "Ударение:  стилизов'алась\n",
            "Вектор:    [19 20 10 13 10  9 16  3  1 13  1 19 30  0  0  0  0  0  0  0  0  0  0  0\n",
            "  0  0  0  0  0]\n",
            "Ударение:  [0 0 0 0 0 0 0 0 1 0 0 0 0 0 0 0 0 0 0 0 0 0 0 0 0 0 0 0 0]\n",
            "\n",
            "Слово:     огрубила\n",
            "Ударение:  огруб'ила\n",
            "Вектор:    [16  4 18 21  2 10 13  1  0  0  0  0  0  0  0  0  0  0  0  0  0  0  0  0\n",
            "  0  0  0  0  0]\n",
            "Ударение:  [0 0 0 0 0 1 0 0 0 0 0 0 0 0 0 0 0 0 0 0 0 0 0 0 0 0 0 0 0]\n",
            "\n",
            "Слово:     продержавшая\n",
            "Ударение:  продерж'авшая\n",
            "Вектор:    [17 18 16  5  6 18  8  1  3 26  1 33  0  0  0  0  0  0  0  0  0  0  0  0\n",
            "  0  0  0  0  0]\n",
            "Ударение:  [0 0 0 0 0 0 0 1 0 0 0 0 0 0 0 0 0 0 0 0 0 0 0 0 0 0 0 0 0]\n",
            "\n",
            "Слово:     бредила\n",
            "Ударение:  бр'едила\n",
            "Вектор:    [ 2 18  6  5 10 13  1  0  0  0  0  0  0  0  0  0  0  0  0  0  0  0  0  0\n",
            "  0  0  0  0  0]\n",
            "Ударение:  [0 0 1 0 0 0 0 0 0 0 0 0 0 0 0 0 0 0 0 0 0 0 0 0 0 0 0 0 0]\n",
            "\n",
            "Слово:     намолачивающего\n",
            "Ударение:  намол'ачивающего\n",
            "Вектор:    [15  1 14 16 13  1 25 10  3  1 32 27  6  4 16  0  0  0  0  0  0  0  0  0\n",
            "  0  0  0  0  0]\n",
            "Ударение:  [0 0 0 0 0 1 0 0 0 0 0 0 0 0 0 0 0 0 0 0 0 0 0 0 0 0 0 0 0]\n",
            "\n",
            "Слово:     рассудке\n",
            "Ударение:  расс'удке\n",
            "Вектор:    [18  1 19 19 21  5 12  6  0  0  0  0  0  0  0  0  0  0  0  0  0  0  0  0\n",
            "  0  0  0  0  0]\n",
            "Ударение:  [0 0 0 0 1 0 0 0 0 0 0 0 0 0 0 0 0 0 0 0 0 0 0 0 0 0 0 0 0]\n",
            "\n",
            "Слово:     щуплости\n",
            "Ударение:  щ'уплости\n",
            "Вектор:    [27 21 17 13 16 19 20 10  0  0  0  0  0  0  0  0  0  0  0  0  0  0  0  0\n",
            "  0  0  0  0  0]\n",
            "Ударение:  [0 1 0 0 0 0 0 0 0 0 0 0 0 0 0 0 0 0 0 0 0 0 0 0 0 0 0 0 0]\n",
            "\n",
            "\n",
            "\t\t\t Слово без ударения:\n",
            "Слово:    тсс\n",
            "Вектор:   [20 19 19  0  0  0  0  0  0  0  0  0  0  0  0  0  0  0  0  0  0  0  0  0\n",
            "  0  0  0  0  0]\n",
            "Ударение: [0 0 0 0 0 0 0 0 0 0 0 0 0 0 0 0 0 0 0 0 0 0 0 0 0 0 0 0 0]\n"
          ],
          "name": "stdout"
        }
      ]
    },
    {
      "cell_type": "markdown",
      "metadata": {
        "id": "xRL2KFAJkLpF",
        "colab_type": "text"
      },
      "source": [
        "Разделим данные на тренировочные, валидационные и тестовые"
      ]
    },
    {
      "cell_type": "code",
      "metadata": {
        "colab_type": "code",
        "id": "hWaXvcDVHe35",
        "colab": {}
      },
      "source": [
        "train_frac = 0.8\n",
        "val_frac = 0.1\n",
        "test_frac = 0.1\n",
        "\n",
        "def train_test_val_words(words_int):\n",
        "    return (words_int[:int(len(words_int)*train_frac)], \n",
        "words_int[int(len(words_int)*train_frac) : (int(len(words_int)*train_frac) + int(len(words_int)*val_frac))], \n",
        "words_int[(int(len(words_int)*train_frac) + int(len(words_int)*val_frac)):])\n",
        "    \n",
        "def train_test_val_accents(accents_int):\n",
        "    return (accents_int[:int(len(accents_int)*train_frac)], \n",
        "accents_int[int(len(accents_int)*train_frac) : (int(len(accents_int)*train_frac) + int(len(accents_int)*val_frac))], \n",
        "accents_int[(int(len(accents_int)*train_frac) + int(len(accents_int)*val_frac)):])\n",
        "\n",
        "train_x, val_x, test_x = train_test_val_words(words_int)\n",
        "train_y, val_y, test_y = train_test_val_accents(accents_int)\n",
        "\n"
      ],
      "execution_count": 0,
      "outputs": []
    },
    {
      "cell_type": "code",
      "metadata": {
        "colab_type": "code",
        "id": "zN-XhEJfHe37",
        "outputId": "fced3fcd-60d6-41aa-deeb-5b1874c25827",
        "colab": {
          "base_uri": "https://localhost:8080/",
          "height": 84
        }
      },
      "source": [
        "print(\"\\t\\t\\t Размеры:\")\n",
        "print(\"Train set: \\t\\t{}\".format(train_x.shape), \n",
        "      \"\\nValidation set: \\t{}\".format(val_x.shape),\n",
        "      \"\\nTest set: \\t\\t{}\".format(test_x.shape))"
      ],
      "execution_count": 13,
      "outputs": [
        {
          "output_type": "stream",
          "text": [
            "\t\t\t Размеры:\n",
            "Train set: \t\t(1343263, 29) \n",
            "Validation set: \t(167907, 29) \n",
            "Test set: \t\t(167909, 29)\n"
          ],
          "name": "stdout"
        }
      ]
    },
    {
      "cell_type": "markdown",
      "metadata": {
        "id": "-6xVbRjTkfS1",
        "colab_type": "text"
      },
      "source": [
        "# Моделирование нейронной сети\n",
        "Используется LSTM-сеть"
      ]
    },
    {
      "cell_type": "code",
      "metadata": {
        "colab_type": "code",
        "id": "Lpt4GYSTRwn4",
        "outputId": "17a67857-a5eb-42a9-99ed-087ceec628b8",
        "colab": {
          "base_uri": "https://localhost:8080/",
          "height": 34
        }
      },
      "source": [
        "max_features = len(alphabet) + 1\n",
        "max_features"
      ],
      "execution_count": 0,
      "outputs": [
        {
          "output_type": "execute_result",
          "data": {
            "text/plain": [
              "34"
            ]
          },
          "metadata": {
            "tags": []
          },
          "execution_count": 13
        }
      ]
    },
    {
      "cell_type": "code",
      "metadata": {
        "colab_type": "code",
        "id": "5X1RiP8sHe4C",
        "outputId": "51790907-ea84-48e3-c6ed-7392651bb9b3",
        "colab": {
          "base_uri": "https://localhost:8080/",
          "height": 269
        }
      },
      "source": [
        "model = Sequential()\n",
        "model.add(Embedding(input_dim = max_features, output_dim = max_len, input_length=max_len))\n",
        "model.add(LSTM(128, dropout=0.2, recurrent_dropout=0.2))\n",
        "model.add(Dense(max_len, activation='relu'))\n",
        "model.add(Dense(max_len, activation='softmax'))\n",
        "\n",
        "model.compile(loss='categorical_crossentropy',\n",
        "              optimizer='adam',\n",
        "              metrics=['accuracy'])\n",
        "\n",
        "print (model.summary())"
      ],
      "execution_count": 0,
      "outputs": [
        {
          "output_type": "stream",
          "text": [
            "Model: \"sequential\"\n",
            "_________________________________________________________________\n",
            "Layer (type)                 Output Shape              Param #   \n",
            "=================================================================\n",
            "embedding (Embedding)        (None, 29, 29)            986       \n",
            "_________________________________________________________________\n",
            "lstm (LSTM)                  (None, 128)               80896     \n",
            "_________________________________________________________________\n",
            "dense (Dense)                (None, 29)                3741      \n",
            "_________________________________________________________________\n",
            "dense_1 (Dense)              (None, 29)                870       \n",
            "=================================================================\n",
            "Total params: 86,493\n",
            "Trainable params: 86,493\n",
            "Non-trainable params: 0\n",
            "_________________________________________________________________\n",
            "None\n"
          ],
          "name": "stdout"
        }
      ]
    },
    {
      "cell_type": "markdown",
      "metadata": {
        "id": "DHE1N5eTmyWI",
        "colab_type": "text"
      },
      "source": [
        "Определим критерии для нейронной сети и запустим обучение\n"
      ]
    },
    {
      "cell_type": "code",
      "metadata": {
        "colab_type": "code",
        "id": "QKpuGNKxHe4E",
        "outputId": "76881814-7093-4e6e-a5a1-a7569f41a6c7",
        "colab": {
          "base_uri": "https://localhost:8080/",
          "height": 134
        }
      },
      "source": [
        "batch_size = 64\n",
        "epochs = 7\n",
        "\n",
        "print(u'Тренируем модель...')\n",
        "history = model.fit(train_x, train_y,\n",
        "          batch_size=batch_size,\n",
        "          epochs=epochs,\n",
        "          validation_data=(val_x, val_y))"
      ],
      "execution_count": 0,
      "outputs": [
        {
          "output_type": "stream",
          "text": [
            "Тренируем модель...\n",
            "Epoch 1/7\n",
            "20989/20989 [==============================] - 1026s 49ms/step - loss: 0.4853 - accuracy: 0.8055 - val_loss: 0.4123 - val_accuracy: 0.8357\n",
            "Epoch 2/7\n",
            "20989/20989 [==============================] - 1057s 50ms/step - loss: 0.4697 - accuracy: 0.8123 - val_loss: 0.3944 - val_accuracy: 0.8440\n",
            "Epoch 3/7\n",
            "20989/20989 [==============================] - 1057s 50ms/step - loss: 0.4589 - accuracy: 0.8167 - val_loss: 0.3881 - val_accuracy: 0.8437\n",
            "Epoch 4/7\n",
            "20989/20989 [==============================] - 1052s 50ms/step - loss: 0.4506 - accuracy: 0.8207 - val_loss: 0.3767 - val_accuracy: 0.8509\n",
            "Epoch 5/7\n",
            "20989/20989 [==============================] - 1100s 52ms/step - loss: 0.4425 - accuracy: 0.8240 - val_loss: 0.3665 - val_accuracy: 0.8549\n",
            "Epoch 6/7\n",
            "20989/20989 [==============================] - 1070s 51ms/step - loss: 0.4360 - accuracy: 0.8270 - val_loss: 0.3586 - val_accuracy: 0.8585\n",
            "Epoch 7/7\n",
            "20989/20989 [==============================] - 1065s 51ms/step - loss: 0.4307 - accuracy: 0.8294 - val_loss: 0.3543 - val_accuracy: 0.8602\n"
          ],
          "name": "stdout"
        }
      ]
    },
    {
      "cell_type": "markdown",
      "metadata": {
        "id": "W5S-IDUXm7fW",
        "colab_type": "text"
      },
      "source": [
        "Построим графики для точности и функции стоимости относительно эпох"
      ]
    },
    {
      "cell_type": "code",
      "metadata": {
        "colab_type": "code",
        "id": "9YPPXsRyZ3hl",
        "outputId": "d2456bc8-47ba-4351-ff04-ef6bf2ea3810",
        "colab": {
          "base_uri": "https://localhost:8080/",
          "height": 499
        }
      },
      "source": [
        "acc = history.history['accuracy']\n",
        "val_acc = history.history['val_accuracy']\n",
        "\n",
        "loss=history.history['loss']\n",
        "val_loss=history.history['val_loss']\n",
        "\n",
        "epochs_range = range(epochs)\n",
        "\n",
        "plt.figure(figsize=(8, 8))\n",
        "plt.subplot(1, 2, 1)\n",
        "plt.plot(epochs_range, acc, label='Training Accuracy')\n",
        "plt.plot(epochs_range, val_acc, label='Validation Accuracy')\n",
        "plt.legend(loc='lower right')\n",
        "plt.title('Training and Validation Accuracy')\n",
        "\n",
        "plt.subplot(1, 2, 2)\n",
        "plt.plot(epochs_range, loss, label='Training Loss')\n",
        "plt.plot(epochs_range, val_loss, label='Validation Loss')\n",
        "plt.legend(loc='upper right')\n",
        "plt.title('Training and Validation Loss')\n",
        "plt.show()"
      ],
      "execution_count": 0,
      "outputs": [
        {
          "output_type": "display_data",
          "data": {
            "image/png": "[encoded data removed]",
            "text/plain": [
              "<Figure size 576x576 with 2 Axes>"
            ]
          },
          "metadata": {
            "tags": [],
            "needs_background": "light"
          }
        }
      ]
    },
    {
      "cell_type": "markdown",
      "metadata": {
        "id": "CwiPlfenoLxM",
        "colab_type": "text"
      },
      "source": [
        "Сохраним предобученную сеть"
      ]
    },
    {
      "cell_type": "code",
      "metadata": {
        "colab_type": "code",
        "id": "u6xKB1gXHe4G",
        "colab": {}
      },
      "source": [
        "model.save('Accents_LSTM-/model.h5')\n",
        "#model.save('model.h5')"
      ],
      "execution_count": 0,
      "outputs": []
    },
    {
      "cell_type": "markdown",
      "metadata": {
        "id": "eWF_5pWLogT8",
        "colab_type": "text"
      },
      "source": [
        "Сохраним датасет и предобученную сеть на компьютер"
      ]
    },
    {
      "cell_type": "code",
      "metadata": {
        "id": "xqJz8LnTfI5M",
        "colab_type": "code",
        "colab": {}
      },
      "source": [
        "files.download('Accents_LSTM-/Data.csv')\n",
        "files.download('Accents_LSTM-/model.h5')"
      ],
      "execution_count": 0,
      "outputs": []
    },
    {
      "cell_type": "markdown",
      "metadata": {
        "id": "ezBenaRSordE",
        "colab_type": "text"
      },
      "source": [
        "# Тесты на обученной модели"
      ]
    },
    {
      "cell_type": "code",
      "metadata": {
        "colab_type": "code",
        "id": "tkKAUrmnTiW3",
        "colab": {}
      },
      "source": [
        "model.compile(optimizer='adam',\n",
        "                  loss=tf.keras.losses.CategoricalCrossentropy(from_logits=False, name='categorical_crossentropy'),\n",
        "                  metrics=['accuracy'])"
      ],
      "execution_count": 0,
      "outputs": []
    },
    {
      "cell_type": "markdown",
      "metadata": {
        "id": "I7IAadoEp5v8",
        "colab_type": "text"
      },
      "source": [
        "Предскажем позицию ударения для тестовых данных"
      ]
    },
    {
      "cell_type": "code",
      "metadata": {
        "id": "8c07olQVfI5R",
        "colab_type": "code",
        "colab": {}
      },
      "source": [
        "acc_pred = model.predict(test_x)\n",
        "\n",
        "test_accur = 0\n",
        "for i in range(len(acc_pred)):\n",
        "    if acc_pred[i].argmax() == test_y[i].argmax():\n",
        "        test_accur = test_accur + 1\n",
        "test_accur = test_accur/len(acc_pred)"
      ],
      "execution_count": 0,
      "outputs": []
    },
    {
      "cell_type": "code",
      "metadata": {
        "id": "TcdXThQIfI5U",
        "colab_type": "code",
        "colab": {
          "base_uri": "https://localhost:8080/",
          "height": 161
        },
        "outputId": "4a735277-eb76-4a1d-ae20-5f886918b691"
      },
      "source": [
        "print('Точность на тестовой выборке: ',test_accur)"
      ],
      "execution_count": 14,
      "outputs": [
        {
          "output_type": "error",
          "ename": "NameError",
          "evalue": "ignored",
          "traceback": [
            "\u001b[0;31m---------------------------------------------------------------------------\u001b[0m",
            "\u001b[0;31mNameError\u001b[0m                                 Traceback (most recent call last)",
            "\u001b[0;32m<ipython-input-14-77720167d5a5>\u001b[0m in \u001b[0;36m<module>\u001b[0;34m()\u001b[0m\n\u001b[0;32m----> 1\u001b[0;31m \u001b[0mprint\u001b[0m\u001b[0;34m(\u001b[0m\u001b[0;34m'Точность на тестовой выборке: '\u001b[0m\u001b[0;34m,\u001b[0m\u001b[0mtest_accur\u001b[0m\u001b[0;34m)\u001b[0m\u001b[0;34m\u001b[0m\u001b[0;34m\u001b[0m\u001b[0m\n\u001b[0m",
            "\u001b[0;31mNameError\u001b[0m: name 'test_accur' is not defined"
          ]
        }
      ]
    },
    {
      "cell_type": "markdown",
      "metadata": {
        "id": "Lm_j9uHFqNrM",
        "colab_type": "text"
      },
      "source": [
        "Метод для возвращения ключа по значению"
      ]
    },
    {
      "cell_type": "code",
      "metadata": {
        "id": "qQ_mtJWnfI5X",
        "colab_type": "code",
        "colab": {}
      },
      "source": [
        "def get_key(d, value):\n",
        "    for k, v in d.items():\n",
        "        if v == value:\n",
        "            return k"
      ],
      "execution_count": 0,
      "outputs": []
    },
    {
      "cell_type": "markdown",
      "metadata": {
        "id": "GBymjUVFqW_U",
        "colab_type": "text"
      },
      "source": [
        "Визуализация предсказанных ударений и их сравнение с ответами"
      ]
    },
    {
      "cell_type": "code",
      "metadata": {
        "scrolled": true,
        "id": "Ba70E0BTfI5Z",
        "colab_type": "code",
        "colab": {},
        "outputId": "a4f11658-586d-4e1a-b120-0f463900425c"
      },
      "source": [
        "for i in range(10):\n",
        "    slovo = ''\n",
        "    for j in range(len(test_x[i])):\n",
        "        if test_x[i][j] != 0:\n",
        "            slovo = slovo + get_key(alphabet, test_x[i][j])\n",
        "        else:\n",
        "            break\n",
        "    template = slovo[:test_y[i].argmax() + 1] + '\\'' + slovo[test_y[i].argmax() + 1:]\n",
        "    nn_sample = slovo[:acc_pred[i].argmax() + 1] + '\\'' + slovo[acc_pred[i].argmax() + 1:]\n",
        "    print('Эталон   : ' , template)\n",
        "    print('Результат: ' , nn_sample)\n",
        "    print()"
      ],
      "execution_count": 0,
      "outputs": [
        {
          "output_type": "stream",
          "text": [
            "Эталон   :  кочетко'ву\n",
            "Результат:  кочетко'ву\n",
            "\n",
            "Эталон   :  пружи'нясь\n",
            "Результат:  пружиня'сь\n",
            "\n",
            "Эталон   :  валтаса'р\n",
            "Результат:  валтаса'р\n",
            "\n",
            "Эталон   :  облицу'ем\n",
            "Результат:  облицу'ем\n",
            "\n",
            "Эталон   :  приво'лжью\n",
            "Результат:  приво'лжью\n",
            "\n",
            "Эталон   :  раскла'дывалось\n",
            "Результат:  раскла'дывалось\n",
            "\n",
            "Эталон   :  сле'пнет\n",
            "Результат:  слепне'т\n",
            "\n",
            "Эталон   :  верстака'м\n",
            "Результат:  верста'кам\n",
            "\n",
            "Эталон   :  опро'бованною\n",
            "Результат:  опро'бованною\n",
            "\n",
            "Эталон   :  сле'нге\n",
            "Результат:  сле'нге\n",
            "\n"
          ],
          "name": "stdout"
        }
      ]
    }
  ]
}