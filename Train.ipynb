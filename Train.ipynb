{
  "nbformat": 4,
  "nbformat_minor": 0,
  "metadata": {
    "colab": {
      "name": "Train.ipynb",
      "provenance": [],
      "authorship_tag": "ABX9TyOeTEEFY98jMgdRIbQWFphP",
      "include_colab_link": true
    },
    "kernelspec": {
      "name": "python3",
      "display_name": "Python 3"
    }
  },
  "cells": [
    {
      "cell_type": "markdown",
      "metadata": {
        "id": "view-in-github",
        "colab_type": "text"
      },
      "source": [
        "<a href=\"https://colab.research.google.com/github/annvix/Accents_LSTM-/blob/master/Train.ipynb\" target=\"_parent\"><img src=\"https://colab.research.google.com/assets/colab-badge.svg\" alt=\"Open In Colab\"/></a>"
      ]
    },
    {
      "cell_type": "markdown",
      "metadata": {
        "id": "T_VLKOujC_rX",
        "colab_type": "text"
      },
      "source": [
        "# Клонирование проекта с GitHub\n",
        "Подключение библиотек"
      ]
    },
    {
      "cell_type": "code",
      "metadata": {
        "id": "VlS_cuswCwMh",
        "colab_type": "code",
        "colab": {
          "base_uri": "https://localhost:8080/",
          "height": 33
        },
        "outputId": "d75fb614-5a73-4737-fd6f-8f71ff90d6f4"
      },
      "source": [
        "!git clone https://github.com/annvix/Accents_LSTM-.git"
      ],
      "execution_count": 1,
      "outputs": [
        {
          "output_type": "stream",
          "text": [
            "fatal: destination path 'Accents_LSTM-' already exists and is not an empty directory.\n"
          ],
          "name": "stdout"
        }
      ]
    },
    {
      "cell_type": "code",
      "metadata": {
        "id": "YJD1wZrtCyKu",
        "colab_type": "code",
        "colab": {}
      },
      "source": [
        "import tensorflow as tf\n",
        "\n",
        "from tensorflow.keras.models import Sequential\n",
        "\n",
        "from tensorflow.keras.layers import Dense\n",
        "from tensorflow.keras.layers import LSTM\n",
        "from tensorflow.keras.layers import Dropout\n",
        "from tensorflow.keras.layers import Embedding\n",
        "\n",
        "from tensorflow.keras.models import load_model\n",
        "\n",
        "from tensorflow.keras.preprocessing import sequence\n",
        "\n",
        "from google.colab import files\n",
        "import matplotlib.pyplot as plt\n",
        "import numpy as np\n",
        "import random\n"
      ],
      "execution_count": 0,
      "outputs": []
    },
    {
      "cell_type": "markdown",
      "metadata": {
        "id": "Hxy2Tf3HC8SG",
        "colab_type": "text"
      },
      "source": [
        "# Загрузка и предобработка данных"
      ]
    },
    {
      "cell_type": "markdown",
      "metadata": {
        "id": "qPO_cZhNDFkZ",
        "colab_type": "text"
      },
      "source": [
        "Добавляем алфавит для кодирования букв"
      ]
    },
    {
      "cell_type": "code",
      "metadata": {
        "id": "L_s1YhMsDJpn",
        "colab_type": "code",
        "colab": {}
      },
      "source": [
        "alphabet =   {'а' : 1, 'б' : 2, 'в' : 3, 'г' : 4, 'д' : 5, 'е' : 6, 'ё' : 7, 'ж' : 8, 'з' : 9,\n",
        "             'и' : 10, 'й' : 11, 'к' : 12, 'л' : 13, 'м' : 14, 'н' : 15, 'о' : 16, 'п' : 17, 'р' : 18,\n",
        "             'с' : 19, 'т' : 20, 'у' : 21, 'ф' : 22, 'х' : 23, 'ц' : 24, 'ч' : 25, 'ш' : 26, 'щ' : 27,\n",
        "             'ъ' : 28, 'ы' : 29, 'ь' : 30, 'э' : 31, 'ю' : 32, 'я' : 33}\n",
        "\n",
        "N = 10 #Количество слов для вывода"
      ],
      "execution_count": 0,
      "outputs": []
    },
    {
      "cell_type": "code",
      "metadata": {
        "id": "vF3ppBjJC0tA",
        "colab_type": "code",
        "colab": {
          "base_uri": "https://localhost:8080/",
          "height": 84
        },
        "outputId": "22a41379-a02a-4e41-9267-d56458b1cf02"
      },
      "source": [
        "with open('Accents_LSTM-/Data.csv', 'r') as f:\n",
        "    all_accents = f.readlines()\n",
        "data_len = len(all_accents)\n",
        "\n",
        "print('Всего слов:', data_len)\n",
        "max_len = len(max(all_accents, key=len)) //2 - 1\n",
        "print('Максимальная длина слова:', max_len)\n",
        "print('Слово:', max(all_accents, key=len))\n",
        "number_of_classes = max_len + 1"
      ],
      "execution_count": 4,
      "outputs": [
        {
          "output_type": "stream",
          "text": [
            "Всего слов: 1679079\n",
            "Максимальная длина слова: 29\n",
            "Слово: административнодисциплинарный,административнодисципл'инарный\n",
            "\n"
          ],
          "name": "stdout"
        }
      ]
    },
    {
      "cell_type": "markdown",
      "metadata": {
        "id": "-4VFuCnRiU_1",
        "colab_type": "text"
      },
      "source": [
        "Группировка слов по первым буквам"
      ]
    },
    {
      "cell_type": "code",
      "metadata": {
        "id": "6B28DPW5iT1v",
        "colab_type": "code",
        "colab": {
          "base_uri": "https://localhost:8080/",
          "height": 33
        },
        "outputId": "1c0580de-7992-479b-e4da-faee3f82a35e"
      },
      "source": [
        "word_groups = []\n",
        "group  = []\n",
        "group.append(all_accents[0])\n",
        "\n",
        "for i in range(1, data_len):\n",
        "    if group[0][:4] == all_accents[i][:4]:\n",
        "        group.append(all_accents[i])\n",
        "    else:\n",
        "        word_groups.append(group)\n",
        "        group  = []\n",
        "        group.append(all_accents[i])\n",
        "print('Количество групп: ', len(word_groups))\n",
        "random.shuffle(word_groups)"
      ],
      "execution_count": 5,
      "outputs": [
        {
          "output_type": "stream",
          "text": [
            "Количество групп:  42117\n"
          ],
          "name": "stdout"
        }
      ]
    },
    {
      "cell_type": "code",
      "metadata": {
        "id": "IijHxgDqlPY2",
        "colab_type": "code",
        "colab": {
          "base_uri": "https://localhost:8080/",
          "height": 221
        },
        "outputId": "6b3dd924-b208-48c2-cd7c-65336d8a596c"
      },
      "source": [
        "print('Группы слов:')\n",
        "for i in range (N):\n",
        "  print(word_groups[i])"
      ],
      "execution_count": 6,
      "outputs": [
        {
          "output_type": "stream",
          "text": [
            "Группы слов:\n",
            "[\"уезд,у'езд\\n\", \"уезда,у'езда\\n\", \"уездам,у'ездам\\n\", \"уездами,у'ездами\\n\", \"уездах,у'ездах\\n\", \"уезде,у'езде\\n\", \"уездивший,у'ездивший\\n\", \"уездившийся,у'ездившийся\\n\", \"уездить,у'ездить\\n\", \"уездиться,у'ездиться\\n\", \"уездная,у'ездная\\n\", \"уездно,у'ездно\\n\", \"уездного,у'ездного\\n\", \"уездное,у'ездное\\n\", \"уездной,у'ездной\\n\", \"уездном,у'ездном\\n\", \"уездному,у'ездному\\n\", \"уездною,у'ездною\\n\", \"уездную,у'ездную\\n\", \"уездные,у'ездные\\n\", \"уездный,у'ездный\\n\", \"уездным,у'ездным\\n\", \"уездными,у'ездными\\n\", \"уездных,у'ездных\\n\", \"уездов,у'ездов\\n\", \"уездом,у'ездом\\n\", \"уезду,у'езду\\n\", \"уезды,у'езды\\n\"]\n",
            "[\"дакша,д'акша\\n\"]\n",
            "[\"вайтань,вайт'ань\\n\", \"вайтаскоп,в'айтаскоп\\n\", \"вайтекунас,вайтек'унас\\n\", \"вайткус,в'айткус\\n\", \"вайтнау,в'айтнау\\n\"]\n",
            "[\"эрэб,эр'эб\\n\"]\n",
            "[\"фру,фр'у\\n\"]\n",
            "[\"штехбарт,шт'ехбарт\\n\"]\n",
            "[\"энсаррия,энсарри'я\\n\"]\n",
            "[\"илен,'илен\\n\"]\n",
            "[\"слойчатый,сл'ойчатый\\n\"]\n",
            "[\"алая,'алая\\n\"]\n"
          ],
          "name": "stdout"
        }
      ]
    },
    {
      "cell_type": "markdown",
      "metadata": {
        "id": "6TaVCPOAEWzV",
        "colab_type": "text"
      },
      "source": [
        "Разделим данные на тренировочные, валидационные и тестовые"
      ]
    },
    {
      "cell_type": "code",
      "metadata": {
        "id": "iGG6QYiAEYcd",
        "colab_type": "code",
        "colab": {}
      },
      "source": [
        "train_frac = 0.8\n",
        "val_frac = 0.1\n",
        "test_frac = 0.1\n",
        "\n",
        "def train_test_val_words(words):\n",
        "    return (words[:int(len(words)*train_frac)], \n",
        "words[int(len(words)*train_frac) : (int(len(words)*train_frac) + int(len(words)*val_frac))], \n",
        "words[(int(len(words)*train_frac) + int(len(words)*val_frac)):])\n",
        "    \n",
        "\n",
        "for_train, for_val, for_test = train_test_val_words(word_groups)"
      ],
      "execution_count": 0,
      "outputs": []
    },
    {
      "cell_type": "code",
      "metadata": {
        "id": "mwYoVsRvtycD",
        "colab_type": "code",
        "colab": {}
      },
      "source": [
        "def words_to_num(my_words):\n",
        "  words, accents = [], []\n",
        "  for i in range (len(my_words)):\n",
        "      str = my_words[i].replace('\\n', '').split(',')\n",
        "      words.append(str[0])\n",
        "      accents.append(str[1])\n",
        "\n",
        "  words_int = np.zeros((len(my_words), number_of_classes), dtype=int)\n",
        "  accents_int = np.zeros((len(my_words),number_of_classes), dtype=int)\n",
        "  \n",
        "  for i in range(len(words)):\n",
        "    for j in range(len(words[i])):\n",
        "        words_int[i][j]= alphabet[words[i][j]]\n",
        "        \n",
        "    acc = accents[i].find(\"'\")\n",
        "    if (acc != -1):\n",
        "        accents_int[i][acc] = 1\n",
        "        if accents[i][acc + 1:].find(\"'\") != -1:\n",
        "          print('В слове два ударения', words[i])\n",
        "    else:\n",
        "        accents_int[i][number_of_classes - 1] = 1\n",
        "        print('Нет ударения: ', words[i])\n",
        "  return words_int, accents_int"
      ],
      "execution_count": 0,
      "outputs": []
    },
    {
      "cell_type": "code",
      "metadata": {
        "id": "hN5CsYmlzq7b",
        "colab_type": "code",
        "colab": {
          "base_uri": "https://localhost:8080/",
          "height": 217
        },
        "outputId": "1d69f3a3-d32b-4e5d-ffa3-3febe244a9c1"
      },
      "source": [
        "train_x, train_y= [], []\n",
        "for i in range(len(for_train)):\n",
        "  w, a = words_to_num(for_train[i])\n",
        "  for j in range(len(for_train[i])):\n",
        "    train_x.append(w[j])\n",
        "    train_y.append(a[j])\n",
        "  \n",
        "val_x, val_y= [], []\n",
        "for i in range(len(for_val)):\n",
        "  w, a = words_to_num(for_val[i])\n",
        "  for j in range(len(for_val[i])):\n",
        "    val_x.append(w[j])\n",
        "    val_y.append(a[j])\n",
        "\n",
        "test_x, test_y= [], []\n",
        "for i in range(len(for_test)):\n",
        "  w, a = words_to_num(for_test[i])\n",
        "  for j in range(len(for_test[i])):\n",
        "    test_x.append(w[j])\n",
        "    test_y.append(a[j])\n"
      ],
      "execution_count": 36,
      "outputs": [
        {
          "output_type": "stream",
          "text": [
            "Нет ударения:  гм\n",
            "Нет ударения:  брр\n",
            "Нет ударения:  тсс\n",
            "Нет ударения:  к\n",
            "Нет ударения:  ж\n",
            "Нет ударения:  с\n",
            "Нет ударения:  хм\n",
            "Нет ударения:  б\n",
            "Нет ударения:  в\n",
            "Нет ударения:  мм\n",
            "Нет ударения:  кш\n",
            "Нет ударения:  ль\n"
          ],
          "name": "stdout"
        }
      ]
    },
    {
      "cell_type": "code",
      "metadata": {
        "id": "ht7ESXP73sAL",
        "colab_type": "code",
        "colab": {}
      },
      "source": [
        "test_x = np.array(test_x) \n",
        "train_x = np.array(train_x) \n",
        "val_x = np.array(val_x) \n",
        "\n",
        "test_y = np.array(test_y) \n",
        "train_y = np.array(train_y) \n",
        "val_y = np.array(val_y) "
      ],
      "execution_count": 0,
      "outputs": []
    },
    {
      "cell_type": "code",
      "metadata": {
        "id": "BUmG7qeVDnnj",
        "colab_type": "code",
        "colab": {
          "base_uri": "https://localhost:8080/",
          "height": 84
        },
        "outputId": "af447e26-477b-458d-b205-753a59af9f52"
      },
      "source": [
        "print(\"\\t\\t\\t Размеры:\")\n",
        "print(\"Train set: \\t\\t{}\".format(test_x.shape), \n",
        "      \"\\nValidation set: \\t{}\".format(train_x.shape),\n",
        "      \"\\nTest set: \\t\\t{}\".format(val_x.shape))"
      ],
      "execution_count": 48,
      "outputs": [
        {
          "output_type": "stream",
          "text": [
            "\t\t\t Размеры:\n",
            "Train set: \t\t(161456, 30) \n",
            "Validation set: \t(1332087, 30) \n",
            "Test set: \t\t(185535, 30)\n"
          ],
          "name": "stdout"
        }
      ]
    },
    {
      "cell_type": "markdown",
      "metadata": {
        "id": "QujGu0enEdmW",
        "colab_type": "text"
      },
      "source": [
        "# Моделирование нейронной сети\n",
        "Используется LSTM-сеть"
      ]
    },
    {
      "cell_type": "code",
      "metadata": {
        "id": "ia0lLhvOEbkS",
        "colab_type": "code",
        "colab": {
          "base_uri": "https://localhost:8080/",
          "height": 33
        },
        "outputId": "0a366c58-7ee3-47c5-9567-e39112e7cd11"
      },
      "source": [
        "max_features = len(alphabet) + 1\n",
        "max_features"
      ],
      "execution_count": 49,
      "outputs": [
        {
          "output_type": "execute_result",
          "data": {
            "text/plain": [
              "34"
            ]
          },
          "metadata": {
            "tags": []
          },
          "execution_count": 49
        }
      ]
    },
    {
      "cell_type": "code",
      "metadata": {
        "id": "bw9qd8NlEhPy",
        "colab_type": "code",
        "colab": {
          "base_uri": "https://localhost:8080/",
          "height": 301
        },
        "outputId": "f5b6d0cc-f8d7-4cda-9b24-3e3d9933dfa4"
      },
      "source": [
        "model = Sequential()\n",
        "model.add(Embedding(input_dim = max_features, output_dim = number_of_classes, input_length=number_of_classes))\n",
        "model.add(LSTM(128, dropout=0.2, recurrent_dropout=0.2))\n",
        "model.add(Dense(256, activation='relu'))\n",
        "model.add(Dense(number_of_classes, activation='softmax'))\n",
        "\n",
        "model.compile(loss='categorical_crossentropy',\n",
        "              optimizer='adam',\n",
        "              metrics=['accuracy'])\n",
        "\n",
        "print (model.summary())"
      ],
      "execution_count": 50,
      "outputs": [
        {
          "output_type": "stream",
          "text": [
            "Model: \"sequential\"\n",
            "_________________________________________________________________\n",
            "Layer (type)                 Output Shape              Param #   \n",
            "=================================================================\n",
            "embedding (Embedding)        (None, 30, 30)            1020      \n",
            "_________________________________________________________________\n",
            "lstm (LSTM)                  (None, 128)               81408     \n",
            "_________________________________________________________________\n",
            "dense (Dense)                (None, 256)               33024     \n",
            "_________________________________________________________________\n",
            "dense_1 (Dense)              (None, 30)                7710      \n",
            "=================================================================\n",
            "Total params: 123,162\n",
            "Trainable params: 123,162\n",
            "Non-trainable params: 0\n",
            "_________________________________________________________________\n",
            "None\n"
          ],
          "name": "stdout"
        }
      ]
    },
    {
      "cell_type": "code",
      "metadata": {
        "id": "fuVTLNKTEizo",
        "colab_type": "code",
        "colab": {
          "base_uri": "https://localhost:8080/",
          "height": 134
        },
        "outputId": "55699b8b-2885-4593-bb99-dd3445ac356e"
      },
      "source": [
        "batch_size = 256\n",
        "epochs = 3\n",
        "\n",
        "print(u'Тренируем модель...')\n",
        "history = model.fit(train_x, train_y,\n",
        "          batch_size=batch_size,\n",
        "          epochs=epochs,\n",
        "          validation_data=(val_x, val_y))"
      ],
      "execution_count": 51,
      "outputs": [
        {
          "output_type": "stream",
          "text": [
            "Тренируем модель...\n",
            "Epoch 1/3\n",
            "5204/5204 [==============================] - 1290s 248ms/step - loss: 1.5233 - accuracy: 0.4239 - val_loss: 0.8775 - val_accuracy: 0.6914\n",
            "Epoch 2/3\n",
            "5204/5204 [==============================] - 1291s 248ms/step - loss: 0.8108 - accuracy: 0.7042 - val_loss: 0.6778 - val_accuracy: 0.7463\n",
            "Epoch 3/3\n",
            "5204/5204 [==============================] - 1272s 244ms/step - loss: 0.6776 - accuracy: 0.7422 - val_loss: 0.6019 - val_accuracy: 0.7671\n"
          ],
          "name": "stdout"
        }
      ]
    },
    {
      "cell_type": "markdown",
      "metadata": {
        "id": "ysy1HMxVPGc1",
        "colab_type": "text"
      },
      "source": [
        "Построим графики для точности и функции стоимости относительно эпох"
      ]
    },
    {
      "cell_type": "code",
      "metadata": {
        "id": "QQVq9iJOEl4H",
        "colab_type": "code",
        "colab": {
          "base_uri": "https://localhost:8080/",
          "height": 499
        },
        "outputId": "fda30574-5155-4663-91dd-6c6a52398859"
      },
      "source": [
        "acc = history.history['accuracy']\n",
        "val_acc = history.history['val_accuracy']\n",
        "\n",
        "loss=history.history['loss']\n",
        "val_loss=history.history['val_loss']\n",
        "\n",
        "epochs_range = range(epochs)\n",
        "\n",
        "plt.figure(figsize=(8, 8))\n",
        "plt.subplot(1, 2, 1)\n",
        "plt.plot(epochs_range, acc, label='Training Accuracy')\n",
        "plt.plot(epochs_range, val_acc, label='Validation Accuracy')\n",
        "plt.legend(loc='lower right')\n",
        "plt.title('Training and Validation Accuracy')\n",
        "\n",
        "plt.subplot(1, 2, 2)\n",
        "plt.plot(epochs_range, loss, label='Training Loss')\n",
        "plt.plot(epochs_range, val_loss, label='Validation Loss')\n",
        "plt.legend(loc='upper right')\n",
        "plt.title('Training and Validation Loss')\n",
        "plt.show()"
      ],
      "execution_count": 52,
      "outputs": [
        {
          "output_type": "display_data",
          "data": {
            "image/png": "[encoded data removed]",
            "text/plain": [
              "<Figure size 576x576 with 2 Axes>"
            ]
          },
          "metadata": {
            "tags": [],
            "needs_background": "light"
          }
        }
      ]
    },
    {
      "cell_type": "markdown",
      "metadata": {
        "id": "mluZoR4XPM4T",
        "colab_type": "text"
      },
      "source": [
        "Сохраним предобученную сеть"
      ]
    },
    {
      "cell_type": "markdown",
      "metadata": {
        "id": "B6M7ii5aUq3w",
        "colab_type": "text"
      },
      "source": [
        ""
      ]
    },
    {
      "cell_type": "code",
      "metadata": {
        "id": "mtOTGhdTPPbj",
        "colab_type": "code",
        "colab": {}
      },
      "source": [
        "model.save('Accents_LSTM-/LSTM_model.h5')"
      ],
      "execution_count": 0,
      "outputs": []
    },
    {
      "cell_type": "markdown",
      "metadata": {
        "id": "xtxKf1tWPUD6",
        "colab_type": "text"
      },
      "source": [
        "Сохраним датасет и предобученную сеть на компьютер"
      ]
    },
    {
      "cell_type": "code",
      "metadata": {
        "id": "v880E_ziPTpr",
        "colab_type": "code",
        "colab": {}
      },
      "source": [
        "#files.download('Accents_LSTM-/Data.csv')\n",
        "files.download('Accents_LSTM-/LSTM_model.h5')"
      ],
      "execution_count": 0,
      "outputs": []
    },
    {
      "cell_type": "markdown",
      "metadata": {
        "id": "uthB_jpMPY2r",
        "colab_type": "text"
      },
      "source": [
        "# Тесты на обученной модели"
      ]
    },
    {
      "cell_type": "code",
      "metadata": {
        "id": "AL3HlRggPa4K",
        "colab_type": "code",
        "colab": {}
      },
      "source": [
        "model = load_model('Accents_LSTM-/model.h5')"
      ],
      "execution_count": 0,
      "outputs": []
    },
    {
      "cell_type": "code",
      "metadata": {
        "id": "DPDt2ExiPcBT",
        "colab_type": "code",
        "colab": {}
      },
      "source": [
        "model.compile(optimizer='adam',\n",
        "                  loss=tf.keras.losses.CategoricalCrossentropy(from_logits=False, name='categorical_crossentropy'),\n",
        "                  metrics=['accuracy'])"
      ],
      "execution_count": 0,
      "outputs": []
    },
    {
      "cell_type": "markdown",
      "metadata": {
        "id": "iMZQuGlYPd86",
        "colab_type": "text"
      },
      "source": [
        "Предскажем позицию ударения для тестовых данных"
      ]
    },
    {
      "cell_type": "code",
      "metadata": {
        "id": "p_ImGG4CPfQi",
        "colab_type": "code",
        "colab": {
          "base_uri": "https://localhost:8080/",
          "height": 53
        },
        "outputId": "aa7b0b4e-6745-4cb6-b782-0f0888075f5a"
      },
      "source": [
        "acc_pred = model.predict(test_x)\n",
        "\n",
        "test_accur = 0\n",
        "for i in range(len(acc_pred)):\n",
        "    if acc_pred[i].argmax() == test_y[i].argmax():\n",
        "        test_accur = test_accur + 1\n",
        "test_accur = test_accur/len(acc_pred)"
      ],
      "execution_count": 57,
      "outputs": [
        {
          "output_type": "stream",
          "text": [
            "WARNING:tensorflow:Model was constructed with shape (None, 29) for input Tensor(\"embedding_input_1:0\", shape=(None, 29), dtype=float32), but it was called on an input with incompatible shape (None, 30).\n"
          ],
          "name": "stdout"
        }
      ]
    },
    {
      "cell_type": "code",
      "metadata": {
        "id": "58jKIJcRPgoC",
        "colab_type": "code",
        "colab": {
          "base_uri": "https://localhost:8080/",
          "height": 33
        },
        "outputId": "672cb7a6-8372-47f0-bc9a-7cce59f931f0"
      },
      "source": [
        "print('Точность на тестовой выборке: ',test_accur)"
      ],
      "execution_count": 58,
      "outputs": [
        {
          "output_type": "stream",
          "text": [
            "Точность на тестовой выборке:  0.8499281538004162\n"
          ],
          "name": "stdout"
        }
      ]
    },
    {
      "cell_type": "markdown",
      "metadata": {
        "id": "_ACQyhAaPjia",
        "colab_type": "text"
      },
      "source": [
        "Метод для возвращения ключа по значению"
      ]
    },
    {
      "cell_type": "code",
      "metadata": {
        "id": "77QliQsaPkzi",
        "colab_type": "code",
        "colab": {}
      },
      "source": [
        "def get_key(d, value):\n",
        "    for k, v in d.items():\n",
        "        if v == value:\n",
        "            return k"
      ],
      "execution_count": 0,
      "outputs": []
    },
    {
      "cell_type": "markdown",
      "metadata": {
        "id": "WSFAAwCkPmMy",
        "colab_type": "text"
      },
      "source": [
        "Визуализация предсказанных ударений и их сравнение с ответами"
      ]
    },
    {
      "cell_type": "code",
      "metadata": {
        "id": "ZjdS4PFfPnXy",
        "colab_type": "code",
        "colab": {
          "base_uri": "https://localhost:8080/",
          "height": 401
        },
        "outputId": "ebc20d2a-29b7-411c-cc4c-12f55393cd63"
      },
      "source": [
        "for i in range(N):\n",
        "    slovo = ''\n",
        "    for j in range(len(test_x[i*100])):\n",
        "        if test_x[i*100][j] != 0:\n",
        "            slovo = slovo + get_key(alphabet, test_x[i*100][j])\n",
        "        else:\n",
        "            break\n",
        "    template = slovo[:test_y[i*100].argmax() + 1] + '\\'' + slovo[test_y[i*100].argmax() + 1:]\n",
        "    nn_sample = slovo[:acc_pred[i*100].argmax() + 1] + '\\'' + slovo[acc_pred[i*100].argmax() + 1:]\n",
        "    \n",
        "    if (acc_pred[i*100].argmax() != test_y[i*100].argmax()):\n",
        "      print('Эталон   : ' , template)\n",
        "      print('Результат: ' , nn_sample)\n",
        "    else:\n",
        "      print('Результат: ' , nn_sample)\n",
        "    print()"
      ],
      "execution_count": 65,
      "outputs": [
        {
          "output_type": "stream",
          "text": [
            "Результат:  люза'к\n",
            "\n",
            "Эталон   :  клыка'стыми\n",
            "Результат:  клы'кастыми\n",
            "\n",
            "Эталон   :  зева'нный\n",
            "Результат:  зе'ванный\n",
            "\n",
            "Эталон   :  вещево'\n",
            "Результат:  ве'щево\n",
            "\n",
            "Результат:  уложе'ния\n",
            "\n",
            "Результат:  дроги'чинами\n",
            "\n",
            "Результат:  шнурова'вшую\n",
            "\n",
            "Результат:  шнуру'ется\n",
            "\n",
            "Результат:  сра'внивайся\n",
            "\n",
            "Результат:  сравни'мую\n",
            "\n"
          ],
          "name": "stdout"
        }
      ]
    },
    {
      "cell_type": "code",
      "metadata": {
        "id": "onTRXjQnI_8Z",
        "colab_type": "code",
        "colab": {}
      },
      "source": [
        ""
      ],
      "execution_count": 0,
      "outputs": []
    }
  ]
}