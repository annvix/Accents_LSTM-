{
 "cells": [
  {
   "cell_type": "code",
   "execution_count": 1,
   "metadata": {},
   "outputs": [],
   "source": [
    "from tensorflow.keras.models import load_model\n",
    "import tensorflow as tf\n",
    "import random\n",
    "import numpy as np\n",
    "\n",
    "model = load_model('model.h5')\n",
    "model.compile(optimizer='adam',\n",
    "                  loss=tf.keras.losses.CategoricalCrossentropy(from_logits=False, name='categorical_crossentropy'),\n",
    "                  metrics=['accuracy'])"
   ]
  },
  {
   "cell_type": "code",
   "execution_count": 3,
   "metadata": {},
   "outputs": [],
   "source": [
    "alphabet =   {'а' : 1, 'б' : 2, 'в' : 3, 'г' : 4, 'д' : 5, 'е' : 6, 'ё' : 7, 'ж' : 8, 'з' : 9,\n",
    "             'и' : 10, 'й' : 11, 'к' : 12, 'л' : 13, 'м' : 14, 'н' : 15, 'о' : 16, 'п' : 17, 'р' : 18,\n",
    "             'с' : 19, 'т' : 20, 'у' : 21, 'ф' : 22, 'х' : 23, 'ц' : 24, 'ч' : 25, 'ш' : 26, 'щ' : 27,\n",
    "             'ъ' : 28, 'ы' : 29, 'ь' : 30, 'э' : 31, 'ю' : 32, 'я' : 33}\n",
    "max_len = 29"
   ]
  },
  {
   "cell_type": "code",
   "execution_count": 4,
   "metadata": {},
   "outputs": [],
   "source": [
    "def get_key(d, value):\n",
    "    for k, v in d.items():\n",
    "        if v == value:\n",
    "            return k"
   ]
  },
  {
   "cell_type": "code",
   "execution_count": 5,
   "metadata": {},
   "outputs": [],
   "source": [
    "from string import punctuation\n",
    "\n",
    "def text_without_punct(text):\n",
    "    return ''.join([i for i in text if i not in punctuation])"
   ]
  },
  {
   "cell_type": "code",
   "execution_count": 31,
   "metadata": {},
   "outputs": [
    {
     "name": "stdout",
     "output_type": "stream",
     "text": [
      "слово   :  брр\n",
      "Результат:  бр'р\n"
     ]
    }
   ],
   "source": [
    "word = 'тараканище'\n",
    "\n",
    "word_int = np.zeros((max_len), dtype=int)\n",
    "\n",
    "for i in range(len(word)):\n",
    "    word_int[i]= alphabet[word[i]]\n",
    "    \n",
    "word_int = np.reshape(word_int, [1,29])\n",
    "acc_pred = model.predict(word_int)\n",
    "\n",
    "for i in range(1):\n",
    "    slovo = ''\n",
    "    for j in range(len(word_int[i])):\n",
    "        if word_int[i][j] != 0:\n",
    "            slovo = slovo + get_key(alphabet, word_int[i][j])\n",
    "        else:\n",
    "            break\n",
    "    nn_sample = slovo[:acc_pred[i].argmax()+1] + '\\'' + slovo[acc_pred[i].argmax()+1:]\n",
    "    print('слово   : ' , slovo)\n",
    "    print('Результат: ' , nn_sample)"
   ]
  },
  {
   "cell_type": "code",
   "execution_count": 44,
   "metadata": {},
   "outputs": [],
   "source": [
    "def acc_in_sent(str):\n",
    "    str_ls = ''.join(str).lower()\n",
    "    str_ls = str_ls.split()\n",
    "    str_sent_int = np.zeros((len(str_ls),max_len), dtype=int)\n",
    "    for i in range(len(str_ls)):\n",
    "        for j in range(len(str_ls[i])):\n",
    "            str_sent_int[i][j]= alphabet[str_ls[i][j]]\n",
    "\n",
    "    acc_pred = model.predict(str_sent_int)\n",
    "\n",
    "    final_sent_ = str.split()\n",
    "    final = ''\n",
    "    for i in range(len(str_ls)):\n",
    "        final = final + final_sent_[i][:acc_pred[i].argmax()+1] + '\\'' + final_sent_[i][acc_pred[i].argmax()+1:] + ' '\n",
    "    \n",
    "    print (final)\n",
    "    return final"
   ]
  },
  {
   "cell_type": "code",
   "execution_count": 47,
   "metadata": {},
   "outputs": [
    {
     "name": "stdout",
     "output_type": "stream",
     "text": [
      "В' Ро'ссии зи'мой быва'ет мно'го сне'га \n"
     ]
    }
   ],
   "source": [
    "test = 'В России зимой бывает много снега'\n",
    "my_test = acc_in_sent(test)"
   ]
  },
  {
   "cell_type": "code",
   "execution_count": 51,
   "metadata": {},
   "outputs": [
    {
     "ename": "FileNotFoundError",
     "evalue": "[Errno 2] No such file or directory: 'sentences.txt'",
     "output_type": "error",
     "traceback": [
      "\u001b[1;31m---------------------------------------------------------------------------\u001b[0m",
      "\u001b[1;31mFileNotFoundError\u001b[0m                         Traceback (most recent call last)",
      "\u001b[1;32m<ipython-input-51-1e30c71690c1>\u001b[0m in \u001b[0;36m<module>\u001b[1;34m\u001b[0m\n\u001b[1;32m----> 1\u001b[1;33m \u001b[1;32mwith\u001b[0m \u001b[0mopen\u001b[0m\u001b[1;33m(\u001b[0m\u001b[1;34m'sentences.txt'\u001b[0m\u001b[1;33m,\u001b[0m \u001b[1;34m'r'\u001b[0m\u001b[1;33m)\u001b[0m \u001b[1;32mas\u001b[0m \u001b[0mf\u001b[0m\u001b[1;33m:\u001b[0m\u001b[1;33m\u001b[0m\u001b[1;33m\u001b[0m\u001b[0m\n\u001b[0m\u001b[0;32m      2\u001b[0m     \u001b[0msent_\u001b[0m \u001b[1;33m=\u001b[0m \u001b[0mf\u001b[0m\u001b[1;33m.\u001b[0m\u001b[0mreadlines\u001b[0m\u001b[1;33m(\u001b[0m\u001b[1;33m)\u001b[0m\u001b[1;33m\u001b[0m\u001b[1;33m\u001b[0m\u001b[0m\n",
      "\u001b[1;31mFileNotFoundError\u001b[0m: [Errno 2] No such file or directory: 'sentences.txt'"
     ]
    }
   ],
   "source": [
    "with open('sentences.txt', 'r') as f:\n",
    "    sent_ = f.readlines()"
   ]
  },
  {
   "cell_type": "code",
   "execution_count": 49,
   "metadata": {},
   "outputs": [],
   "source": [
    "random.shuffle(sent_)\n",
    "\n",
    "#sent = ''.join(sent_).lower()\n",
    "\n",
    "def text_without_punct(sent):\n",
    "    return ''.join([i for i in sent if i not in punctuation])\n",
    "\n",
    "no_punct_text = text_without_punct(sent)\n",
    "sent_split = no_punct_text.split('\\n')\n",
    "\n",
    "test_sent = []\n",
    "for i in range(10):\n",
    "    test_sent.append(sent_split[i])"
   ]
  },
  {
   "cell_type": "code",
   "execution_count": 50,
   "metadata": {},
   "outputs": [
    {
     "name": "stdout",
     "output_type": "stream",
     "text": [
      "о'н оказа'лся пе'ред диле'ммой \n",
      "я' подожду' в' гости'нице \n",
      "о'н не' привы'к к' ме'лким дета'лям \n",
      "я' сно'ва двину'лась по' коридо'ру \n",
      "о'н проше'лся по' кварти'ре \n",
      "ма'йлз посмотре'л на' хроно'метр \n",
      "о'льга лежа'ла с' перере'занным го'рлом \n",
      "да'ма угрю'мо кукси'лась в' уго'лку \n",
      "я' то'же хо'чу в' та'кой пле'н \n",
      "лу'кас сто'ял на' но'гах \n"
     ]
    }
   ],
   "source": [
    "for k in range(len(test_sent)):\n",
    "    acc_in_sent(test_sent[k])"
   ]
  },
  {
   "cell_type": "code",
   "execution_count": 26,
   "metadata": {
    "scrolled": true
   },
   "outputs": [
    {
     "name": "stdout",
     "output_type": "stream",
     "text": [
      "О'н оказа'лся пе'ред диле'ммой; \n",
      "\n",
      "Я' подожду' в' гости'нице. \n",
      "\n",
      "О'н не' привы'к к' ме'лким дета'лям. \n",
      "\n",
      "Я' сно'ва двину'лась по' коридо'ру. \n",
      "\n",
      "О'н проше'лся по' кварти'ре. \n",
      "\n",
      "Ма'йлз посмотре'л на' хроно'метр. \n",
      "\n",
      "О'льга лежа'ла с' перере'занным го'рлом. \n",
      "\n",
      "Да'ма угрю'мо кукси'лась в' уго'лку. \n",
      "\n",
      "Я' то'же хо'чу в' та'кой пле'н. \n",
      "\n",
      "Лу'кас сто'ял на' но'гах. \n",
      "\n"
     ]
    }
   ],
   "source": [
    "for k in range(len(test_sent)):\n",
    "    one_sent = test_sent[k].split()\n",
    "    test_sent_int = np.zeros((len(one_sent),max_len), dtype=int)\n",
    "    for i in range(len(one_sent)):\n",
    "        for j in range(len(one_sent[i])):\n",
    "            test_sent_int[i][j]= alphabet[one_sent[i][j]]\n",
    "    acc_pred = model.predict(test_sent_int)\n",
    "    \n",
    "    \n",
    "    final_sent_ = sent_[k].split()\n",
    "    final = ''\n",
    "    for i in range(len(one_sent)):\n",
    "        final = final + final_sent_[i][:acc_pred[i].argmax()+1] + '\\'' + final_sent_[i][acc_pred[i].argmax()+1:] + ' '\n",
    "            \n",
    "    print(final)\n",
    "    print()"
   ]
  },
  {
   "cell_type": "code",
   "execution_count": null,
   "metadata": {},
   "outputs": [],
   "source": []
  }
 ],
 "metadata": {
  "kernelspec": {
   "display_name": "Python 3",
   "language": "python",
   "name": "python3"
  },
  "language_info": {
   "codemirror_mode": {
    "name": "ipython",
    "version": 3
   },
   "file_extension": ".py",
   "mimetype": "text/x-python",
   "name": "python",
   "nbconvert_exporter": "python",
   "pygments_lexer": "ipython3",
   "version": "3.6.8"
  }
 },
 "nbformat": 4,
 "nbformat_minor": 2
}
