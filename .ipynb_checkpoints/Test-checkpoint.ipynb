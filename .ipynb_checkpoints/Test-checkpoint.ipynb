{
 "cells": [
  {
   "cell_type": "code",
   "execution_count": null,
   "metadata": {},
   "outputs": [],
   "source": [
    "!git clone https://github.com/annvix/Accents_LSTM-.git"
   ]
  },
  {
   "cell_type": "code",
   "execution_count": 1,
   "metadata": {},
   "outputs": [],
   "source": [
    "from tensorflow.keras.models import load_model\n",
    "import tensorflow as tf\n",
    "import random\n",
    "import numpy as np\n",
    "\n",
    "#model = load_model('Accents_LSTM-/model.h5')\n",
    "model = load_model('model.h5')\n",
    "model.compile(optimizer='adam',\n",
    "                  loss=tf.keras.losses.CategoricalCrossentropy(from_logits=False, name='categorical_crossentropy'),\n",
    "                  metrics=['accuracy'])"
   ]
  },
  {
   "cell_type": "code",
   "execution_count": 2,
   "metadata": {},
   "outputs": [],
   "source": [
    "alphabet =   {'а' : 1, 'б' : 2, 'в' : 3, 'г' : 4, 'д' : 5, 'е' : 6, 'ё' : 7, 'ж' : 8, 'з' : 9,\n",
    "             'и' : 10, 'й' : 11, 'к' : 12, 'л' : 13, 'м' : 14, 'н' : 15, 'о' : 16, 'п' : 17, 'р' : 18,\n",
    "             'с' : 19, 'т' : 20, 'у' : 21, 'ф' : 22, 'х' : 23, 'ц' : 24, 'ч' : 25, 'ш' : 26, 'щ' : 27,\n",
    "             'ъ' : 28, 'ы' : 29, 'ь' : 30, 'э' : 31, 'ю' : 32, 'я' : 33}\n",
    "max_len = 29"
   ]
  },
  {
   "cell_type": "code",
   "execution_count": 3,
   "metadata": {},
   "outputs": [],
   "source": [
    "def get_key(d, value):\n",
    "    for k, v in d.items():\n",
    "        if v == value:\n",
    "            return k"
   ]
  },
  {
   "cell_type": "code",
   "execution_count": 4,
   "metadata": {},
   "outputs": [],
   "source": [
    "from string import punctuation\n",
    "\n",
    "def text_without_punct(text):\n",
    "    return ''.join([i for i in text if i not in punctuation])"
   ]
  },
  {
   "cell_type": "code",
   "execution_count": 5,
   "metadata": {},
   "outputs": [
    {
     "name": "stdout",
     "output_type": "stream",
     "text": [
      "слово   :  тараканище\n",
      "Результат:  тарака'нище\n"
     ]
    }
   ],
   "source": [
    "word = 'тараканище'\n",
    "word_int = np.zeros((max_len), dtype=int)\n",
    "\n",
    "for i in range(len(word)):\n",
    "    word_int[i]= alphabet[word[i]]\n",
    "    \n",
    "word_int = np.reshape(word_int, [1,29])\n",
    "acc_pred = model.predict(word_int)\n",
    "\n",
    "for i in range(1):\n",
    "    slovo = ''\n",
    "    for j in range(len(word_int[i])):\n",
    "        if word_int[i][j] != 0:\n",
    "            slovo = slovo + get_key(alphabet, word_int[i][j])\n",
    "        else:\n",
    "            break\n",
    "    nn_sample = slovo[:acc_pred[i].argmax()+1] + '\\'' + slovo[acc_pred[i].argmax()+1:]\n",
    "    print('слово   : ' , slovo)\n",
    "    print('Результат: ' , nn_sample)"
   ]
  },
  {
   "cell_type": "code",
   "execution_count": 6,
   "metadata": {},
   "outputs": [],
   "source": [
    "def acc_in_sent(str):\n",
    "    \n",
    "    no_punct_text = text_without_punct(str)\n",
    "    str_ls = ''.join(no_punct_text).lower()\n",
    "    str_ls = str_ls.split()\n",
    "    str_sent_int = np.zeros((len(str_ls),max_len), dtype=int)\n",
    "    for i in range(len(str_ls)):\n",
    "        for j in range(len(str_ls[i])):\n",
    "            str_sent_int[i][j]= alphabet[str_ls[i][j]]\n",
    "\n",
    "    acc_pred = model.predict(str_sent_int)\n",
    "\n",
    "    final_sent_ = str.split()\n",
    "    final = ''\n",
    "    for i in range(len(str_ls)):\n",
    "        final = final + final_sent_[i][:acc_pred[i].argmax()+1] + '\\'' + final_sent_[i][acc_pred[i].argmax()+1:] + ' '\n",
    "    \n",
    "    print (final)\n",
    "    return final"
   ]
  },
  {
   "cell_type": "code",
   "execution_count": 7,
   "metadata": {},
   "outputs": [
    {
     "name": "stdout",
     "output_type": "stream",
     "text": [
      "В' Ро'ссии зи'мой быва'ет мно'го сне'га. \n"
     ]
    }
   ],
   "source": [
    "test = 'В России зимой бывает много снега.'\n",
    "my_test = acc_in_sent(test)"
   ]
  },
  {
   "cell_type": "code",
   "execution_count": 8,
   "metadata": {},
   "outputs": [],
   "source": [
    "#with open('Accents_LSTM-/sentences.txt', 'r') as f:\n",
    "with open('sentences.txt', 'r') as f:\n",
    "    sent_ = f.readlines()"
   ]
  },
  {
   "cell_type": "code",
   "execution_count": 9,
   "metadata": {},
   "outputs": [],
   "source": [
    "random.shuffle(sent_)\n",
    "\n",
    "sent = sent_\n",
    "\n",
    "no_punct_text = text_without_punct(sent)\n",
    "sent_split = no_punct_text.split('\\n')\n",
    "\n",
    "test_sent = []\n",
    "for i in range(10):\n",
    "    test_sent.append(sent_split[i])"
   ]
  },
  {
   "cell_type": "code",
   "execution_count": 10,
   "metadata": {},
   "outputs": [
    {
     "name": "stdout",
     "output_type": "stream",
     "text": [
      "Демоне'сса бы'ла в' бе'шенстве. \n",
      "\n",
      "Мы' говори'ли о' компроми'ссе. \n",
      "\n",
      "О'на скуча'ла на'д э'тим рома'ном. \n",
      "\n",
      "Я' поду'мала о' ста'нке. \n",
      "\n",
      "Ване'сса ото'шла о'т о'кна. \n",
      "\n",
      "Свяще'нник перемени'лся в' ли'це. \n",
      "\n",
      "О'н сно'ва посмотре'л на' карти'ну. \n",
      "\n",
      "Мы' приближа'емся к' ми'ровому уро'вню. \n",
      "\n",
      "Бара'нов вы'прыгнул с' парашю'том. \n",
      "\n",
      "Акинфе'ев опя'ть подпры'гнул на' ме'сте. \n",
      "\n"
     ]
    }
   ],
   "source": [
    "for k in range(len(test_sent)):\n",
    "    acc_in_sent(test_sent[k])\n",
    "    print()"
   ]
  },
  {
   "cell_type": "code",
   "execution_count": 11,
   "metadata": {},
   "outputs": [],
   "source": [
    "vovels = ['a', 'о', 'э', 'и', 'у', 'ы', 'е', 'ё', 'ю', 'я']"
   ]
  },
  {
   "cell_type": "code",
   "execution_count": 12,
   "metadata": {},
   "outputs": [],
   "source": [
    "def is_acc (w):\n",
    "    flag = False\n",
    "    for i in w:\n",
    "        if i in vovels: \n",
    "            flag =  True\n",
    "            break\n",
    "    return flag"
   ]
  },
  {
   "cell_type": "code",
   "execution_count": 13,
   "metadata": {},
   "outputs": [
    {
     "data": {
      "text/plain": [
       "False"
      ]
     },
     "execution_count": 13,
     "metadata": {},
     "output_type": "execute_result"
    }
   ],
   "source": [
    "is_acc('фа')"
   ]
  },
  {
   "cell_type": "code",
   "execution_count": null,
   "metadata": {},
   "outputs": [],
   "source": []
  }
 ],
 "metadata": {
  "kernelspec": {
   "display_name": "Python 3",
   "language": "python",
   "name": "python3"
  },
  "language_info": {
   "codemirror_mode": {
    "name": "ipython",
    "version": 3
   },
   "file_extension": ".py",
   "mimetype": "text/x-python",
   "name": "python",
   "nbconvert_exporter": "python",
   "pygments_lexer": "ipython3",
   "version": "3.6.8"
  }
 },
 "nbformat": 4,
 "nbformat_minor": 2
}
