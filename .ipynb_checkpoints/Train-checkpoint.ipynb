{
 "cells": [
  {
   "cell_type": "code",
   "execution_count": 15,
   "metadata": {},
   "outputs": [],
   "source": [
    "import numpy as np\n",
    "# read data from reviews and labels file.\n",
    "with open('Data.csv', 'r') as f:\n",
    "    all_accents = f.readlines() #len = 1679154"
   ]
  },
  {
   "cell_type": "code",
   "execution_count": 16,
   "metadata": {},
   "outputs": [],
   "source": [
    "words, accents = [], []"
   ]
  },
  {
   "cell_type": "code",
   "execution_count": 21,
   "metadata": {},
   "outputs": [],
   "source": [
    "for i in range(len(all_accents)):\n",
    "    str = all_accents[i].replace('\\n', '').split(',')\n",
    "    words.append(str[0])\n",
    "    accents.append(str[1])\n",
    "max_len = len(max(words, key=len))"
   ]
  },
  {
   "cell_type": "code",
   "execution_count": 22,
   "metadata": {},
   "outputs": [
    {
     "name": "stdout",
     "output_type": "stream",
     "text": [
      "Максимальная длина слова:\n",
      "30\n"
     ]
    }
   ],
   "source": [
    "print('Максимальная длина слова:')\n",
    "print(max_len)"
   ]
  },
  {
   "cell_type": "code",
   "execution_count": 23,
   "metadata": {},
   "outputs": [],
   "source": [
    "words_int, accents_int = [], []"
   ]
  },
  {
   "cell_type": "code",
   "execution_count": 24,
   "metadata": {},
   "outputs": [],
   "source": [
    "for i in range(len(words)):\n",
    "    slovo = np.zeros(30)\n",
    "    for j in range(len(words[i])):\n",
    "        slovo[j]=ord(words[i][j])\n",
    "    words_int.append(slovo)\n",
    "    accents_int.append(accents[i].find(chr(39)))"
   ]
  },
  {
   "cell_type": "code",
   "execution_count": 30,
   "metadata": {},
   "outputs": [
    {
     "name": "stdout",
     "output_type": "stream",
     "text": [
      "б\n",
      "брр\n",
      "в\n",
      "гм\n",
      "ж\n",
      "к\n",
      "кш\n",
      "ль\n",
      "мм\n",
      "с\n",
      "тсс\n",
      "хм\n",
      "б\n",
      "брр\n",
      "в\n",
      "гм\n",
      "ж\n",
      "к\n",
      "кш\n",
      "ль\n",
      "мм\n",
      "с\n",
      "тсс\n",
      "хм\n"
     ]
    }
   ],
   "source": [
    "for i in range(len(words)):\n",
    "    if accents_int[i]==-1:\n",
    "        print(words[i])"
   ]
  },
  {
   "cell_type": "code",
   "execution_count": 43,
   "metadata": {},
   "outputs": [],
   "source": [
    "train_frac = 0.8\n",
    "val_frac = 0.1\n",
    "test_frac = 0.1\n",
    "\n",
    "\n",
    "def train_test_val_split(words_int):\n",
    "    return (words_int[:int(len(words_int)*train_frac)], \n",
    "words_int[int(len(words_int)*train_frac) : (int(len(words_int)*train_frac) + int(len(words_int)*val_frac))], \n",
    "words_int[(int(len(words_int)*train_frac) + int(len(words_int)*val_frac)):])\n",
    "    \n",
    "def train_test_val_labels(accents_int):\n",
    "    return (accents_int[:int(len(accents_int)*train_frac)], \n",
    "accents_int[int(len(accents_int)*train_frac) : (int(len(accents_int)*train_frac) + int(len(accents_int)*val_frac))], \n",
    "accents_int[(int(len(accents_int)*train_frac) + int(len(accents_int)*val_frac)):])\n",
    "\n",
    "train_x, val_x, test_x = train_test_val_split(words_int)\n",
    "train_y, val_y, test_y = train_test_val_labels(accents_int)"
   ]
  },
  {
   "cell_type": "code",
   "execution_count": 44,
   "metadata": {},
   "outputs": [
    {
     "name": "stdout",
     "output_type": "stream",
     "text": [
      "\t\t\t Sizes:\n",
      "Train set: \t\t1342976 \n",
      "Validation set: \t167872 \n",
      "Test set: \t\t167872\n"
     ]
    }
   ],
   "source": [
    "## print out the shapes of your resultant feature data\n",
    "print(\"\\t\\t\\t Sizes:\")\n",
    "print(\"Train set: \\t\\t{}\".format(len(train_x)), \n",
    "      \"\\nValidation set: \\t{}\".format(len(val_x)),\n",
    "      \"\\nTest set: \\t\\t{}\".format(len(test_x)))"
   ]
  },
  {
   "cell_type": "code",
   "execution_count": 47,
   "metadata": {},
   "outputs": [
    {
     "name": "stdout",
     "output_type": "stream",
     "text": [
      "\t\t Vizualization:\n",
      "Train set:  а\n",
      "Train set:  аав\n",
      "Train set:  аава\n",
      "Train set:  аавам\n",
      "Train set:  аавами\n",
      "Train set:  аавасакса\n",
      "Train set:  аавах\n",
      "Train set:  ааве\n",
      "Train set:  аавик\n",
      "Train set:  аавов\n",
      "Validation set:  самообразовательный\n",
      "Validation set:  самообразовательным\n",
      "Validation set:  самообразовательными\n",
      "Validation set:  самообразовательных\n",
      "Validation set:  самообслуживавшийся\n",
      "Validation set:  самообслуживавшись\n",
      "Validation set:  самообслуживаемся\n",
      "Validation set:  самообслуживаетесь\n",
      "Validation set:  самообслуживается\n",
      "Validation set:  самообслуживаешься\n",
      "Test set:  трудоустройству\n",
      "Test set:  трудоустройся\n",
      "Test set:  трудоустроит\n",
      "Test set:  трудоустроите\n",
      "Test set:  трудоустройте\n",
      "Test set:  трудоустроитесь\n",
      "Test set:  трудоустройтесь\n",
      "Test set:  трудоустроится\n",
      "Test set:  трудоустроить\n",
      "Test set:  трудоустроиться\n"
     ]
    }
   ],
   "source": [
    "print(\"\\t\\t Vizualization:\")\n",
    "train = ''\n",
    "for i in range(10):\n",
    "    train = ''\n",
    "    for j in range(len(train_x[i])):\n",
    "        train = train + chr(train_x[i][j])\n",
    "    print(\"Train set: \",train)\n",
    "\n",
    "for i in range(10):    \n",
    "    vval = ''\n",
    "    for j in range(len(val_x[i])):\n",
    "        vval = vval + chr(val_x[i][j])\n",
    "    print(\"Validation set: \",vval)\n",
    "\n",
    "for i in range(10):\n",
    "    test = ''\n",
    "    for j in range(len(test_x[i])):\n",
    "        test = test + chr(test_x[i][j])\n",
    "    print(\"Test set: \",test)\n"
   ]
  },
  {
   "cell_type": "code",
   "execution_count": 49,
   "metadata": {},
   "outputs": [
    {
     "name": "stdout",
     "output_type": "stream",
     "text": [
      "<class 'list'>\n"
     ]
    }
   ],
   "source": [
    "print(type(train_y))"
   ]
  },
  {
   "cell_type": "code",
   "execution_count": 9,
   "metadata": {},
   "outputs": [
    {
     "ename": "TypeError",
     "evalue": "expected np.ndarray (got list)",
     "output_type": "error",
     "traceback": [
      "\u001b[1;31m---------------------------------------------------------------------------\u001b[0m",
      "\u001b[1;31mTypeError\u001b[0m                                 Traceback (most recent call last)",
      "\u001b[1;32m<ipython-input-9-ff8545d831ca>\u001b[0m in \u001b[0;36m<module>\u001b[1;34m\u001b[0m\n\u001b[0;32m      4\u001b[0m \u001b[1;31m#train_y = np.array(train_y)\u001b[0m\u001b[1;33m\u001b[0m\u001b[1;33m\u001b[0m\u001b[1;33m\u001b[0m\u001b[0m\n\u001b[0;32m      5\u001b[0m \u001b[1;31m# create Tensor datasets for train, test and val\u001b[0m\u001b[1;33m\u001b[0m\u001b[1;33m\u001b[0m\u001b[1;33m\u001b[0m\u001b[0m\n\u001b[1;32m----> 6\u001b[1;33m \u001b[0mtrain_data\u001b[0m \u001b[1;33m=\u001b[0m \u001b[0mTensorDataset\u001b[0m\u001b[1;33m(\u001b[0m\u001b[0mtorch\u001b[0m\u001b[1;33m.\u001b[0m\u001b[0mfrom_numpy\u001b[0m\u001b[1;33m(\u001b[0m\u001b[0mtrain_x\u001b[0m\u001b[1;33m)\u001b[0m\u001b[1;33m,\u001b[0m \u001b[0mtorch\u001b[0m\u001b[1;33m.\u001b[0m\u001b[0mfrom_numpy\u001b[0m\u001b[1;33m(\u001b[0m\u001b[0mtrain_y\u001b[0m\u001b[1;33m)\u001b[0m\u001b[1;33m)\u001b[0m\u001b[1;33m\u001b[0m\u001b[1;33m\u001b[0m\u001b[0m\n\u001b[0m\u001b[0;32m      7\u001b[0m \u001b[0mvalid_data\u001b[0m \u001b[1;33m=\u001b[0m \u001b[0mTensorDataset\u001b[0m\u001b[1;33m(\u001b[0m\u001b[0mtorch\u001b[0m\u001b[1;33m.\u001b[0m\u001b[0mfrom_numpy\u001b[0m\u001b[1;33m(\u001b[0m\u001b[0mval_x\u001b[0m\u001b[1;33m)\u001b[0m\u001b[1;33m,\u001b[0m \u001b[0mtorch\u001b[0m\u001b[1;33m.\u001b[0m\u001b[0mfrom_numpy\u001b[0m\u001b[1;33m(\u001b[0m\u001b[0mval_y\u001b[0m\u001b[1;33m)\u001b[0m\u001b[1;33m)\u001b[0m\u001b[1;33m\u001b[0m\u001b[1;33m\u001b[0m\u001b[0m\n\u001b[0;32m      8\u001b[0m \u001b[0mtest_data\u001b[0m \u001b[1;33m=\u001b[0m \u001b[0mTensorDataset\u001b[0m\u001b[1;33m(\u001b[0m\u001b[0mtorch\u001b[0m\u001b[1;33m.\u001b[0m\u001b[0mfrom_numpy\u001b[0m\u001b[1;33m(\u001b[0m\u001b[0mtest_x\u001b[0m\u001b[1;33m)\u001b[0m\u001b[1;33m,\u001b[0m \u001b[0mtorch\u001b[0m\u001b[1;33m.\u001b[0m\u001b[0mfrom_numpy\u001b[0m\u001b[1;33m(\u001b[0m\u001b[0mtest_y\u001b[0m\u001b[1;33m)\u001b[0m\u001b[1;33m)\u001b[0m\u001b[1;33m\u001b[0m\u001b[1;33m\u001b[0m\u001b[0m\n",
      "\u001b[1;31mTypeError\u001b[0m: expected np.ndarray (got list)"
     ]
    }
   ],
   "source": [
    "import torch\n",
    "from torch.utils.data import TensorDataset, DataLoader\n",
    "\n",
    "# create Tensor datasets for train, test and val\n",
    "train_data = TensorDataset(torch.from_numpy(train_x), torch.from_numpy(train_y))\n",
    "valid_data = TensorDataset(torch.from_numpy(val_x), torch.from_numpy(val_y))\n",
    "test_data = TensorDataset(torch.from_numpy(test_x), torch.from_numpy(test_y))\n",
    "\n",
    "# dataloaders\n",
    "batch_size = 50 \n",
    "\n",
    "# make sure to SHUFFLE your training data. Keep Shuffle=True.\n",
    "train_loader = DataLoader(train_data, shuffle=True, batch_size=batch_size)\n",
    "valid_loader = DataLoader(valid_data, shuffle=True, batch_size=batch_size)\n",
    "test_loader = DataLoader(test_data, shuffle=True, batch_size=batch_size)"
   ]
  },
  {
   "cell_type": "code",
   "execution_count": null,
   "metadata": {},
   "outputs": [],
   "source": []
  }
 ],
 "metadata": {
  "kernelspec": {
   "display_name": "Python 3",
   "language": "python",
   "name": "python3"
  },
  "language_info": {
   "codemirror_mode": {
    "name": "ipython",
    "version": 3
   },
   "file_extension": ".py",
   "mimetype": "text/x-python",
   "name": "python",
   "nbconvert_exporter": "python",
   "pygments_lexer": "ipython3",
   "version": "3.6.8"
  }
 },
 "nbformat": 4,
 "nbformat_minor": 2
}
