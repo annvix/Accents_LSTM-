{
 "cells": [
  {
   "cell_type": "code",
   "execution_count": 1,
   "metadata": {},
   "outputs": [],
   "source": [
    "from tensorflow.keras.models import load_model\n",
    "import tensorflow as tf\n",
    "import random\n",
    "import numpy as np\n",
    "\n",
    "model = load_model('model.h5')\n",
    "model.compile(optimizer='adam',\n",
    "                  loss=tf.keras.losses.CategoricalCrossentropy(from_logits=False, name='categorical_crossentropy'),\n",
    "                  metrics=['accuracy'])"
   ]
  },
  {
   "cell_type": "code",
   "execution_count": 3,
   "metadata": {},
   "outputs": [],
   "source": [
    "alphabet =   {'а' : 1, 'б' : 2, 'в' : 3, 'г' : 4, 'д' : 5, 'е' : 6, 'ё' : 7, 'ж' : 8, 'з' : 9,\n",
    "             'и' : 10, 'й' : 11, 'к' : 12, 'л' : 13, 'м' : 14, 'н' : 15, 'о' : 16, 'п' : 17, 'р' : 18,\n",
    "             'с' : 19, 'т' : 20, 'у' : 21, 'ф' : 22, 'х' : 23, 'ц' : 24, 'ч' : 25, 'ш' : 26, 'щ' : 27,\n",
    "             'ъ' : 28, 'ы' : 29, 'ь' : 30, 'э' : 31, 'ю' : 32, 'я' : 33}\n",
    "max_len = 29"
   ]
  },
  {
   "cell_type": "code",
   "execution_count": 4,
   "metadata": {},
   "outputs": [],
   "source": [
    "def get_key(d, value):\n",
    "    for k, v in d.items():\n",
    "        if v == value:\n",
    "            return k"
   ]
  },
  {
   "cell_type": "code",
   "execution_count": 5,
   "metadata": {},
   "outputs": [],
   "source": [
    "from string import punctuation\n",
    "\n",
    "def text_without_punct(text):\n",
    "    return ''.join([i for i in text if i not in punctuation])"
   ]
  },
  {
   "cell_type": "code",
   "execution_count": 28,
   "metadata": {},
   "outputs": [
    {
     "ename": "KeyError",
     "evalue": "'c'",
     "output_type": "error",
     "traceback": [
      "\u001b[1;31m---------------------------------------------------------------------------\u001b[0m",
      "\u001b[1;31mKeyError\u001b[0m                                  Traceback (most recent call last)",
      "\u001b[1;32m<ipython-input-28-c3a8813a3e11>\u001b[0m in \u001b[0;36m<module>\u001b[1;34m\u001b[0m\n\u001b[0;32m      4\u001b[0m \u001b[1;33m\u001b[0m\u001b[0m\n\u001b[0;32m      5\u001b[0m \u001b[1;32mfor\u001b[0m \u001b[0mi\u001b[0m \u001b[1;32min\u001b[0m \u001b[0mrange\u001b[0m\u001b[1;33m(\u001b[0m\u001b[0mlen\u001b[0m\u001b[1;33m(\u001b[0m\u001b[0mword\u001b[0m\u001b[1;33m)\u001b[0m\u001b[1;33m)\u001b[0m\u001b[1;33m:\u001b[0m\u001b[1;33m\u001b[0m\u001b[1;33m\u001b[0m\u001b[0m\n\u001b[1;32m----> 6\u001b[1;33m     \u001b[0mword_int\u001b[0m\u001b[1;33m[\u001b[0m\u001b[0mi\u001b[0m\u001b[1;33m]\u001b[0m\u001b[1;33m=\u001b[0m \u001b[0malphabet\u001b[0m\u001b[1;33m[\u001b[0m\u001b[0mword\u001b[0m\u001b[1;33m[\u001b[0m\u001b[0mi\u001b[0m\u001b[1;33m]\u001b[0m\u001b[1;33m]\u001b[0m\u001b[1;33m\u001b[0m\u001b[1;33m\u001b[0m\u001b[0m\n\u001b[0m\u001b[0;32m      7\u001b[0m \u001b[1;33m\u001b[0m\u001b[0m\n\u001b[0;32m      8\u001b[0m \u001b[0mword_int\u001b[0m \u001b[1;33m=\u001b[0m \u001b[0mnp\u001b[0m\u001b[1;33m.\u001b[0m\u001b[0mreshape\u001b[0m\u001b[1;33m(\u001b[0m\u001b[0mword_int\u001b[0m\u001b[1;33m,\u001b[0m \u001b[1;33m[\u001b[0m\u001b[1;36m1\u001b[0m\u001b[1;33m,\u001b[0m\u001b[1;36m29\u001b[0m\u001b[1;33m]\u001b[0m\u001b[1;33m)\u001b[0m\u001b[1;33m\u001b[0m\u001b[1;33m\u001b[0m\u001b[0m\n",
      "\u001b[1;31mKeyError\u001b[0m: 'c'"
     ]
    }
   ],
   "source": [
    "word = 'тараканище'\n",
    "word_int = np.zeros((max_len), dtype=int)\n",
    "\n",
    "for i in range(len(word)):\n",
    "    word_int[i]= alphabet[word[i]]\n",
    "    \n",
    "word_int = np.reshape(word_int, [1,29])\n",
    "acc_pred = model.predict(word_int)\n",
    "\n",
    "for i in range(1):\n",
    "    slovo = ''\n",
    "    for j in range(len(word_int[i])):\n",
    "        if word_int[i][j] != 0:\n",
    "            slovo = slovo + get_key(alphabet, word_int[i][j])\n",
    "        else:\n",
    "            break\n",
    "    nn_sample = slovo[:acc_pred[i].argmax()+1] + '\\'' + slovo[acc_pred[i].argmax()+1:]\n",
    "    print('слово   : ' , slovo)\n",
    "    print('Результат: ' , nn_sample)"
   ]
  },
  {
   "cell_type": "code",
   "execution_count": 20,
   "metadata": {},
   "outputs": [],
   "source": [
    "def acc_in_sent(str):\n",
    "    \n",
    "    no_punct_text = text_without_punct(str)\n",
    "    str_ls = ''.join(no_punct_text).lower()\n",
    "    str_ls = str_ls.split()\n",
    "    str_sent_int = np.zeros((len(str_ls),max_len), dtype=int)\n",
    "    for i in range(len(str_ls)):\n",
    "        for j in range(len(str_ls[i])):\n",
    "            str_sent_int[i][j]= alphabet[str_ls[i][j]]\n",
    "\n",
    "    acc_pred = model.predict(str_sent_int)\n",
    "\n",
    "    final_sent_ = str.split()\n",
    "    final = ''\n",
    "    for i in range(len(str_ls)):\n",
    "        final = final + final_sent_[i][:acc_pred[i].argmax()+1] + '\\'' + final_sent_[i][acc_pred[i].argmax()+1:] + ' '\n",
    "    \n",
    "    print (final)\n",
    "    return final"
   ]
  },
  {
   "cell_type": "code",
   "execution_count": 21,
   "metadata": {},
   "outputs": [
    {
     "name": "stdout",
     "output_type": "stream",
     "text": [
      "В' Ро'ссии зи'мой быва'ет мно'го сне'га. \n"
     ]
    }
   ],
   "source": [
    "test = 'В России зимой бывает много снега.'\n",
    "my_test = acc_in_sent(test)"
   ]
  },
  {
   "cell_type": "code",
   "execution_count": 22,
   "metadata": {},
   "outputs": [],
   "source": [
    "with open('sentences.txt', 'r') as f:\n",
    "    sent_ = f.readlines()"
   ]
  },
  {
   "cell_type": "code",
   "execution_count": 23,
   "metadata": {},
   "outputs": [],
   "source": [
    "random.shuffle(sent_)\n",
    "\n",
    "sent = sent_\n",
    "#sent = ''.join(sent_).lower()\n",
    "\n",
    "#no_punct_text = text_without_punct(sent)\n",
    "sent_split = no_punct_text.split('\\n')\n",
    "\n",
    "test_sent = []\n",
    "for i in range(10):\n",
    "    test_sent.append(sent_split[i])"
   ]
  },
  {
   "cell_type": "code",
   "execution_count": 26,
   "metadata": {},
   "outputs": [
    {
     "name": "stdout",
     "output_type": "stream",
     "text": [
      "Мы' стреми'тельно приближа'лись к' неизве'стным кора'блям. \n",
      "\n",
      "Ма'кс бы'л в' приподня'том настрое'нии. \n",
      "\n",
      "Ру'стам чу'ть не' запла'кал о'т доса'ды. \n",
      "\n",
      "О'н ше'л впереди' сво'их автома'тчиков. \n",
      "\n",
      "Она' держа'лась на' лека'рствах. \n",
      "\n",
      "О'н сно'ва взгляну'л на' име'на. \n",
      "\n",
      "О'н говори'л с' я'вным акце'нтом. \n",
      "\n",
      "Они' прое'хали вдо'ль бульва'ра. \n",
      "\n",
      "Неве'ста бы'ла в' отчая'нии. \n",
      "\n",
      "Ма'рия оказа'лась на' по'лу. \n",
      "\n"
     ]
    }
   ],
   "source": [
    "for k in range(len(test_sent)):\n",
    "    acc_in_sent(test_sent[k])\n",
    "    print()"
   ]
  },
  {
   "cell_type": "code",
   "execution_count": 29,
   "metadata": {},
   "outputs": [],
   "source": [
    "vovels = ['a', 'о', 'э', 'и', 'у', 'ы', 'е', 'ё', 'ю', 'я']"
   ]
  },
  {
   "cell_type": "code",
   "execution_count": 55,
   "metadata": {},
   "outputs": [],
   "source": [
    "def is_acc (w):\n",
    "    flag = False\n",
    "    for i in w:\n",
    "        if i in vovels: \n",
    "            flag =  True\n",
    "            break\n",
    "    return flag"
   ]
  },
  {
   "cell_type": "code",
   "execution_count": 56,
   "metadata": {},
   "outputs": [
    {
     "data": {
      "text/plain": [
       "False"
      ]
     },
     "execution_count": 56,
     "metadata": {},
     "output_type": "execute_result"
    }
   ],
   "source": [
    "is_acc('фа')"
   ]
  },
  {
   "cell_type": "code",
   "execution_count": 57,
   "metadata": {},
   "outputs": [
    {
     "data": {
      "text/plain": [
       "['a', 'о', 'э', 'и', 'у', 'ы', 'е', 'ё', 'ю', 'я']"
      ]
     },
     "execution_count": 57,
     "metadata": {},
     "output_type": "execute_result"
    }
   ],
   "source": [
    "vovels"
   ]
  },
  {
   "cell_type": "code",
   "execution_count": null,
   "metadata": {},
   "outputs": [],
   "source": []
  }
 ],
 "metadata": {
  "kernelspec": {
   "display_name": "Python 3",
   "language": "python",
   "name": "python3"
  },
  "language_info": {
   "codemirror_mode": {
    "name": "ipython",
    "version": 3
   },
   "file_extension": ".py",
   "mimetype": "text/x-python",
   "name": "python",
   "nbconvert_exporter": "python",
   "pygments_lexer": "ipython3",
   "version": "3.6.8"
  }
 },
 "nbformat": 4,
 "nbformat_minor": 2
}
