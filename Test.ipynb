{
  "nbformat": 4,
  "nbformat_minor": 0,
  "metadata": {
    "kernelspec": {
      "display_name": "Python 3",
      "language": "python",
      "name": "python3"
    },
    "language_info": {
      "codemirror_mode": {
        "name": "ipython",
        "version": 3
      },
      "file_extension": ".py",
      "mimetype": "text/x-python",
      "name": "python",
      "nbconvert_exporter": "python",
      "pygments_lexer": "ipython3",
      "version": "3.6.8"
    },
    "colab": {
      "name": "Test.ipynb",
      "provenance": [],
      "include_colab_link": true
    }
  },
  "cells": [
    {
      "cell_type": "markdown",
      "metadata": {
        "id": "view-in-github",
        "colab_type": "text"
      },
      "source": [
        "<a href=\"https://colab.research.google.com/github/annvix/Accents_LSTM-/blob/master/Test.ipynb\" target=\"_parent\"><img src=\"https://colab.research.google.com/assets/colab-badge.svg\" alt=\"Open In Colab\"/></a>"
      ]
    },
    {
      "cell_type": "markdown",
      "metadata": {
        "id": "hN9-u-Sy4io1",
        "colab_type": "text"
      },
      "source": [
        "# Клонирование проекта с GitHub и подготовка методов\n",
        "Подключение библиотек\n",
        "\n",
        "Загрузка предобученной модели"
      ]
    },
    {
      "cell_type": "code",
      "metadata": {
        "id": "A3-S9t2ffHiy",
        "colab_type": "code",
        "colab": {
          "base_uri": "https://localhost:8080/",
          "height": 117
        },
        "outputId": "030d6ddd-be9a-4d08-b399-f5c9a17e6445"
      },
      "source": [
        "!git clone https://github.com/annvix/Accents_LSTM-.git"
      ],
      "execution_count": 1,
      "outputs": [
        {
          "output_type": "stream",
          "text": [
            "Cloning into 'Accents_LSTM-'...\n",
            "remote: Enumerating objects: 62, done.\u001b[K\n",
            "remote: Counting objects: 100% (62/62), done.\u001b[K\n",
            "remote: Compressing objects: 100% (53/53), done.\u001b[K\n",
            "remote: Total 62 (delta 26), reused 34 (delta 8), pack-reused 0\u001b[K\n",
            "Unpacking objects: 100% (62/62), done.\n"
          ],
          "name": "stdout"
        }
      ]
    },
    {
      "cell_type": "code",
      "metadata": {
        "id": "psdvHud5fHi2",
        "colab_type": "code",
        "colab": {}
      },
      "source": [
        "from tensorflow.keras.models import load_model\n",
        "import tensorflow as tf\n",
        "import random\n",
        "import numpy as np\n",
        "\n",
        "model = load_model('Accents_LSTM-/model.h5')\n",
        "#model = load_model('model.h5')\n",
        "model.compile(optimizer='adam',\n",
        "                  loss=tf.keras.losses.CategoricalCrossentropy(from_logits=False, name='categorical_crossentropy'),\n",
        "                  metrics=['accuracy'])"
      ],
      "execution_count": 0,
      "outputs": []
    },
    {
      "cell_type": "markdown",
      "metadata": {
        "id": "SSmESqKQ435a",
        "colab_type": "text"
      },
      "source": [
        "Добавляем алфавит для кодирования букв"
      ]
    },
    {
      "cell_type": "code",
      "metadata": {
        "id": "BG_aYRUbfHi7",
        "colab_type": "code",
        "colab": {}
      },
      "source": [
        "alphabet =   {'а' : 1, 'б' : 2, 'в' : 3, 'г' : 4, 'д' : 5, 'е' : 6, 'ё' : 7, 'ж' : 8, 'з' : 9,\n",
        "             'и' : 10, 'й' : 11, 'к' : 12, 'л' : 13, 'м' : 14, 'н' : 15, 'о' : 16, 'п' : 17, 'р' : 18,\n",
        "             'с' : 19, 'т' : 20, 'у' : 21, 'ф' : 22, 'х' : 23, 'ц' : 24, 'ч' : 25, 'ш' : 26, 'щ' : 27,\n",
        "             'ъ' : 28, 'ы' : 29, 'ь' : 30, 'э' : 31, 'ю' : 32, 'я' : 33}\n",
        "\n",
        "vovels = ['а', 'о', 'э', 'и', 'у', 'ы', 'е', 'ё', 'ю', 'я']\n",
        "max_len = 29"
      ],
      "execution_count": 0,
      "outputs": []
    },
    {
      "cell_type": "markdown",
      "metadata": {
        "id": "RJgnwhUP49Cz",
        "colab_type": "text"
      },
      "source": [
        "Метод для возвращения ключа по значению"
      ]
    },
    {
      "cell_type": "code",
      "metadata": {
        "id": "AwDiduInfHi-",
        "colab_type": "code",
        "colab": {}
      },
      "source": [
        "def get_key(d, value):\n",
        "    for k, v in d.items():\n",
        "        if v == value:\n",
        "            return k"
      ],
      "execution_count": 0,
      "outputs": []
    },
    {
      "cell_type": "markdown",
      "metadata": {
        "id": "Rl70OEL35CeJ",
        "colab_type": "text"
      },
      "source": [
        "Метод для проверки, есть ли гласные в слове -> есть ли ударение"
      ]
    },
    {
      "cell_type": "code",
      "metadata": {
        "id": "1TquoE03w_30",
        "colab_type": "code",
        "colab": {}
      },
      "source": [
        "def is_acc (w):\n",
        "    for i in w:\n",
        "        if i in vovels: \n",
        "            return True\n",
        "            break\n",
        "    return False"
      ],
      "execution_count": 0,
      "outputs": []
    },
    {
      "cell_type": "markdown",
      "metadata": {
        "id": "L1uG4alF5MWj",
        "colab_type": "text"
      },
      "source": [
        "Метод для удаления спец. символов из предложения"
      ]
    },
    {
      "cell_type": "code",
      "metadata": {
        "id": "siLd2xKqfHjB",
        "colab_type": "code",
        "colab": {}
      },
      "source": [
        "from string import punctuation\n",
        "\n",
        "def text_without_punct(text):\n",
        "    return ''.join([i for i in text if i not in punctuation])"
      ],
      "execution_count": 0,
      "outputs": []
    },
    {
      "cell_type": "markdown",
      "metadata": {
        "id": "298N5tEP5YDq",
        "colab_type": "text"
      },
      "source": [
        "# Постановка ударений"
      ]
    },
    {
      "cell_type": "markdown",
      "metadata": {
        "id": "EAQq8NwB5lsZ",
        "colab_type": "text"
      },
      "source": [
        "Постановка ударения для одного слова"
      ]
    },
    {
      "cell_type": "code",
      "metadata": {
        "id": "AGOX4hMsfHjE",
        "colab_type": "code",
        "colab": {
          "base_uri": "https://localhost:8080/",
          "height": 50
        },
        "outputId": "7c0aa09c-6abe-4bcd-c118-d8c8a7cf3850"
      },
      "source": [
        "word = 'тараканище'\n",
        "#word = 'бррр'\n",
        "if is_acc(word):\n",
        "  word_int = np.zeros((max_len), dtype=int)\n",
        "\n",
        "  for i in range(len(word)):\n",
        "    word_int[i]= alphabet[word[i]]\n",
        "    \n",
        "  word_int = np.reshape(word_int, [1,29])\n",
        "  acc_pred = model.predict(word_int)\n",
        "\n",
        "  for i in range(1):\n",
        "    slovo = ''\n",
        "    for j in range(len(word_int[i])):\n",
        "        if word_int[i][j] != 0:\n",
        "            slovo = slovo + get_key(alphabet, word_int[i][j])\n",
        "        else:\n",
        "            break\n",
        "    nn_sample = slovo[:acc_pred[i].argmax()+1] + '\\'' + slovo[acc_pred[i].argmax()+1:]\n",
        "    print('слово    : ' , slovo)\n",
        "    print('Результат: ' , nn_sample)\n",
        "else:\n",
        "  print('В этом слове нет ударения:', word)"
      ],
      "execution_count": 6,
      "outputs": [
        {
          "output_type": "stream",
          "text": [
            "слово    :  тараканище\n",
            "Результат:  тарака'нище\n"
          ],
          "name": "stdout"
        }
      ]
    },
    {
      "cell_type": "markdown",
      "metadata": {
        "id": "gx5egDWC5p_B",
        "colab_type": "text"
      },
      "source": [
        "Метод для постановки ударения для предложения"
      ]
    },
    {
      "cell_type": "code",
      "metadata": {
        "id": "v85kpg-afHjH",
        "colab_type": "code",
        "colab": {}
      },
      "source": [
        "def acc_in_sent(str):\n",
        "    \n",
        "    # перевод предложения в массив слов из закодированных букв\n",
        "    no_punct_text = text_without_punct(str)\n",
        "    str_ls = ''.join(no_punct_text).lower()\n",
        "    str_ls = str_ls.split()\n",
        "    str_sent_int = np.zeros((len(str_ls),max_len), dtype=int)\n",
        "    for i in range(len(str_ls)):\n",
        "        for j in range(len(str_ls[i])):\n",
        "            str_sent_int[i][j]= alphabet[str_ls[i][j]]\n",
        "\n",
        "    # предсказывание ударения\n",
        "    acc_pred = model.predict(str_sent_int)\n",
        "\n",
        "    #Вывод слов с ударениями в необходимом формате\n",
        "    final_sent_ = str.split()\n",
        "    final = ''\n",
        "    for i in range(len(str_ls)):\n",
        "      if is_acc(str_ls[i]):\n",
        "        final = final + final_sent_[i][:acc_pred[i].argmax()+1] + '\\'' + final_sent_[i][acc_pred[i].argmax()+1:] + ' '\n",
        "      else:\n",
        "        final = final + final_sent_[i][:acc_pred[i].argmax()+1] + '' + final_sent_[i][acc_pred[i].argmax()+1:] + ' '\n",
        "    \n",
        "    print (final)\n",
        "    return final"
      ],
      "execution_count": 0,
      "outputs": []
    },
    {
      "cell_type": "markdown",
      "metadata": {
        "id": "pWod6Ldl5vmn",
        "colab_type": "text"
      },
      "source": [
        "Постановка ударения на тестовом предложении"
      ]
    },
    {
      "cell_type": "code",
      "metadata": {
        "id": "Olnj1GvjfHjK",
        "colab_type": "code",
        "colab": {
          "base_uri": "https://localhost:8080/",
          "height": 33
        },
        "outputId": "b13c30f2-3e36-45b3-c26c-7ef0118c3e7a"
      },
      "source": [
        "test = 'В России зимой бывает много снега.'\n",
        "my_test = acc_in_sent(test)"
      ],
      "execution_count": 8,
      "outputs": [
        {
          "output_type": "stream",
          "text": [
            "В Ро'ссии зи'мой быва'ет мно'го сне'га. \n"
          ],
          "name": "stdout"
        }
      ]
    },
    {
      "cell_type": "markdown",
      "metadata": {
        "id": "9LxGeowy5zzi",
        "colab_type": "text"
      },
      "source": [
        "Постановка ударения для списка тестовых предложений из файла"
      ]
    },
    {
      "cell_type": "code",
      "metadata": {
        "id": "VAVIwRl6fHjM",
        "colab_type": "code",
        "colab": {}
      },
      "source": [
        "with open('Accents_LSTM-/sentences.txt', 'r') as f:\n",
        "#with open('sentences.txt', 'r') as f:\n",
        "    sent_ = f.readlines()"
      ],
      "execution_count": 0,
      "outputs": []
    },
    {
      "cell_type": "code",
      "metadata": {
        "id": "beyAimy3fHjO",
        "colab_type": "code",
        "colab": {}
      },
      "source": [
        "random.shuffle(sent_)\n",
        "\n",
        "sent = sent_\n",
        "\n",
        "no_punct_text = text_without_punct(sent)\n",
        "sent_split = no_punct_text.split('\\n')\n",
        "\n",
        "test_sent = []\n",
        "for i in range(10):\n",
        "    test_sent.append(sent_split[i])"
      ],
      "execution_count": 0,
      "outputs": []
    },
    {
      "cell_type": "code",
      "metadata": {
        "id": "z4wL_7m8fHjR",
        "colab_type": "code",
        "colab": {
          "base_uri": "https://localhost:8080/",
          "height": 351
        },
        "outputId": "a10c1f63-07f4-4005-e6af-bd09abb9ac93"
      },
      "source": [
        "for k in range(len(test_sent)):\n",
        "    acc_in_sent(test_sent[k])\n",
        "    print()"
      ],
      "execution_count": 11,
      "outputs": [
        {
          "output_type": "stream",
          "text": [
            "Я' изба'вился о'т мра'чных мы'слей. \n",
            "\n",
            "О'на поспе'шно напра'вилась к телефо'нному аппара'ту. \n",
            "\n",
            "О'ни сно'ва поплели'сь за' ко'шкой. \n",
            "\n",
            "О'ни упа'ли в сне'г. \n",
            "\n",
            "Рича'рд вы'шел и'з маши'ны. \n",
            "\n",
            "О'на зарыча'ла о'т стра'ха. \n",
            "\n",
            "Хозя'йка хло'пнулась в обмо'рок. \n",
            "\n",
            "О'ни все'мером юти'лись в дровяно'м сара'е. \n",
            "\n",
            "О'н стро'го взгля'нул на' уче'ного. \n",
            "\n",
            "Ди'нка сиде'ла в кле'тке. \n",
            "\n"
          ],
          "name": "stdout"
        }
      ]
    },
    {
      "cell_type": "code",
      "metadata": {
        "id": "xVkJmgcVfHja",
        "colab_type": "code",
        "colab": {}
      },
      "source": [
        ""
      ],
      "execution_count": 0,
      "outputs": []
    }
  ]
}